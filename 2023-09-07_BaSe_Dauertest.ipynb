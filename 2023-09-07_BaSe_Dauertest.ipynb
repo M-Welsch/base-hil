{
 "cells": [
  {
   "cell_type": "code",
   "execution_count": 1,
   "id": "a7a20e48-104a-487f-9deb-e20be211a556",
   "metadata": {},
   "outputs": [],
   "source": [
    "from hil_control.hw_rev4_dock_undock import HwRev4DockUndock, pcu\n",
    "import matplotlib.pyplot as plt\n",
    "import pandas as pd\n",
    "import pickle\n",
    "from datetime import datetime"
   ]
  },
  {
   "cell_type": "code",
   "execution_count": 22,
   "id": "95845f00-72a0-4bab-920a-172f48c2fdb4",
   "metadata": {},
   "outputs": [],
   "source": [
    "pcu.cmd_dock()\n",
    "pcu.cmd_power_hdd_on()"
   ]
  },
  {
   "cell_type": "code",
   "execution_count": 2,
   "id": "b40c79cd-6091-404b-8f74-311a00be02e5",
   "metadata": {},
   "outputs": [],
   "source": [
    "test = HwRev4DockUndock()"
   ]
  },
  {
   "cell_type": "code",
   "execution_count": 3,
   "id": "026e752f-c544-456e-8004-6dd6006defda",
   "metadata": {},
   "outputs": [
    {
     "name": "stderr",
     "output_type": "stream",
     "text": [
      "umount: /dev/sdc1: not mounted.\n",
      "102+0 records in\n",
      "102+0 records out\n",
      "1069547520 bytes (1,1 GB, 1020 MiB) copied, 2,16961 s, 493 MB/s\n"
     ]
    }
   ],
   "source": [
    "test.prepare()"
   ]
  },
  {
   "cell_type": "code",
   "execution_count": null,
   "id": "deefc699-0709-4014-9d0a-d9948a379f41",
   "metadata": {},
   "outputs": [
    {
     "name": "stdout",
     "output_type": "stream",
     "text": [
      "2023-09-24 13:33:03 - hil_control.file_ops - WARNING - dummyfile doesn't exist. Creating real quick ...\n"
     ]
    },
    {
     "name": "stderr",
     "output_type": "stream",
     "text": [
      "102+0 records in\n",
      "102+0 records out\n",
      "1069547520 bytes (1,1 GB, 1020 MiB) copied, 2,20744 s, 485 MB/s\n"
     ]
    },
    {
     "name": "stdout",
     "output_type": "stream",
     "text": [
      "2023-09-24 13:33:21 - hil_control.hw_rev4_dock_undock - INFO - finished run 0. Id_avg = 149.6, Id_max = 447.0, Iud_avg 147.4, Iud_max = 334.0, TR=121.8 MB/s, t = 28.2s\n",
      "2023-09-24 13:33:46 - hil_control.hw_rev4_dock_undock - INFO - finished run 1. Id_avg = 145.6, Id_max = 292.0, Iud_avg 148.3, Iud_max = 394.0, TR=343.0 MB/s, t = 25.0s\n",
      "2023-09-24 13:34:12 - hil_control.hw_rev4_dock_undock - INFO - finished run 2. Id_avg = 144.1, Id_max = 290.0, Iud_avg 146.8, Iud_max = 336.0, TR=352.4 MB/s, t = 25.1s\n",
      "2023-09-24 13:34:36 - hil_control.hw_rev4_dock_undock - INFO - finished run 3. Id_avg = 152.8, Id_max = 607.0, Iud_avg 146.3, Iud_max = 309.0, TR=359.5 MB/s, t = 24.8s\n",
      "2023-09-24 13:35:01 - hil_control.hw_rev4_dock_undock - INFO - finished run 4. Id_avg = 146.3, Id_max = 286.0, Iud_avg 146.5, Iud_max = 313.0, TR=400.4 MB/s, t = 24.9s\n",
      "2023-09-24 13:35:26 - hil_control.hw_rev4_dock_undock - INFO - finished run 5. Id_avg = 145.3, Id_max = 576.0, Iud_avg 147.5, Iud_max = 415.0, TR=387.5 MB/s, t = 24.7s\n",
      "2023-09-24 13:35:51 - hil_control.hw_rev4_dock_undock - INFO - finished run 6. Id_avg = 146.2, Id_max = 309.0, Iud_avg 149.2, Iud_max = 509.0, TR=360.2 MB/s, t = 24.9s\n",
      "2023-09-24 13:36:16 - hil_control.hw_rev4_dock_undock - INFO - finished run 7. Id_avg = 144.5, Id_max = 290.0, Iud_avg 145.5, Iud_max = 388.0, TR=392.1 MB/s, t = 24.8s\n",
      "2023-09-24 13:36:41 - hil_control.hw_rev4_dock_undock - INFO - finished run 8. Id_avg = 145.3, Id_max = 294.0, Iud_avg 148.1, Iud_max = 452.0, TR=365.7 MB/s, t = 25.0s\n"
     ]
    },
    {
     "name": "stderr",
     "output_type": "stream",
     "text": [
      "umount: /home/max/Desktop/mntdir: target is busy.\n"
     ]
    },
    {
     "name": "stdout",
     "output_type": "stream",
     "text": [
      "2023-09-24 13:36:58 - hil_control.hw_rev4_dock_undock - INFO - finished run 9. Id_avg = 148.9, Id_max = 340.0, Iud_avg 148.3, Iud_max = 508.0, TR=368.3 MB/s, t = 16.6s\n"
     ]
    },
    {
     "name": "stderr",
     "output_type": "stream",
     "text": [
      "umount: /home/max/Desktop/mntdir: target is busy.\n"
     ]
    },
    {
     "name": "stdout",
     "output_type": "stream",
     "text": [
      "2023-09-24 13:37:16 - hil_control.hw_rev4_dock_undock - INFO - finished run 10. Id_avg = 144.1, Id_max = 289.0, Iud_avg 144.4, Iud_max = 342.0, TR=223.0 MB/s, t = 18.7s\n",
      "2023-09-24 13:37:41 - hil_control.hw_rev4_dock_undock - INFO - finished run 11. Id_avg = 147.0, Id_max = 289.0, Iud_avg 147.3, Iud_max = 313.0, TR=365.4 MB/s, t = 25.0s\n",
      "2023-09-24 13:38:06 - hil_control.hw_rev4_dock_undock - INFO - finished run 12. Id_avg = 145.6, Id_max = 289.0, Iud_avg 147.6, Iud_max = 449.0, TR=366.1 MB/s, t = 25.0s\n",
      "2023-09-24 13:38:31 - hil_control.hw_rev4_dock_undock - INFO - finished run 13. Id_avg = 146.2, Id_max = 354.0, Iud_avg 147.7, Iud_max = 373.0, TR=419.5 MB/s, t = 24.8s\n",
      "2023-09-24 13:38:56 - hil_control.hw_rev4_dock_undock - INFO - finished run 14. Id_avg = 145.2, Id_max = 301.0, Iud_avg 152.5, Iud_max = 652.0, TR=421.7 MB/s, t = 25.0s\n",
      "2023-09-24 13:39:21 - hil_control.hw_rev4_dock_undock - INFO - finished run 15. Id_avg = 145.6, Id_max = 291.0, Iud_avg 144.7, Iud_max = 379.0, TR=407.5 MB/s, t = 25.1s\n",
      "2023-09-24 13:39:46 - hil_control.hw_rev4_dock_undock - INFO - finished run 16. Id_avg = 146.9, Id_max = 288.0, Iud_avg 148.8, Iud_max = 344.0, TR=413.2 MB/s, t = 24.9s\n",
      "2023-09-24 13:40:11 - hil_control.hw_rev4_dock_undock - INFO - finished run 17. Id_avg = 146.8, Id_max = 288.0, Iud_avg 144.7, Iud_max = 286.0, TR=403.1 MB/s, t = 25.1s\n",
      "2023-09-24 13:40:36 - hil_control.hw_rev4_dock_undock - INFO - finished run 18. Id_avg = 145.3, Id_max = 301.0, Iud_avg 146.1, Iud_max = 293.0, TR=385.8 MB/s, t = 25.0s\n",
      "2023-09-24 13:41:03 - hil_control.hw_rev4_dock_undock - INFO - finished run 19. Id_avg = 147.1, Id_max = 293.0, Iud_avg 153.1, Iud_max = 491.0, TR=421.0 MB/s, t = 27.2s\n",
      "2023-09-24 13:41:28 - hil_control.hw_rev4_dock_undock - INFO - finished run 20. Id_avg = 144.9, Id_max = 288.0, Iud_avg 146.7, Iud_max = 364.0, TR=417.7 MB/s, t = 24.9s\n",
      "2023-09-24 13:41:53 - hil_control.hw_rev4_dock_undock - INFO - finished run 21. Id_avg = 144.9, Id_max = 292.0, Iud_avg 147.7, Iud_max = 413.0, TR=401.8 MB/s, t = 25.1s\n",
      "2023-09-24 13:42:18 - hil_control.hw_rev4_dock_undock - INFO - finished run 22. Id_avg = 149.7, Id_max = 322.0, Iud_avg 146.7, Iud_max = 358.0, TR=380.1 MB/s, t = 25.2s\n",
      "2023-09-24 13:42:44 - hil_control.hw_rev4_dock_undock - INFO - finished run 23. Id_avg = 147.4, Id_max = 551.0, Iud_avg 148.9, Iud_max = 430.0, TR=420.1 MB/s, t = 25.1s\n",
      "2023-09-24 13:43:09 - hil_control.hw_rev4_dock_undock - INFO - finished run 24. Id_avg = 148.3, Id_max = 396.0, Iud_avg 148.2, Iud_max = 294.0, TR=375.4 MB/s, t = 25.1s\n",
      "2023-09-24 13:43:34 - hil_control.hw_rev4_dock_undock - INFO - finished run 25. Id_avg = 147.8, Id_max = 458.0, Iud_avg 145.1, Iud_max = 317.0, TR=244.8 MB/s, t = 25.0s\n",
      "2023-09-24 13:43:59 - hil_control.hw_rev4_dock_undock - INFO - finished run 26. Id_avg = 148.2, Id_max = 664.0, Iud_avg 147.6, Iud_max = 281.0, TR=371.5 MB/s, t = 24.9s\n",
      "2023-09-24 13:44:24 - hil_control.hw_rev4_dock_undock - INFO - finished run 27. Id_avg = 146.8, Id_max = 288.0, Iud_avg 149.0, Iud_max = 415.0, TR=417.5 MB/s, t = 25.0s\n",
      "2023-09-24 13:44:48 - hil_control.hw_rev4_dock_undock - INFO - finished run 28. Id_avg = 149.0, Id_max = 350.0, Iud_avg 147.4, Iud_max = 449.0, TR=415.3 MB/s, t = 24.8s\n",
      "2023-09-24 13:45:14 - hil_control.hw_rev4_dock_undock - INFO - finished run 29. Id_avg = 144.7, Id_max = 294.0, Iud_avg 148.2, Iud_max = 368.0, TR=411.6 MB/s, t = 25.2s\n",
      "2023-09-24 13:45:39 - hil_control.hw_rev4_dock_undock - INFO - finished run 30. Id_avg = 145.1, Id_max = 290.0, Iud_avg 148.4, Iud_max = 432.0, TR=395.6 MB/s, t = 25.0s\n",
      "2023-09-24 13:46:04 - hil_control.hw_rev4_dock_undock - INFO - finished run 31. Id_avg = 146.7, Id_max = 289.0, Iud_avg 149.9, Iud_max = 502.0, TR=387.4 MB/s, t = 25.0s\n",
      "2023-09-24 13:46:29 - hil_control.hw_rev4_dock_undock - INFO - finished run 32. Id_avg = 147.0, Id_max = 290.0, Iud_avg 146.0, Iud_max = 293.0, TR=417.8 MB/s, t = 25.0s\n",
      "2023-09-24 13:46:54 - hil_control.hw_rev4_dock_undock - INFO - finished run 33. Id_avg = 147.9, Id_max = 286.0, Iud_avg 150.2, Iud_max = 430.0, TR=391.4 MB/s, t = 25.0s\n",
      "2023-09-24 13:47:19 - hil_control.hw_rev4_dock_undock - INFO - finished run 34. Id_avg = 145.4, Id_max = 291.0, Iud_avg 144.8, Iud_max = 318.0, TR=419.3 MB/s, t = 25.1s\n",
      "2023-09-24 13:47:44 - hil_control.hw_rev4_dock_undock - INFO - finished run 35. Id_avg = 144.6, Id_max = 293.0, Iud_avg 147.3, Iud_max = 464.0, TR=387.2 MB/s, t = 25.1s\n",
      "2023-09-24 13:48:09 - hil_control.hw_rev4_dock_undock - INFO - finished run 36. Id_avg = 145.6, Id_max = 305.0, Iud_avg 150.2, Iud_max = 727.0, TR=387.0 MB/s, t = 25.1s\n",
      "2023-09-24 13:48:34 - hil_control.hw_rev4_dock_undock - INFO - finished run 37. Id_avg = 150.0, Id_max = 751.0, Iud_avg 148.6, Iud_max = 377.0, TR=395.9 MB/s, t = 25.1s\n",
      "2023-09-24 13:48:59 - hil_control.hw_rev4_dock_undock - INFO - finished run 38. Id_avg = 145.9, Id_max = 293.0, Iud_avg 147.0, Iud_max = 426.0, TR=414.3 MB/s, t = 24.9s\n",
      "2023-09-24 13:49:30 - hil_control.hw_rev4_dock_undock - INFO - finished run 39. Id_avg = 146.6, Id_max = 292.0, Iud_avg 146.7, Iud_max = 377.0, TR=418.8 MB/s, t = 31.3s\n",
      "2023-09-24 13:49:55 - hil_control.hw_rev4_dock_undock - INFO - finished run 40. Id_avg = 144.2, Id_max = 296.0, Iud_avg 149.3, Iud_max = 436.0, TR=416.2 MB/s, t = 25.0s\n",
      "2023-09-24 13:50:20 - hil_control.hw_rev4_dock_undock - INFO - finished run 41. Id_avg = 145.4, Id_max = 292.0, Iud_avg 146.1, Iud_max = 351.0, TR=411.8 MB/s, t = 25.1s\n",
      "2023-09-24 13:50:45 - hil_control.hw_rev4_dock_undock - INFO - finished run 42. Id_avg = 145.2, Id_max = 301.0, Iud_avg 149.2, Iud_max = 437.0, TR=400.0 MB/s, t = 25.0s\n"
     ]
    },
    {
     "name": "stderr",
     "output_type": "stream",
     "text": [
      "umount: /home/max/Desktop/mntdir: target is busy.\n"
     ]
    },
    {
     "name": "stdout",
     "output_type": "stream",
     "text": [
      "2023-09-24 13:51:02 - hil_control.hw_rev4_dock_undock - INFO - finished run 43. Id_avg = 147.3, Id_max = 324.0, Iud_avg 149.8, Iud_max = 494.0, TR=421.6 MB/s, t = 16.3s\n",
      "2023-09-24 13:51:27 - hil_control.hw_rev4_dock_undock - INFO - finished run 44. Id_avg = 153.4, Id_max = 679.0, Iud_avg 145.6, Iud_max = 381.0, TR=296.8 MB/s, t = 25.1s\n",
      "2023-09-24 13:51:52 - hil_control.hw_rev4_dock_undock - INFO - finished run 45. Id_avg = 148.8, Id_max = 293.0, Iud_avg 148.6, Iud_max = 369.0, TR=387.6 MB/s, t = 25.1s\n",
      "2023-09-24 13:52:17 - hil_control.hw_rev4_dock_undock - INFO - finished run 46. Id_avg = 145.0, Id_max = 310.0, Iud_avg 148.9, Iud_max = 327.0, TR=397.9 MB/s, t = 24.9s\n",
      "2023-09-24 13:52:41 - hil_control.hw_rev4_dock_undock - INFO - finished run 47. Id_avg = 149.3, Id_max = 386.0, Iud_avg 149.4, Iud_max = 495.0, TR=376.5 MB/s, t = 24.8s\n",
      "2023-09-24 13:53:06 - hil_control.hw_rev4_dock_undock - INFO - finished run 48. Id_avg = 145.9, Id_max = 388.0, Iud_avg 148.5, Iud_max = 461.0, TR=336.5 MB/s, t = 25.0s\n",
      "2023-09-24 13:53:32 - hil_control.hw_rev4_dock_undock - INFO - finished run 49. Id_avg = 148.6, Id_max = 320.0, Iud_avg 147.8, Iud_max = 490.0, TR=238.1 MB/s, t = 25.0s\n",
      "2023-09-24 13:53:56 - hil_control.hw_rev4_dock_undock - INFO - finished run 50. Id_avg = 149.7, Id_max = 305.0, Iud_avg 153.2, Iud_max = 781.0, TR=389.9 MB/s, t = 24.9s\n",
      "2023-09-24 13:54:21 - hil_control.hw_rev4_dock_undock - INFO - finished run 51. Id_avg = 147.9, Id_max = 306.0, Iud_avg 148.9, Iud_max = 448.0, TR=408.9 MB/s, t = 24.9s\n",
      "2023-09-24 13:54:46 - hil_control.hw_rev4_dock_undock - INFO - finished run 52. Id_avg = 148.3, Id_max = 304.0, Iud_avg 147.7, Iud_max = 409.0, TR=405.1 MB/s, t = 25.1s\n",
      "2023-09-24 13:55:11 - hil_control.hw_rev4_dock_undock - INFO - finished run 53. Id_avg = 147.7, Id_max = 304.0, Iud_avg 148.2, Iud_max = 382.0, TR=409.1 MB/s, t = 24.6s\n",
      "2023-09-24 13:55:36 - hil_control.hw_rev4_dock_undock - INFO - finished run 54. Id_avg = 147.6, Id_max = 294.0, Iud_avg 148.1, Iud_max = 374.0, TR=382.3 MB/s, t = 25.0s\n",
      "2023-09-24 13:56:01 - hil_control.hw_rev4_dock_undock - INFO - finished run 55. Id_avg = 146.5, Id_max = 288.0, Iud_avg 148.0, Iud_max = 451.0, TR=417.8 MB/s, t = 25.0s\n",
      "2023-09-24 13:56:26 - hil_control.hw_rev4_dock_undock - INFO - finished run 56. Id_avg = 147.1, Id_max = 280.0, Iud_avg 147.1, Iud_max = 405.0, TR=401.2 MB/s, t = 24.9s\n",
      "2023-09-24 13:56:51 - hil_control.hw_rev4_dock_undock - INFO - finished run 57. Id_avg = 148.2, Id_max = 289.0, Iud_avg 149.3, Iud_max = 476.0, TR=393.4 MB/s, t = 25.2s\n",
      "2023-09-24 13:57:16 - hil_control.hw_rev4_dock_undock - INFO - finished run 58. Id_avg = 147.0, Id_max = 281.0, Iud_avg 147.2, Iud_max = 436.0, TR=407.1 MB/s, t = 25.1s\n",
      "2023-09-24 13:57:41 - hil_control.hw_rev4_dock_undock - INFO - finished run 59. Id_avg = 147.6, Id_max = 304.0, Iud_avg 150.4, Iud_max = 557.0, TR=420.6 MB/s, t = 25.1s\n",
      "2023-09-24 13:58:06 - hil_control.hw_rev4_dock_undock - INFO - finished run 60. Id_avg = 146.8, Id_max = 289.0, Iud_avg 145.9, Iud_max = 310.0, TR=383.5 MB/s, t = 25.0s\n",
      "2023-09-24 13:58:31 - hil_control.hw_rev4_dock_undock - INFO - finished run 61. Id_avg = 145.4, Id_max = 295.0, Iud_avg 149.4, Iud_max = 498.0, TR=417.5 MB/s, t = 25.0s\n",
      "2023-09-24 13:58:56 - hil_control.hw_rev4_dock_undock - INFO - finished run 62. Id_avg = 146.8, Id_max = 293.0, Iud_avg 147.6, Iud_max = 509.0, TR=416.6 MB/s, t = 25.0s\n",
      "2023-09-24 13:59:21 - hil_control.hw_rev4_dock_undock - INFO - finished run 63. Id_avg = 149.1, Id_max = 430.0, Iud_avg 146.7, Iud_max = 316.0, TR=383.8 MB/s, t = 25.1s\n",
      "2023-09-24 13:59:46 - hil_control.hw_rev4_dock_undock - INFO - finished run 64. Id_avg = 147.9, Id_max = 424.0, Iud_avg 148.3, Iud_max = 369.0, TR=386.8 MB/s, t = 25.1s\n",
      "2023-09-24 14:00:11 - hil_control.hw_rev4_dock_undock - INFO - finished run 65. Id_avg = 146.7, Id_max = 290.0, Iud_avg 148.2, Iud_max = 440.0, TR=387.3 MB/s, t = 24.9s\n",
      "2023-09-24 14:00:36 - hil_control.hw_rev4_dock_undock - INFO - finished run 66. Id_avg = 148.6, Id_max = 288.0, Iud_avg 148.0, Iud_max = 341.0, TR=381.0 MB/s, t = 24.9s\n",
      "2023-09-24 14:01:01 - hil_control.hw_rev4_dock_undock - INFO - finished run 67. Id_avg = 148.0, Id_max = 304.0, Iud_avg 144.0, Iud_max = 318.0, TR=418.7 MB/s, t = 25.0s\n",
      "2023-09-24 14:01:26 - hil_control.hw_rev4_dock_undock - INFO - finished run 68. Id_avg = 146.9, Id_max = 290.0, Iud_avg 149.7, Iud_max = 466.0, TR=405.1 MB/s, t = 25.0s\n",
      "2023-09-24 14:01:51 - hil_control.hw_rev4_dock_undock - INFO - finished run 69. Id_avg = 148.3, Id_max = 280.0, Iud_avg 147.7, Iud_max = 400.0, TR=385.3 MB/s, t = 25.1s\n",
      "2023-09-24 14:02:16 - hil_control.hw_rev4_dock_undock - INFO - finished run 70. Id_avg = 145.6, Id_max = 305.0, Iud_avg 149.5, Iud_max = 645.0, TR=414.7 MB/s, t = 25.1s\n",
      "2023-09-24 14:02:41 - hil_control.hw_rev4_dock_undock - INFO - finished run 71. Id_avg = 143.7, Id_max = 292.0, Iud_avg 150.3, Iud_max = 464.0, TR=403.3 MB/s, t = 25.1s\n",
      "2023-09-24 14:03:07 - hil_control.hw_rev4_dock_undock - INFO - finished run 72. Id_avg = 144.6, Id_max = 288.0, Iud_avg 150.4, Iud_max = 505.0, TR=411.4 MB/s, t = 25.0s\n",
      "2023-09-24 14:03:31 - hil_control.hw_rev4_dock_undock - INFO - finished run 73. Id_avg = 147.0, Id_max = 305.0, Iud_avg 147.8, Iud_max = 351.0, TR=414.1 MB/s, t = 24.7s\n",
      "2023-09-24 14:03:56 - hil_control.hw_rev4_dock_undock - INFO - finished run 74. Id_avg = 147.0, Id_max = 294.0, Iud_avg 148.4, Iud_max = 520.0, TR=404.9 MB/s, t = 25.0s\n",
      "2023-09-24 14:04:21 - hil_control.hw_rev4_dock_undock - INFO - finished run 75. Id_avg = 146.6, Id_max = 305.0, Iud_avg 148.8, Iud_max = 439.0, TR=393.5 MB/s, t = 25.0s\n",
      "2023-09-24 14:04:46 - hil_control.hw_rev4_dock_undock - INFO - finished run 76. Id_avg = 147.2, Id_max = 292.0, Iud_avg 147.4, Iud_max = 330.0, TR=409.7 MB/s, t = 25.1s\n",
      "2023-09-24 14:05:11 - hil_control.hw_rev4_dock_undock - INFO - finished run 77. Id_avg = 149.9, Id_max = 304.0, Iud_avg 149.2, Iud_max = 438.0, TR=397.3 MB/s, t = 25.0s\n",
      "2023-09-24 14:05:36 - hil_control.hw_rev4_dock_undock - INFO - finished run 78. Id_avg = 144.9, Id_max = 285.0, Iud_avg 145.2, Iud_max = 310.0, TR=382.0 MB/s, t = 24.9s\n",
      "2023-09-24 14:06:01 - hil_control.hw_rev4_dock_undock - INFO - finished run 79. Id_avg = 147.6, Id_max = 289.0, Iud_avg 151.9, Iud_max = 451.0, TR=415.8 MB/s, t = 24.8s\n",
      "2023-09-24 14:06:26 - hil_control.hw_rev4_dock_undock - INFO - finished run 80. Id_avg = 147.8, Id_max = 287.0, Iud_avg 147.6, Iud_max = 396.0, TR=415.9 MB/s, t = 25.0s\n",
      "2023-09-24 14:06:51 - hil_control.hw_rev4_dock_undock - INFO - finished run 81. Id_avg = 147.2, Id_max = 282.0, Iud_avg 147.5, Iud_max = 328.0, TR=400.7 MB/s, t = 25.0s\n",
      "2023-09-24 14:07:16 - hil_control.hw_rev4_dock_undock - INFO - finished run 82. Id_avg = 147.2, Id_max = 305.0, Iud_avg 149.8, Iud_max = 453.0, TR=415.1 MB/s, t = 24.8s\n",
      "2023-09-24 14:07:41 - hil_control.hw_rev4_dock_undock - INFO - finished run 83. Id_avg = 147.8, Id_max = 279.0, Iud_avg 150.5, Iud_max = 438.0, TR=416.3 MB/s, t = 25.1s\n",
      "2023-09-24 14:08:06 - hil_control.hw_rev4_dock_undock - INFO - finished run 84. Id_avg = 146.6, Id_max = 301.0, Iud_avg 148.6, Iud_max = 361.0, TR=382.0 MB/s, t = 24.9s\n",
      "2023-09-24 14:08:31 - hil_control.hw_rev4_dock_undock - INFO - finished run 85. Id_avg = 145.9, Id_max = 458.0, Iud_avg 145.4, Iud_max = 305.0, TR=384.8 MB/s, t = 24.9s\n",
      "2023-09-24 14:08:56 - hil_control.hw_rev4_dock_undock - INFO - finished run 86. Id_avg = 146.2, Id_max = 353.0, Iud_avg 147.4, Iud_max = 464.0, TR=390.5 MB/s, t = 25.1s\n",
      "2023-09-24 14:09:21 - hil_control.hw_rev4_dock_undock - INFO - finished run 87. Id_avg = 146.9, Id_max = 289.0, Iud_avg 147.0, Iud_max = 355.0, TR=403.0 MB/s, t = 25.0s\n",
      "2023-09-24 14:09:46 - hil_control.hw_rev4_dock_undock - INFO - finished run 88. Id_avg = 145.6, Id_max = 291.0, Iud_avg 146.5, Iud_max = 332.0, TR=375.5 MB/s, t = 25.0s\n",
      "2023-09-24 14:10:11 - hil_control.hw_rev4_dock_undock - INFO - finished run 89. Id_avg = 144.7, Id_max = 284.0, Iud_avg 148.3, Iud_max = 361.0, TR=413.8 MB/s, t = 25.0s\n",
      "2023-09-24 14:10:35 - hil_control.hw_rev4_dock_undock - INFO - finished run 90. Id_avg = 143.8, Id_max = 287.0, Iud_avg 147.5, Iud_max = 310.0, TR=398.5 MB/s, t = 24.9s\n",
      "2023-09-24 14:11:01 - hil_control.hw_rev4_dock_undock - INFO - finished run 91. Id_avg = 148.9, Id_max = 366.0, Iud_avg 148.8, Iud_max = 448.0, TR=388.5 MB/s, t = 25.1s\n",
      "2023-09-24 14:11:26 - hil_control.hw_rev4_dock_undock - INFO - finished run 92. Id_avg = 149.1, Id_max = 651.0, Iud_avg 148.4, Iud_max = 400.0, TR=395.5 MB/s, t = 25.1s\n",
      "2023-09-24 14:11:51 - hil_control.hw_rev4_dock_undock - INFO - finished run 93. Id_avg = 145.8, Id_max = 288.0, Iud_avg 146.7, Iud_max = 286.0, TR=375.8 MB/s, t = 25.0s\n",
      "2023-09-24 14:12:16 - hil_control.hw_rev4_dock_undock - INFO - finished run 94. Id_avg = 146.2, Id_max = 280.0, Iud_avg 144.1, Iud_max = 304.0, TR=411.8 MB/s, t = 25.0s\n",
      "2023-09-24 14:12:41 - hil_control.hw_rev4_dock_undock - INFO - finished run 95. Id_avg = 148.3, Id_max = 290.0, Iud_avg 148.0, Iud_max = 343.0, TR=389.2 MB/s, t = 25.0s\n",
      "2023-09-24 14:13:06 - hil_control.hw_rev4_dock_undock - INFO - finished run 96. Id_avg = 143.9, Id_max = 286.0, Iud_avg 150.4, Iud_max = 664.0, TR=369.8 MB/s, t = 25.0s\n",
      "2023-09-24 14:13:31 - hil_control.hw_rev4_dock_undock - INFO - finished run 97. Id_avg = 147.1, Id_max = 277.0, Iud_avg 144.7, Iud_max = 376.0, TR=377.4 MB/s, t = 25.1s\n"
     ]
    },
    {
     "name": "stderr",
     "output_type": "stream",
     "text": [
      "umount: /home/max/Desktop/mntdir: target is busy.\n"
     ]
    },
    {
     "name": "stdout",
     "output_type": "stream",
     "text": [
      "2023-09-24 14:13:47 - hil_control.hw_rev4_dock_undock - INFO - finished run 98. Id_avg = 146.3, Id_max = 282.0, Iud_avg 146.8, Iud_max = 334.0, TR=405.6 MB/s, t = 16.6s\n",
      "2023-09-24 14:14:13 - hil_control.hw_rev4_dock_undock - INFO - finished run 99. Id_avg = 144.1, Id_max = 287.0, Iud_avg 149.7, Iud_max = 478.0, TR=288.1 MB/s, t = 25.1s\n",
      "2023-09-24 14:14:38 - hil_control.hw_rev4_dock_undock - INFO - finished run 100. Id_avg = 149.1, Id_max = 417.0, Iud_avg 148.1, Iud_max = 449.0, TR=408.2 MB/s, t = 25.0s\n",
      "2023-09-24 14:15:03 - hil_control.hw_rev4_dock_undock - INFO - finished run 101. Id_avg = 145.5, Id_max = 289.0, Iud_avg 150.4, Iud_max = 623.0, TR=384.8 MB/s, t = 25.0s\n",
      "2023-09-24 14:15:27 - hil_control.hw_rev4_dock_undock - INFO - finished run 102. Id_avg = 149.0, Id_max = 521.0, Iud_avg 149.0, Iud_max = 391.0, TR=402.0 MB/s, t = 24.8s\n",
      "2023-09-24 14:15:52 - hil_control.hw_rev4_dock_undock - INFO - finished run 103. Id_avg = 147.5, Id_max = 287.0, Iud_avg 148.5, Iud_max = 472.0, TR=414.0 MB/s, t = 25.0s\n",
      "2023-09-24 14:16:17 - hil_control.hw_rev4_dock_undock - INFO - finished run 104. Id_avg = 145.4, Id_max = 287.0, Iud_avg 147.2, Iud_max = 337.0, TR=389.3 MB/s, t = 24.8s\n",
      "2023-09-24 14:16:42 - hil_control.hw_rev4_dock_undock - INFO - finished run 105. Id_avg = 145.8, Id_max = 290.0, Iud_avg 147.1, Iud_max = 376.0, TR=378.6 MB/s, t = 25.1s\n",
      "2023-09-24 14:17:07 - hil_control.hw_rev4_dock_undock - INFO - finished run 106. Id_avg = 148.1, Id_max = 276.0, Iud_avg 147.5, Iud_max = 403.0, TR=388.5 MB/s, t = 25.2s\n"
     ]
    },
    {
     "name": "stderr",
     "output_type": "stream",
     "text": [
      "umount: /home/max/Desktop/mntdir: target is busy.\n"
     ]
    },
    {
     "name": "stdout",
     "output_type": "stream",
     "text": [
      "2023-09-24 14:17:24 - hil_control.hw_rev4_dock_undock - INFO - finished run 107. Id_avg = 144.6, Id_max = 305.0, Iud_avg 146.9, Iud_max = 357.0, TR=377.4 MB/s, t = 16.8s\n"
     ]
    },
    {
     "name": "stderr",
     "output_type": "stream",
     "text": [
      "umount: /home/max/Desktop/mntdir: target is busy.\n"
     ]
    },
    {
     "name": "stdout",
     "output_type": "stream",
     "text": [
      "2023-09-24 14:17:43 - hil_control.hw_rev4_dock_undock - INFO - finished run 108. Id_avg = 144.7, Id_max = 288.0, Iud_avg 146.9, Iud_max = 363.0, TR=219.2 MB/s, t = 18.7s\n",
      "2023-09-24 14:18:08 - hil_control.hw_rev4_dock_undock - INFO - finished run 109. Id_avg = 146.1, Id_max = 305.0, Iud_avg 148.1, Iud_max = 373.0, TR=369.9 MB/s, t = 24.8s\n",
      "2023-09-24 14:18:33 - hil_control.hw_rev4_dock_undock - INFO - finished run 110. Id_avg = 147.1, Id_max = 288.0, Iud_avg 150.8, Iud_max = 463.0, TR=368.8 MB/s, t = 24.8s\n",
      "2023-09-24 14:18:57 - hil_control.hw_rev4_dock_undock - INFO - finished run 111. Id_avg = 146.1, Id_max = 327.0, Iud_avg 147.7, Iud_max = 380.0, TR=386.4 MB/s, t = 24.8s\n",
      "2023-09-24 14:19:22 - hil_control.hw_rev4_dock_undock - INFO - finished run 112. Id_avg = 148.2, Id_max = 288.0, Iud_avg 146.5, Iud_max = 509.0, TR=404.6 MB/s, t = 25.0s\n"
     ]
    },
    {
     "name": "stderr",
     "output_type": "stream",
     "text": [
      "umount: /home/max/Desktop/mntdir: target is busy.\n"
     ]
    },
    {
     "name": "stdout",
     "output_type": "stream",
     "text": [
      "2023-09-24 14:19:39 - hil_control.hw_rev4_dock_undock - INFO - finished run 113. Id_avg = 146.9, Id_max = 306.0, Iud_avg 145.3, Iud_max = 330.0, TR=407.7 MB/s, t = 16.4s\n",
      "2023-09-24 14:20:04 - hil_control.hw_rev4_dock_undock - INFO - finished run 114. Id_avg = 147.1, Id_max = 302.0, Iud_avg 146.2, Iud_max = 310.0, TR=373.9 MB/s, t = 25.0s\n",
      "2023-09-24 14:20:29 - hil_control.hw_rev4_dock_undock - INFO - finished run 115. Id_avg = 145.7, Id_max = 292.0, Iud_avg 149.4, Iud_max = 464.0, TR=379.6 MB/s, t = 25.0s\n",
      "2023-09-24 14:20:54 - hil_control.hw_rev4_dock_undock - INFO - finished run 116. Id_avg = 146.8, Id_max = 291.0, Iud_avg 152.2, Iud_max = 802.0, TR=381.2 MB/s, t = 25.1s\n",
      "2023-09-24 14:21:19 - hil_control.hw_rev4_dock_undock - INFO - finished run 117. Id_avg = 149.1, Id_max = 411.0, Iud_avg 149.3, Iud_max = 486.0, TR=399.6 MB/s, t = 24.9s\n",
      "2023-09-24 14:21:44 - hil_control.hw_rev4_dock_undock - INFO - finished run 118. Id_avg = 144.5, Id_max = 286.0, Iud_avg 146.2, Iud_max = 358.0, TR=397.0 MB/s, t = 25.1s\n",
      "2023-09-24 14:22:09 - hil_control.hw_rev4_dock_undock - INFO - finished run 119. Id_avg = 147.8, Id_max = 288.0, Iud_avg 145.8, Iud_max = 321.0, TR=364.7 MB/s, t = 25.0s\n",
      "2023-09-24 14:22:34 - hil_control.hw_rev4_dock_undock - INFO - finished run 120. Id_avg = 148.7, Id_max = 299.0, Iud_avg 150.7, Iud_max = 498.0, TR=406.7 MB/s, t = 24.8s\n",
      "2023-09-24 14:22:59 - hil_control.hw_rev4_dock_undock - INFO - finished run 121. Id_avg = 145.8, Id_max = 292.0, Iud_avg 147.6, Iud_max = 314.0, TR=409.2 MB/s, t = 24.9s\n",
      "2023-09-24 14:23:24 - hil_control.hw_rev4_dock_undock - INFO - finished run 122. Id_avg = 145.2, Id_max = 299.0, Iud_avg 148.0, Iud_max = 497.0, TR=374.9 MB/s, t = 25.0s\n",
      "2023-09-24 14:23:49 - hil_control.hw_rev4_dock_undock - INFO - finished run 123. Id_avg = 145.4, Id_max = 281.0, Iud_avg 146.1, Iud_max = 401.0, TR=396.0 MB/s, t = 25.1s\n",
      "2023-09-24 14:24:14 - hil_control.hw_rev4_dock_undock - INFO - finished run 124. Id_avg = 146.7, Id_max = 306.0, Iud_avg 144.9, Iud_max = 311.0, TR=396.7 MB/s, t = 25.1s\n",
      "2023-09-24 14:24:39 - hil_control.hw_rev4_dock_undock - INFO - finished run 125. Id_avg = 146.3, Id_max = 290.0, Iud_avg 148.7, Iud_max = 329.0, TR=388.0 MB/s, t = 25.1s\n",
      "2023-09-24 14:25:04 - hil_control.hw_rev4_dock_undock - INFO - finished run 126. Id_avg = 144.5, Id_max = 288.0, Iud_avg 147.8, Iud_max = 448.0, TR=408.9 MB/s, t = 25.0s\n",
      "2023-09-24 14:25:29 - hil_control.hw_rev4_dock_undock - INFO - finished run 127. Id_avg = 145.1, Id_max = 290.0, Iud_avg 148.0, Iud_max = 327.0, TR=380.5 MB/s, t = 25.0s\n",
      "2023-09-24 14:25:54 - hil_control.hw_rev4_dock_undock - INFO - finished run 128. Id_avg = 146.3, Id_max = 290.0, Iud_avg 147.7, Iud_max = 501.0, TR=383.1 MB/s, t = 24.8s\n",
      "2023-09-24 14:26:18 - hil_control.hw_rev4_dock_undock - INFO - finished run 129. Id_avg = 145.0, Id_max = 304.0, Iud_avg 148.5, Iud_max = 438.0, TR=378.6 MB/s, t = 24.6s\n",
      "2023-09-24 14:26:43 - hil_control.hw_rev4_dock_undock - INFO - finished run 130. Id_avg = 152.6, Id_max = 625.0, Iud_avg 143.9, Iud_max = 291.0, TR=382.4 MB/s, t = 24.8s\n",
      "2023-09-24 14:27:08 - hil_control.hw_rev4_dock_undock - INFO - finished run 131. Id_avg = 150.4, Id_max = 608.0, Iud_avg 145.3, Iud_max = 333.0, TR=393.2 MB/s, t = 25.1s\n",
      "2023-09-24 14:27:33 - hil_control.hw_rev4_dock_undock - INFO - finished run 132. Id_avg = 145.5, Id_max = 291.0, Iud_avg 148.9, Iud_max = 372.0, TR=376.0 MB/s, t = 25.1s\n",
      "2023-09-24 14:27:58 - hil_control.hw_rev4_dock_undock - INFO - finished run 133. Id_avg = 146.6, Id_max = 289.0, Iud_avg 148.3, Iud_max = 374.0, TR=404.9 MB/s, t = 25.1s\n",
      "2023-09-24 14:28:23 - hil_control.hw_rev4_dock_undock - INFO - finished run 134. Id_avg = 147.4, Id_max = 287.0, Iud_avg 147.5, Iud_max = 513.0, TR=377.0 MB/s, t = 24.8s\n",
      "2023-09-24 14:28:48 - hil_control.hw_rev4_dock_undock - INFO - finished run 135. Id_avg = 143.6, Id_max = 288.0, Iud_avg 147.5, Iud_max = 304.0, TR=377.3 MB/s, t = 25.0s\n"
     ]
    },
    {
     "name": "stderr",
     "output_type": "stream",
     "text": [
      "umount: /home/max/Desktop/mntdir: target is busy.\n"
     ]
    },
    {
     "name": "stdout",
     "output_type": "stream",
     "text": [
      "2023-09-24 14:29:06 - hil_control.hw_rev4_dock_undock - INFO - finished run 136. Id_avg = 147.3, Id_max = 275.0, Iud_avg 151.2, Iud_max = 505.0, TR=245.2 MB/s, t = 18.0s\n",
      "2023-09-24 14:29:31 - hil_control.hw_rev4_dock_undock - INFO - finished run 137. Id_avg = 146.4, Id_max = 290.0, Iud_avg 146.9, Iud_max = 450.0, TR=375.2 MB/s, t = 24.9s\n",
      "2023-09-24 14:29:56 - hil_control.hw_rev4_dock_undock - INFO - finished run 138. Id_avg = 144.9, Id_max = 284.0, Iud_avg 146.1, Iud_max = 295.0, TR=390.7 MB/s, t = 24.8s\n",
      "2023-09-24 14:30:21 - hil_control.hw_rev4_dock_undock - INFO - finished run 139. Id_avg = 146.8, Id_max = 310.0, Iud_avg 148.1, Iud_max = 310.0, TR=358.2 MB/s, t = 25.1s\n",
      "2023-09-24 14:30:46 - hil_control.hw_rev4_dock_undock - INFO - finished run 140. Id_avg = 145.5, Id_max = 289.0, Iud_avg 146.4, Iud_max = 346.0, TR=399.4 MB/s, t = 24.9s\n",
      "2023-09-24 14:31:11 - hil_control.hw_rev4_dock_undock - INFO - finished run 141. Id_avg = 144.1, Id_max = 291.0, Iud_avg 147.7, Iud_max = 460.0, TR=373.1 MB/s, t = 25.2s\n",
      "2023-09-24 14:31:36 - hil_control.hw_rev4_dock_undock - INFO - finished run 142. Id_avg = 146.1, Id_max = 292.0, Iud_avg 148.4, Iud_max = 494.0, TR=359.5 MB/s, t = 25.0s\n",
      "2023-09-24 14:32:01 - hil_control.hw_rev4_dock_undock - INFO - finished run 143. Id_avg = 148.4, Id_max = 470.0, Iud_avg 148.5, Iud_max = 429.0, TR=384.1 MB/s, t = 24.9s\n",
      "2023-09-24 14:32:26 - hil_control.hw_rev4_dock_undock - INFO - finished run 144. Id_avg = 147.5, Id_max = 289.0, Iud_avg 146.9, Iud_max = 376.0, TR=365.2 MB/s, t = 25.0s\n",
      "2023-09-24 14:32:51 - hil_control.hw_rev4_dock_undock - INFO - finished run 145. Id_avg = 145.8, Id_max = 287.0, Iud_avg 149.3, Iud_max = 408.0, TR=362.9 MB/s, t = 25.0s\n"
     ]
    },
    {
     "name": "stderr",
     "output_type": "stream",
     "text": [
      "umount: /home/max/Desktop/mntdir: target is busy.\n"
     ]
    },
    {
     "name": "stdout",
     "output_type": "stream",
     "text": [
      "2023-09-24 14:33:08 - hil_control.hw_rev4_dock_undock - INFO - finished run 146. Id_avg = 146.0, Id_max = 294.0, Iud_avg 148.1, Iud_max = 373.0, TR=385.4 MB/s, t = 16.7s\n",
      "2023-09-24 14:33:33 - hil_control.hw_rev4_dock_undock - INFO - finished run 147. Id_avg = 149.7, Id_max = 304.0, Iud_avg 149.3, Iud_max = 742.0, TR=298.0 MB/s, t = 25.1s\n",
      "2023-09-24 14:33:58 - hil_control.hw_rev4_dock_undock - INFO - finished run 148. Id_avg = 148.5, Id_max = 373.0, Iud_avg 148.0, Iud_max = 448.0, TR=398.7 MB/s, t = 25.0s\n",
      "2023-09-24 14:34:23 - hil_control.hw_rev4_dock_undock - INFO - finished run 149. Id_avg = 147.6, Id_max = 286.0, Iud_avg 145.2, Iud_max = 328.0, TR=382.7 MB/s, t = 25.1s\n"
     ]
    },
    {
     "name": "stderr",
     "output_type": "stream",
     "text": [
      "umount: /home/max/Desktop/mntdir: target is busy.\n"
     ]
    },
    {
     "name": "stdout",
     "output_type": "stream",
     "text": [
      "2023-09-24 14:34:40 - hil_control.hw_rev4_dock_undock - INFO - finished run 150. Id_avg = 145.6, Id_max = 295.0, Iud_avg 145.4, Iud_max = 305.0, TR=365.8 MB/s, t = 16.7s\n",
      "2023-09-24 14:35:05 - hil_control.hw_rev4_dock_undock - INFO - finished run 151. Id_avg = 148.6, Id_max = 303.0, Iud_avg 149.6, Iud_max = 405.0, TR=279.1 MB/s, t = 24.9s\n",
      "2023-09-24 14:35:30 - hil_control.hw_rev4_dock_undock - INFO - finished run 152. Id_avg = 147.3, Id_max = 303.0, Iud_avg 147.6, Iud_max = 366.0, TR=355.3 MB/s, t = 24.9s\n",
      "2023-09-24 14:35:55 - hil_control.hw_rev4_dock_undock - INFO - finished run 153. Id_avg = 147.9, Id_max = 301.0, Iud_avg 149.0, Iud_max = 460.0, TR=396.9 MB/s, t = 25.0s\n",
      "2023-09-24 14:36:20 - hil_control.hw_rev4_dock_undock - INFO - finished run 154. Id_avg = 145.3, Id_max = 288.0, Iud_avg 147.7, Iud_max = 340.0, TR=366.8 MB/s, t = 25.1s\n",
      "2023-09-24 14:36:45 - hil_control.hw_rev4_dock_undock - INFO - finished run 155. Id_avg = 148.3, Id_max = 280.0, Iud_avg 146.6, Iud_max = 436.0, TR=367.9 MB/s, t = 25.1s\n",
      "2023-09-24 14:37:10 - hil_control.hw_rev4_dock_undock - INFO - finished run 156. Id_avg = 148.3, Id_max = 305.0, Iud_avg 147.5, Iud_max = 507.0, TR=354.3 MB/s, t = 25.1s\n",
      "2023-09-24 14:37:35 - hil_control.hw_rev4_dock_undock - INFO - finished run 157. Id_avg = 146.3, Id_max = 289.0, Iud_avg 146.5, Iud_max = 388.0, TR=368.8 MB/s, t = 24.8s\n",
      "2023-09-24 14:38:00 - hil_control.hw_rev4_dock_undock - INFO - finished run 158. Id_avg = 147.2, Id_max = 293.0, Iud_avg 148.2, Iud_max = 409.0, TR=364.5 MB/s, t = 25.0s\n",
      "2023-09-24 14:38:25 - hil_control.hw_rev4_dock_undock - INFO - finished run 159. Id_avg = 142.8, Id_max = 277.0, Iud_avg 148.6, Iud_max = 453.0, TR=395.3 MB/s, t = 25.0s\n",
      "2023-09-24 14:38:50 - hil_control.hw_rev4_dock_undock - INFO - finished run 160. Id_avg = 145.2, Id_max = 276.0, Iud_avg 146.1, Iud_max = 329.0, TR=382.7 MB/s, t = 25.0s\n",
      "2023-09-24 14:39:15 - hil_control.hw_rev4_dock_undock - INFO - finished run 161. Id_avg = 144.2, Id_max = 289.0, Iud_avg 146.7, Iud_max = 379.0, TR=375.5 MB/s, t = 24.9s\n",
      "2023-09-24 14:39:40 - hil_control.hw_rev4_dock_undock - INFO - finished run 162. Id_avg = 147.0, Id_max = 300.0, Iud_avg 149.5, Iud_max = 453.0, TR=363.3 MB/s, t = 25.0s\n"
     ]
    },
    {
     "name": "stderr",
     "output_type": "stream",
     "text": [
      "umount: /home/max/Desktop/mntdir: target is busy.\n"
     ]
    },
    {
     "name": "stdout",
     "output_type": "stream",
     "text": [
      "2023-09-24 14:39:56 - hil_control.hw_rev4_dock_undock - INFO - finished run 163. Id_avg = 148.2, Id_max = 289.0, Iud_avg 148.1, Iud_max = 478.0, TR=378.1 MB/s, t = 16.8s\n",
      "2023-09-24 14:40:21 - hil_control.hw_rev4_dock_undock - INFO - finished run 164. Id_avg = 145.2, Id_max = 291.0, Iud_avg 148.5, Iud_max = 450.0, TR=294.4 MB/s, t = 25.1s\n",
      "2023-09-24 14:40:46 - hil_control.hw_rev4_dock_undock - INFO - finished run 165. Id_avg = 145.7, Id_max = 292.0, Iud_avg 149.2, Iud_max = 475.0, TR=392.4 MB/s, t = 25.0s\n",
      "2023-09-24 14:41:11 - hil_control.hw_rev4_dock_undock - INFO - finished run 166. Id_avg = 146.0, Id_max = 289.0, Iud_avg 151.0, Iud_max = 506.0, TR=367.0 MB/s, t = 24.7s\n",
      "2023-09-24 14:41:36 - hil_control.hw_rev4_dock_undock - INFO - finished run 167. Id_avg = 146.3, Id_max = 290.0, Iud_avg 150.5, Iud_max = 451.0, TR=359.9 MB/s, t = 24.7s\n",
      "2023-09-24 14:42:01 - hil_control.hw_rev4_dock_undock - INFO - finished run 168. Id_avg = 146.9, Id_max = 306.0, Iud_avg 146.0, Iud_max = 349.0, TR=369.5 MB/s, t = 25.1s\n",
      "2023-09-24 14:42:26 - hil_control.hw_rev4_dock_undock - INFO - finished run 169. Id_avg = 145.4, Id_max = 288.0, Iud_avg 150.5, Iud_max = 487.0, TR=365.8 MB/s, t = 25.0s\n",
      "2023-09-24 14:42:51 - hil_control.hw_rev4_dock_undock - INFO - finished run 170. Id_avg = 147.0, Id_max = 291.0, Iud_avg 147.2, Iud_max = 438.0, TR=360.8 MB/s, t = 24.9s\n",
      "2023-09-24 14:43:16 - hil_control.hw_rev4_dock_undock - INFO - finished run 171. Id_avg = 145.7, Id_max = 305.0, Iud_avg 150.4, Iud_max = 475.0, TR=209.4 MB/s, t = 25.0s\n",
      "2023-09-24 14:43:41 - hil_control.hw_rev4_dock_undock - INFO - finished run 172. Id_avg = 146.5, Id_max = 288.0, Iud_avg 149.4, Iud_max = 659.0, TR=366.1 MB/s, t = 25.0s\n",
      "2023-09-24 14:44:06 - hil_control.hw_rev4_dock_undock - INFO - finished run 173. Id_avg = 146.0, Id_max = 290.0, Iud_avg 148.6, Iud_max = 465.0, TR=360.9 MB/s, t = 24.8s\n",
      "2023-09-24 14:44:31 - hil_control.hw_rev4_dock_undock - INFO - finished run 174. Id_avg = 146.7, Id_max = 294.0, Iud_avg 147.1, Iud_max = 288.0, TR=396.9 MB/s, t = 25.0s\n",
      "2023-09-24 14:44:56 - hil_control.hw_rev4_dock_undock - INFO - finished run 175. Id_avg = 145.3, Id_max = 287.0, Iud_avg 148.1, Iud_max = 344.0, TR=398.3 MB/s, t = 24.9s\n",
      "2023-09-24 14:45:20 - hil_control.hw_rev4_dock_undock - INFO - finished run 176. Id_avg = 147.1, Id_max = 303.0, Iud_avg 146.2, Iud_max = 344.0, TR=383.4 MB/s, t = 24.9s\n",
      "2023-09-24 14:45:46 - hil_control.hw_rev4_dock_undock - INFO - finished run 177. Id_avg = 149.4, Id_max = 288.0, Iud_avg 147.3, Iud_max = 300.0, TR=378.1 MB/s, t = 25.1s\n",
      "2023-09-24 14:46:11 - hil_control.hw_rev4_dock_undock - INFO - finished run 178. Id_avg = 149.2, Id_max = 391.0, Iud_avg 147.3, Iud_max = 302.0, TR=368.1 MB/s, t = 25.1s\n",
      "2023-09-24 14:46:36 - hil_control.hw_rev4_dock_undock - INFO - finished run 179. Id_avg = 143.8, Id_max = 302.0, Iud_avg 147.2, Iud_max = 484.0, TR=370.2 MB/s, t = 25.0s\n",
      "2023-09-24 14:47:01 - hil_control.hw_rev4_dock_undock - INFO - finished run 180. Id_avg = 149.0, Id_max = 424.0, Iud_avg 146.5, Iud_max = 388.0, TR=350.6 MB/s, t = 25.0s\n",
      "2023-09-24 14:47:26 - hil_control.hw_rev4_dock_undock - INFO - finished run 181. Id_avg = 146.2, Id_max = 302.0, Iud_avg 148.1, Iud_max = 506.0, TR=391.5 MB/s, t = 25.0s\n",
      "2023-09-24 14:47:51 - hil_control.hw_rev4_dock_undock - INFO - finished run 182. Id_avg = 149.7, Id_max = 305.0, Iud_avg 151.4, Iud_max = 649.0, TR=368.2 MB/s, t = 25.0s\n",
      "2023-09-24 14:48:16 - hil_control.hw_rev4_dock_undock - INFO - finished run 183. Id_avg = 148.8, Id_max = 551.0, Iud_avg 145.7, Iud_max = 343.0, TR=361.9 MB/s, t = 25.1s\n",
      "2023-09-24 14:48:41 - hil_control.hw_rev4_dock_undock - INFO - finished run 184. Id_avg = 146.4, Id_max = 285.0, Iud_avg 145.2, Iud_max = 324.0, TR=377.1 MB/s, t = 25.1s\n",
      "2023-09-24 14:49:06 - hil_control.hw_rev4_dock_undock - INFO - finished run 185. Id_avg = 144.0, Id_max = 289.0, Iud_avg 147.3, Iud_max = 371.0, TR=356.4 MB/s, t = 24.8s\n",
      "2023-09-24 14:49:31 - hil_control.hw_rev4_dock_undock - INFO - finished run 186. Id_avg = 144.3, Id_max = 292.0, Iud_avg 148.5, Iud_max = 374.0, TR=352.4 MB/s, t = 25.0s\n",
      "2023-09-24 14:49:56 - hil_control.hw_rev4_dock_undock - INFO - finished run 187. Id_avg = 146.7, Id_max = 305.0, Iud_avg 147.6, Iud_max = 450.0, TR=404.0 MB/s, t = 25.0s\n",
      "2023-09-24 14:50:21 - hil_control.hw_rev4_dock_undock - INFO - finished run 188. Id_avg = 147.7, Id_max = 307.0, Iud_avg 147.8, Iud_max = 340.0, TR=376.8 MB/s, t = 25.0s\n",
      "2023-09-24 14:50:46 - hil_control.hw_rev4_dock_undock - INFO - finished run 189. Id_avg = 145.1, Id_max = 322.0, Iud_avg 144.7, Iud_max = 288.0, TR=403.9 MB/s, t = 25.0s\n",
      "2023-09-24 14:51:11 - hil_control.hw_rev4_dock_undock - INFO - finished run 190. Id_avg = 148.0, Id_max = 302.0, Iud_avg 148.7, Iud_max = 470.0, TR=388.9 MB/s, t = 25.1s\n",
      "2023-09-24 14:51:36 - hil_control.hw_rev4_dock_undock - INFO - finished run 191. Id_avg = 146.0, Id_max = 303.0, Iud_avg 148.0, Iud_max = 374.0, TR=361.3 MB/s, t = 25.1s\n",
      "2023-09-24 14:52:01 - hil_control.hw_rev4_dock_undock - INFO - finished run 192. Id_avg = 147.9, Id_max = 290.0, Iud_avg 148.7, Iud_max = 479.0, TR=400.4 MB/s, t = 25.0s\n",
      "2023-09-24 14:52:26 - hil_control.hw_rev4_dock_undock - INFO - finished run 193. Id_avg = 142.4, Id_max = 289.0, Iud_avg 148.5, Iud_max = 436.0, TR=368.1 MB/s, t = 24.8s\n",
      "2023-09-24 14:52:51 - hil_control.hw_rev4_dock_undock - INFO - finished run 194. Id_avg = 150.7, Id_max = 287.0, Iud_avg 147.5, Iud_max = 302.0, TR=357.6 MB/s, t = 25.0s\n",
      "2023-09-24 14:53:16 - hil_control.hw_rev4_dock_undock - INFO - finished run 195. Id_avg = 147.3, Id_max = 304.0, Iud_avg 149.1, Iud_max = 437.0, TR=151.6 MB/s, t = 25.1s\n",
      "2023-09-24 14:53:41 - hil_control.hw_rev4_dock_undock - INFO - finished run 196. Id_avg = 144.2, Id_max = 289.0, Iud_avg 145.1, Iud_max = 462.0, TR=389.4 MB/s, t = 25.1s\n",
      "2023-09-24 14:54:06 - hil_control.hw_rev4_dock_undock - INFO - finished run 197. Id_avg = 148.6, Id_max = 470.0, Iud_avg 149.9, Iud_max = 310.0, TR=363.1 MB/s, t = 25.1s\n",
      "2023-09-24 14:54:31 - hil_control.hw_rev4_dock_undock - INFO - finished run 198. Id_avg = 146.9, Id_max = 303.0, Iud_avg 148.9, Iud_max = 327.0, TR=398.8 MB/s, t = 25.1s\n",
      "2023-09-24 14:54:56 - hil_control.hw_rev4_dock_undock - INFO - finished run 199. Id_avg = 148.8, Id_max = 462.0, Iud_avg 146.8, Iud_max = 436.0, TR=371.1 MB/s, t = 24.9s\n",
      "2023-09-24 14:55:21 - hil_control.hw_rev4_dock_undock - INFO - finished run 200. Id_avg = 148.5, Id_max = 291.0, Iud_avg 146.6, Iud_max = 389.0, TR=365.7 MB/s, t = 24.9s\n",
      "2023-09-24 14:55:46 - hil_control.hw_rev4_dock_undock - INFO - finished run 201. Id_avg = 146.8, Id_max = 286.0, Iud_avg 150.6, Iud_max = 505.0, TR=370.0 MB/s, t = 25.0s\n",
      "2023-09-24 14:56:11 - hil_control.hw_rev4_dock_undock - INFO - finished run 202. Id_avg = 147.5, Id_max = 293.0, Iud_avg 145.9, Iud_max = 327.0, TR=354.5 MB/s, t = 24.9s\n",
      "2023-09-24 14:56:35 - hil_control.hw_rev4_dock_undock - INFO - finished run 203. Id_avg = 146.2, Id_max = 295.0, Iud_avg 144.9, Iud_max = 317.0, TR=351.0 MB/s, t = 24.9s\n",
      "2023-09-24 14:57:00 - hil_control.hw_rev4_dock_undock - INFO - finished run 204. Id_avg = 142.8, Id_max = 305.0, Iud_avg 145.4, Iud_max = 289.0, TR=353.2 MB/s, t = 25.0s\n",
      "2023-09-24 14:57:25 - hil_control.hw_rev4_dock_undock - INFO - finished run 205. Id_avg = 147.8, Id_max = 292.0, Iud_avg 146.2, Iud_max = 402.0, TR=376.6 MB/s, t = 24.8s\n",
      "2023-09-24 14:57:50 - hil_control.hw_rev4_dock_undock - INFO - finished run 206. Id_avg = 144.2, Id_max = 282.0, Iud_avg 146.1, Iud_max = 430.0, TR=363.4 MB/s, t = 25.0s\n",
      "2023-09-24 14:58:15 - hil_control.hw_rev4_dock_undock - INFO - finished run 207. Id_avg = 146.0, Id_max = 289.0, Iud_avg 144.7, Iud_max = 342.0, TR=345.6 MB/s, t = 24.8s\n",
      "2023-09-24 14:58:40 - hil_control.hw_rev4_dock_undock - INFO - finished run 208. Id_avg = 148.5, Id_max = 289.0, Iud_avg 146.4, Iud_max = 296.0, TR=395.6 MB/s, t = 25.0s\n",
      "2023-09-24 14:59:05 - hil_control.hw_rev4_dock_undock - INFO - finished run 209. Id_avg = 148.9, Id_max = 406.0, Iud_avg 147.1, Iud_max = 304.0, TR=371.1 MB/s, t = 24.8s\n",
      "2023-09-24 14:59:30 - hil_control.hw_rev4_dock_undock - INFO - finished run 210. Id_avg = 146.2, Id_max = 303.0, Iud_avg 147.4, Iud_max = 509.0, TR=380.2 MB/s, t = 25.1s\n",
      "2023-09-24 14:59:55 - hil_control.hw_rev4_dock_undock - INFO - finished run 211. Id_avg = 150.3, Id_max = 545.0, Iud_avg 147.0, Iud_max = 305.0, TR=355.7 MB/s, t = 25.0s\n",
      "2023-09-24 15:00:20 - hil_control.hw_rev4_dock_undock - INFO - finished run 212. Id_avg = 147.1, Id_max = 303.0, Iud_avg 146.5, Iud_max = 334.0, TR=366.5 MB/s, t = 25.0s\n",
      "2023-09-24 15:00:45 - hil_control.hw_rev4_dock_undock - INFO - finished run 213. Id_avg = 145.5, Id_max = 303.0, Iud_avg 147.6, Iud_max = 340.0, TR=365.9 MB/s, t = 25.0s\n",
      "2023-09-24 15:01:10 - hil_control.hw_rev4_dock_undock - INFO - finished run 214. Id_avg = 147.7, Id_max = 292.0, Iud_avg 146.8, Iud_max = 394.0, TR=394.0 MB/s, t = 25.0s\n",
      "2023-09-24 15:01:35 - hil_control.hw_rev4_dock_undock - INFO - finished run 215. Id_avg = 147.8, Id_max = 293.0, Iud_avg 145.8, Iud_max = 376.0, TR=389.5 MB/s, t = 25.0s\n",
      "2023-09-24 15:02:00 - hil_control.hw_rev4_dock_undock - INFO - finished run 216. Id_avg = 146.2, Id_max = 290.0, Iud_avg 148.2, Iud_max = 503.0, TR=357.0 MB/s, t = 24.8s\n",
      "2023-09-24 15:02:25 - hil_control.hw_rev4_dock_undock - INFO - finished run 217. Id_avg = 145.2, Id_max = 290.0, Iud_avg 146.4, Iud_max = 387.0, TR=343.1 MB/s, t = 24.9s\n",
      "2023-09-24 15:02:50 - hil_control.hw_rev4_dock_undock - INFO - finished run 218. Id_avg = 145.5, Id_max = 284.0, Iud_avg 145.8, Iud_max = 328.0, TR=371.3 MB/s, t = 25.1s\n",
      "2023-09-24 15:03:15 - hil_control.hw_rev4_dock_undock - INFO - finished run 219. Id_avg = 145.9, Id_max = 295.0, Iud_avg 147.2, Iud_max = 472.0, TR=342.7 MB/s, t = 24.9s\n",
      "2023-09-24 15:03:40 - hil_control.hw_rev4_dock_undock - INFO - finished run 220. Id_avg = 145.8, Id_max = 304.0, Iud_avg 150.2, Iud_max = 482.0, TR=391.2 MB/s, t = 25.0s\n",
      "2023-09-24 15:04:05 - hil_control.hw_rev4_dock_undock - INFO - finished run 221. Id_avg = 145.6, Id_max = 284.0, Iud_avg 146.0, Iud_max = 376.0, TR=375.6 MB/s, t = 25.0s\n",
      "2023-09-24 15:04:30 - hil_control.hw_rev4_dock_undock - INFO - finished run 222. Id_avg = 145.8, Id_max = 283.0, Iud_avg 148.1, Iud_max = 338.0, TR=359.0 MB/s, t = 25.1s\n",
      "2023-09-24 15:04:54 - hil_control.hw_rev4_dock_undock - INFO - finished run 223. Id_avg = 145.5, Id_max = 286.0, Iud_avg 145.9, Iud_max = 305.0, TR=351.4 MB/s, t = 24.7s\n",
      "2023-09-24 15:05:19 - hil_control.hw_rev4_dock_undock - INFO - finished run 224. Id_avg = 145.9, Id_max = 291.0, Iud_avg 146.0, Iud_max = 497.0, TR=377.6 MB/s, t = 25.0s\n",
      "2023-09-24 15:05:44 - hil_control.hw_rev4_dock_undock - INFO - finished run 225. Id_avg = 148.0, Id_max = 289.0, Iud_avg 145.9, Iud_max = 507.0, TR=351.9 MB/s, t = 25.0s\n",
      "2023-09-24 15:06:09 - hil_control.hw_rev4_dock_undock - INFO - finished run 226. Id_avg = 150.1, Id_max = 305.0, Iud_avg 152.4, Iud_max = 461.0, TR=348.8 MB/s, t = 25.0s\n",
      "2023-09-24 15:06:34 - hil_control.hw_rev4_dock_undock - INFO - finished run 227. Id_avg = 146.3, Id_max = 290.0, Iud_avg 147.0, Iud_max = 340.0, TR=359.9 MB/s, t = 24.8s\n",
      "2023-09-24 15:06:59 - hil_control.hw_rev4_dock_undock - INFO - finished run 228. Id_avg = 146.0, Id_max = 289.0, Iud_avg 147.0, Iud_max = 330.0, TR=359.6 MB/s, t = 24.8s\n",
      "2023-09-24 15:07:24 - hil_control.hw_rev4_dock_undock - INFO - finished run 229. Id_avg = 145.7, Id_max = 288.0, Iud_avg 145.6, Iud_max = 350.0, TR=353.8 MB/s, t = 25.1s\n",
      "2023-09-24 15:07:49 - hil_control.hw_rev4_dock_undock - INFO - finished run 230. Id_avg = 145.6, Id_max = 291.0, Iud_avg 148.6, Iud_max = 355.0, TR=393.5 MB/s, t = 25.1s\n",
      "2023-09-24 15:08:14 - hil_control.hw_rev4_dock_undock - INFO - finished run 231. Id_avg = 147.9, Id_max = 298.0, Iud_avg 145.2, Iud_max = 370.0, TR=349.0 MB/s, t = 25.0s\n",
      "2023-09-24 15:08:39 - hil_control.hw_rev4_dock_undock - INFO - finished run 232. Id_avg = 146.7, Id_max = 303.0, Iud_avg 146.1, Iud_max = 391.0, TR=365.8 MB/s, t = 25.0s\n",
      "2023-09-24 15:09:04 - hil_control.hw_rev4_dock_undock - INFO - finished run 233. Id_avg = 145.4, Id_max = 304.0, Iud_avg 148.4, Iud_max = 451.0, TR=367.7 MB/s, t = 25.0s\n",
      "2023-09-24 15:09:29 - hil_control.hw_rev4_dock_undock - INFO - finished run 234. Id_avg = 144.3, Id_max = 291.0, Iud_avg 149.9, Iud_max = 512.0, TR=350.5 MB/s, t = 24.8s\n",
      "2023-09-24 15:09:54 - hil_control.hw_rev4_dock_undock - INFO - finished run 235. Id_avg = 143.4, Id_max = 291.0, Iud_avg 148.3, Iud_max = 477.0, TR=341.6 MB/s, t = 25.0s\n",
      "2023-09-24 15:10:19 - hil_control.hw_rev4_dock_undock - INFO - finished run 236. Id_avg = 146.0, Id_max = 293.0, Iud_avg 146.1, Iud_max = 296.0, TR=356.4 MB/s, t = 24.9s\n",
      "2023-09-24 15:10:44 - hil_control.hw_rev4_dock_undock - INFO - finished run 237. Id_avg = 145.9, Id_max = 292.0, Iud_avg 146.7, Iud_max = 316.0, TR=351.9 MB/s, t = 24.8s\n",
      "2023-09-24 15:11:09 - hil_control.hw_rev4_dock_undock - INFO - finished run 238. Id_avg = 147.2, Id_max = 288.0, Iud_avg 146.7, Iud_max = 313.0, TR=352.4 MB/s, t = 25.0s\n",
      "2023-09-24 15:11:34 - hil_control.hw_rev4_dock_undock - INFO - finished run 239. Id_avg = 149.6, Id_max = 291.0, Iud_avg 147.1, Iud_max = 422.0, TR=346.5 MB/s, t = 24.7s\n",
      "2023-09-24 15:11:58 - hil_control.hw_rev4_dock_undock - INFO - finished run 240. Id_avg = 149.2, Id_max = 292.0, Iud_avg 146.2, Iud_max = 300.0, TR=360.3 MB/s, t = 25.0s\n",
      "2023-09-24 15:12:23 - hil_control.hw_rev4_dock_undock - INFO - finished run 241. Id_avg = 147.9, Id_max = 300.0, Iud_avg 144.9, Iud_max = 308.0, TR=371.4 MB/s, t = 24.9s\n",
      "2023-09-24 15:12:48 - hil_control.hw_rev4_dock_undock - INFO - finished run 242. Id_avg = 146.9, Id_max = 302.0, Iud_avg 146.5, Iud_max = 344.0, TR=379.0 MB/s, t = 25.1s\n"
     ]
    },
    {
     "name": "stderr",
     "output_type": "stream",
     "text": [
      "umount: /home/max/Desktop/mntdir: target is busy.\n"
     ]
    },
    {
     "name": "stdout",
     "output_type": "stream",
     "text": [
      "2023-09-24 15:13:05 - hil_control.hw_rev4_dock_undock - INFO - finished run 243. Id_avg = 142.3, Id_max = 300.0, Iud_avg 145.1, Iud_max = 370.0, TR=355.0 MB/s, t = 16.9s\n",
      "2023-09-24 15:13:31 - hil_control.hw_rev4_dock_undock - INFO - finished run 244. Id_avg = 144.2, Id_max = 302.0, Iud_avg 148.3, Iud_max = 485.0, TR=354.1 MB/s, t = 25.9s\n",
      "2023-09-24 15:13:56 - hil_control.hw_rev4_dock_undock - INFO - finished run 245. Id_avg = 148.0, Id_max = 288.0, Iud_avg 146.6, Iud_max = 450.0, TR=355.0 MB/s, t = 24.9s\n",
      "2023-09-24 15:14:21 - hil_control.hw_rev4_dock_undock - INFO - finished run 246. Id_avg = 147.4, Id_max = 291.0, Iud_avg 149.3, Iud_max = 497.0, TR=340.3 MB/s, t = 24.9s\n",
      "2023-09-24 15:14:46 - hil_control.hw_rev4_dock_undock - INFO - finished run 247. Id_avg = 147.0, Id_max = 347.0, Iud_avg 148.5, Iud_max = 456.0, TR=365.7 MB/s, t = 24.7s\n",
      "2023-09-24 15:15:11 - hil_control.hw_rev4_dock_undock - INFO - finished run 248. Id_avg = 146.3, Id_max = 287.0, Iud_avg 146.7, Iud_max = 314.0, TR=361.5 MB/s, t = 24.9s\n",
      "2023-09-24 15:15:36 - hil_control.hw_rev4_dock_undock - INFO - finished run 249. Id_avg = 147.8, Id_max = 302.0, Iud_avg 146.6, Iud_max = 309.0, TR=331.5 MB/s, t = 25.0s\n",
      "2023-09-24 15:16:01 - hil_control.hw_rev4_dock_undock - INFO - finished run 250. Id_avg = 145.7, Id_max = 293.0, Iud_avg 146.7, Iud_max = 380.0, TR=372.9 MB/s, t = 24.9s\n",
      "2023-09-24 15:16:26 - hil_control.hw_rev4_dock_undock - INFO - finished run 251. Id_avg = 145.8, Id_max = 304.0, Iud_avg 146.2, Iud_max = 286.0, TR=342.9 MB/s, t = 25.1s\n",
      "2023-09-24 15:16:51 - hil_control.hw_rev4_dock_undock - INFO - finished run 252. Id_avg = 146.0, Id_max = 291.0, Iud_avg 146.2, Iud_max = 333.0, TR=354.0 MB/s, t = 24.8s\n",
      "2023-09-24 15:17:16 - hil_control.hw_rev4_dock_undock - INFO - finished run 253. Id_avg = 144.9, Id_max = 292.0, Iud_avg 145.7, Iud_max = 311.0, TR=333.6 MB/s, t = 25.0s\n",
      "2023-09-24 15:17:40 - hil_control.hw_rev4_dock_undock - INFO - finished run 254. Id_avg = 148.1, Id_max = 516.0, Iud_avg 147.3, Iud_max = 368.0, TR=377.2 MB/s, t = 25.0s\n",
      "2023-09-24 15:18:05 - hil_control.hw_rev4_dock_undock - INFO - finished run 255. Id_avg = 147.1, Id_max = 289.0, Iud_avg 147.8, Iud_max = 464.0, TR=346.8 MB/s, t = 25.0s\n",
      "2023-09-24 15:18:30 - hil_control.hw_rev4_dock_undock - INFO - finished run 256. Id_avg = 147.8, Id_max = 292.0, Iud_avg 146.3, Iud_max = 363.0, TR=327.8 MB/s, t = 25.0s\n",
      "2023-09-24 15:18:55 - hil_control.hw_rev4_dock_undock - INFO - finished run 257. Id_avg = 147.7, Id_max = 303.0, Iud_avg 145.6, Iud_max = 315.0, TR=372.1 MB/s, t = 24.9s\n",
      "2023-09-24 15:19:20 - hil_control.hw_rev4_dock_undock - INFO - finished run 258. Id_avg = 145.3, Id_max = 287.0, Iud_avg 149.3, Iud_max = 498.0, TR=376.3 MB/s, t = 25.1s\n",
      "2023-09-24 15:19:45 - hil_control.hw_rev4_dock_undock - INFO - finished run 259. Id_avg = 144.7, Id_max = 291.0, Iud_avg 149.5, Iud_max = 468.0, TR=355.0 MB/s, t = 25.0s\n",
      "2023-09-24 15:20:10 - hil_control.hw_rev4_dock_undock - INFO - finished run 260. Id_avg = 147.8, Id_max = 289.0, Iud_avg 147.3, Iud_max = 458.0, TR=358.6 MB/s, t = 25.0s\n",
      "2023-09-24 15:20:35 - hil_control.hw_rev4_dock_undock - INFO - finished run 261. Id_avg = 148.0, Id_max = 405.0, Iud_avg 146.1, Iud_max = 322.0, TR=358.4 MB/s, t = 25.0s\n",
      "2023-09-24 15:21:00 - hil_control.hw_rev4_dock_undock - INFO - finished run 262. Id_avg = 147.0, Id_max = 292.0, Iud_avg 146.5, Iud_max = 455.0, TR=327.9 MB/s, t = 24.8s\n",
      "2023-09-24 15:21:25 - hil_control.hw_rev4_dock_undock - INFO - finished run 263. Id_avg = 143.6, Id_max = 294.0, Iud_avg 151.3, Iud_max = 486.0, TR=375.3 MB/s, t = 25.1s\n",
      "2023-09-24 15:21:50 - hil_control.hw_rev4_dock_undock - INFO - finished run 264. Id_avg = 146.8, Id_max = 299.0, Iud_avg 148.3, Iud_max = 376.0, TR=351.2 MB/s, t = 24.9s\n",
      "2023-09-24 15:22:15 - hil_control.hw_rev4_dock_undock - INFO - finished run 265. Id_avg = 144.3, Id_max = 294.0, Iud_avg 146.4, Iud_max = 338.0, TR=353.8 MB/s, t = 25.1s\n",
      "2023-09-24 15:22:40 - hil_control.hw_rev4_dock_undock - INFO - finished run 266. Id_avg = 147.0, Id_max = 289.0, Iud_avg 146.6, Iud_max = 363.0, TR=387.9 MB/s, t = 25.1s\n",
      "2023-09-24 15:23:05 - hil_control.hw_rev4_dock_undock - INFO - finished run 267. Id_avg = 143.2, Id_max = 280.0, Iud_avg 148.2, Iud_max = 498.0, TR=379.5 MB/s, t = 25.0s\n",
      "2023-09-24 15:23:30 - hil_control.hw_rev4_dock_undock - INFO - finished run 268. Id_avg = 145.0, Id_max = 366.0, Iud_avg 152.2, Iud_max = 823.0, TR=341.6 MB/s, t = 25.0s\n",
      "2023-09-24 15:23:55 - hil_control.hw_rev4_dock_undock - INFO - finished run 269. Id_avg = 145.0, Id_max = 290.0, Iud_avg 147.2, Iud_max = 473.0, TR=396.0 MB/s, t = 25.0s\n",
      "2023-09-24 15:24:20 - hil_control.hw_rev4_dock_undock - INFO - finished run 270. Id_avg = 146.2, Id_max = 290.0, Iud_avg 148.4, Iud_max = 306.0, TR=355.6 MB/s, t = 25.1s\n",
      "2023-09-24 15:24:45 - hil_control.hw_rev4_dock_undock - INFO - finished run 271. Id_avg = 149.0, Id_max = 291.0, Iud_avg 147.3, Iud_max = 438.0, TR=345.7 MB/s, t = 25.1s\n",
      "2023-09-24 15:25:10 - hil_control.hw_rev4_dock_undock - INFO - finished run 272. Id_avg = 146.2, Id_max = 303.0, Iud_avg 148.5, Iud_max = 466.0, TR=392.0 MB/s, t = 24.9s\n",
      "2023-09-24 15:25:35 - hil_control.hw_rev4_dock_undock - INFO - finished run 273. Id_avg = 144.6, Id_max = 289.0, Iud_avg 150.4, Iud_max = 743.0, TR=372.4 MB/s, t = 25.1s\n",
      "2023-09-24 15:26:00 - hil_control.hw_rev4_dock_undock - INFO - finished run 274. Id_avg = 146.7, Id_max = 292.0, Iud_avg 145.2, Iud_max = 304.0, TR=368.6 MB/s, t = 24.8s\n",
      "2023-09-24 15:26:25 - hil_control.hw_rev4_dock_undock - INFO - finished run 275. Id_avg = 149.0, Id_max = 303.0, Iud_avg 146.0, Iud_max = 335.0, TR=381.0 MB/s, t = 25.0s\n",
      "2023-09-24 15:26:50 - hil_control.hw_rev4_dock_undock - INFO - finished run 276. Id_avg = 146.8, Id_max = 309.0, Iud_avg 148.5, Iud_max = 309.0, TR=378.4 MB/s, t = 25.0s\n",
      "2023-09-24 15:27:15 - hil_control.hw_rev4_dock_undock - INFO - finished run 277. Id_avg = 145.0, Id_max = 302.0, Iud_avg 146.4, Iud_max = 304.0, TR=363.7 MB/s, t = 25.1s\n",
      "2023-09-24 15:27:40 - hil_control.hw_rev4_dock_undock - INFO - finished run 278. Id_avg = 149.8, Id_max = 404.0, Iud_avg 148.5, Iud_max = 327.0, TR=367.3 MB/s, t = 25.1s\n",
      "2023-09-24 15:28:05 - hil_control.hw_rev4_dock_undock - INFO - finished run 279. Id_avg = 144.7, Id_max = 288.0, Iud_avg 148.4, Iud_max = 508.0, TR=369.0 MB/s, t = 25.0s\n",
      "2023-09-24 15:28:30 - hil_control.hw_rev4_dock_undock - INFO - finished run 280. Id_avg = 144.7, Id_max = 344.0, Iud_avg 147.1, Iud_max = 385.0, TR=340.4 MB/s, t = 24.8s\n",
      "2023-09-24 15:28:55 - hil_control.hw_rev4_dock_undock - INFO - finished run 281. Id_avg = 146.4, Id_max = 304.0, Iud_avg 145.1, Iud_max = 339.0, TR=394.7 MB/s, t = 25.0s\n"
     ]
    },
    {
     "name": "stderr",
     "output_type": "stream",
     "text": [
      "umount: /home/max/Desktop/mntdir: target is busy.\n"
     ]
    },
    {
     "name": "stdout",
     "output_type": "stream",
     "text": [
      "2023-09-24 15:29:12 - hil_control.hw_rev4_dock_undock - INFO - finished run 282. Id_avg = 145.4, Id_max = 294.0, Iud_avg 147.0, Iud_max = 375.0, TR=364.5 MB/s, t = 16.9s\n",
      "2023-09-24 15:29:37 - hil_control.hw_rev4_dock_undock - INFO - finished run 283. Id_avg = 144.8, Id_max = 291.0, Iud_avg 147.9, Iud_max = 461.0, TR=293.7 MB/s, t = 25.1s\n",
      "2023-09-24 15:30:02 - hil_control.hw_rev4_dock_undock - INFO - finished run 284. Id_avg = 145.2, Id_max = 298.0, Iud_avg 145.1, Iud_max = 327.0, TR=368.0 MB/s, t = 24.9s\n",
      "2023-09-24 15:30:27 - hil_control.hw_rev4_dock_undock - INFO - finished run 285. Id_avg = 144.0, Id_max = 291.0, Iud_avg 148.1, Iud_max = 477.0, TR=339.3 MB/s, t = 24.9s\n",
      "2023-09-24 15:30:52 - hil_control.hw_rev4_dock_undock - INFO - finished run 286. Id_avg = 148.5, Id_max = 351.0, Iud_avg 146.1, Iud_max = 339.0, TR=387.8 MB/s, t = 25.1s\n",
      "2023-09-24 15:31:17 - hil_control.hw_rev4_dock_undock - INFO - finished run 287. Id_avg = 145.3, Id_max = 291.0, Iud_avg 148.7, Iud_max = 379.0, TR=362.1 MB/s, t = 25.0s\n",
      "2023-09-24 15:31:42 - hil_control.hw_rev4_dock_undock - INFO - finished run 288. Id_avg = 144.6, Id_max = 290.0, Iud_avg 146.6, Iud_max = 304.0, TR=355.5 MB/s, t = 24.7s\n",
      "2023-09-24 15:32:07 - hil_control.hw_rev4_dock_undock - INFO - finished run 289. Id_avg = 148.8, Id_max = 419.0, Iud_avg 145.7, Iud_max = 308.0, TR=371.0 MB/s, t = 25.0s\n",
      "2023-09-24 15:32:32 - hil_control.hw_rev4_dock_undock - INFO - finished run 290. Id_avg = 147.2, Id_max = 305.0, Iud_avg 145.7, Iud_max = 376.0, TR=356.4 MB/s, t = 25.1s\n",
      "2023-09-24 15:32:57 - hil_control.hw_rev4_dock_undock - INFO - finished run 291. Id_avg = 147.8, Id_max = 303.0, Iud_avg 146.8, Iud_max = 466.0, TR=351.1 MB/s, t = 24.9s\n",
      "2023-09-24 15:33:22 - hil_control.hw_rev4_dock_undock - INFO - finished run 292. Id_avg = 149.3, Id_max = 308.0, Iud_avg 146.3, Iud_max = 375.0, TR=363.4 MB/s, t = 24.9s\n",
      "2023-09-24 15:33:47 - hil_control.hw_rev4_dock_undock - INFO - finished run 293. Id_avg = 147.4, Id_max = 288.0, Iud_avg 145.0, Iud_max = 363.0, TR=363.4 MB/s, t = 25.0s\n",
      "2023-09-24 15:34:12 - hil_control.hw_rev4_dock_undock - INFO - finished run 294. Id_avg = 146.3, Id_max = 306.0, Iud_avg 148.8, Iud_max = 503.0, TR=350.2 MB/s, t = 24.8s\n",
      "2023-09-24 15:34:36 - hil_control.hw_rev4_dock_undock - INFO - finished run 295. Id_avg = 143.4, Id_max = 290.0, Iud_avg 149.8, Iud_max = 437.0, TR=347.7 MB/s, t = 24.8s\n",
      "2023-09-24 15:35:01 - hil_control.hw_rev4_dock_undock - INFO - finished run 296. Id_avg = 145.2, Id_max = 290.0, Iud_avg 146.9, Iud_max = 372.0, TR=372.5 MB/s, t = 25.0s\n",
      "2023-09-24 15:35:26 - hil_control.hw_rev4_dock_undock - INFO - finished run 297. Id_avg = 144.7, Id_max = 299.0, Iud_avg 147.7, Iud_max = 476.0, TR=358.9 MB/s, t = 25.1s\n",
      "2023-09-24 15:35:51 - hil_control.hw_rev4_dock_undock - INFO - finished run 298. Id_avg = 145.4, Id_max = 301.0, Iud_avg 146.2, Iud_max = 326.0, TR=353.7 MB/s, t = 25.0s\n",
      "2023-09-24 15:36:17 - hil_control.hw_rev4_dock_undock - INFO - finished run 299. Id_avg = 146.3, Id_max = 290.0, Iud_avg 148.4, Iud_max = 392.0, TR=356.8 MB/s, t = 25.0s\n",
      "2023-09-24 15:36:42 - hil_control.hw_rev4_dock_undock - INFO - finished run 300. Id_avg = 147.1, Id_max = 290.0, Iud_avg 148.2, Iud_max = 489.0, TR=364.0 MB/s, t = 25.1s\n",
      "2023-09-24 15:37:07 - hil_control.hw_rev4_dock_undock - INFO - finished run 301. Id_avg = 147.0, Id_max = 347.0, Iud_avg 149.5, Iud_max = 484.0, TR=373.2 MB/s, t = 25.0s\n",
      "2023-09-24 15:37:32 - hil_control.hw_rev4_dock_undock - INFO - finished run 302. Id_avg = 146.3, Id_max = 297.0, Iud_avg 146.9, Iud_max = 316.0, TR=376.8 MB/s, t = 24.9s\n",
      "2023-09-24 15:37:57 - hil_control.hw_rev4_dock_undock - INFO - finished run 303. Id_avg = 143.4, Id_max = 291.0, Iud_avg 148.2, Iud_max = 506.0, TR=352.6 MB/s, t = 25.0s\n",
      "2023-09-24 15:38:22 - hil_control.hw_rev4_dock_undock - INFO - finished run 304. Id_avg = 147.8, Id_max = 299.0, Iud_avg 146.9, Iud_max = 340.0, TR=380.2 MB/s, t = 25.1s\n",
      "2023-09-24 15:38:46 - hil_control.hw_rev4_dock_undock - INFO - finished run 305. Id_avg = 145.5, Id_max = 289.0, Iud_avg 148.2, Iud_max = 368.0, TR=381.7 MB/s, t = 24.8s\n",
      "2023-09-24 15:39:11 - hil_control.hw_rev4_dock_undock - INFO - finished run 306. Id_avg = 144.2, Id_max = 299.0, Iud_avg 148.9, Iud_max = 376.0, TR=361.1 MB/s, t = 24.9s\n",
      "2023-09-24 15:39:36 - hil_control.hw_rev4_dock_undock - INFO - finished run 307. Id_avg = 143.9, Id_max = 288.0, Iud_avg 146.6, Iud_max = 373.0, TR=344.2 MB/s, t = 25.0s\n",
      "2023-09-24 15:40:01 - hil_control.hw_rev4_dock_undock - INFO - finished run 308. Id_avg = 150.5, Id_max = 288.0, Iud_avg 146.6, Iud_max = 371.0, TR=391.6 MB/s, t = 25.0s\n",
      "2023-09-24 15:40:26 - hil_control.hw_rev4_dock_undock - INFO - finished run 309. Id_avg = 147.4, Id_max = 286.0, Iud_avg 150.0, Iud_max = 671.0, TR=357.4 MB/s, t = 25.0s\n",
      "2023-09-24 15:40:51 - hil_control.hw_rev4_dock_undock - INFO - finished run 310. Id_avg = 147.8, Id_max = 301.0, Iud_avg 145.8, Iud_max = 374.0, TR=357.9 MB/s, t = 24.9s\n",
      "2023-09-24 15:41:16 - hil_control.hw_rev4_dock_undock - INFO - finished run 311. Id_avg = 150.3, Id_max = 327.0, Iud_avg 148.9, Iud_max = 436.0, TR=390.9 MB/s, t = 25.1s\n",
      "2023-09-24 15:41:41 - hil_control.hw_rev4_dock_undock - INFO - finished run 312. Id_avg = 147.3, Id_max = 292.0, Iud_avg 145.9, Iud_max = 343.0, TR=361.9 MB/s, t = 25.0s\n",
      "2023-09-24 15:42:06 - hil_control.hw_rev4_dock_undock - INFO - finished run 313. Id_avg = 150.2, Id_max = 288.0, Iud_avg 147.1, Iud_max = 481.0, TR=350.7 MB/s, t = 25.0s\n",
      "2023-09-24 15:42:31 - hil_control.hw_rev4_dock_undock - INFO - finished run 314. Id_avg = 146.8, Id_max = 299.0, Iud_avg 147.6, Iud_max = 451.0, TR=359.6 MB/s, t = 24.8s\n",
      "2023-09-24 15:42:56 - hil_control.hw_rev4_dock_undock - INFO - finished run 315. Id_avg = 146.1, Id_max = 291.0, Iud_avg 146.5, Iud_max = 369.0, TR=359.2 MB/s, t = 25.0s\n",
      "2023-09-24 15:43:21 - hil_control.hw_rev4_dock_undock - INFO - finished run 316. Id_avg = 143.3, Id_max = 289.0, Iud_avg 146.3, Iud_max = 337.0, TR=212.8 MB/s, t = 25.0s\n",
      "2023-09-24 15:43:46 - hil_control.hw_rev4_dock_undock - INFO - finished run 317. Id_avg = 145.6, Id_max = 301.0, Iud_avg 149.7, Iud_max = 474.0, TR=366.4 MB/s, t = 25.0s\n",
      "2023-09-24 15:44:11 - hil_control.hw_rev4_dock_undock - INFO - finished run 318. Id_avg = 143.6, Id_max = 304.0, Iud_avg 144.5, Iud_max = 292.0, TR=224.9 MB/s, t = 25.1s\n",
      "2023-09-24 15:44:36 - hil_control.hw_rev4_dock_undock - INFO - finished run 319. Id_avg = 145.4, Id_max = 290.0, Iud_avg 145.5, Iud_max = 333.0, TR=342.8 MB/s, t = 25.1s\n",
      "2023-09-24 15:45:01 - hil_control.hw_rev4_dock_undock - INFO - finished run 320. Id_avg = 148.2, Id_max = 359.0, Iud_avg 150.1, Iud_max = 501.0, TR=366.6 MB/s, t = 25.0s\n",
      "2023-09-24 15:45:26 - hil_control.hw_rev4_dock_undock - INFO - finished run 321. Id_avg = 145.2, Id_max = 292.0, Iud_avg 147.4, Iud_max = 420.0, TR=386.3 MB/s, t = 24.8s\n",
      "2023-09-24 15:45:51 - hil_control.hw_rev4_dock_undock - INFO - finished run 322. Id_avg = 147.3, Id_max = 358.0, Iud_avg 145.4, Iud_max = 318.0, TR=334.5 MB/s, t = 24.5s\n",
      "2023-09-24 15:46:16 - hil_control.hw_rev4_dock_undock - INFO - finished run 323. Id_avg = 145.8, Id_max = 303.0, Iud_avg 144.8, Iud_max = 373.0, TR=345.5 MB/s, t = 25.0s\n",
      "2023-09-24 15:46:40 - hil_control.hw_rev4_dock_undock - INFO - finished run 324. Id_avg = 145.6, Id_max = 295.0, Iud_avg 149.3, Iud_max = 476.0, TR=397.1 MB/s, t = 24.9s\n",
      "2023-09-24 15:47:06 - hil_control.hw_rev4_dock_undock - INFO - finished run 325. Id_avg = 143.8, Id_max = 289.0, Iud_avg 148.2, Iud_max = 436.0, TR=382.9 MB/s, t = 25.1s\n",
      "2023-09-24 15:47:30 - hil_control.hw_rev4_dock_undock - INFO - finished run 326. Id_avg = 146.9, Id_max = 305.0, Iud_avg 146.9, Iud_max = 356.0, TR=377.2 MB/s, t = 24.9s\n",
      "2023-09-24 15:47:55 - hil_control.hw_rev4_dock_undock - INFO - finished run 327. Id_avg = 145.8, Id_max = 300.0, Iud_avg 146.8, Iud_max = 441.0, TR=384.6 MB/s, t = 25.0s\n",
      "2023-09-24 15:48:20 - hil_control.hw_rev4_dock_undock - INFO - finished run 328. Id_avg = 146.0, Id_max = 300.0, Iud_avg 145.6, Iud_max = 333.0, TR=350.7 MB/s, t = 25.0s\n",
      "2023-09-24 15:48:45 - hil_control.hw_rev4_dock_undock - INFO - finished run 329. Id_avg = 148.3, Id_max = 558.0, Iud_avg 147.6, Iud_max = 423.0, TR=376.8 MB/s, t = 24.7s\n",
      "2023-09-24 15:49:10 - hil_control.hw_rev4_dock_undock - INFO - finished run 330. Id_avg = 146.4, Id_max = 300.0, Iud_avg 143.7, Iud_max = 278.0, TR=392.7 MB/s, t = 25.0s\n",
      "2023-09-24 15:49:35 - hil_control.hw_rev4_dock_undock - INFO - finished run 331. Id_avg = 146.5, Id_max = 289.0, Iud_avg 146.9, Iud_max = 395.0, TR=394.3 MB/s, t = 25.1s\n",
      "2023-09-24 15:50:00 - hil_control.hw_rev4_dock_undock - INFO - finished run 332. Id_avg = 148.2, Id_max = 303.0, Iud_avg 147.8, Iud_max = 451.0, TR=343.9 MB/s, t = 25.1s\n",
      "2023-09-24 15:50:25 - hil_control.hw_rev4_dock_undock - INFO - finished run 333. Id_avg = 148.4, Id_max = 299.0, Iud_avg 148.8, Iud_max = 482.0, TR=360.9 MB/s, t = 25.1s\n",
      "2023-09-24 15:50:50 - hil_control.hw_rev4_dock_undock - INFO - finished run 334. Id_avg = 147.4, Id_max = 289.0, Iud_avg 145.3, Iud_max = 341.0, TR=364.8 MB/s, t = 25.0s\n",
      "2023-09-24 15:51:15 - hil_control.hw_rev4_dock_undock - INFO - finished run 335. Id_avg = 144.9, Id_max = 304.0, Iud_avg 146.3, Iud_max = 397.0, TR=364.9 MB/s, t = 25.0s\n",
      "2023-09-24 15:51:40 - hil_control.hw_rev4_dock_undock - INFO - finished run 336. Id_avg = 147.5, Id_max = 297.0, Iud_avg 146.9, Iud_max = 315.0, TR=383.0 MB/s, t = 25.0s\n",
      "2023-09-24 15:52:05 - hil_control.hw_rev4_dock_undock - INFO - finished run 337. Id_avg = 147.7, Id_max = 338.0, Iud_avg 146.4, Iud_max = 292.0, TR=355.8 MB/s, t = 24.8s\n",
      "2023-09-24 15:52:30 - hil_control.hw_rev4_dock_undock - INFO - finished run 338. Id_avg = 145.0, Id_max = 299.0, Iud_avg 146.8, Iud_max = 479.0, TR=341.0 MB/s, t = 25.1s\n",
      "2023-09-24 15:52:55 - hil_control.hw_rev4_dock_undock - INFO - finished run 339. Id_avg = 144.9, Id_max = 289.0, Iud_avg 147.1, Iud_max = 452.0, TR=377.4 MB/s, t = 25.1s\n",
      "2023-09-24 15:53:20 - hil_control.hw_rev4_dock_undock - INFO - finished run 340. Id_avg = 149.1, Id_max = 306.0, Iud_avg 149.6, Iud_max = 374.0, TR=212.2 MB/s, t = 25.1s\n",
      "2023-09-24 15:53:45 - hil_control.hw_rev4_dock_undock - INFO - finished run 341. Id_avg = 147.4, Id_max = 288.0, Iud_avg 149.2, Iud_max = 432.0, TR=363.0 MB/s, t = 25.1s\n",
      "2023-09-24 15:54:10 - hil_control.hw_rev4_dock_undock - INFO - finished run 342. Id_avg = 147.5, Id_max = 291.0, Iud_avg 145.8, Iud_max = 311.0, TR=363.5 MB/s, t = 24.6s\n"
     ]
    },
    {
     "name": "stderr",
     "output_type": "stream",
     "text": [
      "umount: /home/max/Desktop/mntdir: target is busy.\n"
     ]
    },
    {
     "name": "stdout",
     "output_type": "stream",
     "text": [
      "2023-09-24 15:54:27 - hil_control.hw_rev4_dock_undock - INFO - finished run 343. Id_avg = 145.1, Id_max = 351.0, Iud_avg 150.8, Iud_max = 440.0, TR=357.1 MB/s, t = 16.9s\n",
      "2023-09-24 15:54:53 - hil_control.hw_rev4_dock_undock - INFO - finished run 344. Id_avg = 146.7, Id_max = 288.0, Iud_avg 146.2, Iud_max = 386.0, TR=381.5 MB/s, t = 25.9s\n",
      "2023-09-24 15:55:17 - hil_control.hw_rev4_dock_undock - INFO - finished run 345. Id_avg = 145.2, Id_max = 288.0, Iud_avg 152.6, Iud_max = 501.0, TR=328.9 MB/s, t = 24.9s\n",
      "2023-09-24 15:55:43 - hil_control.hw_rev4_dock_undock - INFO - finished run 346. Id_avg = 147.2, Id_max = 393.0, Iud_avg 148.9, Iud_max = 413.0, TR=361.1 MB/s, t = 25.1s\n",
      "2023-09-24 15:56:07 - hil_control.hw_rev4_dock_undock - INFO - finished run 347. Id_avg = 146.2, Id_max = 302.0, Iud_avg 148.0, Iud_max = 439.0, TR=379.7 MB/s, t = 24.8s\n",
      "2023-09-24 15:56:32 - hil_control.hw_rev4_dock_undock - INFO - finished run 348. Id_avg = 146.7, Id_max = 305.0, Iud_avg 146.9, Iud_max = 396.0, TR=340.1 MB/s, t = 25.0s\n",
      "2023-09-24 15:56:57 - hil_control.hw_rev4_dock_undock - INFO - finished run 349. Id_avg = 146.0, Id_max = 301.0, Iud_avg 152.6, Iud_max = 945.0, TR=355.7 MB/s, t = 24.8s\n",
      "2023-09-24 15:57:22 - hil_control.hw_rev4_dock_undock - INFO - finished run 350. Id_avg = 147.1, Id_max = 290.0, Iud_avg 147.0, Iud_max = 461.0, TR=380.1 MB/s, t = 24.8s\n",
      "2023-09-24 15:57:47 - hil_control.hw_rev4_dock_undock - INFO - finished run 351. Id_avg = 146.3, Id_max = 289.0, Iud_avg 145.7, Iud_max = 369.0, TR=350.1 MB/s, t = 24.8s\n",
      "2023-09-24 15:58:12 - hil_control.hw_rev4_dock_undock - INFO - finished run 352. Id_avg = 147.2, Id_max = 304.0, Iud_avg 144.2, Iud_max = 298.0, TR=332.1 MB/s, t = 24.9s\n",
      "2023-09-24 15:58:37 - hil_control.hw_rev4_dock_undock - INFO - finished run 353. Id_avg = 145.1, Id_max = 305.0, Iud_avg 147.3, Iud_max = 373.0, TR=339.7 MB/s, t = 25.1s\n",
      "2023-09-24 15:59:01 - hil_control.hw_rev4_dock_undock - INFO - finished run 354. Id_avg = 145.5, Id_max = 286.0, Iud_avg 147.7, Iud_max = 452.0, TR=363.2 MB/s, t = 24.6s\n",
      "2023-09-24 15:59:27 - hil_control.hw_rev4_dock_undock - INFO - finished run 355. Id_avg = 148.2, Id_max = 289.0, Iud_avg 147.2, Iud_max = 335.0, TR=334.6 MB/s, t = 25.0s\n",
      "2023-09-24 15:59:51 - hil_control.hw_rev4_dock_undock - INFO - finished run 356. Id_avg = 143.8, Id_max = 304.0, Iud_avg 145.5, Iud_max = 321.0, TR=341.3 MB/s, t = 24.9s\n",
      "2023-09-24 16:00:16 - hil_control.hw_rev4_dock_undock - INFO - finished run 357. Id_avg = 146.3, Id_max = 304.0, Iud_avg 147.9, Iud_max = 347.0, TR=355.6 MB/s, t = 24.8s\n",
      "2023-09-24 16:00:41 - hil_control.hw_rev4_dock_undock - INFO - finished run 358. Id_avg = 145.8, Id_max = 290.0, Iud_avg 146.4, Iud_max = 279.0, TR=352.4 MB/s, t = 25.0s\n",
      "2023-09-24 16:01:06 - hil_control.hw_rev4_dock_undock - INFO - finished run 359. Id_avg = 146.3, Id_max = 308.0, Iud_avg 146.6, Iud_max = 414.0, TR=346.0 MB/s, t = 24.9s\n",
      "2023-09-24 16:01:31 - hil_control.hw_rev4_dock_undock - INFO - finished run 360. Id_avg = 147.3, Id_max = 303.0, Iud_avg 146.1, Iud_max = 328.0, TR=362.2 MB/s, t = 25.0s\n"
     ]
    },
    {
     "name": "stderr",
     "output_type": "stream",
     "text": [
      "umount: /home/max/Desktop/mntdir: target is busy.\n"
     ]
    },
    {
     "name": "stdout",
     "output_type": "stream",
     "text": [
      "2023-09-24 16:01:48 - hil_control.hw_rev4_dock_undock - INFO - finished run 361. Id_avg = 147.3, Id_max = 303.0, Iud_avg 146.0, Iud_max = 507.0, TR=352.8 MB/s, t = 16.8s\n",
      "2023-09-24 16:02:14 - hil_control.hw_rev4_dock_undock - INFO - finished run 362. Id_avg = 146.9, Id_max = 291.0, Iud_avg 147.0, Iud_max = 454.0, TR=352.2 MB/s, t = 25.8s\n",
      "2023-09-24 16:02:39 - hil_control.hw_rev4_dock_undock - INFO - finished run 363. Id_avg = 146.5, Id_max = 292.0, Iud_avg 149.1, Iud_max = 494.0, TR=324.1 MB/s, t = 25.0s\n",
      "2023-09-24 16:03:04 - hil_control.hw_rev4_dock_undock - INFO - finished run 364. Id_avg = 146.8, Id_max = 302.0, Iud_avg 150.5, Iud_max = 457.0, TR=346.9 MB/s, t = 25.1s\n",
      "2023-09-24 16:03:29 - hil_control.hw_rev4_dock_undock - INFO - finished run 365. Id_avg = 148.0, Id_max = 292.0, Iud_avg 147.1, Iud_max = 386.0, TR=347.0 MB/s, t = 25.1s\n",
      "2023-09-24 16:03:54 - hil_control.hw_rev4_dock_undock - INFO - finished run 366. Id_avg = 147.8, Id_max = 305.0, Iud_avg 147.1, Iud_max = 375.0, TR=348.4 MB/s, t = 24.9s\n",
      "2023-09-24 16:04:19 - hil_control.hw_rev4_dock_undock - INFO - finished run 367. Id_avg = 140.4, Id_max = 290.0, Iud_avg 145.4, Iud_max = 339.0, TR=350.5 MB/s, t = 25.1s\n",
      "2023-09-24 16:04:43 - hil_control.hw_rev4_dock_undock - INFO - finished run 368. Id_avg = 144.3, Id_max = 395.0, Iud_avg 148.0, Iud_max = 490.0, TR=373.6 MB/s, t = 24.5s\n",
      "2023-09-24 16:05:08 - hil_control.hw_rev4_dock_undock - INFO - finished run 369. Id_avg = 143.5, Id_max = 287.0, Iud_avg 146.1, Iud_max = 376.0, TR=342.2 MB/s, t = 24.8s\n",
      "2023-09-24 16:05:33 - hil_control.hw_rev4_dock_undock - INFO - finished run 370. Id_avg = 146.3, Id_max = 299.0, Iud_avg 148.0, Iud_max = 363.0, TR=351.0 MB/s, t = 25.1s\n",
      "2023-09-24 16:05:58 - hil_control.hw_rev4_dock_undock - INFO - finished run 371. Id_avg = 148.8, Id_max = 412.0, Iud_avg 149.3, Iud_max = 476.0, TR=375.7 MB/s, t = 25.1s\n",
      "2023-09-24 16:06:23 - hil_control.hw_rev4_dock_undock - INFO - finished run 372. Id_avg = 147.7, Id_max = 288.0, Iud_avg 150.3, Iud_max = 493.0, TR=342.5 MB/s, t = 24.8s\n",
      "2023-09-24 16:06:48 - hil_control.hw_rev4_dock_undock - INFO - finished run 373. Id_avg = 146.7, Id_max = 304.0, Iud_avg 148.0, Iud_max = 452.0, TR=327.0 MB/s, t = 25.0s\n",
      "2023-09-24 16:07:13 - hil_control.hw_rev4_dock_undock - INFO - finished run 374. Id_avg = 147.8, Id_max = 303.0, Iud_avg 144.6, Iud_max = 293.0, TR=363.8 MB/s, t = 24.5s\n",
      "2023-09-24 16:07:37 - hil_control.hw_rev4_dock_undock - INFO - finished run 375. Id_avg = 144.4, Id_max = 286.0, Iud_avg 145.9, Iud_max = 434.0, TR=353.0 MB/s, t = 24.6s\n",
      "2023-09-24 16:08:02 - hil_control.hw_rev4_dock_undock - INFO - finished run 376. Id_avg = 146.4, Id_max = 290.0, Iud_avg 145.4, Iud_max = 343.0, TR=358.5 MB/s, t = 25.1s\n",
      "2023-09-24 16:08:27 - hil_control.hw_rev4_dock_undock - INFO - finished run 377. Id_avg = 143.6, Id_max = 297.0, Iud_avg 147.8, Iud_max = 496.0, TR=322.5 MB/s, t = 25.0s\n",
      "2023-09-24 16:08:52 - hil_control.hw_rev4_dock_undock - INFO - finished run 378. Id_avg = 147.9, Id_max = 288.0, Iud_avg 149.4, Iud_max = 366.0, TR=371.5 MB/s, t = 25.1s\n",
      "2023-09-24 16:09:17 - hil_control.hw_rev4_dock_undock - INFO - finished run 379. Id_avg = 147.6, Id_max = 444.0, Iud_avg 150.8, Iud_max = 623.0, TR=347.0 MB/s, t = 24.9s\n",
      "2023-09-24 16:09:42 - hil_control.hw_rev4_dock_undock - INFO - finished run 380. Id_avg = 145.9, Id_max = 291.0, Iud_avg 147.4, Iud_max = 414.0, TR=370.5 MB/s, t = 25.0s\n"
     ]
    },
    {
     "name": "stderr",
     "output_type": "stream",
     "text": [
      "umount: /home/max/Desktop/mntdir: target is busy.\n"
     ]
    },
    {
     "name": "stdout",
     "output_type": "stream",
     "text": [
      "2023-09-24 16:09:59 - hil_control.hw_rev4_dock_undock - INFO - finished run 381. Id_avg = 146.0, Id_max = 299.0, Iud_avg 147.5, Iud_max = 358.0, TR=384.8 MB/s, t = 16.7s\n",
      "2023-09-24 16:10:24 - hil_control.hw_rev4_dock_undock - INFO - finished run 382. Id_avg = 146.3, Id_max = 299.0, Iud_avg 146.8, Iud_max = 375.0, TR=267.5 MB/s, t = 25.0s\n",
      "2023-09-24 16:10:49 - hil_control.hw_rev4_dock_undock - INFO - finished run 383. Id_avg = 148.0, Id_max = 291.0, Iud_avg 144.1, Iud_max = 303.0, TR=347.8 MB/s, t = 25.0s\n",
      "2023-09-24 16:11:14 - hil_control.hw_rev4_dock_undock - INFO - finished run 384. Id_avg = 148.2, Id_max = 288.0, Iud_avg 147.0, Iud_max = 473.0, TR=343.4 MB/s, t = 24.9s\n",
      "2023-09-24 16:11:39 - hil_control.hw_rev4_dock_undock - INFO - finished run 385. Id_avg = 147.5, Id_max = 288.0, Iud_avg 144.5, Iud_max = 361.0, TR=338.7 MB/s, t = 24.7s\n",
      "2023-09-24 16:12:04 - hil_control.hw_rev4_dock_undock - INFO - finished run 386. Id_avg = 151.1, Id_max = 291.0, Iud_avg 145.3, Iud_max = 344.0, TR=338.6 MB/s, t = 25.0s\n",
      "2023-09-24 16:12:29 - hil_control.hw_rev4_dock_undock - INFO - finished run 387. Id_avg = 152.1, Id_max = 757.0, Iud_avg 147.7, Iud_max = 302.0, TR=358.4 MB/s, t = 24.9s\n",
      "2023-09-24 16:12:54 - hil_control.hw_rev4_dock_undock - INFO - finished run 388. Id_avg = 148.2, Id_max = 289.0, Iud_avg 148.4, Iud_max = 450.0, TR=330.1 MB/s, t = 25.0s\n",
      "2023-09-24 16:13:19 - hil_control.hw_rev4_dock_undock - INFO - finished run 389. Id_avg = 147.6, Id_max = 301.0, Iud_avg 147.5, Iud_max = 470.0, TR=345.6 MB/s, t = 25.1s\n",
      "2023-09-24 16:13:44 - hil_control.hw_rev4_dock_undock - INFO - finished run 390. Id_avg = 148.8, Id_max = 301.0, Iud_avg 146.6, Iud_max = 331.0, TR=349.6 MB/s, t = 25.1s\n",
      "2023-09-24 16:14:09 - hil_control.hw_rev4_dock_undock - INFO - finished run 391. Id_avg = 146.4, Id_max = 288.0, Iud_avg 146.5, Iud_max = 307.0, TR=325.9 MB/s, t = 24.8s\n",
      "2023-09-24 16:14:34 - hil_control.hw_rev4_dock_undock - INFO - finished run 392. Id_avg = 147.9, Id_max = 303.0, Iud_avg 146.6, Iud_max = 353.0, TR=325.5 MB/s, t = 25.1s\n",
      "2023-09-24 16:14:59 - hil_control.hw_rev4_dock_undock - INFO - finished run 393. Id_avg = 146.9, Id_max = 299.0, Iud_avg 145.9, Iud_max = 305.0, TR=359.0 MB/s, t = 24.8s\n",
      "2023-09-24 16:15:23 - hil_control.hw_rev4_dock_undock - INFO - finished run 394. Id_avg = 148.6, Id_max = 302.0, Iud_avg 144.7, Iud_max = 320.0, TR=347.2 MB/s, t = 24.5s\n",
      "2023-09-24 16:15:48 - hil_control.hw_rev4_dock_undock - INFO - finished run 395. Id_avg = 152.0, Id_max = 710.0, Iud_avg 148.1, Iud_max = 325.0, TR=324.9 MB/s, t = 24.9s\n",
      "2023-09-24 16:16:13 - hil_control.hw_rev4_dock_undock - INFO - finished run 396. Id_avg = 148.9, Id_max = 288.0, Iud_avg 145.5, Iud_max = 305.0, TR=346.1 MB/s, t = 24.8s\n",
      "2023-09-24 16:16:38 - hil_control.hw_rev4_dock_undock - INFO - finished run 397. Id_avg = 148.6, Id_max = 301.0, Iud_avg 146.5, Iud_max = 379.0, TR=355.9 MB/s, t = 25.1s\n",
      "2023-09-24 16:17:03 - hil_control.hw_rev4_dock_undock - INFO - finished run 398. Id_avg = 147.4, Id_max = 340.0, Iud_avg 150.6, Iud_max = 508.0, TR=328.1 MB/s, t = 24.9s\n",
      "2023-09-24 16:17:28 - hil_control.hw_rev4_dock_undock - INFO - finished run 399. Id_avg = 148.4, Id_max = 305.0, Iud_avg 145.9, Iud_max = 376.0, TR=324.9 MB/s, t = 25.0s\n",
      "2023-09-24 16:17:53 - hil_control.hw_rev4_dock_undock - INFO - finished run 400. Id_avg = 149.3, Id_max = 302.0, Iud_avg 146.8, Iud_max = 316.0, TR=352.9 MB/s, t = 24.9s\n",
      "2023-09-24 16:18:18 - hil_control.hw_rev4_dock_undock - INFO - finished run 401. Id_avg = 142.7, Id_max = 289.0, Iud_avg 149.6, Iud_max = 363.0, TR=332.0 MB/s, t = 25.0s\n",
      "2023-09-24 16:18:42 - hil_control.hw_rev4_dock_undock - INFO - finished run 402. Id_avg = 145.9, Id_max = 299.0, Iud_avg 147.8, Iud_max = 486.0, TR=335.5 MB/s, t = 24.8s\n",
      "2023-09-24 16:19:07 - hil_control.hw_rev4_dock_undock - INFO - finished run 403. Id_avg = 146.8, Id_max = 293.0, Iud_avg 147.6, Iud_max = 450.0, TR=334.4 MB/s, t = 24.9s\n",
      "2023-09-24 16:19:32 - hil_control.hw_rev4_dock_undock - INFO - finished run 404. Id_avg = 146.1, Id_max = 299.0, Iud_avg 144.4, Iud_max = 342.0, TR=337.9 MB/s, t = 25.1s\n",
      "2023-09-24 16:19:57 - hil_control.hw_rev4_dock_undock - INFO - finished run 405. Id_avg = 145.2, Id_max = 289.0, Iud_avg 147.4, Iud_max = 482.0, TR=352.0 MB/s, t = 25.0s\n",
      "2023-09-24 16:20:22 - hil_control.hw_rev4_dock_undock - INFO - finished run 406. Id_avg = 147.2, Id_max = 299.0, Iud_avg 147.8, Iud_max = 382.0, TR=348.1 MB/s, t = 25.0s\n",
      "2023-09-24 16:20:47 - hil_control.hw_rev4_dock_undock - INFO - finished run 407. Id_avg = 146.7, Id_max = 290.0, Iud_avg 148.6, Iud_max = 292.0, TR=326.9 MB/s, t = 24.9s\n",
      "2023-09-24 16:21:12 - hil_control.hw_rev4_dock_undock - INFO - finished run 408. Id_avg = 146.3, Id_max = 290.0, Iud_avg 149.3, Iud_max = 375.0, TR=327.7 MB/s, t = 25.0s\n",
      "2023-09-24 16:21:37 - hil_control.hw_rev4_dock_undock - INFO - finished run 409. Id_avg = 147.3, Id_max = 289.0, Iud_avg 148.3, Iud_max = 505.0, TR=335.1 MB/s, t = 25.1s\n",
      "2023-09-24 16:22:02 - hil_control.hw_rev4_dock_undock - INFO - finished run 410. Id_avg = 145.6, Id_max = 299.0, Iud_avg 147.0, Iud_max = 505.0, TR=356.2 MB/s, t = 25.1s\n",
      "2023-09-24 16:22:27 - hil_control.hw_rev4_dock_undock - INFO - finished run 411. Id_avg = 147.2, Id_max = 337.0, Iud_avg 149.3, Iud_max = 320.0, TR=334.2 MB/s, t = 24.5s\n",
      "2023-09-24 16:22:52 - hil_control.hw_rev4_dock_undock - INFO - finished run 412. Id_avg = 146.9, Id_max = 289.0, Iud_avg 147.0, Iud_max = 438.0, TR=338.8 MB/s, t = 25.0s\n",
      "2023-09-24 16:23:17 - hil_control.hw_rev4_dock_undock - INFO - finished run 413. Id_avg = 147.5, Id_max = 302.0, Iud_avg 146.8, Iud_max = 321.0, TR=346.0 MB/s, t = 24.9s\n",
      "2023-09-24 16:23:42 - hil_control.hw_rev4_dock_undock - INFO - finished run 414. Id_avg = 146.0, Id_max = 303.0, Iud_avg 146.2, Iud_max = 321.0, TR=327.5 MB/s, t = 25.1s\n",
      "2023-09-24 16:24:07 - hil_control.hw_rev4_dock_undock - INFO - finished run 415. Id_avg = 148.0, Id_max = 303.0, Iud_avg 147.6, Iud_max = 438.0, TR=364.0 MB/s, t = 25.0s\n",
      "2023-09-24 16:24:32 - hil_control.hw_rev4_dock_undock - INFO - finished run 416. Id_avg = 145.3, Id_max = 299.0, Iud_avg 145.5, Iud_max = 436.0, TR=368.3 MB/s, t = 24.8s\n",
      "2023-09-24 16:24:57 - hil_control.hw_rev4_dock_undock - INFO - finished run 417. Id_avg = 146.1, Id_max = 288.0, Iud_avg 146.6, Iud_max = 367.0, TR=333.1 MB/s, t = 25.0s\n",
      "2023-09-24 16:25:22 - hil_control.hw_rev4_dock_undock - INFO - finished run 418. Id_avg = 144.9, Id_max = 286.0, Iud_avg 147.1, Iud_max = 450.0, TR=327.8 MB/s, t = 25.0s\n",
      "2023-09-24 16:25:47 - hil_control.hw_rev4_dock_undock - INFO - finished run 419. Id_avg = 146.7, Id_max = 288.0, Iud_avg 150.7, Iud_max = 433.0, TR=371.3 MB/s, t = 24.7s\n",
      "2023-09-24 16:26:11 - hil_control.hw_rev4_dock_undock - INFO - finished run 420. Id_avg = 149.7, Id_max = 289.0, Iud_avg 148.1, Iud_max = 313.0, TR=355.0 MB/s, t = 24.7s\n",
      "2023-09-24 16:26:36 - hil_control.hw_rev4_dock_undock - INFO - finished run 421. Id_avg = 147.9, Id_max = 303.0, Iud_avg 148.0, Iud_max = 337.0, TR=318.7 MB/s, t = 25.0s\n",
      "2023-09-24 16:27:01 - hil_control.hw_rev4_dock_undock - INFO - finished run 422. Id_avg = 147.2, Id_max = 305.0, Iud_avg 145.7, Iud_max = 387.0, TR=341.1 MB/s, t = 25.1s\n",
      "2023-09-24 16:27:26 - hil_control.hw_rev4_dock_undock - INFO - finished run 423. Id_avg = 147.4, Id_max = 300.0, Iud_avg 146.9, Iud_max = 482.0, TR=326.5 MB/s, t = 25.1s\n",
      "2023-09-24 16:27:51 - hil_control.hw_rev4_dock_undock - INFO - finished run 424. Id_avg = 146.4, Id_max = 289.0, Iud_avg 144.9, Iud_max = 303.0, TR=321.2 MB/s, t = 24.8s\n",
      "2023-09-24 16:28:16 - hil_control.hw_rev4_dock_undock - INFO - finished run 425. Id_avg = 149.0, Id_max = 289.0, Iud_avg 146.0, Iud_max = 343.0, TR=328.8 MB/s, t = 25.0s\n",
      "2023-09-24 16:28:41 - hil_control.hw_rev4_dock_undock - INFO - finished run 426. Id_avg = 145.0, Id_max = 301.0, Iud_avg 146.9, Iud_max = 354.0, TR=335.8 MB/s, t = 25.0s\n",
      "2023-09-24 16:29:06 - hil_control.hw_rev4_dock_undock - INFO - finished run 427. Id_avg = 145.3, Id_max = 299.0, Iud_avg 146.3, Iud_max = 292.0, TR=332.4 MB/s, t = 25.0s\n",
      "2023-09-24 16:29:31 - hil_control.hw_rev4_dock_undock - INFO - finished run 428. Id_avg = 147.5, Id_max = 458.0, Iud_avg 145.8, Iud_max = 314.0, TR=369.9 MB/s, t = 24.8s\n",
      "2023-09-24 16:30:02 - hil_control.hw_rev4_dock_undock - INFO - finished run 429. Id_avg = 152.5, Id_max = 839.0, Iud_avg 147.8, Iud_max = 505.0, TR=350.0 MB/s, t = 31.4s\n",
      "2023-09-24 16:30:27 - hil_control.hw_rev4_dock_undock - INFO - finished run 430. Id_avg = 146.7, Id_max = 299.0, Iud_avg 146.7, Iud_max = 351.0, TR=323.7 MB/s, t = 25.1s\n",
      "2023-09-24 16:30:53 - hil_control.hw_rev4_dock_undock - INFO - finished run 431. Id_avg = 150.2, Id_max = 302.0, Iud_avg 146.3, Iud_max = 291.0, TR=340.9 MB/s, t = 25.1s\n",
      "2023-09-24 16:31:17 - hil_control.hw_rev4_dock_undock - INFO - finished run 432. Id_avg = 146.8, Id_max = 301.0, Iud_avg 148.7, Iud_max = 513.0, TR=335.3 MB/s, t = 25.0s\n",
      "2023-09-24 16:31:42 - hil_control.hw_rev4_dock_undock - INFO - finished run 433. Id_avg = 149.3, Id_max = 425.0, Iud_avg 148.1, Iud_max = 439.0, TR=318.9 MB/s, t = 24.9s\n",
      "2023-09-24 16:32:07 - hil_control.hw_rev4_dock_undock - INFO - finished run 434. Id_avg = 146.4, Id_max = 302.0, Iud_avg 148.0, Iud_max = 459.0, TR=341.5 MB/s, t = 25.1s\n",
      "2023-09-24 16:32:32 - hil_control.hw_rev4_dock_undock - INFO - finished run 435. Id_avg = 144.7, Id_max = 298.0, Iud_avg 147.1, Iud_max = 312.0, TR=335.2 MB/s, t = 24.9s\n",
      "2023-09-24 16:32:57 - hil_control.hw_rev4_dock_undock - INFO - finished run 436. Id_avg = 147.2, Id_max = 299.0, Iud_avg 149.7, Iud_max = 477.0, TR=329.2 MB/s, t = 25.1s\n",
      "2023-09-24 16:33:22 - hil_control.hw_rev4_dock_undock - INFO - finished run 437. Id_avg = 149.1, Id_max = 610.0, Iud_avg 147.8, Iud_max = 506.0, TR=339.0 MB/s, t = 25.0s\n",
      "2023-09-24 16:33:47 - hil_control.hw_rev4_dock_undock - INFO - finished run 438. Id_avg = 146.9, Id_max = 282.0, Iud_avg 147.1, Iud_max = 503.0, TR=333.2 MB/s, t = 25.0s\n",
      "2023-09-24 16:34:12 - hil_control.hw_rev4_dock_undock - INFO - finished run 439. Id_avg = 144.7, Id_max = 298.0, Iud_avg 147.5, Iud_max = 465.0, TR=319.8 MB/s, t = 24.9s\n"
     ]
    },
    {
     "name": "stderr",
     "output_type": "stream",
     "text": [
      "umount: /home/max/Desktop/mntdir: target is busy.\n"
     ]
    },
    {
     "name": "stdout",
     "output_type": "stream",
     "text": [
      "2023-09-24 16:34:29 - hil_control.hw_rev4_dock_undock - INFO - finished run 440. Id_avg = 146.0, Id_max = 300.0, Iud_avg 147.9, Iud_max = 494.0, TR=349.9 MB/s, t = 17.0s\n",
      "2023-09-24 16:34:55 - hil_control.hw_rev4_dock_undock - INFO - finished run 441. Id_avg = 145.1, Id_max = 282.0, Iud_avg 148.0, Iud_max = 494.0, TR=344.1 MB/s, t = 26.1s\n",
      "2023-09-24 16:35:20 - hil_control.hw_rev4_dock_undock - INFO - finished run 442. Id_avg = 145.1, Id_max = 293.0, Iud_avg 145.2, Iud_max = 330.0, TR=320.9 MB/s, t = 25.0s\n",
      "2023-09-24 16:35:46 - hil_control.hw_rev4_dock_undock - INFO - finished run 443. Id_avg = 147.5, Id_max = 336.0, Iud_avg 146.9, Iud_max = 283.0, TR=307.3 MB/s, t = 25.2s\n",
      "2023-09-24 16:36:10 - hil_control.hw_rev4_dock_undock - INFO - finished run 444. Id_avg = 146.0, Id_max = 288.0, Iud_avg 147.3, Iud_max = 392.0, TR=331.4 MB/s, t = 24.9s\n",
      "2023-09-24 16:36:35 - hil_control.hw_rev4_dock_undock - INFO - finished run 445. Id_avg = 147.1, Id_max = 281.0, Iud_avg 145.1, Iud_max = 291.0, TR=326.2 MB/s, t = 25.0s\n",
      "2023-09-24 16:37:00 - hil_control.hw_rev4_dock_undock - INFO - finished run 446. Id_avg = 145.8, Id_max = 303.0, Iud_avg 148.7, Iud_max = 328.0, TR=317.7 MB/s, t = 25.0s\n",
      "2023-09-24 16:37:25 - hil_control.hw_rev4_dock_undock - INFO - finished run 447. Id_avg = 146.2, Id_max = 299.0, Iud_avg 148.5, Iud_max = 412.0, TR=328.8 MB/s, t = 24.9s\n"
     ]
    },
    {
     "name": "stderr",
     "output_type": "stream",
     "text": [
      "umount: /home/max/Desktop/mntdir: target is busy.\n"
     ]
    },
    {
     "name": "stdout",
     "output_type": "stream",
     "text": [
      "2023-09-24 16:37:42 - hil_control.hw_rev4_dock_undock - INFO - finished run 448. Id_avg = 147.7, Id_max = 303.0, Iud_avg 148.8, Iud_max = 507.0, TR=345.3 MB/s, t = 17.0s\n",
      "2023-09-24 16:38:09 - hil_control.hw_rev4_dock_undock - INFO - finished run 449. Id_avg = 143.8, Id_max = 292.0, Iud_avg 148.7, Iud_max = 482.0, TR=324.0 MB/s, t = 26.1s\n",
      "2023-09-24 16:38:33 - hil_control.hw_rev4_dock_undock - INFO - finished run 450. Id_avg = 147.0, Id_max = 305.0, Iud_avg 145.9, Iud_max = 316.0, TR=329.2 MB/s, t = 24.8s\n",
      "2023-09-24 16:38:58 - hil_control.hw_rev4_dock_undock - INFO - finished run 451. Id_avg = 146.5, Id_max = 305.0, Iud_avg 148.0, Iud_max = 431.0, TR=339.8 MB/s, t = 25.0s\n",
      "2023-09-24 16:39:23 - hil_control.hw_rev4_dock_undock - INFO - finished run 452. Id_avg = 145.9, Id_max = 305.0, Iud_avg 147.2, Iud_max = 420.0, TR=326.6 MB/s, t = 24.9s\n",
      "2023-09-24 16:39:48 - hil_control.hw_rev4_dock_undock - INFO - finished run 453. Id_avg = 148.6, Id_max = 299.0, Iud_avg 149.5, Iud_max = 440.0, TR=337.8 MB/s, t = 25.0s\n",
      "2023-09-24 16:40:13 - hil_control.hw_rev4_dock_undock - INFO - finished run 454. Id_avg = 146.6, Id_max = 292.0, Iud_avg 147.5, Iud_max = 325.0, TR=347.6 MB/s, t = 24.7s\n",
      "2023-09-24 16:40:38 - hil_control.hw_rev4_dock_undock - INFO - finished run 455. Id_avg = 147.1, Id_max = 292.0, Iud_avg 146.6, Iud_max = 299.0, TR=335.2 MB/s, t = 24.7s\n",
      "2023-09-24 16:41:03 - hil_control.hw_rev4_dock_undock - INFO - finished run 456. Id_avg = 148.4, Id_max = 288.0, Iud_avg 147.2, Iud_max = 373.0, TR=321.8 MB/s, t = 25.0s\n",
      "2023-09-24 16:41:28 - hil_control.hw_rev4_dock_undock - INFO - finished run 457. Id_avg = 144.6, Id_max = 286.0, Iud_avg 145.2, Iud_max = 378.0, TR=313.5 MB/s, t = 25.0s\n",
      "2023-09-24 16:41:53 - hil_control.hw_rev4_dock_undock - INFO - finished run 458. Id_avg = 142.7, Id_max = 287.0, Iud_avg 149.0, Iud_max = 300.0, TR=332.2 MB/s, t = 25.1s\n",
      "2023-09-24 16:42:18 - hil_control.hw_rev4_dock_undock - INFO - finished run 459. Id_avg = 145.9, Id_max = 292.0, Iud_avg 148.5, Iud_max = 508.0, TR=323.0 MB/s, t = 25.1s\n",
      "2023-09-24 16:42:43 - hil_control.hw_rev4_dock_undock - INFO - finished run 460. Id_avg = 142.7, Id_max = 281.0, Iud_avg 146.8, Iud_max = 298.0, TR=324.0 MB/s, t = 25.0s\n",
      "2023-09-24 16:43:08 - hil_control.hw_rev4_dock_undock - INFO - finished run 461. Id_avg = 148.3, Id_max = 302.0, Iud_avg 146.9, Iud_max = 302.0, TR=331.7 MB/s, t = 24.9s\n",
      "2023-09-24 16:43:33 - hil_control.hw_rev4_dock_undock - INFO - finished run 462. Id_avg = 145.3, Id_max = 300.0, Iud_avg 144.8, Iud_max = 294.0, TR=180.3 MB/s, t = 24.8s\n",
      "2023-09-24 16:43:58 - hil_control.hw_rev4_dock_undock - INFO - finished run 463. Id_avg = 146.8, Id_max = 296.0, Iud_avg 145.8, Iud_max = 414.0, TR=311.6 MB/s, t = 25.0s\n",
      "2023-09-24 16:44:23 - hil_control.hw_rev4_dock_undock - INFO - finished run 464. Id_avg = 144.8, Id_max = 300.0, Iud_avg 144.2, Iud_max = 337.0, TR=364.2 MB/s, t = 25.1s\n",
      "2023-09-24 16:44:48 - hil_control.hw_rev4_dock_undock - INFO - finished run 465. Id_avg = 147.9, Id_max = 299.0, Iud_avg 145.8, Iud_max = 292.0, TR=338.2 MB/s, t = 24.9s\n",
      "2023-09-24 16:45:13 - hil_control.hw_rev4_dock_undock - INFO - finished run 466. Id_avg = 148.0, Id_max = 287.0, Iud_avg 146.3, Iud_max = 350.0, TR=333.2 MB/s, t = 25.1s\n",
      "2023-09-24 16:45:37 - hil_control.hw_rev4_dock_undock - INFO - finished run 467. Id_avg = 145.4, Id_max = 304.0, Iud_avg 147.8, Iud_max = 396.0, TR=335.3 MB/s, t = 24.7s\n"
     ]
    },
    {
     "name": "stderr",
     "output_type": "stream",
     "text": [
      "umount: /home/max/Desktop/mntdir: target is busy.\n"
     ]
    },
    {
     "name": "stdout",
     "output_type": "stream",
     "text": [
      "2023-09-24 16:45:55 - hil_control.hw_rev4_dock_undock - INFO - finished run 468. Id_avg = 148.3, Id_max = 548.0, Iud_avg 148.3, Iud_max = 463.0, TR=318.2 MB/s, t = 17.3s\n",
      "2023-09-24 16:46:21 - hil_control.hw_rev4_dock_undock - INFO - finished run 469. Id_avg = 147.7, Id_max = 376.0, Iud_avg 145.5, Iud_max = 343.0, TR=324.0 MB/s, t = 26.0s\n",
      "2023-09-24 16:46:46 - hil_control.hw_rev4_dock_undock - INFO - finished run 470. Id_avg = 149.0, Id_max = 306.0, Iud_avg 146.2, Iud_max = 396.0, TR=323.9 MB/s, t = 24.8s\n",
      "2023-09-24 16:47:11 - hil_control.hw_rev4_dock_undock - INFO - finished run 471. Id_avg = 145.5, Id_max = 293.0, Iud_avg 149.6, Iud_max = 553.0, TR=329.3 MB/s, t = 25.1s\n",
      "2023-09-24 16:47:36 - hil_control.hw_rev4_dock_undock - INFO - finished run 472. Id_avg = 145.0, Id_max = 305.0, Iud_avg 146.7, Iud_max = 331.0, TR=310.5 MB/s, t = 25.1s\n",
      "2023-09-24 16:48:01 - hil_control.hw_rev4_dock_undock - INFO - finished run 473. Id_avg = 147.4, Id_max = 291.0, Iud_avg 147.1, Iud_max = 362.0, TR=316.4 MB/s, t = 25.1s\n",
      "2023-09-24 16:48:26 - hil_control.hw_rev4_dock_undock - INFO - finished run 474. Id_avg = 144.9, Id_max = 306.0, Iud_avg 145.9, Iud_max = 311.0, TR=336.2 MB/s, t = 25.0s\n",
      "2023-09-24 16:48:51 - hil_control.hw_rev4_dock_undock - INFO - finished run 475. Id_avg = 147.9, Id_max = 356.0, Iud_avg 147.6, Iud_max = 388.0, TR=311.2 MB/s, t = 25.0s\n",
      "2023-09-24 16:49:16 - hil_control.hw_rev4_dock_undock - INFO - finished run 476. Id_avg = 145.4, Id_max = 297.0, Iud_avg 146.5, Iud_max = 392.0, TR=332.2 MB/s, t = 24.9s\n",
      "2023-09-24 16:49:40 - hil_control.hw_rev4_dock_undock - INFO - finished run 477. Id_avg = 143.8, Id_max = 289.0, Iud_avg 144.7, Iud_max = 293.0, TR=328.2 MB/s, t = 24.8s\n",
      "2023-09-24 16:50:06 - hil_control.hw_rev4_dock_undock - INFO - finished run 478. Id_avg = 146.2, Id_max = 302.0, Iud_avg 145.7, Iud_max = 298.0, TR=339.2 MB/s, t = 25.1s\n",
      "2023-09-24 16:50:31 - hil_control.hw_rev4_dock_undock - INFO - finished run 479. Id_avg = 147.0, Id_max = 288.0, Iud_avg 147.9, Iud_max = 460.0, TR=341.3 MB/s, t = 25.1s\n",
      "2023-09-24 16:50:56 - hil_control.hw_rev4_dock_undock - INFO - finished run 480. Id_avg = 146.2, Id_max = 286.0, Iud_avg 144.5, Iud_max = 372.0, TR=352.7 MB/s, t = 25.0s\n",
      "2023-09-24 16:51:21 - hil_control.hw_rev4_dock_undock - INFO - finished run 481. Id_avg = 148.8, Id_max = 287.0, Iud_avg 146.3, Iud_max = 295.0, TR=340.6 MB/s, t = 25.0s\n",
      "2023-09-24 16:51:46 - hil_control.hw_rev4_dock_undock - INFO - finished run 482. Id_avg = 147.7, Id_max = 297.0, Iud_avg 151.7, Iud_max = 601.0, TR=341.7 MB/s, t = 24.8s\n",
      "2023-09-24 16:52:10 - hil_control.hw_rev4_dock_undock - INFO - finished run 483. Id_avg = 146.1, Id_max = 289.0, Iud_avg 147.3, Iud_max = 318.0, TR=345.9 MB/s, t = 24.8s\n",
      "2023-09-24 16:52:35 - hil_control.hw_rev4_dock_undock - INFO - finished run 484. Id_avg = 150.3, Id_max = 305.0, Iud_avg 148.0, Iud_max = 468.0, TR=340.6 MB/s, t = 25.0s\n",
      "2023-09-24 16:53:00 - hil_control.hw_rev4_dock_undock - INFO - finished run 485. Id_avg = 144.9, Id_max = 302.0, Iud_avg 145.9, Iud_max = 315.0, TR=331.7 MB/s, t = 25.1s\n",
      "2023-09-24 16:53:26 - hil_control.hw_rev4_dock_undock - INFO - finished run 486. Id_avg = 144.9, Id_max = 288.0, Iud_avg 145.6, Iud_max = 312.0, TR=175.0 MB/s, t = 25.2s\n",
      "2023-09-24 16:53:50 - hil_control.hw_rev4_dock_undock - INFO - finished run 487. Id_avg = 145.8, Id_max = 299.0, Iud_avg 146.4, Iud_max = 409.0, TR=327.4 MB/s, t = 24.9s\n",
      "2023-09-24 16:54:15 - hil_control.hw_rev4_dock_undock - INFO - finished run 488. Id_avg = 146.6, Id_max = 350.0, Iud_avg 145.3, Iud_max = 293.0, TR=356.2 MB/s, t = 24.8s\n",
      "2023-09-24 16:54:40 - hil_control.hw_rev4_dock_undock - INFO - finished run 489. Id_avg = 149.1, Id_max = 488.0, Iud_avg 146.8, Iud_max = 344.0, TR=362.0 MB/s, t = 24.8s\n",
      "2023-09-24 16:55:05 - hil_control.hw_rev4_dock_undock - INFO - finished run 490. Id_avg = 145.0, Id_max = 288.0, Iud_avg 146.8, Iud_max = 482.0, TR=346.6 MB/s, t = 24.5s\n",
      "2023-09-24 16:55:29 - hil_control.hw_rev4_dock_undock - INFO - finished run 491. Id_avg = 145.5, Id_max = 291.0, Iud_avg 148.3, Iud_max = 437.0, TR=340.8 MB/s, t = 24.8s\n",
      "2023-09-24 16:55:55 - hil_control.hw_rev4_dock_undock - INFO - finished run 492. Id_avg = 148.1, Id_max = 325.0, Iud_avg 145.2, Iud_max = 300.0, TR=326.2 MB/s, t = 25.1s\n",
      "2023-09-24 16:56:20 - hil_control.hw_rev4_dock_undock - INFO - finished run 493. Id_avg = 143.0, Id_max = 297.0, Iud_avg 145.1, Iud_max = 374.0, TR=347.7 MB/s, t = 25.1s\n",
      "2023-09-24 16:56:44 - hil_control.hw_rev4_dock_undock - INFO - finished run 494. Id_avg = 145.8, Id_max = 293.0, Iud_avg 150.5, Iud_max = 463.0, TR=360.5 MB/s, t = 24.8s\n",
      "2023-09-24 16:57:09 - hil_control.hw_rev4_dock_undock - INFO - finished run 495. Id_avg = 146.4, Id_max = 280.0, Iud_avg 146.9, Iud_max = 405.0, TR=320.0 MB/s, t = 24.8s\n",
      "2023-09-24 16:57:34 - hil_control.hw_rev4_dock_undock - INFO - finished run 496. Id_avg = 143.0, Id_max = 292.0, Iud_avg 146.5, Iud_max = 361.0, TR=341.7 MB/s, t = 25.0s\n",
      "2023-09-24 16:57:59 - hil_control.hw_rev4_dock_undock - INFO - finished run 497. Id_avg = 144.2, Id_max = 292.0, Iud_avg 146.7, Iud_max = 377.0, TR=344.2 MB/s, t = 24.8s\n",
      "2023-09-24 16:58:24 - hil_control.hw_rev4_dock_undock - INFO - finished run 498. Id_avg = 148.5, Id_max = 282.0, Iud_avg 148.3, Iud_max = 491.0, TR=326.6 MB/s, t = 25.1s\n",
      "2023-09-24 16:58:49 - hil_control.hw_rev4_dock_undock - INFO - finished run 499. Id_avg = 144.1, Id_max = 290.0, Iud_avg 145.6, Iud_max = 352.0, TR=344.2 MB/s, t = 24.9s\n",
      "2023-09-24 16:59:14 - hil_control.hw_rev4_dock_undock - INFO - finished run 500. Id_avg = 142.2, Id_max = 290.0, Iud_avg 145.8, Iud_max = 303.0, TR=336.6 MB/s, t = 25.1s\n",
      "2023-09-24 16:59:39 - hil_control.hw_rev4_dock_undock - INFO - finished run 501. Id_avg = 149.4, Id_max = 300.0, Iud_avg 148.8, Iud_max = 497.0, TR=332.4 MB/s, t = 24.6s\n",
      "2023-09-24 17:00:04 - hil_control.hw_rev4_dock_undock - INFO - finished run 502. Id_avg = 147.8, Id_max = 301.0, Iud_avg 146.3, Iud_max = 455.0, TR=328.6 MB/s, t = 25.0s\n",
      "2023-09-24 17:00:29 - hil_control.hw_rev4_dock_undock - INFO - finished run 503. Id_avg = 147.3, Id_max = 290.0, Iud_avg 145.3, Iud_max = 339.0, TR=340.7 MB/s, t = 25.0s\n",
      "2023-09-24 17:00:53 - hil_control.hw_rev4_dock_undock - INFO - finished run 504. Id_avg = 149.0, Id_max = 441.0, Iud_avg 145.4, Iud_max = 437.0, TR=328.2 MB/s, t = 24.6s\n",
      "2023-09-24 17:01:18 - hil_control.hw_rev4_dock_undock - INFO - finished run 505. Id_avg = 144.6, Id_max = 303.0, Iud_avg 147.5, Iud_max = 381.0, TR=331.3 MB/s, t = 24.9s\n",
      "2023-09-24 17:01:43 - hil_control.hw_rev4_dock_undock - INFO - finished run 506. Id_avg = 145.0, Id_max = 291.0, Iud_avg 149.1, Iud_max = 704.0, TR=335.8 MB/s, t = 25.0s\n",
      "2023-09-24 17:02:08 - hil_control.hw_rev4_dock_undock - INFO - finished run 507. Id_avg = 143.7, Id_max = 281.0, Iud_avg 146.5, Iud_max = 335.0, TR=331.4 MB/s, t = 24.7s\n",
      "2023-09-24 17:02:33 - hil_control.hw_rev4_dock_undock - INFO - finished run 508. Id_avg = 145.7, Id_max = 294.0, Iud_avg 146.1, Iud_max = 300.0, TR=317.6 MB/s, t = 25.0s\n",
      "2023-09-24 17:02:58 - hil_control.hw_rev4_dock_undock - INFO - finished run 509. Id_avg = 147.2, Id_max = 334.0, Iud_avg 145.6, Iud_max = 339.0, TR=370.4 MB/s, t = 25.0s\n",
      "2023-09-24 17:03:23 - hil_control.hw_rev4_dock_undock - INFO - finished run 510. Id_avg = 144.1, Id_max = 290.0, Iud_avg 147.5, Iud_max = 388.0, TR=332.1 MB/s, t = 24.9s\n",
      "2023-09-24 17:03:48 - hil_control.hw_rev4_dock_undock - INFO - finished run 511. Id_avg = 145.6, Id_max = 299.0, Iud_avg 147.2, Iud_max = 452.0, TR=328.6 MB/s, t = 24.8s\n",
      "2023-09-24 17:04:13 - hil_control.hw_rev4_dock_undock - INFO - finished run 512. Id_avg = 143.0, Id_max = 304.0, Iud_avg 146.6, Iud_max = 477.0, TR=325.0 MB/s, t = 25.1s\n",
      "2023-09-24 17:04:38 - hil_control.hw_rev4_dock_undock - INFO - finished run 513. Id_avg = 146.5, Id_max = 283.0, Iud_avg 149.3, Iud_max = 516.0, TR=339.2 MB/s, t = 25.1s\n",
      "2023-09-24 17:05:03 - hil_control.hw_rev4_dock_undock - INFO - finished run 514. Id_avg = 147.3, Id_max = 291.0, Iud_avg 148.4, Iud_max = 469.0, TR=330.8 MB/s, t = 24.8s\n",
      "2023-09-24 17:05:27 - hil_control.hw_rev4_dock_undock - INFO - finished run 515. Id_avg = 147.2, Id_max = 306.0, Iud_avg 147.1, Iud_max = 392.0, TR=325.9 MB/s, t = 24.8s\n",
      "2023-09-24 17:05:52 - hil_control.hw_rev4_dock_undock - INFO - finished run 516. Id_avg = 149.9, Id_max = 288.0, Iud_avg 145.5, Iud_max = 319.0, TR=344.7 MB/s, t = 25.0s\n",
      "2023-09-24 17:06:17 - hil_control.hw_rev4_dock_undock - INFO - finished run 517. Id_avg = 144.4, Id_max = 281.0, Iud_avg 147.3, Iud_max = 303.0, TR=317.0 MB/s, t = 24.6s\n",
      "2023-09-24 17:06:42 - hil_control.hw_rev4_dock_undock - INFO - finished run 518. Id_avg = 143.9, Id_max = 304.0, Iud_avg 147.1, Iud_max = 424.0, TR=327.3 MB/s, t = 24.9s\n",
      "2023-09-24 17:07:07 - hil_control.hw_rev4_dock_undock - INFO - finished run 519. Id_avg = 148.3, Id_max = 316.0, Iud_avg 146.5, Iud_max = 374.0, TR=350.5 MB/s, t = 25.1s\n"
     ]
    },
    {
     "name": "stderr",
     "output_type": "stream",
     "text": [
      "umount: /home/max/Desktop/mntdir: target is busy.\n"
     ]
    },
    {
     "name": "stdout",
     "output_type": "stream",
     "text": [
      "2023-09-24 17:07:24 - hil_control.hw_rev4_dock_undock - INFO - finished run 520. Id_avg = 143.0, Id_max = 289.0, Iud_avg 147.3, Iud_max = 367.0, TR=328.2 MB/s, t = 17.2s\n",
      "2023-09-24 17:07:50 - hil_control.hw_rev4_dock_undock - INFO - finished run 521. Id_avg = 145.9, Id_max = 299.0, Iud_avg 147.8, Iud_max = 317.0, TR=323.2 MB/s, t = 25.9s\n",
      "2023-09-24 17:08:15 - hil_control.hw_rev4_dock_undock - INFO - finished run 522. Id_avg = 147.5, Id_max = 294.0, Iud_avg 145.3, Iud_max = 300.0, TR=322.6 MB/s, t = 24.9s\n",
      "2023-09-24 17:08:40 - hil_control.hw_rev4_dock_undock - INFO - finished run 523. Id_avg = 149.6, Id_max = 288.0, Iud_avg 147.8, Iud_max = 338.0, TR=342.7 MB/s, t = 25.0s\n",
      "2023-09-24 17:09:05 - hil_control.hw_rev4_dock_undock - INFO - finished run 524. Id_avg = 149.5, Id_max = 288.0, Iud_avg 147.9, Iud_max = 485.0, TR=332.9 MB/s, t = 25.0s\n",
      "2023-09-24 17:09:30 - hil_control.hw_rev4_dock_undock - INFO - finished run 525. Id_avg = 145.1, Id_max = 299.0, Iud_avg 150.0, Iud_max = 482.0, TR=329.7 MB/s, t = 24.8s\n",
      "2023-09-24 17:09:55 - hil_control.hw_rev4_dock_undock - INFO - finished run 526. Id_avg = 147.9, Id_max = 293.0, Iud_avg 146.9, Iud_max = 338.0, TR=309.8 MB/s, t = 24.9s\n",
      "2023-09-24 17:10:19 - hil_control.hw_rev4_dock_undock - INFO - finished run 527. Id_avg = 146.9, Id_max = 290.0, Iud_avg 146.1, Iud_max = 364.0, TR=357.7 MB/s, t = 24.8s\n",
      "2023-09-24 17:10:44 - hil_control.hw_rev4_dock_undock - INFO - finished run 528. Id_avg = 145.1, Id_max = 287.0, Iud_avg 145.9, Iud_max = 340.0, TR=331.3 MB/s, t = 25.0s\n",
      "2023-09-24 17:11:09 - hil_control.hw_rev4_dock_undock - INFO - finished run 529. Id_avg = 144.6, Id_max = 289.0, Iud_avg 146.9, Iud_max = 448.0, TR=327.5 MB/s, t = 24.8s\n",
      "2023-09-24 17:11:34 - hil_control.hw_rev4_dock_undock - INFO - finished run 530. Id_avg = 147.6, Id_max = 564.0, Iud_avg 146.8, Iud_max = 358.0, TR=351.2 MB/s, t = 24.9s\n",
      "2023-09-24 17:11:59 - hil_control.hw_rev4_dock_undock - INFO - finished run 531. Id_avg = 146.4, Id_max = 452.0, Iud_avg 148.5, Iud_max = 506.0, TR=342.4 MB/s, t = 25.0s\n",
      "2023-09-24 17:12:24 - hil_control.hw_rev4_dock_undock - INFO - finished run 532. Id_avg = 146.9, Id_max = 292.0, Iud_avg 146.1, Iud_max = 325.0, TR=320.9 MB/s, t = 25.0s\n",
      "2023-09-24 17:12:49 - hil_control.hw_rev4_dock_undock - INFO - finished run 533. Id_avg = 146.1, Id_max = 290.0, Iud_avg 147.2, Iud_max = 380.0, TR=342.5 MB/s, t = 25.1s\n",
      "2023-09-24 17:13:14 - hil_control.hw_rev4_dock_undock - INFO - finished run 534. Id_avg = 148.7, Id_max = 304.0, Iud_avg 148.8, Iud_max = 502.0, TR=326.2 MB/s, t = 25.0s\n",
      "2023-09-24 17:13:39 - hil_control.hw_rev4_dock_undock - INFO - finished run 535. Id_avg = 146.7, Id_max = 304.0, Iud_avg 148.0, Iud_max = 359.0, TR=317.5 MB/s, t = 25.0s\n",
      "2023-09-24 17:14:04 - hil_control.hw_rev4_dock_undock - INFO - finished run 536. Id_avg = 141.7, Id_max = 299.0, Iud_avg 149.0, Iud_max = 492.0, TR=342.5 MB/s, t = 24.7s\n",
      "2023-09-24 17:14:29 - hil_control.hw_rev4_dock_undock - INFO - finished run 537. Id_avg = 142.1, Id_max = 306.0, Iud_avg 148.6, Iud_max = 490.0, TR=332.5 MB/s, t = 25.0s\n",
      "2023-09-24 17:14:54 - hil_control.hw_rev4_dock_undock - INFO - finished run 538. Id_avg = 143.6, Id_max = 286.0, Iud_avg 146.0, Iud_max = 295.0, TR=325.8 MB/s, t = 24.8s\n",
      "2023-09-24 17:15:19 - hil_control.hw_rev4_dock_undock - INFO - finished run 539. Id_avg = 146.1, Id_max = 299.0, Iud_avg 148.3, Iud_max = 392.0, TR=357.2 MB/s, t = 24.9s\n"
     ]
    },
    {
     "name": "stderr",
     "output_type": "stream",
     "text": [
      "umount: /home/max/Desktop/mntdir: target is busy.\n"
     ]
    },
    {
     "name": "stdout",
     "output_type": "stream",
     "text": [
      "2023-09-24 17:15:36 - hil_control.hw_rev4_dock_undock - INFO - finished run 540. Id_avg = 146.1, Id_max = 299.0, Iud_avg 147.4, Iud_max = 409.0, TR=322.0 MB/s, t = 17.0s\n",
      "2023-09-24 17:16:01 - hil_control.hw_rev4_dock_undock - INFO - finished run 541. Id_avg = 145.6, Id_max = 289.0, Iud_avg 147.2, Iud_max = 397.0, TR=347.3 MB/s, t = 25.8s\n",
      "2023-09-24 17:16:26 - hil_control.hw_rev4_dock_undock - INFO - finished run 542. Id_avg = 144.9, Id_max = 289.0, Iud_avg 146.8, Iud_max = 397.0, TR=320.7 MB/s, t = 24.9s\n",
      "2023-09-24 17:16:51 - hil_control.hw_rev4_dock_undock - INFO - finished run 543. Id_avg = 146.4, Id_max = 283.0, Iud_avg 146.6, Iud_max = 369.0, TR=319.9 MB/s, t = 25.0s\n",
      "2023-09-24 17:17:16 - hil_control.hw_rev4_dock_undock - INFO - finished run 544. Id_avg = 146.1, Id_max = 302.0, Iud_avg 146.6, Iud_max = 463.0, TR=328.7 MB/s, t = 25.0s\n"
     ]
    },
    {
     "name": "stderr",
     "output_type": "stream",
     "text": [
      "umount: /home/max/Desktop/mntdir: target is busy.\n"
     ]
    },
    {
     "name": "stdout",
     "output_type": "stream",
     "text": [
      "2023-09-24 17:17:33 - hil_control.hw_rev4_dock_undock - INFO - finished run 545. Id_avg = 146.0, Id_max = 341.0, Iud_avg 146.5, Iud_max = 372.0, TR=356.6 MB/s, t = 16.9s\n",
      "2023-09-24 17:17:59 - hil_control.hw_rev4_dock_undock - INFO - finished run 546. Id_avg = 144.0, Id_max = 292.0, Iud_avg 147.5, Iud_max = 387.0, TR=332.0 MB/s, t = 25.9s\n",
      "2023-09-24 17:18:24 - hil_control.hw_rev4_dock_undock - INFO - finished run 547. Id_avg = 148.4, Id_max = 290.0, Iud_avg 146.0, Iud_max = 317.0, TR=313.5 MB/s, t = 24.9s\n",
      "2023-09-24 17:18:49 - hil_control.hw_rev4_dock_undock - INFO - finished run 548. Id_avg = 147.6, Id_max = 289.0, Iud_avg 146.4, Iud_max = 347.0, TR=344.5 MB/s, t = 24.9s\n",
      "2023-09-24 17:19:14 - hil_control.hw_rev4_dock_undock - INFO - finished run 549. Id_avg = 148.8, Id_max = 618.0, Iud_avg 147.4, Iud_max = 347.0, TR=320.3 MB/s, t = 24.9s\n",
      "2023-09-24 17:19:39 - hil_control.hw_rev4_dock_undock - INFO - finished run 550. Id_avg = 145.6, Id_max = 301.0, Iud_avg 146.3, Iud_max = 323.0, TR=314.3 MB/s, t = 24.7s\n",
      "2023-09-24 17:20:03 - hil_control.hw_rev4_dock_undock - INFO - finished run 551. Id_avg = 148.0, Id_max = 305.0, Iud_avg 147.8, Iud_max = 462.0, TR=309.5 MB/s, t = 24.9s\n",
      "2023-09-24 17:20:28 - hil_control.hw_rev4_dock_undock - INFO - finished run 552. Id_avg = 147.4, Id_max = 304.0, Iud_avg 145.9, Iud_max = 372.0, TR=330.2 MB/s, t = 25.0s\n",
      "2023-09-24 17:20:53 - hil_control.hw_rev4_dock_undock - INFO - finished run 553. Id_avg = 147.5, Id_max = 374.0, Iud_avg 146.6, Iud_max = 291.0, TR=317.8 MB/s, t = 24.9s\n",
      "2023-09-24 17:21:18 - hil_control.hw_rev4_dock_undock - INFO - finished run 554. Id_avg = 143.5, Id_max = 292.0, Iud_avg 148.3, Iud_max = 442.0, TR=323.5 MB/s, t = 24.8s\n",
      "2023-09-24 17:21:43 - hil_control.hw_rev4_dock_undock - INFO - finished run 555. Id_avg = 147.2, Id_max = 306.0, Iud_avg 148.1, Iud_max = 385.0, TR=325.4 MB/s, t = 24.7s\n",
      "2023-09-24 17:22:08 - hil_control.hw_rev4_dock_undock - INFO - finished run 556. Id_avg = 148.7, Id_max = 302.0, Iud_avg 146.6, Iud_max = 448.0, TR=321.6 MB/s, t = 25.0s\n",
      "2023-09-24 17:22:33 - hil_control.hw_rev4_dock_undock - INFO - finished run 557. Id_avg = 147.8, Id_max = 301.0, Iud_avg 144.5, Iud_max = 375.0, TR=318.7 MB/s, t = 25.0s\n",
      "2023-09-24 17:22:58 - hil_control.hw_rev4_dock_undock - INFO - finished run 558. Id_avg = 145.2, Id_max = 289.0, Iud_avg 148.1, Iud_max = 455.0, TR=329.9 MB/s, t = 25.1s\n",
      "2023-09-24 17:23:23 - hil_control.hw_rev4_dock_undock - INFO - finished run 559. Id_avg = 142.6, Id_max = 299.0, Iud_avg 148.4, Iud_max = 393.0, TR=338.7 MB/s, t = 25.0s\n",
      "2023-09-24 17:23:48 - hil_control.hw_rev4_dock_undock - INFO - finished run 560. Id_avg = 147.7, Id_max = 287.0, Iud_avg 149.4, Iud_max = 543.0, TR=319.5 MB/s, t = 24.8s\n",
      "2023-09-24 17:24:13 - hil_control.hw_rev4_dock_undock - INFO - finished run 561. Id_avg = 147.4, Id_max = 288.0, Iud_avg 145.3, Iud_max = 301.0, TR=316.9 MB/s, t = 24.9s\n"
     ]
    },
    {
     "name": "stderr",
     "output_type": "stream",
     "text": [
      "umount: /home/max/Desktop/mntdir: target is busy.\n"
     ]
    },
    {
     "name": "stdout",
     "output_type": "stream",
     "text": [
      "2023-09-24 17:24:30 - hil_control.hw_rev4_dock_undock - INFO - finished run 562. Id_avg = 146.5, Id_max = 300.0, Iud_avg 147.8, Iud_max = 315.0, TR=325.7 MB/s, t = 17.2s\n",
      "2023-09-24 17:24:56 - hil_control.hw_rev4_dock_undock - INFO - finished run 563. Id_avg = 145.7, Id_max = 305.0, Iud_avg 149.2, Iud_max = 508.0, TR=322.4 MB/s, t = 26.0s\n",
      "2023-09-24 17:25:21 - hil_control.hw_rev4_dock_undock - INFO - finished run 564. Id_avg = 146.4, Id_max = 288.0, Iud_avg 145.9, Iud_max = 304.0, TR=313.6 MB/s, t = 25.0s\n",
      "2023-09-24 17:25:46 - hil_control.hw_rev4_dock_undock - INFO - finished run 565. Id_avg = 149.2, Id_max = 675.0, Iud_avg 146.5, Iud_max = 358.0, TR=332.3 MB/s, t = 25.1s\n",
      "2023-09-24 17:26:11 - hil_control.hw_rev4_dock_undock - INFO - finished run 566. Id_avg = 148.5, Id_max = 306.0, Iud_avg 147.7, Iud_max = 453.0, TR=323.3 MB/s, t = 25.1s\n",
      "2023-09-24 17:26:36 - hil_control.hw_rev4_dock_undock - INFO - finished run 567. Id_avg = 145.7, Id_max = 290.0, Iud_avg 147.0, Iud_max = 311.0, TR=313.6 MB/s, t = 25.0s\n",
      "2023-09-24 17:27:01 - hil_control.hw_rev4_dock_undock - INFO - finished run 568. Id_avg = 146.4, Id_max = 421.0, Iud_avg 148.5, Iud_max = 386.0, TR=331.5 MB/s, t = 24.7s\n",
      "2023-09-24 17:27:26 - hil_control.hw_rev4_dock_undock - INFO - finished run 569. Id_avg = 148.0, Id_max = 292.0, Iud_avg 146.1, Iud_max = 441.0, TR=327.5 MB/s, t = 25.0s\n",
      "2023-09-24 17:27:51 - hil_control.hw_rev4_dock_undock - INFO - finished run 570. Id_avg = 149.1, Id_max = 287.0, Iud_avg 147.5, Iud_max = 319.0, TR=306.4 MB/s, t = 25.0s\n",
      "2023-09-24 17:28:16 - hil_control.hw_rev4_dock_undock - INFO - finished run 571. Id_avg = 147.7, Id_max = 292.0, Iud_avg 146.1, Iud_max = 287.0, TR=311.3 MB/s, t = 25.1s\n",
      "2023-09-24 17:28:41 - hil_control.hw_rev4_dock_undock - INFO - finished run 572. Id_avg = 143.3, Id_max = 290.0, Iud_avg 148.8, Iud_max = 466.0, TR=336.2 MB/s, t = 24.9s\n"
     ]
    },
    {
     "name": "stderr",
     "output_type": "stream",
     "text": [
      "umount: /home/max/Desktop/mntdir: target is busy.\n"
     ]
    },
    {
     "name": "stdout",
     "output_type": "stream",
     "text": [
      "2023-09-24 17:28:58 - hil_control.hw_rev4_dock_undock - INFO - finished run 573. Id_avg = 145.7, Id_max = 289.0, Iud_avg 147.0, Iud_max = 336.0, TR=313.9 MB/s, t = 17.3s\n",
      "2023-09-24 17:29:24 - hil_control.hw_rev4_dock_undock - INFO - finished run 574. Id_avg = 151.8, Id_max = 730.0, Iud_avg 146.0, Iud_max = 393.0, TR=314.3 MB/s, t = 25.9s\n",
      "2023-09-24 17:29:49 - hil_control.hw_rev4_dock_undock - INFO - finished run 575. Id_avg = 145.9, Id_max = 287.0, Iud_avg 149.1, Iud_max = 438.0, TR=325.8 MB/s, t = 24.7s\n",
      "2023-09-24 17:30:14 - hil_control.hw_rev4_dock_undock - INFO - finished run 576. Id_avg = 146.6, Id_max = 289.0, Iud_avg 145.6, Iud_max = 342.0, TR=331.6 MB/s, t = 25.0s\n",
      "2023-09-24 17:30:38 - hil_control.hw_rev4_dock_undock - INFO - finished run 577. Id_avg = 144.3, Id_max = 303.0, Iud_avg 150.5, Iud_max = 496.0, TR=299.9 MB/s, t = 24.8s\n",
      "2023-09-24 17:31:03 - hil_control.hw_rev4_dock_undock - INFO - finished run 578. Id_avg = 145.9, Id_max = 291.0, Iud_avg 150.0, Iud_max = 492.0, TR=308.3 MB/s, t = 25.0s\n",
      "2023-09-24 17:31:29 - hil_control.hw_rev4_dock_undock - INFO - finished run 579. Id_avg = 147.0, Id_max = 299.0, Iud_avg 146.3, Iud_max = 333.0, TR=318.5 MB/s, t = 25.1s\n",
      "2023-09-24 17:31:54 - hil_control.hw_rev4_dock_undock - INFO - finished run 580. Id_avg = 150.2, Id_max = 456.0, Iud_avg 147.6, Iud_max = 496.0, TR=316.7 MB/s, t = 25.0s\n",
      "2023-09-24 17:32:18 - hil_control.hw_rev4_dock_undock - INFO - finished run 581. Id_avg = 149.1, Id_max = 290.0, Iud_avg 148.6, Iud_max = 440.0, TR=304.3 MB/s, t = 24.4s\n",
      "2023-09-24 17:32:43 - hil_control.hw_rev4_dock_undock - INFO - finished run 582. Id_avg = 143.2, Id_max = 293.0, Iud_avg 148.1, Iud_max = 403.0, TR=308.6 MB/s, t = 24.7s\n",
      "2023-09-24 17:33:08 - hil_control.hw_rev4_dock_undock - INFO - finished run 583. Id_avg = 146.3, Id_max = 292.0, Iud_avg 145.9, Iud_max = 306.0, TR=316.5 MB/s, t = 24.9s\n",
      "2023-09-24 17:33:33 - hil_control.hw_rev4_dock_undock - INFO - finished run 584. Id_avg = 146.2, Id_max = 293.0, Iud_avg 145.5, Iud_max = 319.0, TR=302.5 MB/s, t = 25.1s\n",
      "2023-09-24 17:33:58 - hil_control.hw_rev4_dock_undock - INFO - finished run 585. Id_avg = 148.3, Id_max = 517.0, Iud_avg 146.4, Iud_max = 355.0, TR=320.4 MB/s, t = 25.1s\n",
      "2023-09-24 17:34:23 - hil_control.hw_rev4_dock_undock - INFO - finished run 586. Id_avg = 145.6, Id_max = 279.0, Iud_avg 146.1, Iud_max = 341.0, TR=334.6 MB/s, t = 25.1s\n",
      "2023-09-24 17:34:48 - hil_control.hw_rev4_dock_undock - INFO - finished run 587. Id_avg = 145.5, Id_max = 292.0, Iud_avg 148.0, Iud_max = 396.0, TR=309.2 MB/s, t = 25.1s\n",
      "2023-09-24 17:35:13 - hil_control.hw_rev4_dock_undock - INFO - finished run 588. Id_avg = 145.4, Id_max = 299.0, Iud_avg 149.8, Iud_max = 476.0, TR=329.8 MB/s, t = 25.0s\n",
      "2023-09-24 17:35:38 - hil_control.hw_rev4_dock_undock - INFO - finished run 589. Id_avg = 145.0, Id_max = 289.0, Iud_avg 146.5, Iud_max = 498.0, TR=318.0 MB/s, t = 24.7s\n",
      "2023-09-24 17:36:02 - hil_control.hw_rev4_dock_undock - INFO - finished run 590. Id_avg = 149.1, Id_max = 304.0, Iud_avg 147.1, Iud_max = 318.0, TR=309.0 MB/s, t = 24.8s\n",
      "2023-09-24 17:36:27 - hil_control.hw_rev4_dock_undock - INFO - finished run 591. Id_avg = 144.2, Id_max = 298.0, Iud_avg 147.7, Iud_max = 449.0, TR=300.4 MB/s, t = 25.1s\n",
      "2023-09-24 17:36:52 - hil_control.hw_rev4_dock_undock - INFO - finished run 592. Id_avg = 147.1, Id_max = 314.0, Iud_avg 151.0, Iud_max = 419.0, TR=325.5 MB/s, t = 25.0s\n",
      "2023-09-24 17:37:17 - hil_control.hw_rev4_dock_undock - INFO - finished run 593. Id_avg = 148.8, Id_max = 306.0, Iud_avg 150.6, Iud_max = 452.0, TR=269.4 MB/s, t = 24.8s\n",
      "2023-09-24 17:37:42 - hil_control.hw_rev4_dock_undock - INFO - finished run 594. Id_avg = 147.3, Id_max = 293.0, Iud_avg 146.4, Iud_max = 321.0, TR=267.6 MB/s, t = 24.7s\n"
     ]
    },
    {
     "name": "stderr",
     "output_type": "stream",
     "text": [
      "umount: /home/max/Desktop/mntdir: target is busy.\n"
     ]
    },
    {
     "name": "stdout",
     "output_type": "stream",
     "text": [
      "2023-09-24 17:37:59 - hil_control.hw_rev4_dock_undock - INFO - finished run 595. Id_avg = 147.9, Id_max = 318.0, Iud_avg 148.3, Iud_max = 383.0, TR=314.0 MB/s, t = 17.3s\n",
      "2023-09-24 17:38:25 - hil_control.hw_rev4_dock_undock - INFO - finished run 596. Id_avg = 144.6, Id_max = 294.0, Iud_avg 148.2, Iud_max = 458.0, TR=300.1 MB/s, t = 25.6s\n",
      "2023-09-24 17:38:50 - hil_control.hw_rev4_dock_undock - INFO - finished run 597. Id_avg = 147.3, Id_max = 291.0, Iud_avg 147.7, Iud_max = 363.0, TR=287.3 MB/s, t = 24.6s\n",
      "2023-09-24 17:39:14 - hil_control.hw_rev4_dock_undock - INFO - finished run 598. Id_avg = 151.4, Id_max = 622.0, Iud_avg 145.3, Iud_max = 314.0, TR=292.7 MB/s, t = 24.6s\n",
      "2023-09-24 17:39:39 - hil_control.hw_rev4_dock_undock - INFO - finished run 599. Id_avg = 147.8, Id_max = 291.0, Iud_avg 147.9, Iud_max = 414.0, TR=285.0 MB/s, t = 24.8s\n",
      "2023-09-24 17:40:04 - hil_control.hw_rev4_dock_undock - INFO - finished run 600. Id_avg = 147.8, Id_max = 306.0, Iud_avg 149.8, Iud_max = 502.0, TR=305.9 MB/s, t = 24.8s\n",
      "2023-09-24 17:40:28 - hil_control.hw_rev4_dock_undock - INFO - finished run 601. Id_avg = 145.0, Id_max = 292.0, Iud_avg 146.3, Iud_max = 383.0, TR=299.2 MB/s, t = 24.7s\n",
      "2023-09-24 17:40:53 - hil_control.hw_rev4_dock_undock - INFO - finished run 602. Id_avg = 145.5, Id_max = 291.0, Iud_avg 146.4, Iud_max = 306.0, TR=288.5 MB/s, t = 24.6s\n",
      "2023-09-24 17:41:18 - hil_control.hw_rev4_dock_undock - INFO - finished run 603. Id_avg = 147.6, Id_max = 294.0, Iud_avg 147.0, Iud_max = 385.0, TR=273.1 MB/s, t = 24.8s\n",
      "2023-09-24 17:41:43 - hil_control.hw_rev4_dock_undock - INFO - finished run 604. Id_avg = 148.6, Id_max = 289.0, Iud_avg 148.2, Iud_max = 324.0, TR=278.7 MB/s, t = 24.8s\n",
      "2023-09-24 17:42:07 - hil_control.hw_rev4_dock_undock - INFO - finished run 605. Id_avg = 147.1, Id_max = 290.0, Iud_avg 148.1, Iud_max = 506.0, TR=291.9 MB/s, t = 24.8s\n",
      "2023-09-24 17:42:32 - hil_control.hw_rev4_dock_undock - INFO - finished run 606. Id_avg = 148.7, Id_max = 292.0, Iud_avg 147.8, Iud_max = 322.0, TR=276.5 MB/s, t = 25.0s\n",
      "2023-09-24 17:42:57 - hil_control.hw_rev4_dock_undock - INFO - finished run 607. Id_avg = 148.3, Id_max = 287.0, Iud_avg 148.6, Iud_max = 460.0, TR=282.0 MB/s, t = 24.8s\n"
     ]
    },
    {
     "name": "stderr",
     "output_type": "stream",
     "text": [
      "umount: /home/max/Desktop/mntdir: target is busy.\n"
     ]
    },
    {
     "name": "stdout",
     "output_type": "stream",
     "text": [
      "2023-09-24 17:43:21 - hil_control.hw_rev4_dock_undock - INFO - finished run 608. Id_avg = 145.3, Id_max = 294.0, Iud_avg 148.9, Iud_max = 503.0, TR=101.4 MB/s, t = 24.2s\n",
      "2023-09-24 17:43:47 - hil_control.hw_rev4_dock_undock - INFO - finished run 609. Id_avg = 145.5, Id_max = 289.0, Iud_avg 147.7, Iud_max = 440.0, TR=212.4 MB/s, t = 25.9s\n",
      "2023-09-24 17:44:11 - hil_control.hw_rev4_dock_undock - INFO - finished run 610. Id_avg = 144.1, Id_max = 306.0, Iud_avg 145.0, Iud_max = 331.0, TR=389.9 MB/s, t = 23.7s\n",
      "2023-09-24 17:44:42 - hil_control.hw_rev4_dock_undock - INFO - finished run 611. Id_avg = 143.4, Id_max = 280.0, Iud_avg 148.7, Iud_max = 387.0, TR=299.6 MB/s, t = 31.4s\n",
      "2023-09-24 17:45:07 - hil_control.hw_rev4_dock_undock - INFO - finished run 612. Id_avg = 148.1, Id_max = 304.0, Iud_avg 146.7, Iud_max = 426.0, TR=318.0 MB/s, t = 25.0s\n"
     ]
    },
    {
     "name": "stderr",
     "output_type": "stream",
     "text": [
      "umount: /home/max/Desktop/mntdir: target is busy.\n"
     ]
    },
    {
     "name": "stdout",
     "output_type": "stream",
     "text": [
      "2023-09-24 17:45:25 - hil_control.hw_rev4_dock_undock - INFO - finished run 613. Id_avg = 147.3, Id_max = 370.0, Iud_avg 146.3, Iud_max = 342.0, TR=298.7 MB/s, t = 17.5s\n",
      "2023-09-24 17:45:49 - hil_control.hw_rev4_dock_undock - INFO - finished run 614. Id_avg = 147.7, Id_max = 306.0, Iud_avg 148.7, Iud_max = 332.0, TR=306.4 MB/s, t = 24.8s\n"
     ]
    },
    {
     "name": "stderr",
     "output_type": "stream",
     "text": [
      "umount: /home/max/Desktop/mntdir: target is busy.\n"
     ]
    },
    {
     "name": "stdout",
     "output_type": "stream",
     "text": [
      "2023-09-24 17:46:07 - hil_control.hw_rev4_dock_undock - INFO - finished run 615. Id_avg = 144.4, Id_max = 302.0, Iud_avg 146.0, Iud_max = 343.0, TR=300.4 MB/s, t = 17.4s\n"
     ]
    },
    {
     "name": "stderr",
     "output_type": "stream",
     "text": [
      "umount: /home/max/Desktop/mntdir: target is busy.\n"
     ]
    },
    {
     "name": "stdout",
     "output_type": "stream",
     "text": [
      "2023-09-24 17:46:25 - hil_control.hw_rev4_dock_undock - INFO - finished run 616. Id_avg = 146.6, Id_max = 304.0, Iud_avg 146.6, Iud_max = 385.0, TR=312.8 MB/s, t = 18.3s\n",
      "2023-09-24 17:46:48 - hil_control.hw_rev4_dock_undock - INFO - finished run 617. Id_avg = 146.2, Id_max = 289.0, Iud_avg 146.5, Iud_max = 399.0, TR=341.7 MB/s, t = 22.7s\n",
      "2023-09-24 17:47:13 - hil_control.hw_rev4_dock_undock - INFO - finished run 618. Id_avg = 148.6, Id_max = 378.0, Iud_avg 148.9, Iud_max = 483.0, TR=253.5 MB/s, t = 24.8s\n"
     ]
    },
    {
     "name": "stderr",
     "output_type": "stream",
     "text": [
      "umount: /home/max/Desktop/mntdir: target is busy.\n"
     ]
    },
    {
     "name": "stdout",
     "output_type": "stream",
     "text": [
      "2023-09-24 17:47:30 - hil_control.hw_rev4_dock_undock - INFO - finished run 619. Id_avg = 147.0, Id_max = 303.0, Iud_avg 145.3, Iud_max = 289.0, TR=353.7 MB/s, t = 16.9s\n",
      "2023-09-24 17:47:52 - hil_control.hw_rev4_dock_undock - INFO - finished run 620. Id_avg = 150.4, Id_max = 290.0, Iud_avg 147.9, Iud_max = 474.0, TR=356.4 MB/s, t = 22.8s\n"
     ]
    },
    {
     "name": "stderr",
     "output_type": "stream",
     "text": [
      "umount: /home/max/Desktop/mntdir: target is busy.\n"
     ]
    },
    {
     "name": "stdout",
     "output_type": "stream",
     "text": [
      "2023-09-24 17:48:11 - hil_control.hw_rev4_dock_undock - INFO - finished run 621. Id_avg = 147.1, Id_max = 305.0, Iud_avg 153.8, Iud_max = 635.0, TR=228.1 MB/s, t = 18.5s\n",
      "2023-09-24 17:48:35 - hil_control.hw_rev4_dock_undock - INFO - finished run 622. Id_avg = 146.3, Id_max = 387.0, Iud_avg 146.8, Iud_max = 375.0, TR=198.9 MB/s, t = 23.7s\n",
      "2023-09-24 17:49:00 - hil_control.hw_rev4_dock_undock - INFO - finished run 623. Id_avg = 144.5, Id_max = 303.0, Iud_avg 147.3, Iud_max = 400.0, TR=271.8 MB/s, t = 25.0s\n",
      "2023-09-24 17:49:24 - hil_control.hw_rev4_dock_undock - INFO - finished run 624. Id_avg = 144.7, Id_max = 286.0, Iud_avg 148.1, Iud_max = 441.0, TR=359.1 MB/s, t = 23.8s\n"
     ]
    },
    {
     "name": "stderr",
     "output_type": "stream",
     "text": [
      "umount: /home/max/Desktop/mntdir: target is busy.\n"
     ]
    },
    {
     "name": "stdout",
     "output_type": "stream",
     "text": [
      "2023-09-24 17:49:40 - hil_control.hw_rev4_dock_undock - INFO - finished run 625. Id_avg = 147.5, Id_max = 298.0, Iud_avg 147.3, Iud_max = 468.0, TR=332.8 MB/s, t = 16.9s\n",
      "2023-09-24 17:50:07 - hil_control.hw_rev4_dock_undock - INFO - finished run 626. Id_avg = 144.9, Id_max = 293.0, Iud_avg 145.7, Iud_max = 391.0, TR=102.9 MB/s, t = 26.6s\n",
      "2023-09-24 17:50:32 - hil_control.hw_rev4_dock_undock - INFO - finished run 627. Id_avg = 147.4, Id_max = 305.0, Iud_avg 144.5, Iud_max = 368.0, TR=275.1 MB/s, t = 24.9s\n",
      "2023-09-24 17:50:56 - hil_control.hw_rev4_dock_undock - INFO - finished run 628. Id_avg = 147.0, Id_max = 288.0, Iud_avg 148.8, Iud_max = 402.0, TR=243.6 MB/s, t = 24.5s\n"
     ]
    },
    {
     "name": "stderr",
     "output_type": "stream",
     "text": [
      "umount: /home/max/Desktop/mntdir: target is busy.\n"
     ]
    },
    {
     "name": "stdout",
     "output_type": "stream",
     "text": [
      "2023-09-24 17:51:15 - hil_control.hw_rev4_dock_undock - INFO - finished run 629. Id_avg = 146.0, Id_max = 300.0, Iud_avg 147.4, Iud_max = 334.0, TR=225.0 MB/s, t = 18.6s\n",
      "2023-09-24 17:51:40 - hil_control.hw_rev4_dock_undock - INFO - finished run 630. Id_avg = 150.2, Id_max = 352.0, Iud_avg 146.6, Iud_max = 432.0, TR=257.2 MB/s, t = 24.8s\n"
     ]
    },
    {
     "name": "stderr",
     "output_type": "stream",
     "text": [
      "umount: /home/max/Desktop/mntdir: target is busy.\n"
     ]
    },
    {
     "name": "stdout",
     "output_type": "stream",
     "text": [
      "2023-09-24 17:51:58 - hil_control.hw_rev4_dock_undock - INFO - finished run 631. Id_avg = 147.7, Id_max = 294.0, Iud_avg 146.8, Iud_max = 312.0, TR=230.3 MB/s, t = 18.3s\n"
     ]
    },
    {
     "name": "stderr",
     "output_type": "stream",
     "text": [
      "umount: /home/max/Desktop/mntdir: target is busy.\n"
     ]
    },
    {
     "name": "stdout",
     "output_type": "stream",
     "text": [
      "2023-09-24 17:52:18 - hil_control.hw_rev4_dock_undock - INFO - finished run 632. Id_avg = 144.2, Id_max = 297.0, Iud_avg 146.1, Iud_max = 302.0, TR=187.5 MB/s, t = 19.5s\n"
     ]
    },
    {
     "name": "stderr",
     "output_type": "stream",
     "text": [
      "umount: /home/max/Desktop/mntdir: target is busy.\n"
     ]
    },
    {
     "name": "stdout",
     "output_type": "stream",
     "text": [
      "2023-09-24 17:52:48 - hil_control.hw_rev4_dock_undock - INFO - finished run 633. Id_avg = 143.3, Id_max = 291.0, Iud_avg 147.0, Iud_max = 335.0, TR=64.8 MB/s, t = 30.7s\n"
     ]
    },
    {
     "name": "stderr",
     "output_type": "stream",
     "text": [
      "umount: /home/max/Desktop/mntdir: target is busy.\n"
     ]
    },
    {
     "name": "stdout",
     "output_type": "stream",
     "text": [
      "2023-09-24 17:53:26 - hil_control.hw_rev4_dock_undock - INFO - finished run 634. Id_avg = 148.2, Id_max = 302.0, Iud_avg 147.2, Iud_max = 311.0, TR=42.1 MB/s, t = 38.2s\n",
      "2023-09-24 17:54:08 - hil_control.hw_rev4_dock_undock - INFO - finished run 635. Id_avg = 147.6, Id_max = 303.0, Iud_avg 151.2, Iud_max = 367.0, TR=39.0 MB/s, t = 41.3s\n"
     ]
    },
    {
     "name": "stderr",
     "output_type": "stream",
     "text": [
      "umount: /home/max/Desktop/mntdir: target is busy.\n"
     ]
    },
    {
     "name": "stdout",
     "output_type": "stream",
     "text": [
      "2023-09-24 17:54:28 - hil_control.hw_rev4_dock_undock - INFO - finished run 636. Id_avg = 149.9, Id_max = 331.0, Iud_avg 149.6, Iud_max = 465.0, TR=172.9 MB/s, t = 19.8s\n"
     ]
    },
    {
     "name": "stderr",
     "output_type": "stream",
     "text": [
      "umount: /home/max/Desktop/mntdir: target is busy.\n"
     ]
    },
    {
     "name": "stdout",
     "output_type": "stream",
     "text": [
      "2023-09-24 17:54:54 - hil_control.hw_rev4_dock_undock - INFO - finished run 637. Id_avg = 146.2, Id_max = 304.0, Iud_avg 144.1, Iud_max = 340.0, TR=82.1 MB/s, t = 26.4s\n",
      "2023-09-24 17:55:32 - hil_control.hw_rev4_dock_undock - INFO - finished run 638. Id_avg = 147.6, Id_max = 370.0, Iud_avg 146.2, Iud_max = 490.0, TR=45.5 MB/s, t = 37.8s\n"
     ]
    },
    {
     "name": "stderr",
     "output_type": "stream",
     "text": [
      "umount: /home/max/Desktop/mntdir: target is busy.\n"
     ]
    },
    {
     "name": "stdout",
     "output_type": "stream",
     "text": [
      "2023-09-24 17:55:53 - hil_control.hw_rev4_dock_undock - INFO - finished run 639. Id_avg = 150.0, Id_max = 299.0, Iud_avg 148.9, Iud_max = 506.0, TR=133.3 MB/s, t = 21.7s\n",
      "2023-09-24 17:56:19 - hil_control.hw_rev4_dock_undock - INFO - finished run 640. Id_avg = 148.1, Id_max = 425.0, Iud_avg 149.4, Iud_max = 450.0, TR=445.4 MB/s, t = 25.1s\n",
      "2023-09-24 17:56:43 - hil_control.hw_rev4_dock_undock - INFO - finished run 641. Id_avg = 148.2, Id_max = 296.0, Iud_avg 147.9, Iud_max = 504.0, TR=200.7 MB/s, t = 24.8s\n"
     ]
    },
    {
     "name": "stderr",
     "output_type": "stream",
     "text": [
      "umount: /home/max/Desktop/mntdir: target is busy.\n"
     ]
    },
    {
     "name": "stdout",
     "output_type": "stream",
     "text": [
      "2023-09-24 17:57:04 - hil_control.hw_rev4_dock_undock - INFO - finished run 642. Id_avg = 149.0, Id_max = 285.0, Iud_avg 149.0, Iud_max = 478.0, TR=156.5 MB/s, t = 20.6s\n"
     ]
    },
    {
     "name": "stderr",
     "output_type": "stream",
     "text": [
      "umount: /home/max/Desktop/mntdir: target is busy.\n"
     ]
    },
    {
     "name": "stdout",
     "output_type": "stream",
     "text": [
      "2023-09-24 17:57:29 - hil_control.hw_rev4_dock_undock - INFO - finished run 643. Id_avg = 146.2, Id_max = 292.0, Iud_avg 145.7, Iud_max = 300.0, TR=92.6 MB/s, t = 25.0s\n"
     ]
    },
    {
     "name": "stderr",
     "output_type": "stream",
     "text": [
      "umount: /home/max/Desktop/mntdir: target is busy.\n"
     ]
    },
    {
     "name": "stdout",
     "output_type": "stream",
     "text": [
      "2023-09-24 17:58:04 - hil_control.hw_rev4_dock_undock - INFO - finished run 644. Id_avg = 146.8, Id_max = 278.0, Iud_avg 144.6, Iud_max = 299.0, TR=49.2 MB/s, t = 35.5s\n"
     ]
    },
    {
     "name": "stderr",
     "output_type": "stream",
     "text": [
      "umount: /home/max/Desktop/mntdir: target is busy.\n"
     ]
    },
    {
     "name": "stdout",
     "output_type": "stream",
     "text": [
      "2023-09-24 17:58:48 - hil_control.hw_rev4_dock_undock - INFO - finished run 645. Id_avg = 148.6, Id_max = 288.0, Iud_avg 145.2, Iud_max = 305.0, TR=34.0 MB/s, t = 43.9s\n",
      "2023-09-24 17:59:44 - hil_control.hw_rev4_dock_undock - INFO - finished run 646. Id_avg = 147.9, Id_max = 300.0, Iud_avg 145.4, Iud_max = 305.0, TR=25.4 MB/s, t = 55.2s\n"
     ]
    },
    {
     "name": "stderr",
     "output_type": "stream",
     "text": [
      "umount: /home/max/Desktop/mntdir: target is busy.\n"
     ]
    },
    {
     "name": "stdout",
     "output_type": "stream",
     "text": [
      "2023-09-24 18:00:38 - hil_control.hw_rev4_dock_undock - INFO - finished run 647. Id_avg = 147.7, Id_max = 302.0, Iud_avg 146.2, Iud_max = 338.0, TR=25.7 MB/s, t = 54.0s\n",
      "2023-09-24 18:01:31 - hil_control.hw_rev4_dock_undock - INFO - finished run 648. Id_avg = 147.2, Id_max = 294.0, Iud_avg 144.2, Iud_max = 290.0, TR=26.4 MB/s, t = 53.3s\n"
     ]
    },
    {
     "name": "stderr",
     "output_type": "stream",
     "text": [
      "umount: /home/max/Desktop/mntdir: target is busy.\n"
     ]
    },
    {
     "name": "stdout",
     "output_type": "stream",
     "text": [
      "2023-09-24 18:02:58 - hil_control.hw_rev4_dock_undock - INFO - finished run 649. Id_avg = 146.7, Id_max = 288.0, Iud_avg 149.2, Iud_max = 572.0, TR=14.0 MB/s, t = 87.0s\n",
      "2023-09-24 18:04:06 - hil_control.hw_rev4_dock_undock - INFO - finished run 650. Id_avg = 145.6, Id_max = 290.0, Iud_avg 146.1, Iud_max = 326.0, TR=19.7 MB/s, t = 68.6s\n",
      "2023-09-24 18:05:15 - hil_control.hw_rev4_dock_undock - INFO - finished run 651. Id_avg = 145.9, Id_max = 287.0, Iud_avg 146.9, Iud_max = 460.0, TR=19.2 MB/s, t = 68.5s\n",
      "2023-09-24 18:06:23 - hil_control.hw_rev4_dock_undock - INFO - finished run 652. Id_avg = 146.9, Id_max = 288.0, Iud_avg 149.0, Iud_max = 435.0, TR=19.1 MB/s, t = 68.1s\n"
     ]
    },
    {
     "name": "stderr",
     "output_type": "stream",
     "text": [
      "umount: /home/max/Desktop/mntdir: target is busy.\n"
     ]
    },
    {
     "name": "stdout",
     "output_type": "stream",
     "text": [
      "2023-09-24 18:07:33 - hil_control.hw_rev4_dock_undock - INFO - finished run 653. Id_avg = 145.8, Id_max = 290.0, Iud_avg 145.1, Iud_max = 425.0, TR=18.2 MB/s, t = 70.2s\n",
      "2023-09-24 18:08:40 - hil_control.hw_rev4_dock_undock - INFO - finished run 654. Id_avg = 145.7, Id_max = 290.0, Iud_avg 147.9, Iud_max = 435.0, TR=19.4 MB/s, t = 67.0s\n"
     ]
    },
    {
     "name": "stderr",
     "output_type": "stream",
     "text": [
      "umount: /home/max/Desktop/mntdir: target is busy.\n"
     ]
    },
    {
     "name": "stdout",
     "output_type": "stream",
     "text": [
      "2023-09-24 18:09:51 - hil_control.hw_rev4_dock_undock - INFO - finished run 655. Id_avg = 147.4, Id_max = 299.0, Iud_avg 145.9, Iud_max = 297.0, TR=18.1 MB/s, t = 70.7s\n"
     ]
    },
    {
     "name": "stderr",
     "output_type": "stream",
     "text": [
      "umount: /home/max/Desktop/mntdir: target is busy.\n"
     ]
    },
    {
     "name": "stdout",
     "output_type": "stream",
     "text": [
      "2023-09-24 18:11:00 - hil_control.hw_rev4_dock_undock - INFO - finished run 656. Id_avg = 144.7, Id_max = 305.0, Iud_avg 146.8, Iud_max = 305.0, TR=19.1 MB/s, t = 68.9s\n"
     ]
    },
    {
     "name": "stderr",
     "output_type": "stream",
     "text": [
      "umount: /home/max/Desktop/mntdir: target is busy.\n"
     ]
    },
    {
     "name": "stdout",
     "output_type": "stream",
     "text": [
      "2023-09-24 18:12:07 - hil_control.hw_rev4_dock_undock - INFO - finished run 657. Id_avg = 144.5, Id_max = 291.0, Iud_avg 145.4, Iud_max = 370.0, TR=19.3 MB/s, t = 67.0s\n"
     ]
    },
    {
     "name": "stderr",
     "output_type": "stream",
     "text": [
      "umount: /home/max/Desktop/mntdir: target is busy.\n"
     ]
    },
    {
     "name": "stdout",
     "output_type": "stream",
     "text": [
      "2023-09-24 18:13:18 - hil_control.hw_rev4_dock_undock - INFO - finished run 658. Id_avg = 145.6, Id_max = 290.0, Iud_avg 147.8, Iud_max = 482.0, TR=18.2 MB/s, t = 71.4s\n"
     ]
    },
    {
     "name": "stderr",
     "output_type": "stream",
     "text": [
      "umount: /home/max/Desktop/mntdir: target is busy.\n"
     ]
    },
    {
     "name": "stdout",
     "output_type": "stream",
     "text": [
      "2023-09-24 18:14:28 - hil_control.hw_rev4_dock_undock - INFO - finished run 659. Id_avg = 145.4, Id_max = 289.0, Iud_avg 147.5, Iud_max = 376.0, TR=18.9 MB/s, t = 69.5s\n"
     ]
    },
    {
     "name": "stderr",
     "output_type": "stream",
     "text": [
      "umount: /home/max/Desktop/mntdir: target is busy.\n"
     ]
    },
    {
     "name": "stdout",
     "output_type": "stream",
     "text": [
      "2023-09-24 18:15:39 - hil_control.hw_rev4_dock_undock - INFO - finished run 660. Id_avg = 147.0, Id_max = 290.0, Iud_avg 146.5, Iud_max = 506.0, TR=18.1 MB/s, t = 71.9s\n"
     ]
    },
    {
     "name": "stderr",
     "output_type": "stream",
     "text": [
      "umount: /home/max/Desktop/mntdir: target is busy.\n"
     ]
    },
    {
     "name": "stdout",
     "output_type": "stream",
     "text": [
      "2023-09-24 18:16:33 - hil_control.hw_rev4_dock_undock - INFO - finished run 661. Id_avg = 146.6, Id_max = 290.0, Iud_avg 145.8, Iud_max = 318.0, TR=26.6 MB/s, t = 53.7s\n",
      "2023-09-24 18:17:32 - hil_control.hw_rev4_dock_undock - INFO - finished run 662. Id_avg = 150.1, Id_max = 672.0, Iud_avg 147.2, Iud_max = 465.0, TR=23.1 MB/s, t = 58.6s\n",
      "2023-09-24 18:18:26 - hil_control.hw_rev4_dock_undock - INFO - finished run 663. Id_avg = 147.6, Id_max = 290.0, Iud_avg 148.0, Iud_max = 434.0, TR=26.0 MB/s, t = 54.6s\n",
      "2023-09-24 18:19:22 - hil_control.hw_rev4_dock_undock - INFO - finished run 664. Id_avg = 147.8, Id_max = 306.0, Iud_avg 146.0, Iud_max = 444.0, TR=25.1 MB/s, t = 55.9s\n",
      "2023-09-24 18:20:18 - hil_control.hw_rev4_dock_undock - INFO - finished run 665. Id_avg = 147.3, Id_max = 374.0, Iud_avg 146.3, Iud_max = 333.0, TR=25.6 MB/s, t = 55.5s\n",
      "2023-09-24 18:21:13 - hil_control.hw_rev4_dock_undock - INFO - finished run 666. Id_avg = 148.2, Id_max = 470.0, Iud_avg 148.9, Iud_max = 477.0, TR=25.2 MB/s, t = 55.1s\n",
      "2023-09-24 18:22:08 - hil_control.hw_rev4_dock_undock - INFO - finished run 667. Id_avg = 147.2, Id_max = 386.0, Iud_avg 146.3, Iud_max = 334.0, TR=25.6 MB/s, t = 55.2s\n",
      "2023-09-24 18:23:03 - hil_control.hw_rev4_dock_undock - INFO - finished run 668. Id_avg = 146.0, Id_max = 289.0, Iud_avg 147.0, Iud_max = 440.0, TR=25.7 MB/s, t = 55.2s\n",
      "2023-09-24 18:23:58 - hil_control.hw_rev4_dock_undock - INFO - finished run 669. Id_avg = 146.9, Id_max = 302.0, Iud_avg 148.8, Iud_max = 454.0, TR=24.9 MB/s, t = 55.3s\n",
      "2023-09-24 18:24:55 - hil_control.hw_rev4_dock_undock - INFO - finished run 670. Id_avg = 147.2, Id_max = 308.0, Iud_avg 145.3, Iud_max = 284.0, TR=24.7 MB/s, t = 56.6s\n",
      "2023-09-24 18:25:52 - hil_control.hw_rev4_dock_undock - INFO - finished run 671. Id_avg = 146.4, Id_max = 288.0, Iud_avg 145.0, Iud_max = 313.0, TR=24.5 MB/s, t = 56.9s\n",
      "2023-09-24 18:26:49 - hil_control.hw_rev4_dock_undock - INFO - finished run 672. Id_avg = 145.0, Id_max = 290.0, Iud_avg 146.3, Iud_max = 342.0, TR=24.0 MB/s, t = 56.9s\n",
      "2023-09-24 18:27:48 - hil_control.hw_rev4_dock_undock - INFO - finished run 673. Id_avg = 144.7, Id_max = 289.0, Iud_avg 146.9, Iud_max = 428.0, TR=23.5 MB/s, t = 58.8s\n",
      "2023-09-24 18:28:46 - hil_control.hw_rev4_dock_undock - INFO - finished run 674. Id_avg = 146.2, Id_max = 305.0, Iud_avg 146.3, Iud_max = 494.0, TR=23.3 MB/s, t = 57.9s\n",
      "2023-09-24 18:29:44 - hil_control.hw_rev4_dock_undock - INFO - finished run 675. Id_avg = 146.6, Id_max = 304.0, Iud_avg 152.6, Iud_max = 560.0, TR=23.5 MB/s, t = 58.0s\n",
      "2023-09-24 18:30:42 - hil_control.hw_rev4_dock_undock - INFO - finished run 676. Id_avg = 145.8, Id_max = 301.0, Iud_avg 145.5, Iud_max = 508.0, TR=23.1 MB/s, t = 58.9s\n",
      "2023-09-24 18:31:41 - hil_control.hw_rev4_dock_undock - INFO - finished run 677. Id_avg = 144.2, Id_max = 293.0, Iud_avg 150.4, Iud_max = 537.0, TR=23.0 MB/s, t = 58.7s\n",
      "2023-09-24 18:32:39 - hil_control.hw_rev4_dock_undock - INFO - finished run 678. Id_avg = 148.4, Id_max = 720.0, Iud_avg 145.5, Iud_max = 344.0, TR=23.4 MB/s, t = 58.2s\n",
      "2023-09-24 18:33:38 - hil_control.hw_rev4_dock_undock - INFO - finished run 679. Id_avg = 156.7, Id_max = 592.0, Iud_avg 145.3, Iud_max = 352.0, TR=23.0 MB/s, t = 58.9s\n",
      "2023-09-24 18:34:42 - hil_control.hw_rev4_dock_undock - INFO - finished run 680. Id_avg = 145.6, Id_max = 288.0, Iud_avg 145.6, Iud_max = 374.0, TR=21.0 MB/s, t = 63.2s\n",
      "2023-09-24 18:35:42 - hil_control.hw_rev4_dock_undock - INFO - finished run 681. Id_avg = 145.2, Id_max = 284.0, Iud_avg 148.7, Iud_max = 448.0, TR=22.3 MB/s, t = 60.3s\n",
      "2023-09-24 18:36:40 - hil_control.hw_rev4_dock_undock - INFO - finished run 682. Id_avg = 147.2, Id_max = 293.0, Iud_avg 146.2, Iud_max = 306.0, TR=23.7 MB/s, t = 58.2s\n",
      "2023-09-24 18:37:37 - hil_control.hw_rev4_dock_undock - INFO - finished run 683. Id_avg = 144.8, Id_max = 306.0, Iud_avg 144.6, Iud_max = 304.0, TR=23.9 MB/s, t = 57.1s\n",
      "2023-09-24 18:38:42 - hil_control.hw_rev4_dock_undock - INFO - finished run 684. Id_avg = 146.5, Id_max = 329.0, Iud_avg 143.9, Iud_max = 306.0, TR=23.7 MB/s, t = 64.7s\n",
      "2023-09-24 18:39:37 - hil_control.hw_rev4_dock_undock - INFO - finished run 685. Id_avg = 145.1, Id_max = 300.0, Iud_avg 147.5, Iud_max = 385.0, TR=25.1 MB/s, t = 55.1s\n",
      "2023-09-24 18:40:34 - hil_control.hw_rev4_dock_undock - INFO - finished run 686. Id_avg = 148.7, Id_max = 647.0, Iud_avg 146.1, Iud_max = 467.0, TR=24.5 MB/s, t = 57.3s\n",
      "2023-09-24 18:41:33 - hil_control.hw_rev4_dock_undock - INFO - finished run 687. Id_avg = 144.7, Id_max = 299.0, Iud_avg 147.0, Iud_max = 311.0, TR=23.4 MB/s, t = 58.5s\n",
      "2023-09-24 18:42:28 - hil_control.hw_rev4_dock_undock - INFO - finished run 688. Id_avg = 147.0, Id_max = 288.0, Iud_avg 145.1, Iud_max = 436.0, TR=25.0 MB/s, t = 55.0s\n",
      "2023-09-24 18:43:25 - hil_control.hw_rev4_dock_undock - INFO - finished run 689. Id_avg = 145.0, Id_max = 300.0, Iud_avg 148.0, Iud_max = 468.0, TR=24.4 MB/s, t = 57.1s\n",
      "2023-09-24 18:44:23 - hil_control.hw_rev4_dock_undock - INFO - finished run 690. Id_avg = 143.5, Id_max = 293.0, Iud_avg 144.3, Iud_max = 312.0, TR=23.4 MB/s, t = 58.4s\n",
      "2023-09-24 18:45:20 - hil_control.hw_rev4_dock_undock - INFO - finished run 691. Id_avg = 146.2, Id_max = 299.0, Iud_avg 145.6, Iud_max = 328.0, TR=24.8 MB/s, t = 56.8s\n"
     ]
    },
    {
     "name": "stderr",
     "output_type": "stream",
     "text": [
      "umount: /home/max/Desktop/mntdir: target is busy.\n"
     ]
    },
    {
     "name": "stdout",
     "output_type": "stream",
     "text": [
      "2023-09-24 18:46:20 - hil_control.hw_rev4_dock_undock - INFO - finished run 692. Id_avg = 149.1, Id_max = 516.0, Iud_avg 151.4, Iud_max = 483.0, TR=22.6 MB/s, t = 59.4s\n",
      "2023-09-24 18:47:20 - hil_control.hw_rev4_dock_undock - INFO - finished run 693. Id_avg = 145.4, Id_max = 292.0, Iud_avg 147.7, Iud_max = 449.0, TR=22.4 MB/s, t = 60.5s\n"
     ]
    },
    {
     "name": "stderr",
     "output_type": "stream",
     "text": [
      "umount: /home/max/Desktop/mntdir: target is busy.\n"
     ]
    },
    {
     "name": "stdout",
     "output_type": "stream",
     "text": [
      "2023-09-24 18:48:18 - hil_control.hw_rev4_dock_undock - INFO - finished run 694. Id_avg = 149.0, Id_max = 292.0, Iud_avg 147.0, Iud_max = 335.0, TR=23.5 MB/s, t = 57.7s\n",
      "2023-09-24 18:49:17 - hil_control.hw_rev4_dock_undock - INFO - finished run 695. Id_avg = 146.7, Id_max = 292.0, Iud_avg 146.2, Iud_max = 311.0, TR=23.5 MB/s, t = 59.0s\n"
     ]
    },
    {
     "name": "stderr",
     "output_type": "stream",
     "text": [
      "umount: /home/max/Desktop/mntdir: target is busy.\n"
     ]
    },
    {
     "name": "stdout",
     "output_type": "stream",
     "text": [
      "2023-09-24 18:50:14 - hil_control.hw_rev4_dock_undock - INFO - finished run 696. Id_avg = 145.1, Id_max = 291.0, Iud_avg 148.4, Iud_max = 396.0, TR=23.6 MB/s, t = 57.3s\n"
     ]
    },
    {
     "name": "stderr",
     "output_type": "stream",
     "text": [
      "umount: /home/max/Desktop/mntdir: target is busy.\n"
     ]
    },
    {
     "name": "stdout",
     "output_type": "stream",
     "text": [
      "2023-09-24 18:51:16 - hil_control.hw_rev4_dock_undock - INFO - finished run 697. Id_avg = 147.2, Id_max = 302.0, Iud_avg 144.6, Iud_max = 335.0, TR=21.2 MB/s, t = 62.2s\n"
     ]
    },
    {
     "name": "stderr",
     "output_type": "stream",
     "text": [
      "umount: /home/max/Desktop/mntdir: target is busy.\n"
     ]
    },
    {
     "name": "stdout",
     "output_type": "stream",
     "text": [
      "2023-09-24 18:52:13 - hil_control.hw_rev4_dock_undock - INFO - finished run 698. Id_avg = 146.2, Id_max = 294.0, Iud_avg 147.4, Iud_max = 415.0, TR=23.8 MB/s, t = 57.1s\n",
      "2023-09-24 18:53:12 - hil_control.hw_rev4_dock_undock - INFO - finished run 699. Id_avg = 145.1, Id_max = 290.0, Iud_avg 143.6, Iud_max = 340.0, TR=24.4 MB/s, t = 58.3s\n",
      "2023-09-24 18:54:06 - hil_control.hw_rev4_dock_undock - INFO - finished run 700. Id_avg = 145.8, Id_max = 454.0, Iud_avg 145.9, Iud_max = 363.0, TR=25.3 MB/s, t = 54.5s\n",
      "2023-09-24 18:55:03 - hil_control.hw_rev4_dock_undock - INFO - finished run 701. Id_avg = 147.8, Id_max = 298.0, Iud_avg 148.6, Iud_max = 402.0, TR=24.8 MB/s, t = 56.7s\n"
     ]
    },
    {
     "name": "stderr",
     "output_type": "stream",
     "text": [
      "umount: /home/max/Desktop/mntdir: target is busy.\n"
     ]
    },
    {
     "name": "stdout",
     "output_type": "stream",
     "text": [
      "2023-09-24 18:55:59 - hil_control.hw_rev4_dock_undock - INFO - finished run 702. Id_avg = 144.8, Id_max = 304.0, Iud_avg 145.7, Iud_max = 315.0, TR=24.4 MB/s, t = 55.7s\n"
     ]
    },
    {
     "name": "stderr",
     "output_type": "stream",
     "text": [
      "umount: /home/max/Desktop/mntdir: target is busy.\n"
     ]
    },
    {
     "name": "stdout",
     "output_type": "stream",
     "text": [
      "2023-09-24 18:57:03 - hil_control.hw_rev4_dock_undock - INFO - finished run 703. Id_avg = 150.0, Id_max = 304.0, Iud_avg 148.2, Iud_max = 396.0, TR=20.8 MB/s, t = 64.4s\n"
     ]
    },
    {
     "name": "stderr",
     "output_type": "stream",
     "text": [
      "umount: /home/max/Desktop/mntdir: target is busy.\n"
     ]
    },
    {
     "name": "stdout",
     "output_type": "stream",
     "text": [
      "2023-09-24 18:58:04 - hil_control.hw_rev4_dock_undock - INFO - finished run 704. Id_avg = 145.4, Id_max = 285.0, Iud_avg 145.6, Iud_max = 421.0, TR=21.9 MB/s, t = 60.9s\n"
     ]
    },
    {
     "name": "stderr",
     "output_type": "stream",
     "text": [
      "umount: /home/max/Desktop/mntdir: target is busy.\n"
     ]
    },
    {
     "name": "stdout",
     "output_type": "stream",
     "text": [
      "2023-09-24 18:59:03 - hil_control.hw_rev4_dock_undock - INFO - finished run 705. Id_avg = 147.1, Id_max = 304.0, Iud_avg 145.2, Iud_max = 479.0, TR=22.8 MB/s, t = 58.9s\n"
     ]
    },
    {
     "name": "stderr",
     "output_type": "stream",
     "text": [
      "umount: /home/max/Desktop/mntdir: target is busy.\n"
     ]
    },
    {
     "name": "stdout",
     "output_type": "stream",
     "text": [
      "2023-09-24 19:00:01 - hil_control.hw_rev4_dock_undock - INFO - finished run 706. Id_avg = 144.7, Id_max = 305.0, Iud_avg 147.5, Iud_max = 409.0, TR=23.1 MB/s, t = 58.2s\n"
     ]
    },
    {
     "name": "stderr",
     "output_type": "stream",
     "text": [
      "umount: /home/max/Desktop/mntdir: target is busy.\n"
     ]
    },
    {
     "name": "stdout",
     "output_type": "stream",
     "text": [
      "2023-09-24 19:01:02 - hil_control.hw_rev4_dock_undock - INFO - finished run 707. Id_avg = 144.7, Id_max = 291.0, Iud_avg 145.2, Iud_max = 296.0, TR=21.7 MB/s, t = 61.3s\n"
     ]
    },
    {
     "name": "stderr",
     "output_type": "stream",
     "text": [
      "umount: /home/max/Desktop/mntdir: target is busy.\n"
     ]
    },
    {
     "name": "stdout",
     "output_type": "stream",
     "text": [
      "2023-09-24 19:02:02 - hil_control.hw_rev4_dock_undock - INFO - finished run 708. Id_avg = 146.4, Id_max = 300.0, Iud_avg 144.0, Iud_max = 290.0, TR=22.8 MB/s, t = 59.9s\n",
      "2023-09-24 19:03:01 - hil_control.hw_rev4_dock_undock - INFO - finished run 709. Id_avg = 145.6, Id_max = 290.0, Iud_avg 144.0, Iud_max = 375.0, TR=23.8 MB/s, t = 58.4s\n"
     ]
    },
    {
     "name": "stderr",
     "output_type": "stream",
     "text": [
      "umount: /home/max/Desktop/mntdir: target is busy.\n"
     ]
    },
    {
     "name": "stdout",
     "output_type": "stream",
     "text": [
      "2023-09-24 19:04:00 - hil_control.hw_rev4_dock_undock - INFO - finished run 710. Id_avg = 145.9, Id_max = 302.0, Iud_avg 145.8, Iud_max = 376.0, TR=26.2 MB/s, t = 59.5s\n",
      "2023-09-24 19:04:57 - hil_control.hw_rev4_dock_undock - INFO - finished run 711. Id_avg = 149.3, Id_max = 301.0, Iud_avg 143.9, Iud_max = 333.0, TR=25.0 MB/s, t = 56.6s\n",
      "2023-09-24 19:05:51 - hil_control.hw_rev4_dock_undock - INFO - finished run 712. Id_avg = 143.7, Id_max = 289.0, Iud_avg 145.4, Iud_max = 302.0, TR=25.3 MB/s, t = 54.6s\n",
      "2023-09-24 19:06:48 - hil_control.hw_rev4_dock_undock - INFO - finished run 713. Id_avg = 144.6, Id_max = 300.0, Iud_avg 149.3, Iud_max = 506.0, TR=24.2 MB/s, t = 56.6s\n"
     ]
    },
    {
     "name": "stderr",
     "output_type": "stream",
     "text": [
      "umount: /home/max/Desktop/mntdir: target is busy.\n"
     ]
    },
    {
     "name": "stdout",
     "output_type": "stream",
     "text": [
      "2023-09-24 19:07:44 - hil_control.hw_rev4_dock_undock - INFO - finished run 714. Id_avg = 145.6, Id_max = 302.0, Iud_avg 148.2, Iud_max = 347.0, TR=24.3 MB/s, t = 56.1s\n",
      "2023-09-24 19:08:47 - hil_control.hw_rev4_dock_undock - INFO - finished run 715. Id_avg = 144.9, Id_max = 284.0, Iud_avg 147.2, Iud_max = 477.0, TR=25.4 MB/s, t = 62.9s\n",
      "2023-09-24 19:09:43 - hil_control.hw_rev4_dock_undock - INFO - finished run 716. Id_avg = 146.2, Id_max = 289.0, Iud_avg 147.0, Iud_max = 296.0, TR=24.3 MB/s, t = 56.5s\n"
     ]
    },
    {
     "name": "stderr",
     "output_type": "stream",
     "text": [
      "umount: /home/max/Desktop/mntdir: target is busy.\n"
     ]
    },
    {
     "name": "stdout",
     "output_type": "stream",
     "text": [
      "2023-09-24 19:10:39 - hil_control.hw_rev4_dock_undock - INFO - finished run 717. Id_avg = 144.6, Id_max = 489.0, Iud_avg 146.3, Iud_max = 324.0, TR=24.9 MB/s, t = 55.3s\n",
      "2023-09-24 19:11:35 - hil_control.hw_rev4_dock_undock - INFO - finished run 718. Id_avg = 145.7, Id_max = 289.0, Iud_avg 146.5, Iud_max = 397.0, TR=25.0 MB/s, t = 56.5s\n",
      "2023-09-24 19:12:32 - hil_control.hw_rev4_dock_undock - INFO - finished run 719. Id_avg = 145.8, Id_max = 291.0, Iud_avg 145.7, Iud_max = 289.0, TR=24.4 MB/s, t = 57.2s\n",
      "2023-09-24 19:13:28 - hil_control.hw_rev4_dock_undock - INFO - finished run 720. Id_avg = 145.8, Id_max = 298.0, Iud_avg 144.7, Iud_max = 311.0, TR=25.3 MB/s, t = 55.1s\n",
      "2023-09-24 19:14:25 - hil_control.hw_rev4_dock_undock - INFO - finished run 721. Id_avg = 145.8, Id_max = 289.0, Iud_avg 146.4, Iud_max = 402.0, TR=24.5 MB/s, t = 57.4s\n",
      "2023-09-24 19:15:21 - hil_control.hw_rev4_dock_undock - INFO - finished run 722. Id_avg = 147.5, Id_max = 291.0, Iud_avg 146.8, Iud_max = 454.0, TR=24.8 MB/s, t = 55.6s\n",
      "2023-09-24 19:16:17 - hil_control.hw_rev4_dock_undock - INFO - finished run 723. Id_avg = 145.8, Id_max = 290.0, Iud_avg 145.2, Iud_max = 306.0, TR=24.3 MB/s, t = 56.7s\n",
      "2023-09-24 19:17:14 - hil_control.hw_rev4_dock_undock - INFO - finished run 724. Id_avg = 147.9, Id_max = 424.0, Iud_avg 146.8, Iud_max = 477.0, TR=24.6 MB/s, t = 56.3s\n",
      "2023-09-24 19:18:09 - hil_control.hw_rev4_dock_undock - INFO - finished run 725. Id_avg = 147.0, Id_max = 290.0, Iud_avg 146.2, Iud_max = 296.0, TR=25.3 MB/s, t = 55.1s\n"
     ]
    },
    {
     "name": "stderr",
     "output_type": "stream",
     "text": [
      "umount: /home/max/Desktop/mntdir: target is busy.\n"
     ]
    },
    {
     "name": "stdout",
     "output_type": "stream",
     "text": [
      "2023-09-24 19:19:03 - hil_control.hw_rev4_dock_undock - INFO - finished run 726. Id_avg = 146.6, Id_max = 305.0, Iud_avg 144.2, Iud_max = 470.0, TR=25.5 MB/s, t = 54.2s\n",
      "2023-09-24 19:20:04 - hil_control.hw_rev4_dock_undock - INFO - finished run 727. Id_avg = 145.4, Id_max = 298.0, Iud_avg 145.5, Iud_max = 310.0, TR=22.6 MB/s, t = 61.1s\n",
      "2023-09-24 19:21:00 - hil_control.hw_rev4_dock_undock - INFO - finished run 728. Id_avg = 143.3, Id_max = 303.0, Iud_avg 147.8, Iud_max = 391.0, TR=24.9 MB/s, t = 55.8s\n",
      "2023-09-24 19:21:56 - hil_control.hw_rev4_dock_undock - INFO - finished run 729. Id_avg = 145.1, Id_max = 271.0, Iud_avg 147.1, Iud_max = 436.0, TR=24.5 MB/s, t = 56.2s\n",
      "2023-09-24 19:22:51 - hil_control.hw_rev4_dock_undock - INFO - finished run 730. Id_avg = 144.1, Id_max = 297.0, Iud_avg 145.3, Iud_max = 333.0, TR=25.7 MB/s, t = 54.9s\n",
      "2023-09-24 19:23:47 - hil_control.hw_rev4_dock_undock - INFO - finished run 731. Id_avg = 143.5, Id_max = 285.0, Iud_avg 148.7, Iud_max = 462.0, TR=24.5 MB/s, t = 56.5s\n",
      "2023-09-24 19:24:44 - hil_control.hw_rev4_dock_undock - INFO - finished run 732. Id_avg = 142.8, Id_max = 284.0, Iud_avg 146.6, Iud_max = 310.0, TR=25.0 MB/s, t = 56.2s\n",
      "2023-09-24 19:25:39 - hil_control.hw_rev4_dock_undock - INFO - finished run 733. Id_avg = 147.3, Id_max = 292.0, Iud_avg 143.0, Iud_max = 438.0, TR=24.8 MB/s, t = 55.8s\n",
      "2023-09-24 19:26:33 - hil_control.hw_rev4_dock_undock - INFO - finished run 734. Id_avg = 148.8, Id_max = 291.0, Iud_avg 148.5, Iud_max = 453.0, TR=25.9 MB/s, t = 53.9s\n",
      "2023-09-24 19:27:28 - hil_control.hw_rev4_dock_undock - INFO - finished run 735. Id_avg = 148.2, Id_max = 442.0, Iud_avg 147.6, Iud_max = 381.0, TR=25.2 MB/s, t = 55.0s\n",
      "2023-09-24 19:28:23 - hil_control.hw_rev4_dock_undock - INFO - finished run 736. Id_avg = 147.3, Id_max = 288.0, Iud_avg 144.7, Iud_max = 315.0, TR=25.7 MB/s, t = 54.5s\n",
      "2023-09-24 19:29:18 - hil_control.hw_rev4_dock_undock - INFO - finished run 737. Id_avg = 146.0, Id_max = 287.0, Iud_avg 146.2, Iud_max = 457.0, TR=25.3 MB/s, t = 55.5s\n",
      "2023-09-24 19:30:13 - hil_control.hw_rev4_dock_undock - INFO - finished run 738. Id_avg = 149.0, Id_max = 395.0, Iud_avg 146.5, Iud_max = 439.0, TR=25.7 MB/s, t = 55.2s\n",
      "2023-09-24 19:31:10 - hil_control.hw_rev4_dock_undock - INFO - finished run 739. Id_avg = 147.9, Id_max = 298.0, Iud_avg 145.4, Iud_max = 505.0, TR=24.4 MB/s, t = 56.3s\n",
      "2023-09-24 19:32:05 - hil_control.hw_rev4_dock_undock - INFO - finished run 740. Id_avg = 148.4, Id_max = 302.0, Iud_avg 146.0, Iud_max = 306.0, TR=24.8 MB/s, t = 55.5s\n",
      "2023-09-24 19:33:01 - hil_control.hw_rev4_dock_undock - INFO - finished run 741. Id_avg = 144.5, Id_max = 287.0, Iud_avg 147.4, Iud_max = 286.0, TR=25.0 MB/s, t = 55.2s\n",
      "2023-09-24 19:34:00 - hil_control.hw_rev4_dock_undock - INFO - finished run 742. Id_avg = 145.7, Id_max = 299.0, Iud_avg 144.1, Iud_max = 507.0, TR=22.9 MB/s, t = 59.8s\n",
      "2023-09-24 19:34:55 - hil_control.hw_rev4_dock_undock - INFO - finished run 743. Id_avg = 144.2, Id_max = 277.0, Iud_avg 147.4, Iud_max = 461.0, TR=25.6 MB/s, t = 55.0s\n",
      "2023-09-24 19:35:52 - hil_control.hw_rev4_dock_undock - INFO - finished run 744. Id_avg = 147.2, Id_max = 283.0, Iud_avg 144.3, Iud_max = 364.0, TR=24.2 MB/s, t = 56.9s\n",
      "2023-09-24 19:36:47 - hil_control.hw_rev4_dock_undock - INFO - finished run 745. Id_avg = 146.4, Id_max = 290.0, Iud_avg 147.4, Iud_max = 388.0, TR=25.3 MB/s, t = 54.9s\n"
     ]
    },
    {
     "name": "stderr",
     "output_type": "stream",
     "text": [
      "umount: /home/max/Desktop/mntdir: target is busy.\n"
     ]
    },
    {
     "name": "stdout",
     "output_type": "stream",
     "text": [
      "2023-09-24 19:37:44 - hil_control.hw_rev4_dock_undock - INFO - finished run 746. Id_avg = 146.5, Id_max = 305.0, Iud_avg 146.6, Iud_max = 478.0, TR=23.8 MB/s, t = 56.9s\n",
      "2023-09-24 19:38:42 - hil_control.hw_rev4_dock_undock - INFO - finished run 747. Id_avg = 147.4, Id_max = 290.0, Iud_avg 145.4, Iud_max = 338.0, TR=25.5 MB/s, t = 57.6s\n",
      "2023-09-24 19:39:38 - hil_control.hw_rev4_dock_undock - INFO - finished run 748. Id_avg = 146.7, Id_max = 337.0, Iud_avg 145.2, Iud_max = 333.0, TR=24.2 MB/s, t = 56.6s\n"
     ]
    },
    {
     "name": "stderr",
     "output_type": "stream",
     "text": [
      "umount: /home/max/Desktop/mntdir: target is busy.\n"
     ]
    },
    {
     "name": "stdout",
     "output_type": "stream",
     "text": [
      "2023-09-24 19:40:35 - hil_control.hw_rev4_dock_undock - INFO - finished run 749. Id_avg = 146.7, Id_max = 306.0, Iud_avg 146.5, Iud_max = 449.0, TR=23.9 MB/s, t = 56.6s\n",
      "2023-09-24 19:41:36 - hil_control.hw_rev4_dock_undock - INFO - finished run 750. Id_avg = 148.4, Id_max = 376.0, Iud_avg 146.3, Iud_max = 338.0, TR=22.3 MB/s, t = 60.7s\n",
      "2023-09-24 19:42:30 - hil_control.hw_rev4_dock_undock - INFO - finished run 751. Id_avg = 146.0, Id_max = 290.0, Iud_avg 147.2, Iud_max = 338.0, TR=25.9 MB/s, t = 54.6s\n",
      "2023-09-24 19:43:26 - hil_control.hw_rev4_dock_undock - INFO - finished run 752. Id_avg = 145.1, Id_max = 292.0, Iud_avg 149.6, Iud_max = 449.0, TR=24.8 MB/s, t = 56.1s\n",
      "2023-09-24 19:44:22 - hil_control.hw_rev4_dock_undock - INFO - finished run 753. Id_avg = 146.6, Id_max = 305.0, Iud_avg 148.3, Iud_max = 436.0, TR=24.8 MB/s, t = 55.6s\n",
      "2023-09-24 19:45:15 - hil_control.hw_rev4_dock_undock - INFO - finished run 754. Id_avg = 147.2, Id_max = 299.0, Iud_avg 148.7, Iud_max = 468.0, TR=26.4 MB/s, t = 53.2s\n",
      "2023-09-24 19:46:10 - hil_control.hw_rev4_dock_undock - INFO - finished run 755. Id_avg = 145.4, Id_max = 290.0, Iud_avg 145.7, Iud_max = 378.0, TR=25.6 MB/s, t = 54.6s\n",
      "2023-09-24 19:47:05 - hil_control.hw_rev4_dock_undock - INFO - finished run 756. Id_avg = 147.9, Id_max = 299.0, Iud_avg 149.1, Iud_max = 610.0, TR=25.3 MB/s, t = 55.5s\n",
      "2023-09-24 19:47:59 - hil_control.hw_rev4_dock_undock - INFO - finished run 757. Id_avg = 147.5, Id_max = 305.0, Iud_avg 145.0, Iud_max = 426.0, TR=26.0 MB/s, t = 53.6s\n",
      "2023-09-24 19:48:55 - hil_control.hw_rev4_dock_undock - INFO - finished run 758. Id_avg = 147.1, Id_max = 312.0, Iud_avg 144.3, Iud_max = 345.0, TR=25.0 MB/s, t = 56.6s\n",
      "2023-09-24 19:49:51 - hil_control.hw_rev4_dock_undock - INFO - finished run 759. Id_avg = 145.3, Id_max = 289.0, Iud_avg 146.7, Iud_max = 456.0, TR=25.5 MB/s, t = 55.5s\n",
      "2023-09-24 19:50:46 - hil_control.hw_rev4_dock_undock - INFO - finished run 760. Id_avg = 148.7, Id_max = 357.0, Iud_avg 146.2, Iud_max = 351.0, TR=25.6 MB/s, t = 54.9s\n",
      "2023-09-24 19:51:41 - hil_control.hw_rev4_dock_undock - INFO - finished run 761. Id_avg = 146.2, Id_max = 294.0, Iud_avg 148.2, Iud_max = 375.0, TR=25.3 MB/s, t = 54.9s\n",
      "2023-09-24 19:52:37 - hil_control.hw_rev4_dock_undock - INFO - finished run 762. Id_avg = 145.9, Id_max = 300.0, Iud_avg 148.1, Iud_max = 471.0, TR=24.5 MB/s, t = 56.2s\n",
      "2023-09-24 19:53:32 - hil_control.hw_rev4_dock_undock - INFO - finished run 763. Id_avg = 147.0, Id_max = 303.0, Iud_avg 146.1, Iud_max = 452.0, TR=25.3 MB/s, t = 54.6s\n",
      "2023-09-24 19:54:27 - hil_control.hw_rev4_dock_undock - INFO - finished run 764. Id_avg = 146.7, Id_max = 291.0, Iud_avg 147.0, Iud_max = 373.0, TR=25.0 MB/s, t = 55.4s\n",
      "2023-09-24 19:55:24 - hil_control.hw_rev4_dock_undock - INFO - finished run 765. Id_avg = 148.7, Id_max = 341.0, Iud_avg 145.7, Iud_max = 296.0, TR=23.8 MB/s, t = 57.4s\n",
      "2023-09-24 19:56:23 - hil_control.hw_rev4_dock_undock - INFO - finished run 766. Id_avg = 145.5, Id_max = 299.0, Iud_avg 148.4, Iud_max = 363.0, TR=23.6 MB/s, t = 58.4s\n",
      "2023-09-24 19:57:18 - hil_control.hw_rev4_dock_undock - INFO - finished run 767. Id_avg = 146.5, Id_max = 291.0, Iud_avg 147.4, Iud_max = 459.0, TR=24.7 MB/s, t = 55.4s\n",
      "2023-09-24 19:58:15 - hil_control.hw_rev4_dock_undock - INFO - finished run 768. Id_avg = 146.1, Id_max = 287.0, Iud_avg 146.1, Iud_max = 335.0, TR=24.2 MB/s, t = 57.1s\n",
      "2023-09-24 19:59:14 - hil_control.hw_rev4_dock_undock - INFO - finished run 769. Id_avg = 144.5, Id_max = 287.0, Iud_avg 147.0, Iud_max = 332.0, TR=23.7 MB/s, t = 58.1s\n",
      "2023-09-24 20:00:10 - hil_control.hw_rev4_dock_undock - INFO - finished run 770. Id_avg = 147.8, Id_max = 298.0, Iud_avg 145.8, Iud_max = 386.0, TR=24.3 MB/s, t = 56.9s\n"
     ]
    },
    {
     "name": "stderr",
     "output_type": "stream",
     "text": [
      "umount: /home/max/Desktop/mntdir: target is busy.\n"
     ]
    },
    {
     "name": "stdout",
     "output_type": "stream",
     "text": [
      "2023-09-24 20:01:08 - hil_control.hw_rev4_dock_undock - INFO - finished run 771. Id_avg = 145.7, Id_max = 304.0, Iud_avg 149.7, Iud_max = 498.0, TR=23.4 MB/s, t = 57.8s\n",
      "2023-09-24 20:02:07 - hil_control.hw_rev4_dock_undock - INFO - finished run 772. Id_avg = 146.3, Id_max = 304.0, Iud_avg 147.4, Iud_max = 443.0, TR=23.6 MB/s, t = 58.8s\n",
      "2023-09-24 20:03:06 - hil_control.hw_rev4_dock_undock - INFO - finished run 773. Id_avg = 147.9, Id_max = 281.0, Iud_avg 144.1, Iud_max = 318.0, TR=23.0 MB/s, t = 58.8s\n"
     ]
    },
    {
     "name": "stderr",
     "output_type": "stream",
     "text": [
      "umount: /home/max/Desktop/mntdir: target is busy.\n"
     ]
    },
    {
     "name": "stdout",
     "output_type": "stream",
     "text": [
      "2023-09-24 20:04:07 - hil_control.hw_rev4_dock_undock - INFO - finished run 774. Id_avg = 144.7, Id_max = 304.0, Iud_avg 145.8, Iud_max = 339.0, TR=21.8 MB/s, t = 61.0s\n",
      "2023-09-24 20:05:09 - hil_control.hw_rev4_dock_undock - INFO - finished run 775. Id_avg = 146.5, Id_max = 287.0, Iud_avg 143.9, Iud_max = 317.0, TR=21.5 MB/s, t = 62.4s\n",
      "2023-09-24 20:06:05 - hil_control.hw_rev4_dock_undock - INFO - finished run 776. Id_avg = 148.6, Id_max = 409.0, Iud_avg 143.8, Iud_max = 291.0, TR=24.8 MB/s, t = 55.5s\n"
     ]
    }
   ],
   "source": [
    "test.run(iterations=1000)"
   ]
  },
  {
   "cell_type": "code",
   "execution_count": 13,
   "id": "03e2a087-c976-4734-ba28-b311cdcf08fb",
   "metadata": {},
   "outputs": [],
   "source": [
    "df = test.df\n",
    "results = test.results"
   ]
  },
  {
   "cell_type": "code",
   "execution_count": 14,
   "id": "85fa731c-5803-418a-9e52-962bc37b1950",
   "metadata": {},
   "outputs": [],
   "source": [
    "def plot_iteration(results: list, iteration: int):\n",
    "    fig, (ax0, ax1) = plt.subplots(2)\n",
    "    ax0.plot(results[iteration][\"dock_currents\"])\n",
    "    ax0.set_title(f\"docking current. Result: {results[iteration]['dockingstate_after_docking']}\")\n",
    "    ax1.plot(results[iteration][\"undock_currents\"])\n",
    "    ax1.set_title(f\"undocking current. Result: {results[iteration]['dockingstate_after_undocking']}\")\n",
    "    plt.suptitle(f\"data for iteration {iteration}\")\n",
    "    plt.tight_layout()"
   ]
  },
  {
   "cell_type": "code",
   "execution_count": 15,
   "id": "14f0241b-7b9e-4ce9-b8b4-c4457a3bdff7",
   "metadata": {},
   "outputs": [],
   "source": [
    "def mean(l):\n",
    "    return sum(l)/len(l)\n",
    "\n",
    "def plot_stats(results: list):\n",
    "    fig, (ax0, ax1) = plt.subplots(2)    \n",
    "    ax0.plot([r[\"datatransfer_rate_mb_per_s\"] for r in results], label=\"Datatransfer-Rate\")\n",
    "    ax0.set_title(\"Datatransfer Rate\")\n",
    "    ax0.set_xlabel(\"Iteration\")\n",
    "    ax0.set_ylabel(\"MB/s\")\n",
    "    #ax0.set_ylim(0,15)\n",
    "    average_docking_currents = [mean(result[\"dock_currents\"]) for result in results]\n",
    "    average_undocking_currents = [mean(result[\"undock_currents\"]) for result in results]\n",
    "    ax1.plot(average_docking_currents, label=\"docking\")\n",
    "    ax1.plot(average_undocking_currents, label=\"undocking\")\n",
    "    ax1.set_ylim(0,170)\n",
    "    ax1.legend()\n",
    "    ax1.set_title(\"Average Current Draw\")\n",
    "    ax1.set_xlabel(\"Iteration\")\n",
    "    ax1.set_ylabel(\"digits\")\n",
    "    plt.tight_layout()"
   ]
  },
  {
   "cell_type": "code",
   "execution_count": 16,
   "id": "5a01fc06-191e-4645-941f-66e368812df0",
   "metadata": {},
   "outputs": [
    {
     "data": {
      "image/png": "[encoded data removed]",
      "text/plain": [
       "<Figure size 432x288 with 2 Axes>"
      ]
     },
     "metadata": {
      "needs_background": "light"
     },
     "output_type": "display_data"
    }
   ],
   "source": [
    "plot_stats(results)"
   ]
  },
  {
   "cell_type": "code",
   "execution_count": 8,
   "id": "a598d3e3-8f4c-4533-b305-3acbe1d2c520",
   "metadata": {},
   "outputs": [
    {
     "data": {
      "image/png": "[encoded data removed]",
      "text/plain": [
       "<Figure size 432x288 with 2 Axes>"
      ]
     },
     "metadata": {
      "needs_background": "light"
     },
     "output_type": "display_data"
    }
   ],
   "source": [
    "plot_iteration(results, 0)"
   ]
  },
  {
   "cell_type": "code",
   "execution_count": 17,
   "id": "fd460892-99b9-4533-aece-103461c9f764",
   "metadata": {},
   "outputs": [],
   "source": [
    "with open(f'results_300runs_tranferratesMurks_{datetime.now().isoformat()}.pkl', 'wb') as file:\n",
    "    # A new file will be created\n",
    "    pickle.dump(results, file)"
   ]
  },
  {
   "cell_type": "code",
   "execution_count": 4,
   "id": "1238900d-ee97-493a-995e-08f8de2b1d07",
   "metadata": {},
   "outputs": [
    {
     "data": {
      "text/plain": [
       "'2023-09-21 21-04'"
      ]
     },
     "execution_count": 4,
     "metadata": {},
     "output_type": "execute_result"
    }
   ],
   "source": [
    "from datetime import datetime\n",
    "     "
   ]
  },
  {
   "cell_type": "code",
   "execution_count": 10,
   "id": "96b5f9f0-8a9e-4d48-90f6-2bd884bb2b55",
   "metadata": {},
   "outputs": [
    {
     "name": "stdout",
     "output_type": "stream",
     "text": [
      "calling pcu with get currentlog\n"
     ]
    },
    {
     "data": {
      "text/plain": [
       "[297,\n",
       " 232,\n",
       " 190,\n",
       " 149,\n",
       " 153,\n",
       " 144,\n",
       " 153,\n",
       " 143,\n",
       " 161,\n",
       " 146,\n",
       " 148,\n",
       " 124,\n",
       " 155,\n",
       " 159,\n",
       " 168,\n",
       " 162,\n",
       " 176,\n",
       " 183,\n",
       " 175,\n",
       " 144,\n",
       " 153,\n",
       " 133,\n",
       " 154,\n",
       " 146,\n",
       " 141,\n",
       " 147,\n",
       " 129,\n",
       " 135,\n",
       " 146,\n",
       " 154,\n",
       " 141,\n",
       " 148,\n",
       " 138,\n",
       " 141,\n",
       " 139,\n",
       " 135,\n",
       " 144,\n",
       " 135,\n",
       " 144,\n",
       " 154,\n",
       " 148,\n",
       " 141,\n",
       " 138,\n",
       " 143,\n",
       " 134,\n",
       " 159,\n",
       " 152,\n",
       " 144,\n",
       " 132,\n",
       " 133,\n",
       " 138,\n",
       " 142,\n",
       " 133,\n",
       " 154,\n",
       " 126,\n",
       " 128,\n",
       " 148,\n",
       " 142,\n",
       " 144,\n",
       " 129,\n",
       " 146,\n",
       " 143,\n",
       " 149,\n",
       " 138,\n",
       " 140,\n",
       " 140,\n",
       " 133,\n",
       " 143,\n",
       " 133,\n",
       " 147,\n",
       " 160,\n",
       " 152,\n",
       " 139,\n",
       " 136,\n",
       " 136,\n",
       " 130,\n",
       " 158,\n",
       " 146,\n",
       " 141,\n",
       " 139,\n",
       " 136,\n",
       " 155,\n",
       " 116,\n",
       " 147,\n",
       " 139,\n",
       " 125,\n",
       " 116,\n",
       " 133,\n",
       " 135,\n",
       " 143,\n",
       " 137,\n",
       " 134,\n",
       " 141,\n",
       " 138,\n",
       " 138,\n",
       " 156,\n",
       " 138,\n",
       " 145,\n",
       " 136,\n",
       " 148,\n",
       " 140,\n",
       " 151,\n",
       " 160,\n",
       " 136,\n",
       " 139,\n",
       " 157,\n",
       " 163,\n",
       " 140,\n",
       " 136,\n",
       " 154,\n",
       " 157,\n",
       " 136,\n",
       " 138,\n",
       " 158,\n",
       " 162,\n",
       " 143,\n",
       " 134,\n",
       " 153,\n",
       " 154,\n",
       " 139,\n",
       " 138,\n",
       " 164,\n",
       " 159,\n",
       " 145,\n",
       " 133,\n",
       " 155,\n",
       " 144,\n",
       " 141,\n",
       " 140,\n",
       " 166,\n",
       " 151,\n",
       " 157,\n",
       " 164,\n",
       " 142,\n",
       " 147,\n",
       " 0]"
      ]
     },
     "execution_count": 10,
     "metadata": {},
     "output_type": "execute_result"
    }
   ],
   "source": [
    "hil.pcu.get_currentlog()"
   ]
  },
  {
   "cell_type": "code",
   "execution_count": null,
   "id": "5b5e400f-8af5-49bb-9119-bc1964c51486",
   "metadata": {},
   "outputs": [],
   "source": []
  }
 ],
 "metadata": {
  "kernelspec": {
   "display_name": "Python 3 (ipykernel)",
   "language": "python",
   "name": "python3"
  },
  "language_info": {
   "codemirror_mode": {
    "name": "ipython",
    "version": 3
   },
   "file_extension": ".py",
   "mimetype": "text/x-python",
   "name": "python",
   "nbconvert_exporter": "python",
   "pygments_lexer": "ipython3",
   "version": "3.10.4"
  }
 },
 "nbformat": 4,
 "nbformat_minor": 5
}
