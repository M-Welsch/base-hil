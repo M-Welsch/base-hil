{
 "cells": [
  {
   "cell_type": "code",
   "execution_count": 1,
   "id": "a7a20e48-104a-487f-9deb-e20be211a556",
   "metadata": {},
   "outputs": [],
   "source": [
    "from hil_control.hw_rev4_dock_undock import HwRev4DockUndock, pcu\n",
    "import matplotlib.pyplot as plt\n",
    "import pandas as pd\n",
    "import pickle\n",
    "from datetime import datetime"
   ]
  },
  {
   "cell_type": "code",
   "execution_count": 22,
   "id": "95845f00-72a0-4bab-920a-172f48c2fdb4",
   "metadata": {},
   "outputs": [],
   "source": [
    "pcu.cmd_dock()\n",
    "pcu.cmd_power_hdd_on()"
   ]
  },
  {
   "cell_type": "code",
   "execution_count": 2,
   "id": "b40c79cd-6091-404b-8f74-311a00be02e5",
   "metadata": {},
   "outputs": [],
   "source": [
    "test = HwRev4DockUndock()"
   ]
  },
  {
   "cell_type": "code",
   "execution_count": 11,
   "id": "026e752f-c544-456e-8004-6dd6006defda",
   "metadata": {},
   "outputs": [
    {
     "name": "stderr",
     "output_type": "stream",
     "text": [
      "umount: /dev/BASE_USB_STICK: No such file or directory\n",
      "102+0 records in\n",
      "102+0 records out\n",
      "1069547520 bytes (1,1 GB, 1020 MiB) copied, 2,18228 s, 490 MB/s\n"
     ]
    }
   ],
   "source": [
    "test.prepare()"
   ]
  },
  {
   "cell_type": "code",
   "execution_count": null,
   "id": "deefc699-0709-4014-9d0a-d9948a379f41",
   "metadata": {},
   "outputs": [
    {
     "name": "stdout",
     "output_type": "stream",
     "text": [
      "2023-09-24 22:30:19 - hil_control.hw_rev4_dock_undock - INFO - finished run 0. Id_avg = 147.1, Id_max = 287.0, Iud_avg 143.2, Iud_max = 314.0, TR=31.4 MB/s, t = 47.1s\n",
      "2023-09-24 22:31:02 - hil_control.hw_rev4_dock_undock - INFO - finished run 1. Id_avg = 144.8, Id_max = 289.0, Iud_avg 147.6, Iud_max = 438.0, TR=37.1 MB/s, t = 42.7s\n",
      "2023-09-24 22:31:45 - hil_control.hw_rev4_dock_undock - INFO - finished run 2. Id_avg = 146.9, Id_max = 287.0, Iud_avg 147.2, Iud_max = 302.0, TR=37.4 MB/s, t = 42.8s\n",
      "2023-09-24 22:32:23 - hil_control.hw_rev4_dock_undock - INFO - finished run 3. Id_avg = 146.2, Id_max = 299.0, Iud_avg 146.0, Iud_max = 289.0, TR=42.8 MB/s, t = 38.2s\n",
      "2023-09-24 22:32:58 - hil_control.hw_rev4_dock_undock - INFO - finished run 4. Id_avg = 147.9, Id_max = 303.0, Iud_avg 144.6, Iud_max = 312.0, TR=52.4 MB/s, t = 34.9s\n",
      "2023-09-24 22:33:47 - hil_control.hw_rev4_dock_undock - INFO - finished run 5. Id_avg = 148.6, Id_max = 290.0, Iud_avg 148.5, Iud_max = 498.0, TR=29.9 MB/s, t = 48.6s\n",
      "2023-09-24 22:34:27 - hil_control.hw_rev4_dock_undock - INFO - finished run 6. Id_avg = 152.4, Id_max = 501.0, Iud_avg 147.8, Iud_max = 376.0, TR=39.7 MB/s, t = 40.5s\n",
      "2023-09-24 22:35:02 - hil_control.hw_rev4_dock_undock - INFO - finished run 7. Id_avg = 147.3, Id_max = 305.0, Iud_avg 146.5, Iud_max = 484.0, TR=50.8 MB/s, t = 34.8s\n",
      "2023-09-24 22:35:41 - hil_control.hw_rev4_dock_undock - INFO - finished run 8. Id_avg = 145.1, Id_max = 284.0, Iud_avg 147.9, Iud_max = 301.0, TR=41.2 MB/s, t = 39.2s\n"
     ]
    },
    {
     "name": "stderr",
     "output_type": "stream",
     "text": [
      "umount: /home/max/Desktop/mntdir: target is busy.\n"
     ]
    },
    {
     "name": "stdout",
     "output_type": "stream",
     "text": [
      "2023-09-24 22:36:10 - hil_control.hw_rev4_dock_undock - INFO - finished run 9. Id_avg = 146.3, Id_max = 300.0, Iud_avg 148.5, Iud_max = 579.0, TR=70.8 MB/s, t = 28.5s\n",
      "2023-09-24 22:36:55 - hil_control.hw_rev4_dock_undock - INFO - finished run 10. Id_avg = 146.4, Id_max = 300.0, Iud_avg 145.8, Iud_max = 422.0, TR=34.2 MB/s, t = 45.5s\n",
      "2023-09-24 22:37:29 - hil_control.hw_rev4_dock_undock - INFO - finished run 11. Id_avg = 150.5, Id_max = 494.0, Iud_avg 147.8, Iud_max = 509.0, TR=52.6 MB/s, t = 33.9s\n",
      "2023-09-24 22:38:10 - hil_control.hw_rev4_dock_undock - INFO - finished run 12. Id_avg = 149.0, Id_max = 305.0, Iud_avg 145.1, Iud_max = 319.0, TR=38.8 MB/s, t = 40.8s\n",
      "2023-09-24 22:38:45 - hil_control.hw_rev4_dock_undock - INFO - finished run 13. Id_avg = 146.7, Id_max = 283.0, Iud_avg 146.6, Iud_max = 396.0, TR=51.5 MB/s, t = 34.9s\n",
      "2023-09-24 22:39:29 - hil_control.hw_rev4_dock_undock - INFO - finished run 14. Id_avg = 146.9, Id_max = 284.0, Iud_avg 145.2, Iud_max = 455.0, TR=36.1 MB/s, t = 43.7s\n",
      "2023-09-24 22:40:08 - hil_control.hw_rev4_dock_undock - INFO - finished run 15. Id_avg = 145.1, Id_max = 289.0, Iud_avg 148.4, Iud_max = 509.0, TR=43.1 MB/s, t = 39.4s\n",
      "2023-09-24 22:40:39 - hil_control.hw_rev4_dock_undock - INFO - finished run 16. Id_avg = 146.9, Id_max = 303.0, Iud_avg 149.2, Iud_max = 510.0, TR=61.3 MB/s, t = 31.2s\n",
      "2023-09-24 22:41:16 - hil_control.hw_rev4_dock_undock - INFO - finished run 17. Id_avg = 146.0, Id_max = 283.0, Iud_avg 147.0, Iud_max = 314.0, TR=47.2 MB/s, t = 36.9s\n",
      "2023-09-24 22:41:47 - hil_control.hw_rev4_dock_undock - INFO - finished run 18. Id_avg = 144.6, Id_max = 303.0, Iud_avg 146.5, Iud_max = 322.0, TR=64.9 MB/s, t = 30.4s\n",
      "2023-09-24 22:42:16 - hil_control.hw_rev4_dock_undock - INFO - finished run 19. Id_avg = 146.9, Id_max = 304.0, Iud_avg 145.8, Iud_max = 325.0, TR=70.9 MB/s, t = 29.4s\n",
      "2023-09-24 22:42:56 - hil_control.hw_rev4_dock_undock - INFO - finished run 20. Id_avg = 145.7, Id_max = 306.0, Iud_avg 150.8, Iud_max = 412.0, TR=42.0 MB/s, t = 40.1s\n",
      "2023-09-24 22:43:32 - hil_control.hw_rev4_dock_undock - INFO - finished run 21. Id_avg = 146.8, Id_max = 407.0, Iud_avg 145.1, Iud_max = 333.0, TR=47.9 MB/s, t = 35.5s\n",
      "2023-09-24 22:44:18 - hil_control.hw_rev4_dock_undock - INFO - finished run 22. Id_avg = 146.8, Id_max = 299.0, Iud_avg 143.0, Iud_max = 323.0, TR=32.0 MB/s, t = 46.3s\n",
      "2023-09-24 22:45:01 - hil_control.hw_rev4_dock_undock - INFO - finished run 23. Id_avg = 147.6, Id_max = 304.0, Iud_avg 147.9, Iud_max = 372.0, TR=36.9 MB/s, t = 42.7s\n",
      "2023-09-24 22:45:36 - hil_control.hw_rev4_dock_undock - INFO - finished run 24. Id_avg = 145.6, Id_max = 291.0, Iud_avg 147.2, Iud_max = 322.0, TR=48.6 MB/s, t = 35.3s\n",
      "2023-09-24 22:46:13 - hil_control.hw_rev4_dock_undock - INFO - finished run 25. Id_avg = 148.6, Id_max = 349.0, Iud_avg 146.7, Iud_max = 320.0, TR=47.5 MB/s, t = 37.2s\n",
      "2023-09-24 22:46:49 - hil_control.hw_rev4_dock_undock - INFO - finished run 26. Id_avg = 149.6, Id_max = 399.0, Iud_avg 147.3, Iud_max = 378.0, TR=48.8 MB/s, t = 35.3s\n",
      "2023-09-24 22:47:32 - hil_control.hw_rev4_dock_undock - INFO - finished run 27. Id_avg = 145.8, Id_max = 301.0, Iud_avg 145.5, Iud_max = 376.0, TR=35.6 MB/s, t = 43.7s\n",
      "2023-09-24 22:48:09 - hil_control.hw_rev4_dock_undock - INFO - finished run 28. Id_avg = 146.4, Id_max = 304.0, Iud_avg 146.3, Iud_max = 503.0, TR=45.5 MB/s, t = 37.2s\n",
      "2023-09-24 22:48:45 - hil_control.hw_rev4_dock_undock - INFO - finished run 29. Id_avg = 146.5, Id_max = 302.0, Iud_avg 149.0, Iud_max = 471.0, TR=50.4 MB/s, t = 35.1s\n",
      "2023-09-24 22:49:22 - hil_control.hw_rev4_dock_undock - INFO - finished run 30. Id_avg = 148.4, Id_max = 488.0, Iud_avg 147.6, Iud_max = 377.0, TR=44.8 MB/s, t = 37.0s\n"
     ]
    },
    {
     "name": "stderr",
     "output_type": "stream",
     "text": [
      "umount: /home/max/Desktop/mntdir: target is busy.\n"
     ]
    },
    {
     "name": "stdout",
     "output_type": "stream",
     "text": [
      "2023-09-24 22:50:03 - hil_control.hw_rev4_dock_undock - INFO - finished run 31. Id_avg = 146.1, Id_max = 307.0, Iud_avg 145.8, Iud_max = 351.0, TR=37.1 MB/s, t = 41.5s\n",
      "2023-09-24 22:50:49 - hil_control.hw_rev4_dock_undock - INFO - finished run 32. Id_avg = 144.6, Id_max = 289.0, Iud_avg 145.4, Iud_max = 305.0, TR=35.0 MB/s, t = 45.7s\n",
      "2023-09-24 22:51:29 - hil_control.hw_rev4_dock_undock - INFO - finished run 33. Id_avg = 148.6, Id_max = 306.0, Iud_avg 146.0, Iud_max = 326.0, TR=40.2 MB/s, t = 39.8s\n",
      "2023-09-24 22:52:03 - hil_control.hw_rev4_dock_undock - INFO - finished run 34. Id_avg = 146.0, Id_max = 290.0, Iud_avg 147.6, Iud_max = 385.0, TR=51.3 MB/s, t = 34.0s\n",
      "2023-09-24 22:52:44 - hil_control.hw_rev4_dock_undock - INFO - finished run 35. Id_avg = 145.0, Id_max = 302.0, Iud_avg 150.2, Iud_max = 498.0, TR=38.2 MB/s, t = 41.1s\n",
      "2023-09-24 22:53:23 - hil_control.hw_rev4_dock_undock - INFO - finished run 36. Id_avg = 146.4, Id_max = 305.0, Iud_avg 150.0, Iud_max = 500.0, TR=42.3 MB/s, t = 39.1s\n",
      "2023-09-24 22:54:05 - hil_control.hw_rev4_dock_undock - INFO - finished run 37. Id_avg = 147.8, Id_max = 305.0, Iud_avg 146.1, Iud_max = 464.0, TR=37.4 MB/s, t = 42.0s\n",
      "2023-09-24 22:54:44 - hil_control.hw_rev4_dock_undock - INFO - finished run 38. Id_avg = 145.5, Id_max = 291.0, Iud_avg 150.0, Iud_max = 392.0, TR=41.6 MB/s, t = 39.4s\n",
      "2023-09-24 22:55:22 - hil_control.hw_rev4_dock_undock - INFO - finished run 39. Id_avg = 146.4, Id_max = 308.0, Iud_avg 147.0, Iud_max = 485.0, TR=44.5 MB/s, t = 37.6s\n",
      "2023-09-24 22:56:01 - hil_control.hw_rev4_dock_undock - INFO - finished run 40. Id_avg = 145.3, Id_max = 291.0, Iud_avg 150.2, Iud_max = 479.0, TR=41.2 MB/s, t = 39.4s\n",
      "2023-09-24 22:56:37 - hil_control.hw_rev4_dock_undock - INFO - finished run 41. Id_avg = 146.6, Id_max = 458.0, Iud_avg 143.9, Iud_max = 292.0, TR=48.7 MB/s, t = 35.7s\n"
     ]
    },
    {
     "name": "stderr",
     "output_type": "stream",
     "text": [
      "umount: /home/max/Desktop/mntdir: target is busy.\n"
     ]
    },
    {
     "name": "stdout",
     "output_type": "stream",
     "text": [
      "2023-09-24 22:57:15 - hil_control.hw_rev4_dock_undock - INFO - finished run 42. Id_avg = 146.7, Id_max = 277.0, Iud_avg 152.4, Iud_max = 509.0, TR=42.7 MB/s, t = 37.8s\n",
      "2023-09-24 22:57:53 - hil_control.hw_rev4_dock_undock - INFO - finished run 43. Id_avg = 147.2, Id_max = 306.0, Iud_avg 149.1, Iud_max = 498.0, TR=43.3 MB/s, t = 38.8s\n",
      "2023-09-24 22:58:41 - hil_control.hw_rev4_dock_undock - INFO - finished run 44. Id_avg = 147.5, Id_max = 291.0, Iud_avg 147.2, Iud_max = 495.0, TR=30.7 MB/s, t = 47.5s\n",
      "2023-09-24 22:59:19 - hil_control.hw_rev4_dock_undock - INFO - finished run 45. Id_avg = 147.7, Id_max = 291.0, Iud_avg 147.8, Iud_max = 487.0, TR=43.8 MB/s, t = 38.0s\n",
      "2023-09-24 23:00:00 - hil_control.hw_rev4_dock_undock - INFO - finished run 46. Id_avg = 145.7, Id_max = 307.0, Iud_avg 144.2, Iud_max = 342.0, TR=38.3 MB/s, t = 41.4s\n",
      "2023-09-24 23:00:40 - hil_control.hw_rev4_dock_undock - INFO - finished run 47. Id_avg = 148.0, Id_max = 380.0, Iud_avg 145.6, Iud_max = 358.0, TR=41.8 MB/s, t = 39.3s\n",
      "2023-09-24 23:01:15 - hil_control.hw_rev4_dock_undock - INFO - finished run 48. Id_avg = 148.4, Id_max = 291.0, Iud_avg 145.9, Iud_max = 289.0, TR=48.5 MB/s, t = 35.7s\n",
      "2023-09-24 23:01:53 - hil_control.hw_rev4_dock_undock - INFO - finished run 49. Id_avg = 152.8, Id_max = 1008.0, Iud_avg 143.8, Iud_max = 322.0, TR=43.5 MB/s, t = 37.7s\n",
      "2023-09-24 23:02:28 - hil_control.hw_rev4_dock_undock - INFO - finished run 50. Id_avg = 146.6, Id_max = 289.0, Iud_avg 148.7, Iud_max = 375.0, TR=51.3 MB/s, t = 35.2s\n",
      "2023-09-24 23:03:05 - hil_control.hw_rev4_dock_undock - INFO - finished run 51. Id_avg = 147.1, Id_max = 305.0, Iud_avg 149.8, Iud_max = 482.0, TR=44.5 MB/s, t = 37.2s\n",
      "2023-09-24 23:03:42 - hil_control.hw_rev4_dock_undock - INFO - finished run 52. Id_avg = 147.8, Id_max = 297.0, Iud_avg 148.3, Iud_max = 383.0, TR=44.9 MB/s, t = 36.9s\n",
      "2023-09-24 23:04:20 - hil_control.hw_rev4_dock_undock - INFO - finished run 53. Id_avg = 145.5, Id_max = 289.0, Iud_avg 147.5, Iud_max = 546.0, TR=43.4 MB/s, t = 38.0s\n",
      "2023-09-24 23:04:56 - hil_control.hw_rev4_dock_undock - INFO - finished run 54. Id_avg = 144.8, Id_max = 290.0, Iud_avg 145.5, Iud_max = 287.0, TR=47.8 MB/s, t = 35.7s\n"
     ]
    },
    {
     "name": "stderr",
     "output_type": "stream",
     "text": [
      "umount: /home/max/Desktop/mntdir: target is busy.\n"
     ]
    },
    {
     "name": "stdout",
     "output_type": "stream",
     "text": [
      "2023-09-24 23:05:33 - hil_control.hw_rev4_dock_undock - INFO - finished run 55. Id_avg = 149.0, Id_max = 310.0, Iud_avg 144.5, Iud_max = 367.0, TR=47.5 MB/s, t = 37.0s\n",
      "2023-09-24 23:06:05 - hil_control.hw_rev4_dock_undock - INFO - finished run 56. Id_avg = 146.0, Id_max = 304.0, Iud_avg 147.6, Iud_max = 500.0, TR=57.9 MB/s, t = 31.8s\n",
      "2023-09-24 23:06:44 - hil_control.hw_rev4_dock_undock - INFO - finished run 57. Id_avg = 147.5, Id_max = 293.0, Iud_avg 147.3, Iud_max = 328.0, TR=41.6 MB/s, t = 39.1s\n",
      "2023-09-24 23:07:22 - hil_control.hw_rev4_dock_undock - INFO - finished run 58. Id_avg = 144.5, Id_max = 288.0, Iud_avg 147.2, Iud_max = 504.0, TR=43.9 MB/s, t = 37.7s\n",
      "2023-09-24 23:08:01 - hil_control.hw_rev4_dock_undock - INFO - finished run 59. Id_avg = 146.4, Id_max = 307.0, Iud_avg 143.1, Iud_max = 423.0, TR=42.7 MB/s, t = 39.0s\n",
      "2023-09-24 23:08:40 - hil_control.hw_rev4_dock_undock - INFO - finished run 60. Id_avg = 145.5, Id_max = 291.0, Iud_avg 144.3, Iud_max = 290.0, TR=40.6 MB/s, t = 39.5s\n",
      "2023-09-24 23:09:19 - hil_control.hw_rev4_dock_undock - INFO - finished run 61. Id_avg = 145.9, Id_max = 292.0, Iud_avg 143.0, Iud_max = 301.0, TR=41.8 MB/s, t = 39.0s\n",
      "2023-09-24 23:09:59 - hil_control.hw_rev4_dock_undock - INFO - finished run 62. Id_avg = 145.8, Id_max = 293.0, Iud_avg 145.5, Iud_max = 330.0, TR=42.9 MB/s, t = 39.4s\n",
      "2023-09-24 23:10:32 - hil_control.hw_rev4_dock_undock - INFO - finished run 63. Id_avg = 147.4, Id_max = 331.0, Iud_avg 144.6, Iud_max = 315.0, TR=53.4 MB/s, t = 33.4s\n",
      "2023-09-24 23:11:16 - hil_control.hw_rev4_dock_undock - INFO - finished run 64. Id_avg = 148.4, Id_max = 358.0, Iud_avg 147.7, Iud_max = 449.0, TR=36.4 MB/s, t = 43.6s\n",
      "2023-09-24 23:11:55 - hil_control.hw_rev4_dock_undock - INFO - finished run 65. Id_avg = 146.4, Id_max = 305.0, Iud_avg 147.0, Iud_max = 477.0, TR=41.2 MB/s, t = 39.2s\n",
      "2023-09-24 23:12:32 - hil_control.hw_rev4_dock_undock - INFO - finished run 66. Id_avg = 145.4, Id_max = 290.0, Iud_avg 146.6, Iud_max = 452.0, TR=44.9 MB/s, t = 37.1s\n",
      "2023-09-24 23:13:16 - hil_control.hw_rev4_dock_undock - INFO - finished run 67. Id_avg = 147.2, Id_max = 305.0, Iud_avg 143.0, Iud_max = 345.0, TR=35.5 MB/s, t = 43.5s\n",
      "2023-09-24 23:13:56 - hil_control.hw_rev4_dock_undock - INFO - finished run 68. Id_avg = 148.7, Id_max = 379.0, Iud_avg 146.2, Iud_max = 450.0, TR=38.6 MB/s, t = 40.8s\n",
      "2023-09-24 23:14:34 - hil_control.hw_rev4_dock_undock - INFO - finished run 69. Id_avg = 148.5, Id_max = 304.0, Iud_avg 147.6, Iud_max = 470.0, TR=45.6 MB/s, t = 37.9s\n",
      "2023-09-24 23:15:17 - hil_control.hw_rev4_dock_undock - INFO - finished run 70. Id_avg = 143.9, Id_max = 288.0, Iud_avg 149.7, Iud_max = 436.0, TR=36.2 MB/s, t = 42.7s\n",
      "2023-09-24 23:16:02 - hil_control.hw_rev4_dock_undock - INFO - finished run 71. Id_avg = 146.5, Id_max = 288.0, Iud_avg 147.4, Iud_max = 501.0, TR=33.3 MB/s, t = 45.2s\n",
      "2023-09-24 23:16:41 - hil_control.hw_rev4_dock_undock - INFO - finished run 72. Id_avg = 146.1, Id_max = 288.0, Iud_avg 144.5, Iud_max = 305.0, TR=41.0 MB/s, t = 39.2s\n",
      "2023-09-24 23:17:18 - hil_control.hw_rev4_dock_undock - INFO - finished run 73. Id_avg = 151.8, Id_max = 435.0, Iud_avg 144.0, Iud_max = 332.0, TR=47.7 MB/s, t = 37.1s\n",
      "2023-09-24 23:17:57 - hil_control.hw_rev4_dock_undock - INFO - finished run 74. Id_avg = 146.6, Id_max = 292.0, Iud_avg 146.3, Iud_max = 494.0, TR=43.9 MB/s, t = 38.2s\n",
      "2023-09-24 23:18:34 - hil_control.hw_rev4_dock_undock - INFO - finished run 75. Id_avg = 145.9, Id_max = 293.0, Iud_avg 145.6, Iud_max = 364.0, TR=44.7 MB/s, t = 37.2s\n",
      "2023-09-24 23:19:16 - hil_control.hw_rev4_dock_undock - INFO - finished run 76. Id_avg = 149.2, Id_max = 483.0, Iud_avg 145.0, Iud_max = 457.0, TR=37.2 MB/s, t = 41.8s\n",
      "2023-09-24 23:19:58 - hil_control.hw_rev4_dock_undock - INFO - finished run 77. Id_avg = 147.0, Id_max = 294.0, Iud_avg 149.4, Iud_max = 433.0, TR=37.6 MB/s, t = 42.5s\n",
      "2023-09-24 23:20:36 - hil_control.hw_rev4_dock_undock - INFO - finished run 78. Id_avg = 145.9, Id_max = 290.0, Iud_avg 150.4, Iud_max = 366.0, TR=43.9 MB/s, t = 37.9s\n",
      "2023-09-24 23:21:14 - hil_control.hw_rev4_dock_undock - INFO - finished run 79. Id_avg = 146.4, Id_max = 292.0, Iud_avg 146.5, Iud_max = 312.0, TR=43.6 MB/s, t = 37.9s\n",
      "2023-09-24 23:21:57 - hil_control.hw_rev4_dock_undock - INFO - finished run 80. Id_avg = 147.7, Id_max = 293.0, Iud_avg 146.5, Iud_max = 324.0, TR=35.1 MB/s, t = 43.3s\n",
      "2023-09-24 23:22:44 - hil_control.hw_rev4_dock_undock - INFO - finished run 81. Id_avg = 147.1, Id_max = 498.0, Iud_avg 149.9, Iud_max = 341.0, TR=32.3 MB/s, t = 47.1s\n",
      "2023-09-24 23:23:24 - hil_control.hw_rev4_dock_undock - INFO - finished run 82. Id_avg = 144.9, Id_max = 301.0, Iud_avg 145.8, Iud_max = 426.0, TR=42.8 MB/s, t = 39.4s\n",
      "2023-09-24 23:24:03 - hil_control.hw_rev4_dock_undock - INFO - finished run 83. Id_avg = 144.8, Id_max = 297.0, Iud_avg 147.2, Iud_max = 415.0, TR=41.2 MB/s, t = 39.1s\n",
      "2023-09-24 23:24:45 - hil_control.hw_rev4_dock_undock - INFO - finished run 84. Id_avg = 147.8, Id_max = 291.0, Iud_avg 146.3, Iud_max = 414.0, TR=37.7 MB/s, t = 42.4s\n",
      "2023-09-24 23:25:25 - hil_control.hw_rev4_dock_undock - INFO - finished run 85. Id_avg = 145.9, Id_max = 288.0, Iud_avg 146.9, Iud_max = 385.0, TR=42.9 MB/s, t = 39.4s\n",
      "2023-09-24 23:26:06 - hil_control.hw_rev4_dock_undock - INFO - finished run 86. Id_avg = 145.1, Id_max = 286.0, Iud_avg 145.3, Iud_max = 295.0, TR=39.3 MB/s, t = 41.4s\n",
      "2023-09-24 23:26:49 - hil_control.hw_rev4_dock_undock - INFO - finished run 87. Id_avg = 146.0, Id_max = 307.0, Iud_avg 146.4, Iud_max = 375.0, TR=35.0 MB/s, t = 43.3s\n",
      "2023-09-24 23:27:37 - hil_control.hw_rev4_dock_undock - INFO - finished run 88. Id_avg = 144.0, Id_max = 291.0, Iud_avg 149.5, Iud_max = 420.0, TR=31.9 MB/s, t = 47.1s\n",
      "2023-09-24 23:28:16 - hil_control.hw_rev4_dock_undock - INFO - finished run 89. Id_avg = 145.9, Id_max = 308.0, Iud_avg 147.0, Iud_max = 337.0, TR=42.6 MB/s, t = 39.2s\n",
      "2023-09-24 23:28:57 - hil_control.hw_rev4_dock_undock - INFO - finished run 90. Id_avg = 146.8, Id_max = 301.0, Iud_avg 147.9, Iud_max = 482.0, TR=37.4 MB/s, t = 41.6s\n",
      "2023-09-24 23:29:39 - hil_control.hw_rev4_dock_undock - INFO - finished run 91. Id_avg = 151.0, Id_max = 359.0, Iud_avg 147.0, Iud_max = 505.0, TR=38.2 MB/s, t = 41.2s\n",
      "2023-09-24 23:30:20 - hil_control.hw_rev4_dock_undock - INFO - finished run 92. Id_avg = 147.0, Id_max = 307.0, Iud_avg 143.5, Iud_max = 291.0, TR=36.9 MB/s, t = 41.8s\n",
      "2023-09-24 23:31:04 - hil_control.hw_rev4_dock_undock - INFO - finished run 93. Id_avg = 146.5, Id_max = 276.0, Iud_avg 147.2, Iud_max = 385.0, TR=36.2 MB/s, t = 43.3s\n",
      "2023-09-24 23:31:48 - hil_control.hw_rev4_dock_undock - INFO - finished run 94. Id_avg = 145.3, Id_max = 306.0, Iud_avg 147.3, Iud_max = 502.0, TR=34.1 MB/s, t = 44.8s\n",
      "2023-09-24 23:32:28 - hil_control.hw_rev4_dock_undock - INFO - finished run 95. Id_avg = 145.2, Id_max = 299.0, Iud_avg 148.0, Iud_max = 508.0, TR=41.6 MB/s, t = 39.3s\n",
      "2023-09-24 23:33:07 - hil_control.hw_rev4_dock_undock - INFO - finished run 96. Id_avg = 145.9, Id_max = 299.0, Iud_avg 147.0, Iud_max = 370.0, TR=41.6 MB/s, t = 39.3s\n",
      "2023-09-24 23:33:54 - hil_control.hw_rev4_dock_undock - INFO - finished run 97. Id_avg = 148.3, Id_max = 390.0, Iud_avg 147.2, Iud_max = 374.0, TR=31.6 MB/s, t = 46.9s\n",
      "2023-09-24 23:34:37 - hil_control.hw_rev4_dock_undock - INFO - finished run 98. Id_avg = 147.8, Id_max = 288.0, Iud_avg 148.9, Iud_max = 483.0, TR=36.9 MB/s, t = 43.1s\n",
      "2023-09-24 23:35:15 - hil_control.hw_rev4_dock_undock - INFO - finished run 99. Id_avg = 147.8, Id_max = 291.0, Iud_avg 146.8, Iud_max = 467.0, TR=43.8 MB/s, t = 37.9s\n",
      "2023-09-24 23:35:54 - hil_control.hw_rev4_dock_undock - INFO - finished run 100. Id_avg = 145.7, Id_max = 294.0, Iud_avg 147.3, Iud_max = 351.0, TR=41.1 MB/s, t = 39.3s\n",
      "2023-09-24 23:36:33 - hil_control.hw_rev4_dock_undock - INFO - finished run 101. Id_avg = 146.4, Id_max = 303.0, Iud_avg 147.5, Iud_max = 504.0, TR=44.6 MB/s, t = 38.6s\n",
      "2023-09-24 23:37:10 - hil_control.hw_rev4_dock_undock - INFO - finished run 102. Id_avg = 145.1, Id_max = 288.0, Iud_avg 148.2, Iud_max = 487.0, TR=46.6 MB/s, t = 36.9s\n",
      "2023-09-24 23:37:47 - hil_control.hw_rev4_dock_undock - INFO - finished run 103. Id_avg = 144.7, Id_max = 289.0, Iud_avg 145.6, Iud_max = 374.0, TR=44.1 MB/s, t = 37.5s\n",
      "2023-09-24 23:38:28 - hil_control.hw_rev4_dock_undock - INFO - finished run 104. Id_avg = 144.8, Id_max = 292.0, Iud_avg 144.6, Iud_max = 391.0, TR=39.5 MB/s, t = 40.5s\n",
      "2023-09-24 23:39:04 - hil_control.hw_rev4_dock_undock - INFO - finished run 105. Id_avg = 145.2, Id_max = 304.0, Iud_avg 144.9, Iud_max = 346.0, TR=48.3 MB/s, t = 35.7s\n",
      "2023-09-24 23:39:43 - hil_control.hw_rev4_dock_undock - INFO - finished run 106. Id_avg = 146.5, Id_max = 299.0, Iud_avg 146.6, Iud_max = 391.0, TR=40.7 MB/s, t = 39.7s\n",
      "2023-09-24 23:40:26 - hil_control.hw_rev4_dock_undock - INFO - finished run 107. Id_avg = 145.7, Id_max = 293.0, Iud_avg 145.0, Iud_max = 291.0, TR=35.6 MB/s, t = 42.8s\n",
      "2023-09-24 23:41:09 - hil_control.hw_rev4_dock_undock - INFO - finished run 108. Id_avg = 146.4, Id_max = 287.0, Iud_avg 147.5, Iud_max = 485.0, TR=36.2 MB/s, t = 43.3s\n",
      "2023-09-24 23:41:48 - hil_control.hw_rev4_dock_undock - INFO - finished run 109. Id_avg = 147.6, Id_max = 304.0, Iud_avg 145.6, Iud_max = 352.0, TR=41.5 MB/s, t = 38.6s\n",
      "2023-09-24 23:42:31 - hil_control.hw_rev4_dock_undock - INFO - finished run 110. Id_avg = 145.2, Id_max = 302.0, Iud_avg 147.8, Iud_max = 434.0, TR=37.0 MB/s, t = 42.6s\n",
      "2023-09-24 23:43:15 - hil_control.hw_rev4_dock_undock - INFO - finished run 111. Id_avg = 147.2, Id_max = 305.0, Iud_avg 144.8, Iud_max = 396.0, TR=34.9 MB/s, t = 44.9s\n",
      "2023-09-24 23:44:03 - hil_control.hw_rev4_dock_undock - INFO - finished run 112. Id_avg = 147.8, Id_max = 408.0, Iud_avg 145.7, Iud_max = 375.0, TR=30.8 MB/s, t = 47.8s\n",
      "2023-09-24 23:44:40 - hil_control.hw_rev4_dock_undock - INFO - finished run 113. Id_avg = 146.6, Id_max = 305.0, Iud_avg 147.0, Iud_max = 367.0, TR=44.9 MB/s, t = 36.9s\n",
      "2023-09-24 23:45:20 - hil_control.hw_rev4_dock_undock - INFO - finished run 114. Id_avg = 145.6, Id_max = 307.0, Iud_avg 149.1, Iud_max = 500.0, TR=40.7 MB/s, t = 39.5s\n",
      "2023-09-24 23:46:01 - hil_control.hw_rev4_dock_undock - INFO - finished run 115. Id_avg = 147.1, Id_max = 299.0, Iud_avg 150.2, Iud_max = 612.0, TR=38.4 MB/s, t = 41.2s\n",
      "2023-09-24 23:46:44 - hil_control.hw_rev4_dock_undock - INFO - finished run 116. Id_avg = 147.9, Id_max = 337.0, Iud_avg 147.6, Iud_max = 450.0, TR=36.5 MB/s, t = 43.2s\n",
      "2023-09-24 23:47:20 - hil_control.hw_rev4_dock_undock - INFO - finished run 117. Id_avg = 146.2, Id_max = 292.0, Iud_avg 147.0, Iud_max = 594.0, TR=48.2 MB/s, t = 35.4s\n",
      "2023-09-24 23:48:10 - hil_control.hw_rev4_dock_undock - INFO - finished run 118. Id_avg = 146.6, Id_max = 293.0, Iud_avg 146.8, Iud_max = 358.0, TR=28.0 MB/s, t = 50.6s\n",
      "2023-09-24 23:48:49 - hil_control.hw_rev4_dock_undock - INFO - finished run 119. Id_avg = 148.7, Id_max = 293.0, Iud_avg 146.0, Iud_max = 364.0, TR=41.3 MB/s, t = 39.2s\n",
      "2023-09-24 23:49:29 - hil_control.hw_rev4_dock_undock - INFO - finished run 120. Id_avg = 147.2, Id_max = 288.0, Iud_avg 146.9, Iud_max = 423.0, TR=40.2 MB/s, t = 39.8s\n",
      "2023-09-24 23:50:12 - hil_control.hw_rev4_dock_undock - INFO - finished run 121. Id_avg = 145.9, Id_max = 293.0, Iud_avg 150.1, Iud_max = 480.0, TR=35.9 MB/s, t = 43.1s\n",
      "2023-09-24 23:50:54 - hil_control.hw_rev4_dock_undock - INFO - finished run 122. Id_avg = 146.2, Id_max = 288.0, Iud_avg 144.7, Iud_max = 365.0, TR=37.0 MB/s, t = 42.0s\n",
      "2023-09-24 23:51:38 - hil_control.hw_rev4_dock_undock - INFO - finished run 123. Id_avg = 146.2, Id_max = 293.0, Iud_avg 150.6, Iud_max = 960.0, TR=36.2 MB/s, t = 43.3s\n",
      "2023-09-24 23:52:18 - hil_control.hw_rev4_dock_undock - INFO - finished run 124. Id_avg = 146.8, Id_max = 289.0, Iud_avg 145.8, Iud_max = 371.0, TR=39.4 MB/s, t = 40.2s\n",
      "2023-09-24 23:53:00 - hil_control.hw_rev4_dock_undock - INFO - finished run 125. Id_avg = 151.1, Id_max = 703.0, Iud_avg 147.7, Iud_max = 421.0, TR=37.9 MB/s, t = 41.8s\n",
      "2023-09-24 23:53:46 - hil_control.hw_rev4_dock_undock - INFO - finished run 126. Id_avg = 148.2, Id_max = 310.0, Iud_avg 147.4, Iud_max = 318.0, TR=32.4 MB/s, t = 46.6s\n",
      "2023-09-24 23:54:34 - hil_control.hw_rev4_dock_undock - INFO - finished run 127. Id_avg = 147.8, Id_max = 292.0, Iud_avg 144.2, Iud_max = 358.0, TR=30.6 MB/s, t = 47.9s\n",
      "2023-09-24 23:55:23 - hil_control.hw_rev4_dock_undock - INFO - finished run 128. Id_avg = 144.4, Id_max = 300.0, Iud_avg 146.1, Iud_max = 377.0, TR=29.2 MB/s, t = 49.0s\n",
      "2023-09-24 23:56:05 - hil_control.hw_rev4_dock_undock - INFO - finished run 129. Id_avg = 145.4, Id_max = 288.0, Iud_avg 145.9, Iud_max = 378.0, TR=37.0 MB/s, t = 41.9s\n",
      "2023-09-24 23:56:52 - hil_control.hw_rev4_dock_undock - INFO - finished run 130. Id_avg = 145.9, Id_max = 300.0, Iud_avg 146.2, Iud_max = 436.0, TR=31.9 MB/s, t = 47.1s\n",
      "2023-09-24 23:57:38 - hil_control.hw_rev4_dock_undock - INFO - finished run 131. Id_avg = 146.6, Id_max = 306.0, Iud_avg 145.8, Iud_max = 319.0, TR=33.5 MB/s, t = 45.7s\n",
      "2023-09-24 23:58:29 - hil_control.hw_rev4_dock_undock - INFO - finished run 132. Id_avg = 150.5, Id_max = 473.0, Iud_avg 144.2, Iud_max = 358.0, TR=35.1 MB/s, t = 50.9s\n"
     ]
    },
    {
     "name": "stderr",
     "output_type": "stream",
     "text": [
      "umount: /home/max/Desktop/mntdir: target is busy.\n"
     ]
    },
    {
     "name": "stdout",
     "output_type": "stream",
     "text": [
      "2023-09-24 23:59:11 - hil_control.hw_rev4_dock_undock - INFO - finished run 133. Id_avg = 151.4, Id_max = 549.0, Iud_avg 146.3, Iud_max = 468.0, TR=35.7 MB/s, t = 42.8s\n",
      "2023-09-24 23:59:56 - hil_control.hw_rev4_dock_undock - INFO - finished run 134. Id_avg = 144.5, Id_max = 303.0, Iud_avg 148.7, Iud_max = 465.0, TR=34.9 MB/s, t = 44.4s\n",
      "2023-09-25 00:00:55 - hil_control.hw_rev4_dock_undock - INFO - finished run 135. Id_avg = 145.7, Id_max = 289.0, Iud_avg 145.2, Iud_max = 295.0, TR=26.7 MB/s, t = 59.6s\n",
      "2023-09-25 00:01:39 - hil_control.hw_rev4_dock_undock - INFO - finished run 136. Id_avg = 144.4, Id_max = 303.0, Iud_avg 147.0, Iud_max = 431.0, TR=34.5 MB/s, t = 43.9s\n",
      "2023-09-25 00:02:25 - hil_control.hw_rev4_dock_undock - INFO - finished run 137. Id_avg = 148.6, Id_max = 441.0, Iud_avg 146.7, Iud_max = 348.0, TR=32.7 MB/s, t = 45.7s\n",
      "2023-09-25 00:03:05 - hil_control.hw_rev4_dock_undock - INFO - finished run 138. Id_avg = 145.1, Id_max = 319.0, Iud_avg 148.6, Iud_max = 466.0, TR=39.5 MB/s, t = 39.9s\n",
      "2023-09-25 00:03:48 - hil_control.hw_rev4_dock_undock - INFO - finished run 139. Id_avg = 145.9, Id_max = 289.0, Iud_avg 146.3, Iud_max = 478.0, TR=35.8 MB/s, t = 43.3s\n",
      "2023-09-25 00:04:36 - hil_control.hw_rev4_dock_undock - INFO - finished run 140. Id_avg = 145.2, Id_max = 292.0, Iud_avg 147.9, Iud_max = 592.0, TR=30.1 MB/s, t = 48.0s\n",
      "2023-09-25 00:05:25 - hil_control.hw_rev4_dock_undock - INFO - finished run 141. Id_avg = 145.1, Id_max = 298.0, Iud_avg 145.1, Iud_max = 333.0, TR=29.9 MB/s, t = 49.2s\n",
      "2023-09-25 00:06:09 - hil_control.hw_rev4_dock_undock - INFO - finished run 142. Id_avg = 146.6, Id_max = 300.0, Iud_avg 143.4, Iud_max = 302.0, TR=35.8 MB/s, t = 43.9s\n",
      "2023-09-25 00:06:53 - hil_control.hw_rev4_dock_undock - INFO - finished run 143. Id_avg = 144.4, Id_max = 288.0, Iud_avg 143.1, Iud_max = 317.0, TR=34.8 MB/s, t = 43.8s\n",
      "2023-09-25 00:07:39 - hil_control.hw_rev4_dock_undock - INFO - finished run 144. Id_avg = 148.2, Id_max = 326.0, Iud_avg 147.4, Iud_max = 440.0, TR=33.2 MB/s, t = 45.6s\n",
      "2023-09-25 00:08:27 - hil_control.hw_rev4_dock_undock - INFO - finished run 145. Id_avg = 147.7, Id_max = 287.0, Iud_avg 146.7, Iud_max = 497.0, TR=31.3 MB/s, t = 48.2s\n",
      "2023-09-25 00:09:11 - hil_control.hw_rev4_dock_undock - INFO - finished run 146. Id_avg = 146.0, Id_max = 273.0, Iud_avg 144.2, Iud_max = 342.0, TR=34.4 MB/s, t = 44.1s\n",
      "2023-09-25 00:10:00 - hil_control.hw_rev4_dock_undock - INFO - finished run 147. Id_avg = 144.4, Id_max = 248.0, Iud_avg 142.2, Iud_max = 305.0, TR=29.8 MB/s, t = 48.7s\n",
      "2023-09-25 00:10:47 - hil_control.hw_rev4_dock_undock - INFO - finished run 148. Id_avg = 145.8, Id_max = 300.0, Iud_avg 145.7, Iud_max = 407.0, TR=30.6 MB/s, t = 47.5s\n",
      "2023-09-25 00:11:32 - hil_control.hw_rev4_dock_undock - INFO - finished run 149. Id_avg = 144.6, Id_max = 266.0, Iud_avg 148.4, Iud_max = 507.0, TR=34.1 MB/s, t = 44.2s\n",
      "2023-09-25 00:12:23 - hil_control.hw_rev4_dock_undock - INFO - finished run 150. Id_avg = 145.9, Id_max = 299.0, Iud_avg 149.8, Iud_max = 494.0, TR=28.8 MB/s, t = 51.2s\n",
      "2023-09-25 00:13:11 - hil_control.hw_rev4_dock_undock - INFO - finished run 151. Id_avg = 150.0, Id_max = 315.0, Iud_avg 142.9, Iud_max = 348.0, TR=31.6 MB/s, t = 47.8s\n",
      "2023-09-25 00:13:56 - hil_control.hw_rev4_dock_undock - INFO - finished run 152. Id_avg = 145.5, Id_max = 298.0, Iud_avg 147.8, Iud_max = 434.0, TR=32.9 MB/s, t = 45.7s\n",
      "2023-09-25 00:14:46 - hil_control.hw_rev4_dock_undock - INFO - finished run 153. Id_avg = 146.3, Id_max = 294.0, Iud_avg 144.7, Iud_max = 374.0, TR=28.4 MB/s, t = 50.1s\n",
      "2023-09-25 00:15:38 - hil_control.hw_rev4_dock_undock - INFO - finished run 154. Id_avg = 145.3, Id_max = 300.0, Iud_avg 148.6, Iud_max = 475.0, TR=28.7 MB/s, t = 51.2s\n",
      "2023-09-25 00:16:26 - hil_control.hw_rev4_dock_undock - INFO - finished run 155. Id_avg = 144.7, Id_max = 307.0, Iud_avg 145.0, Iud_max = 315.0, TR=30.5 MB/s, t = 48.3s\n",
      "2023-09-25 00:17:15 - hil_control.hw_rev4_dock_undock - INFO - finished run 156. Id_avg = 144.9, Id_max = 276.0, Iud_avg 147.8, Iud_max = 374.0, TR=29.3 MB/s, t = 49.1s\n",
      "2023-09-25 00:18:04 - hil_control.hw_rev4_dock_undock - INFO - finished run 157. Id_avg = 151.5, Id_max = 533.0, Iud_avg 145.5, Iud_max = 370.0, TR=29.4 MB/s, t = 49.3s\n",
      "2023-09-25 00:18:54 - hil_control.hw_rev4_dock_undock - INFO - finished run 158. Id_avg = 145.4, Id_max = 286.0, Iud_avg 145.3, Iud_max = 294.0, TR=29.5 MB/s, t = 50.2s\n",
      "2023-09-25 00:19:43 - hil_control.hw_rev4_dock_undock - INFO - finished run 159. Id_avg = 145.8, Id_max = 306.0, Iud_avg 145.6, Iud_max = 359.0, TR=29.8 MB/s, t = 48.7s\n",
      "2023-09-25 00:20:32 - hil_control.hw_rev4_dock_undock - INFO - finished run 160. Id_avg = 144.9, Id_max = 293.0, Iud_avg 148.1, Iud_max = 454.0, TR=30.3 MB/s, t = 49.4s\n",
      "2023-09-25 00:21:18 - hil_control.hw_rev4_dock_undock - INFO - finished run 161. Id_avg = 145.7, Id_max = 287.0, Iud_avg 146.0, Iud_max = 415.0, TR=33.1 MB/s, t = 45.6s\n",
      "2023-09-25 00:22:06 - hil_control.hw_rev4_dock_undock - INFO - finished run 162. Id_avg = 145.4, Id_max = 293.0, Iud_avg 146.5, Iud_max = 465.0, TR=31.1 MB/s, t = 47.5s\n",
      "2023-09-25 00:22:52 - hil_control.hw_rev4_dock_undock - INFO - finished run 163. Id_avg = 151.5, Id_max = 616.0, Iud_avg 148.8, Iud_max = 500.0, TR=32.1 MB/s, t = 46.4s\n",
      "2023-09-25 00:23:40 - hil_control.hw_rev4_dock_undock - INFO - finished run 164. Id_avg = 147.0, Id_max = 292.0, Iud_avg 147.2, Iud_max = 312.0, TR=30.5 MB/s, t = 47.8s\n",
      "2023-09-25 00:24:25 - hil_control.hw_rev4_dock_undock - INFO - finished run 165. Id_avg = 147.3, Id_max = 293.0, Iud_avg 146.3, Iud_max = 347.0, TR=34.3 MB/s, t = 44.9s\n",
      "2023-09-25 00:25:11 - hil_control.hw_rev4_dock_undock - INFO - finished run 166. Id_avg = 145.8, Id_max = 290.0, Iud_avg 152.1, Iud_max = 659.0, TR=32.1 MB/s, t = 46.4s\n",
      "2023-09-25 00:26:01 - hil_control.hw_rev4_dock_undock - INFO - finished run 167. Id_avg = 145.2, Id_max = 300.0, Iud_avg 147.6, Iud_max = 437.0, TR=29.0 MB/s, t = 50.1s\n",
      "2023-09-25 00:26:49 - hil_control.hw_rev4_dock_undock - INFO - finished run 168. Id_avg = 145.9, Id_max = 299.0, Iud_avg 145.6, Iud_max = 305.0, TR=31.1 MB/s, t = 47.3s\n",
      "2023-09-25 00:27:39 - hil_control.hw_rev4_dock_undock - INFO - finished run 169. Id_avg = 144.2, Id_max = 300.0, Iud_avg 146.2, Iud_max = 304.0, TR=28.6 MB/s, t = 50.2s\n",
      "2023-09-25 00:28:29 - hil_control.hw_rev4_dock_undock - INFO - finished run 170. Id_avg = 145.3, Id_max = 300.0, Iud_avg 148.2, Iud_max = 501.0, TR=29.5 MB/s, t = 50.1s\n",
      "2023-09-25 00:29:21 - hil_control.hw_rev4_dock_undock - INFO - finished run 171. Id_avg = 149.4, Id_max = 302.0, Iud_avg 144.8, Iud_max = 344.0, TR=27.0 MB/s, t = 52.3s\n",
      "2023-09-25 00:30:12 - hil_control.hw_rev4_dock_undock - INFO - finished run 172. Id_avg = 146.7, Id_max = 292.0, Iud_avg 146.9, Iud_max = 374.0, TR=28.5 MB/s, t = 50.8s\n",
      "2023-09-25 00:30:58 - hil_control.hw_rev4_dock_undock - INFO - finished run 173. Id_avg = 146.0, Id_max = 280.0, Iud_avg 144.0, Iud_max = 293.0, TR=32.4 MB/s, t = 45.8s\n",
      "2023-09-25 00:31:47 - hil_control.hw_rev4_dock_undock - INFO - finished run 174. Id_avg = 145.2, Id_max = 289.0, Iud_avg 148.4, Iud_max = 505.0, TR=29.8 MB/s, t = 48.7s\n",
      "2023-09-25 00:32:34 - hil_control.hw_rev4_dock_undock - INFO - finished run 175. Id_avg = 145.5, Id_max = 291.0, Iud_avg 146.7, Iud_max = 437.0, TR=30.8 MB/s, t = 47.7s\n",
      "2023-09-25 00:33:20 - hil_control.hw_rev4_dock_undock - INFO - finished run 176. Id_avg = 146.0, Id_max = 305.0, Iud_avg 146.4, Iud_max = 329.0, TR=32.6 MB/s, t = 45.8s\n",
      "2023-09-25 00:34:06 - hil_control.hw_rev4_dock_undock - INFO - finished run 177. Id_avg = 147.2, Id_max = 293.0, Iud_avg 148.5, Iud_max = 402.0, TR=32.8 MB/s, t = 45.7s\n",
      "2023-09-25 00:34:51 - hil_control.hw_rev4_dock_undock - INFO - finished run 178. Id_avg = 147.2, Id_max = 291.0, Iud_avg 143.5, Iud_max = 481.0, TR=33.2 MB/s, t = 45.1s\n",
      "2023-09-25 00:35:38 - hil_control.hw_rev4_dock_undock - INFO - finished run 179. Id_avg = 149.7, Id_max = 289.0, Iud_avg 148.8, Iud_max = 370.0, TR=31.8 MB/s, t = 47.2s\n",
      "2023-09-25 00:36:26 - hil_control.hw_rev4_dock_undock - INFO - finished run 180. Id_avg = 146.4, Id_max = 293.0, Iud_avg 148.3, Iud_max = 381.0, TR=30.3 MB/s, t = 48.0s\n",
      "2023-09-25 00:37:10 - hil_control.hw_rev4_dock_undock - INFO - finished run 181. Id_avg = 148.0, Id_max = 292.0, Iud_avg 147.6, Iud_max = 453.0, TR=34.5 MB/s, t = 44.3s\n",
      "2023-09-25 00:37:59 - hil_control.hw_rev4_dock_undock - INFO - finished run 182. Id_avg = 145.8, Id_max = 299.0, Iud_avg 148.8, Iud_max = 388.0, TR=30.1 MB/s, t = 49.2s\n",
      "2023-09-25 00:38:43 - hil_control.hw_rev4_dock_undock - INFO - finished run 183. Id_avg = 145.6, Id_max = 291.0, Iud_avg 145.9, Iud_max = 391.0, TR=35.3 MB/s, t = 43.4s\n",
      "2023-09-25 00:39:30 - hil_control.hw_rev4_dock_undock - INFO - finished run 184. Id_avg = 151.3, Id_max = 469.0, Iud_avg 146.9, Iud_max = 475.0, TR=31.0 MB/s, t = 47.4s\n",
      "2023-09-25 00:40:19 - hil_control.hw_rev4_dock_undock - INFO - finished run 185. Id_avg = 149.2, Id_max = 455.0, Iud_avg 147.3, Iud_max = 450.0, TR=29.8 MB/s, t = 48.8s\n",
      "2023-09-25 00:41:04 - hil_control.hw_rev4_dock_undock - INFO - finished run 186. Id_avg = 142.7, Id_max = 291.0, Iud_avg 149.1, Iud_max = 450.0, TR=33.8 MB/s, t = 44.9s\n",
      "2023-09-25 00:41:54 - hil_control.hw_rev4_dock_undock - INFO - finished run 187. Id_avg = 149.7, Id_max = 460.0, Iud_avg 144.9, Iud_max = 342.0, TR=28.9 MB/s, t = 49.7s\n",
      "2023-09-25 00:42:43 - hil_control.hw_rev4_dock_undock - INFO - finished run 188. Id_avg = 148.4, Id_max = 284.0, Iud_avg 146.9, Iud_max = 375.0, TR=29.2 MB/s, t = 49.5s\n",
      "2023-09-25 00:43:32 - hil_control.hw_rev4_dock_undock - INFO - finished run 189. Id_avg = 145.9, Id_max = 284.0, Iud_avg 146.8, Iud_max = 290.0, TR=29.2 MB/s, t = 49.4s\n",
      "2023-09-25 00:44:14 - hil_control.hw_rev4_dock_undock - INFO - finished run 190. Id_avg = 142.9, Id_max = 288.0, Iud_avg 146.6, Iud_max = 370.0, TR=38.3 MB/s, t = 41.7s\n",
      "2023-09-25 00:44:43 - hil_control.hw_rev4_dock_undock - INFO - finished run 191. Id_avg = 145.5, Id_max = 314.0, Iud_avg 146.7, Iud_max = 465.0, TR=75.9 MB/s, t = 29.0s\n",
      "2023-09-25 00:45:12 - hil_control.hw_rev4_dock_undock - INFO - finished run 192. Id_avg = 144.2, Id_max = 297.0, Iud_avg 144.3, Iud_max = 322.0, TR=74.5 MB/s, t = 28.9s\n"
     ]
    },
    {
     "name": "stderr",
     "output_type": "stream",
     "text": [
      "umount: /home/max/Desktop/mntdir: target is busy.\n"
     ]
    },
    {
     "name": "stdout",
     "output_type": "stream",
     "text": [
      "2023-09-25 00:45:40 - hil_control.hw_rev4_dock_undock - INFO - finished run 193. Id_avg = 146.6, Id_max = 307.0, Iud_avg 145.3, Iud_max = 507.0, TR=74.0 MB/s, t = 27.9s\n",
      "2023-09-25 00:46:09 - hil_control.hw_rev4_dock_undock - INFO - finished run 194. Id_avg = 147.1, Id_max = 300.0, Iud_avg 146.3, Iud_max = 310.0, TR=77.0 MB/s, t = 28.8s\n",
      "2023-09-25 00:46:39 - hil_control.hw_rev4_dock_undock - INFO - finished run 195. Id_avg = 146.8, Id_max = 291.0, Iud_avg 147.0, Iud_max = 296.0, TR=67.9 MB/s, t = 30.7s\n",
      "2023-09-25 00:47:10 - hil_control.hw_rev4_dock_undock - INFO - finished run 196. Id_avg = 144.7, Id_max = 300.0, Iud_avg 147.0, Iud_max = 346.0, TR=64.4 MB/s, t = 30.7s\n",
      "2023-09-25 00:47:43 - hil_control.hw_rev4_dock_undock - INFO - finished run 197. Id_avg = 146.6, Id_max = 288.0, Iud_avg 145.5, Iud_max = 456.0, TR=61.0 MB/s, t = 32.4s\n",
      "2023-09-25 00:48:10 - hil_control.hw_rev4_dock_undock - INFO - finished run 198. Id_avg = 152.1, Id_max = 461.0, Iud_avg 146.7, Iud_max = 435.0, TR=92.9 MB/s, t = 27.5s\n",
      "2023-09-25 00:48:40 - hil_control.hw_rev4_dock_undock - INFO - finished run 199. Id_avg = 148.2, Id_max = 293.0, Iud_avg 144.6, Iud_max = 300.0, TR=64.8 MB/s, t = 29.9s\n",
      "2023-09-25 00:49:09 - hil_control.hw_rev4_dock_undock - INFO - finished run 200. Id_avg = 148.1, Id_max = 295.0, Iud_avg 145.1, Iud_max = 333.0, TR=72.1 MB/s, t = 29.4s\n",
      "2023-09-25 00:49:40 - hil_control.hw_rev4_dock_undock - INFO - finished run 201. Id_avg = 146.1, Id_max = 300.0, Iud_avg 144.1, Iud_max = 337.0, TR=67.0 MB/s, t = 30.9s\n",
      "2023-09-25 00:50:10 - hil_control.hw_rev4_dock_undock - INFO - finished run 202. Id_avg = 147.7, Id_max = 295.0, Iud_avg 147.4, Iud_max = 472.0, TR=78.0 MB/s, t = 29.4s\n",
      "2023-09-25 00:50:43 - hil_control.hw_rev4_dock_undock - INFO - finished run 203. Id_avg = 146.7, Id_max = 302.0, Iud_avg 143.9, Iud_max = 335.0, TR=55.5 MB/s, t = 33.1s\n",
      "2023-09-25 00:51:12 - hil_control.hw_rev4_dock_undock - INFO - finished run 204. Id_avg = 145.7, Id_max = 306.0, Iud_avg 148.1, Iud_max = 378.0, TR=70.0 MB/s, t = 29.0s\n"
     ]
    },
    {
     "name": "stderr",
     "output_type": "stream",
     "text": [
      "umount: /home/max/Desktop/mntdir: target is busy.\n"
     ]
    },
    {
     "name": "stdout",
     "output_type": "stream",
     "text": [
      "2023-09-25 00:51:49 - hil_control.hw_rev4_dock_undock - INFO - finished run 205. Id_avg = 145.2, Id_max = 308.0, Iud_avg 144.3, Iud_max = 477.0, TR=43.9 MB/s, t = 37.2s\n",
      "2023-09-25 00:52:22 - hil_control.hw_rev4_dock_undock - INFO - finished run 206. Id_avg = 147.7, Id_max = 295.0, Iud_avg 147.2, Iud_max = 326.0, TR=54.4 MB/s, t = 33.1s\n",
      "2023-09-25 00:52:49 - hil_control.hw_rev4_dock_undock - INFO - finished run 207. Id_avg = 146.5, Id_max = 296.0, Iud_avg 149.1, Iud_max = 436.0, TR=89.2 MB/s, t = 27.3s\n",
      "2023-09-25 00:53:22 - hil_control.hw_rev4_dock_undock - INFO - finished run 208. Id_avg = 146.7, Id_max = 306.0, Iud_avg 145.8, Iud_max = 477.0, TR=56.8 MB/s, t = 32.4s\n",
      "2023-09-25 00:54:03 - hil_control.hw_rev4_dock_undock - INFO - finished run 209. Id_avg = 147.9, Id_max = 288.0, Iud_avg 143.8, Iud_max = 315.0, TR=38.9 MB/s, t = 41.5s\n",
      "2023-09-25 00:54:34 - hil_control.hw_rev4_dock_undock - INFO - finished run 210. Id_avg = 146.5, Id_max = 290.0, Iud_avg 145.2, Iud_max = 361.0, TR=65.3 MB/s, t = 30.8s\n",
      "2023-09-25 00:55:08 - hil_control.hw_rev4_dock_undock - INFO - finished run 211. Id_avg = 146.7, Id_max = 289.0, Iud_avg 146.2, Iud_max = 439.0, TR=56.5 MB/s, t = 33.5s\n",
      "2023-09-25 00:55:40 - hil_control.hw_rev4_dock_undock - INFO - finished run 212. Id_avg = 147.3, Id_max = 295.0, Iud_avg 149.1, Iud_max = 487.0, TR=56.0 MB/s, t = 32.5s\n",
      "2023-09-25 00:56:09 - hil_control.hw_rev4_dock_undock - INFO - finished run 213. Id_avg = 146.2, Id_max = 292.0, Iud_avg 150.1, Iud_max = 369.0, TR=69.9 MB/s, t = 29.2s\n",
      "2023-09-25 00:56:42 - hil_control.hw_rev4_dock_undock - INFO - finished run 214. Id_avg = 143.3, Id_max = 289.0, Iud_avg 148.3, Iud_max = 298.0, TR=58.6 MB/s, t = 33.1s\n",
      "2023-09-25 00:57:13 - hil_control.hw_rev4_dock_undock - INFO - finished run 215. Id_avg = 146.0, Id_max = 293.0, Iud_avg 148.0, Iud_max = 375.0, TR=61.9 MB/s, t = 30.8s\n",
      "2023-09-25 00:57:46 - hil_control.hw_rev4_dock_undock - INFO - finished run 216. Id_avg = 144.2, Id_max = 296.0, Iud_avg 148.1, Iud_max = 315.0, TR=56.4 MB/s, t = 33.0s\n",
      "2023-09-25 00:58:17 - hil_control.hw_rev4_dock_undock - INFO - finished run 217. Id_avg = 146.8, Id_max = 290.0, Iud_avg 147.3, Iud_max = 337.0, TR=61.1 MB/s, t = 31.1s\n",
      "2023-09-25 00:58:51 - hil_control.hw_rev4_dock_undock - INFO - finished run 218. Id_avg = 146.8, Id_max = 292.0, Iud_avg 148.2, Iud_max = 478.0, TR=54.4 MB/s, t = 33.5s\n",
      "2023-09-25 00:59:23 - hil_control.hw_rev4_dock_undock - INFO - finished run 219. Id_avg = 146.8, Id_max = 355.0, Iud_avg 144.7, Iud_max = 377.0, TR=58.3 MB/s, t = 31.7s\n",
      "2023-09-25 00:59:53 - hil_control.hw_rev4_dock_undock - INFO - finished run 220. Id_avg = 148.6, Id_max = 472.0, Iud_avg 144.3, Iud_max = 335.0, TR=62.7 MB/s, t = 30.7s\n",
      "2023-09-25 01:00:23 - hil_control.hw_rev4_dock_undock - INFO - finished run 221. Id_avg = 145.7, Id_max = 304.0, Iud_avg 144.9, Iud_max = 454.0, TR=69.8 MB/s, t = 29.3s\n",
      "2023-09-25 01:00:55 - hil_control.hw_rev4_dock_undock - INFO - finished run 222. Id_avg = 147.0, Id_max = 293.0, Iud_avg 145.0, Iud_max = 402.0, TR=57.3 MB/s, t = 32.9s\n",
      "2023-09-25 01:01:27 - hil_control.hw_rev4_dock_undock - INFO - finished run 223. Id_avg = 147.8, Id_max = 303.0, Iud_avg 144.9, Iud_max = 308.0, TR=61.4 MB/s, t = 31.6s\n",
      "2023-09-25 01:02:00 - hil_control.hw_rev4_dock_undock - INFO - finished run 224. Id_avg = 146.5, Id_max = 308.0, Iud_avg 149.5, Iud_max = 459.0, TR=59.9 MB/s, t = 33.1s\n",
      "2023-09-25 01:02:34 - hil_control.hw_rev4_dock_undock - INFO - finished run 225. Id_avg = 147.3, Id_max = 291.0, Iud_avg 143.3, Iud_max = 346.0, TR=52.7 MB/s, t = 33.8s\n",
      "2023-09-25 01:03:05 - hil_control.hw_rev4_dock_undock - INFO - finished run 226. Id_avg = 148.0, Id_max = 299.0, Iud_avg 147.2, Iud_max = 364.0, TR=63.4 MB/s, t = 31.1s\n",
      "2023-09-25 01:03:36 - hil_control.hw_rev4_dock_undock - INFO - finished run 227. Id_avg = 148.1, Id_max = 308.0, Iud_avg 145.0, Iud_max = 426.0, TR=60.4 MB/s, t = 31.0s\n",
      "2023-09-25 01:04:07 - hil_control.hw_rev4_dock_undock - INFO - finished run 228. Id_avg = 148.4, Id_max = 300.0, Iud_avg 146.5, Iud_max = 462.0, TR=60.9 MB/s, t = 31.3s\n",
      "2023-09-25 01:04:41 - hil_control.hw_rev4_dock_undock - INFO - finished run 229. Id_avg = 146.9, Id_max = 295.0, Iud_avg 147.7, Iud_max = 382.0, TR=53.8 MB/s, t = 33.6s\n",
      "2023-09-25 01:05:14 - hil_control.hw_rev4_dock_undock - INFO - finished run 230. Id_avg = 147.1, Id_max = 293.0, Iud_avg 148.5, Iud_max = 613.0, TR=53.9 MB/s, t = 33.3s\n",
      "2023-09-25 01:05:47 - hil_control.hw_rev4_dock_undock - INFO - finished run 231. Id_avg = 149.1, Id_max = 299.0, Iud_avg 148.1, Iud_max = 434.0, TR=55.2 MB/s, t = 33.2s\n",
      "2023-09-25 01:06:21 - hil_control.hw_rev4_dock_undock - INFO - finished run 232. Id_avg = 146.1, Id_max = 285.0, Iud_avg 146.9, Iud_max = 299.0, TR=52.9 MB/s, t = 33.6s\n",
      "2023-09-25 01:06:52 - hil_control.hw_rev4_dock_undock - INFO - finished run 233. Id_avg = 145.5, Id_max = 282.0, Iud_avg 147.8, Iud_max = 425.0, TR=63.9 MB/s, t = 31.3s\n",
      "2023-09-25 01:07:28 - hil_control.hw_rev4_dock_undock - INFO - finished run 234. Id_avg = 147.8, Id_max = 314.0, Iud_avg 148.2, Iud_max = 504.0, TR=51.3 MB/s, t = 35.4s\n",
      "2023-09-25 01:08:01 - hil_control.hw_rev4_dock_undock - INFO - finished run 235. Id_avg = 145.7, Id_max = 300.0, Iud_avg 146.1, Iud_max = 382.0, TR=54.1 MB/s, t = 33.4s\n",
      "2023-09-25 01:08:38 - hil_control.hw_rev4_dock_undock - INFO - finished run 236. Id_avg = 146.0, Id_max = 290.0, Iud_avg 145.8, Iud_max = 297.0, TR=46.3 MB/s, t = 37.0s\n",
      "2023-09-25 01:09:12 - hil_control.hw_rev4_dock_undock - INFO - finished run 237. Id_avg = 148.0, Id_max = 350.0, Iud_avg 150.3, Iud_max = 478.0, TR=53.8 MB/s, t = 33.5s\n",
      "2023-09-25 01:09:55 - hil_control.hw_rev4_dock_undock - INFO - finished run 238. Id_avg = 146.3, Id_max = 289.0, Iud_avg 148.5, Iud_max = 395.0, TR=35.5 MB/s, t = 43.7s\n",
      "2023-09-25 01:10:29 - hil_control.hw_rev4_dock_undock - INFO - finished run 239. Id_avg = 145.8, Id_max = 293.0, Iud_avg 146.9, Iud_max = 364.0, TR=53.9 MB/s, t = 34.0s\n",
      "2023-09-25 01:11:12 - hil_control.hw_rev4_dock_undock - INFO - finished run 240. Id_avg = 145.3, Id_max = 290.0, Iud_avg 146.8, Iud_max = 421.0, TR=37.1 MB/s, t = 42.7s\n",
      "2023-09-25 01:11:51 - hil_control.hw_rev4_dock_undock - INFO - finished run 241. Id_avg = 147.2, Id_max = 281.0, Iud_avg 147.9, Iud_max = 429.0, TR=40.5 MB/s, t = 39.1s\n",
      "2023-09-25 01:12:26 - hil_control.hw_rev4_dock_undock - INFO - finished run 242. Id_avg = 146.6, Id_max = 290.0, Iud_avg 150.1, Iud_max = 453.0, TR=51.1 MB/s, t = 34.9s\n",
      "2023-09-25 01:13:06 - hil_control.hw_rev4_dock_undock - INFO - finished run 243. Id_avg = 147.7, Id_max = 292.0, Iud_avg 142.3, Iud_max = 377.0, TR=40.4 MB/s, t = 40.6s\n",
      "2023-09-25 01:13:40 - hil_control.hw_rev4_dock_undock - INFO - finished run 244. Id_avg = 148.8, Id_max = 389.0, Iud_avg 144.5, Iud_max = 343.0, TR=53.7 MB/s, t = 33.4s\n",
      "2023-09-25 01:14:17 - hil_control.hw_rev4_dock_undock - INFO - finished run 245. Id_avg = 144.4, Id_max = 290.0, Iud_avg 147.2, Iud_max = 504.0, TR=44.8 MB/s, t = 37.2s\n",
      "2023-09-25 01:14:55 - hil_control.hw_rev4_dock_undock - INFO - finished run 246. Id_avg = 145.8, Id_max = 289.0, Iud_avg 145.0, Iud_max = 339.0, TR=45.9 MB/s, t = 38.3s\n",
      "2023-09-25 01:15:28 - hil_control.hw_rev4_dock_undock - INFO - finished run 247. Id_avg = 145.2, Id_max = 290.0, Iud_avg 146.7, Iud_max = 308.0, TR=57.3 MB/s, t = 32.8s\n",
      "2023-09-25 01:16:07 - hil_control.hw_rev4_dock_undock - INFO - finished run 248. Id_avg = 147.2, Id_max = 262.0, Iud_avg 149.2, Iud_max = 460.0, TR=40.7 MB/s, t = 39.4s\n",
      "2023-09-25 01:16:47 - hil_control.hw_rev4_dock_undock - INFO - finished run 249. Id_avg = 149.5, Id_max = 316.0, Iud_avg 148.2, Iud_max = 496.0, TR=41.8 MB/s, t = 39.0s\n",
      "2023-09-25 01:17:24 - hil_control.hw_rev4_dock_undock - INFO - finished run 250. Id_avg = 145.2, Id_max = 290.0, Iud_avg 148.9, Iud_max = 479.0, TR=44.8 MB/s, t = 37.2s\n",
      "2023-09-25 01:17:56 - hil_control.hw_rev4_dock_undock - INFO - finished run 251. Id_avg = 146.1, Id_max = 306.0, Iud_avg 144.3, Iud_max = 310.0, TR=59.1 MB/s, t = 32.6s\n",
      "2023-09-25 01:18:30 - hil_control.hw_rev4_dock_undock - INFO - finished run 252. Id_avg = 145.7, Id_max = 299.0, Iud_avg 148.6, Iud_max = 450.0, TR=53.2 MB/s, t = 33.8s\n",
      "2023-09-25 01:19:13 - hil_control.hw_rev4_dock_undock - INFO - finished run 253. Id_avg = 147.0, Id_max = 307.0, Iud_avg 148.5, Iud_max = 470.0, TR=36.4 MB/s, t = 42.8s\n"
     ]
    },
    {
     "name": "stderr",
     "output_type": "stream",
     "text": [
      "umount: /home/max/Desktop/mntdir: target is busy.\n"
     ]
    },
    {
     "name": "stdout",
     "output_type": "stream",
     "text": [
      "2023-09-25 01:19:49 - hil_control.hw_rev4_dock_undock - INFO - finished run 254. Id_avg = 145.7, Id_max = 288.0, Iud_avg 146.0, Iud_max = 333.0, TR=46.5 MB/s, t = 36.1s\n",
      "2023-09-25 01:20:37 - hil_control.hw_rev4_dock_undock - INFO - finished run 255. Id_avg = 145.3, Id_max = 289.0, Iud_avg 142.6, Iud_max = 297.0, TR=31.8 MB/s, t = 48.3s\n",
      "2023-09-25 01:21:15 - hil_control.hw_rev4_dock_undock - INFO - finished run 256. Id_avg = 149.4, Id_max = 491.0, Iud_avg 146.4, Iud_max = 364.0, TR=44.9 MB/s, t = 38.2s\n",
      "2023-09-25 01:21:53 - hil_control.hw_rev4_dock_undock - INFO - finished run 257. Id_avg = 147.9, Id_max = 430.0, Iud_avg 148.7, Iud_max = 504.0, TR=44.7 MB/s, t = 38.0s\n",
      "2023-09-25 01:22:34 - hil_control.hw_rev4_dock_undock - INFO - finished run 258. Id_avg = 147.8, Id_max = 336.0, Iud_avg 149.4, Iud_max = 497.0, TR=39.9 MB/s, t = 40.1s\n",
      "2023-09-25 01:23:12 - hil_control.hw_rev4_dock_undock - INFO - finished run 259. Id_avg = 147.8, Id_max = 288.0, Iud_avg 146.6, Iud_max = 315.0, TR=45.4 MB/s, t = 37.9s\n",
      "2023-09-25 01:23:52 - hil_control.hw_rev4_dock_undock - INFO - finished run 260. Id_avg = 147.4, Id_max = 292.0, Iud_avg 146.7, Iud_max = 290.0, TR=40.3 MB/s, t = 40.5s\n",
      "2023-09-25 01:24:26 - hil_control.hw_rev4_dock_undock - INFO - finished run 261. Id_avg = 146.9, Id_max = 288.0, Iud_avg 144.6, Iud_max = 302.0, TR=52.3 MB/s, t = 33.9s\n",
      "2023-09-25 01:25:09 - hil_control.hw_rev4_dock_undock - INFO - finished run 262. Id_avg = 145.9, Id_max = 299.0, Iud_avg 146.4, Iud_max = 332.0, TR=35.6 MB/s, t = 43.2s\n",
      "2023-09-25 01:25:49 - hil_control.hw_rev4_dock_undock - INFO - finished run 263. Id_avg = 146.8, Id_max = 292.0, Iud_avg 148.5, Iud_max = 451.0, TR=40.7 MB/s, t = 39.5s\n",
      "2023-09-25 01:26:28 - hil_control.hw_rev4_dock_undock - INFO - finished run 264. Id_avg = 145.8, Id_max = 299.0, Iud_avg 145.6, Iud_max = 375.0, TR=41.2 MB/s, t = 38.9s\n",
      "2023-09-25 01:27:10 - hil_control.hw_rev4_dock_undock - INFO - finished run 265. Id_avg = 147.7, Id_max = 288.0, Iud_avg 146.3, Iud_max = 313.0, TR=37.0 MB/s, t = 42.0s\n",
      "2023-09-25 01:27:47 - hil_control.hw_rev4_dock_undock - INFO - finished run 266. Id_avg = 144.9, Id_max = 292.0, Iud_avg 148.5, Iud_max = 453.0, TR=45.3 MB/s, t = 37.2s\n",
      "2023-09-25 01:28:27 - hil_control.hw_rev4_dock_undock - INFO - finished run 267. Id_avg = 148.2, Id_max = 288.0, Iud_avg 149.4, Iud_max = 485.0, TR=39.2 MB/s, t = 40.4s\n",
      "2023-09-25 01:29:04 - hil_control.hw_rev4_dock_undock - INFO - finished run 268. Id_avg = 148.4, Id_max = 292.0, Iud_avg 147.2, Iud_max = 311.0, TR=47.5 MB/s, t = 37.0s\n",
      "2023-09-25 01:29:43 - hil_control.hw_rev4_dock_undock - INFO - finished run 269. Id_avg = 149.5, Id_max = 665.0, Iud_avg 146.8, Iud_max = 313.0, TR=42.8 MB/s, t = 38.6s\n",
      "2023-09-25 01:30:18 - hil_control.hw_rev4_dock_undock - INFO - finished run 270. Id_avg = 147.5, Id_max = 302.0, Iud_avg 143.9, Iud_max = 342.0, TR=49.2 MB/s, t = 35.3s\n",
      "2023-09-25 01:30:51 - hil_control.hw_rev4_dock_undock - INFO - finished run 271. Id_avg = 144.8, Id_max = 289.0, Iud_avg 145.8, Iud_max = 337.0, TR=54.8 MB/s, t = 33.0s\n",
      "2023-09-25 01:31:26 - hil_control.hw_rev4_dock_undock - INFO - finished run 272. Id_avg = 144.1, Id_max = 288.0, Iud_avg 147.6, Iud_max = 467.0, TR=51.7 MB/s, t = 34.9s\n",
      "2023-09-25 01:32:02 - hil_control.hw_rev4_dock_undock - INFO - finished run 273. Id_avg = 147.0, Id_max = 307.0, Iud_avg 146.6, Iud_max = 420.0, TR=47.6 MB/s, t = 36.1s\n",
      "2023-09-25 01:32:43 - hil_control.hw_rev4_dock_undock - INFO - finished run 274. Id_avg = 149.0, Id_max = 301.0, Iud_avg 146.3, Iud_max = 507.0, TR=38.1 MB/s, t = 41.1s\n",
      "2023-09-25 01:33:16 - hil_control.hw_rev4_dock_undock - INFO - finished run 275. Id_avg = 145.8, Id_max = 292.0, Iud_avg 144.9, Iud_max = 314.0, TR=57.3 MB/s, t = 32.6s\n",
      "2023-09-25 01:34:05 - hil_control.hw_rev4_dock_undock - INFO - finished run 276. Id_avg = 146.9, Id_max = 302.0, Iud_avg 147.1, Iud_max = 318.0, TR=30.4 MB/s, t = 48.9s\n",
      "2023-09-25 01:34:39 - hil_control.hw_rev4_dock_undock - INFO - finished run 277. Id_avg = 146.7, Id_max = 294.0, Iud_avg 150.4, Iud_max = 476.0, TR=51.6 MB/s, t = 34.7s\n",
      "2023-09-25 01:35:20 - hil_control.hw_rev4_dock_undock - INFO - finished run 278. Id_avg = 149.1, Id_max = 288.0, Iud_avg 148.0, Iud_max = 378.0, TR=40.9 MB/s, t = 40.2s\n",
      "2023-09-25 01:35:55 - hil_control.hw_rev4_dock_undock - INFO - finished run 279. Id_avg = 147.3, Id_max = 289.0, Iud_avg 146.4, Iud_max = 341.0, TR=51.3 MB/s, t = 35.0s\n"
     ]
    },
    {
     "name": "stderr",
     "output_type": "stream",
     "text": [
      "umount: /home/max/Desktop/mntdir: target is busy.\n"
     ]
    },
    {
     "name": "stdout",
     "output_type": "stream",
     "text": [
      "2023-09-25 01:36:36 - hil_control.hw_rev4_dock_undock - INFO - finished run 280. Id_avg = 146.5, Id_max = 307.0, Iud_avg 148.4, Iud_max = 335.0, TR=38.4 MB/s, t = 40.9s\n",
      "2023-09-25 01:37:13 - hil_control.hw_rev4_dock_undock - INFO - finished run 281. Id_avg = 146.8, Id_max = 290.0, Iud_avg 148.9, Iud_max = 471.0, TR=46.9 MB/s, t = 37.2s\n",
      "2023-09-25 01:37:56 - hil_control.hw_rev4_dock_undock - INFO - finished run 282. Id_avg = 145.8, Id_max = 304.0, Iud_avg 146.1, Iud_max = 447.0, TR=35.8 MB/s, t = 42.9s\n",
      "2023-09-25 01:38:33 - hil_control.hw_rev4_dock_undock - INFO - finished run 283. Id_avg = 148.6, Id_max = 303.0, Iud_avg 148.1, Iud_max = 400.0, TR=47.2 MB/s, t = 37.0s\n",
      "2023-09-25 01:39:05 - hil_control.hw_rev4_dock_undock - INFO - finished run 284. Id_avg = 148.5, Id_max = 305.0, Iud_avg 149.6, Iud_max = 411.0, TR=57.4 MB/s, t = 32.2s\n",
      "2023-09-25 01:39:38 - hil_control.hw_rev4_dock_undock - INFO - finished run 285. Id_avg = 147.4, Id_max = 292.0, Iud_avg 147.1, Iud_max = 421.0, TR=53.6 MB/s, t = 33.6s\n",
      "2023-09-25 01:40:18 - hil_control.hw_rev4_dock_undock - INFO - finished run 286. Id_avg = 146.1, Id_max = 300.0, Iud_avg 145.8, Iud_max = 328.0, TR=40.5 MB/s, t = 39.8s\n",
      "2023-09-25 01:40:58 - hil_control.hw_rev4_dock_undock - INFO - finished run 287. Id_avg = 146.6, Id_max = 302.0, Iud_avg 144.8, Iud_max = 328.0, TR=40.9 MB/s, t = 39.4s\n",
      "2023-09-25 01:41:33 - hil_control.hw_rev4_dock_undock - INFO - finished run 288. Id_avg = 146.8, Id_max = 290.0, Iud_avg 146.0, Iud_max = 482.0, TR=48.2 MB/s, t = 35.5s\n",
      "2023-09-25 01:42:16 - hil_control.hw_rev4_dock_undock - INFO - finished run 289. Id_avg = 146.3, Id_max = 290.0, Iud_avg 149.3, Iud_max = 438.0, TR=36.2 MB/s, t = 42.7s\n",
      "2023-09-25 01:42:53 - hil_control.hw_rev4_dock_undock - INFO - finished run 290. Id_avg = 146.9, Id_max = 306.0, Iud_avg 146.5, Iud_max = 296.0, TR=46.5 MB/s, t = 37.2s\n",
      "2023-09-25 01:43:30 - hil_control.hw_rev4_dock_undock - INFO - finished run 291. Id_avg = 144.5, Id_max = 296.0, Iud_avg 145.9, Iud_max = 376.0, TR=47.3 MB/s, t = 37.2s\n",
      "2023-09-25 01:44:18 - hil_control.hw_rev4_dock_undock - INFO - finished run 292. Id_avg = 148.7, Id_max = 295.0, Iud_avg 147.7, Iud_max = 348.0, TR=30.6 MB/s, t = 48.0s\n",
      "2023-09-25 01:45:04 - hil_control.hw_rev4_dock_undock - INFO - finished run 293. Id_avg = 148.5, Id_max = 291.0, Iud_avg 146.8, Iud_max = 327.0, TR=32.5 MB/s, t = 45.7s\n",
      "2023-09-25 01:45:53 - hil_control.hw_rev4_dock_undock - INFO - finished run 294. Id_avg = 146.5, Id_max = 319.0, Iud_avg 148.2, Iud_max = 336.0, TR=30.0 MB/s, t = 48.7s\n",
      "2023-09-25 01:46:37 - hil_control.hw_rev4_dock_undock - INFO - finished run 295. Id_avg = 146.1, Id_max = 293.0, Iud_avg 143.7, Iud_max = 288.0, TR=34.8 MB/s, t = 44.0s\n",
      "2023-09-25 01:47:26 - hil_control.hw_rev4_dock_undock - INFO - finished run 296. Id_avg = 147.6, Id_max = 291.0, Iud_avg 147.4, Iud_max = 381.0, TR=29.9 MB/s, t = 49.4s\n",
      "2023-09-25 01:48:12 - hil_control.hw_rev4_dock_undock - INFO - finished run 297. Id_avg = 146.3, Id_max = 296.0, Iud_avg 144.6, Iud_max = 338.0, TR=32.9 MB/s, t = 45.5s\n",
      "2023-09-25 01:48:59 - hil_control.hw_rev4_dock_undock - INFO - finished run 298. Id_avg = 147.5, Id_max = 339.0, Iud_avg 149.3, Iud_max = 452.0, TR=31.3 MB/s, t = 47.0s\n",
      "2023-09-25 01:49:44 - hil_control.hw_rev4_dock_undock - INFO - finished run 299. Id_avg = 146.4, Id_max = 291.0, Iud_avg 144.6, Iud_max = 318.0, TR=33.5 MB/s, t = 45.7s\n",
      "2023-09-25 01:50:30 - hil_control.hw_rev4_dock_undock - INFO - finished run 300. Id_avg = 147.4, Id_max = 286.0, Iud_avg 148.3, Iud_max = 400.0, TR=32.6 MB/s, t = 45.6s\n",
      "2023-09-25 01:51:20 - hil_control.hw_rev4_dock_undock - INFO - finished run 301. Id_avg = 149.1, Id_max = 307.0, Iud_avg 145.1, Iud_max = 337.0, TR=28.7 MB/s, t = 50.1s\n",
      "2023-09-25 01:52:09 - hil_control.hw_rev4_dock_undock - INFO - finished run 302. Id_avg = 149.7, Id_max = 391.0, Iud_avg 148.0, Iud_max = 505.0, TR=29.0 MB/s, t = 49.4s\n"
     ]
    },
    {
     "name": "stderr",
     "output_type": "stream",
     "text": [
      "umount: /home/max/Desktop/mntdir: target is busy.\n"
     ]
    },
    {
     "name": "stdout",
     "output_type": "stream",
     "text": [
      "2023-09-25 01:52:59 - hil_control.hw_rev4_dock_undock - INFO - finished run 303. Id_avg = 145.8, Id_max = 293.0, Iud_avg 145.0, Iud_max = 424.0, TR=28.9 MB/s, t = 49.2s\n",
      "2023-09-25 01:53:48 - hil_control.hw_rev4_dock_undock - INFO - finished run 304. Id_avg = 147.8, Id_max = 305.0, Iud_avg 144.4, Iud_max = 278.0, TR=29.8 MB/s, t = 49.0s\n",
      "2023-09-25 01:54:39 - hil_control.hw_rev4_dock_undock - INFO - finished run 305. Id_avg = 146.1, Id_max = 294.0, Iud_avg 142.2, Iud_max = 289.0, TR=28.1 MB/s, t = 50.9s\n",
      "2023-09-25 01:55:29 - hil_control.hw_rev4_dock_undock - INFO - finished run 306. Id_avg = 147.2, Id_max = 295.0, Iud_avg 146.3, Iud_max = 470.0, TR=29.1 MB/s, t = 50.2s\n",
      "2023-09-25 01:56:18 - hil_control.hw_rev4_dock_undock - INFO - finished run 307. Id_avg = 146.8, Id_max = 366.0, Iud_avg 144.8, Iud_max = 304.0, TR=29.2 MB/s, t = 49.4s\n",
      "2023-09-25 01:57:08 - hil_control.hw_rev4_dock_undock - INFO - finished run 308. Id_avg = 151.1, Id_max = 704.0, Iud_avg 146.3, Iud_max = 411.0, TR=29.4 MB/s, t = 49.4s\n",
      "2023-09-25 01:57:56 - hil_control.hw_rev4_dock_undock - INFO - finished run 309. Id_avg = 145.8, Id_max = 291.0, Iud_avg 147.9, Iud_max = 547.0, TR=31.0 MB/s, t = 47.9s\n",
      "2023-09-25 01:58:41 - hil_control.hw_rev4_dock_undock - INFO - finished run 310. Id_avg = 146.1, Id_max = 291.0, Iud_avg 147.8, Iud_max = 378.0, TR=32.8 MB/s, t = 45.7s\n",
      "2023-09-25 01:59:31 - hil_control.hw_rev4_dock_undock - INFO - finished run 311. Id_avg = 148.0, Id_max = 429.0, Iud_avg 147.3, Iud_max = 308.0, TR=28.7 MB/s, t = 50.1s\n",
      "2023-09-25 02:00:23 - hil_control.hw_rev4_dock_undock - INFO - finished run 312. Id_avg = 147.6, Id_max = 301.0, Iud_avg 149.8, Iud_max = 494.0, TR=27.8 MB/s, t = 51.2s\n",
      "2023-09-25 02:01:13 - hil_control.hw_rev4_dock_undock - INFO - finished run 313. Id_avg = 146.9, Id_max = 291.0, Iud_avg 149.1, Iud_max = 504.0, TR=28.7 MB/s, t = 50.0s\n",
      "2023-09-25 02:02:00 - hil_control.hw_rev4_dock_undock - INFO - finished run 314. Id_avg = 147.6, Id_max = 292.0, Iud_avg 145.7, Iud_max = 313.0, TR=30.1 MB/s, t = 47.8s\n",
      "2023-09-25 02:02:51 - hil_control.hw_rev4_dock_undock - INFO - finished run 315. Id_avg = 145.5, Id_max = 293.0, Iud_avg 147.4, Iud_max = 323.0, TR=29.1 MB/s, t = 50.2s\n",
      "2023-09-25 02:03:41 - hil_control.hw_rev4_dock_undock - INFO - finished run 316. Id_avg = 146.9, Id_max = 305.0, Iud_avg 143.5, Iud_max = 308.0, TR=28.8 MB/s, t = 50.1s\n",
      "2023-09-25 02:04:29 - hil_control.hw_rev4_dock_undock - INFO - finished run 317. Id_avg = 145.9, Id_max = 293.0, Iud_avg 145.7, Iud_max = 358.0, TR=30.4 MB/s, t = 48.3s\n",
      "2023-09-25 02:05:19 - hil_control.hw_rev4_dock_undock - INFO - finished run 318. Id_avg = 144.6, Id_max = 291.0, Iud_avg 149.0, Iud_max = 486.0, TR=29.2 MB/s, t = 50.0s\n",
      "2023-09-25 02:06:07 - hil_control.hw_rev4_dock_undock - INFO - finished run 319. Id_avg = 147.8, Id_max = 290.0, Iud_avg 148.4, Iud_max = 484.0, TR=30.3 MB/s, t = 48.4s\n",
      "2023-09-25 02:06:58 - hil_control.hw_rev4_dock_undock - INFO - finished run 320. Id_avg = 147.1, Id_max = 305.0, Iud_avg 149.0, Iud_max = 506.0, TR=28.2 MB/s, t = 50.6s\n",
      "2023-09-25 02:07:48 - hil_control.hw_rev4_dock_undock - INFO - finished run 321. Id_avg = 149.1, Id_max = 291.0, Iud_avg 152.8, Iud_max = 810.0, TR=28.7 MB/s, t = 50.2s\n",
      "2023-09-25 02:08:38 - hil_control.hw_rev4_dock_undock - INFO - finished run 322. Id_avg = 147.4, Id_max = 304.0, Iud_avg 146.6, Iud_max = 302.0, TR=29.6 MB/s, t = 49.9s\n",
      "2023-09-25 02:09:28 - hil_control.hw_rev4_dock_undock - INFO - finished run 323. Id_avg = 146.2, Id_max = 281.0, Iud_avg 143.9, Iud_max = 294.0, TR=29.5 MB/s, t = 49.9s\n",
      "2023-09-25 02:10:19 - hil_control.hw_rev4_dock_undock - INFO - finished run 324. Id_avg = 145.8, Id_max = 299.0, Iud_avg 148.7, Iud_max = 457.0, TR=28.4 MB/s, t = 50.5s\n",
      "2023-09-25 02:11:09 - hil_control.hw_rev4_dock_undock - INFO - finished run 325. Id_avg = 150.2, Id_max = 521.0, Iud_avg 145.8, Iud_max = 406.0, TR=28.2 MB/s, t = 50.3s\n",
      "2023-09-25 02:11:59 - hil_control.hw_rev4_dock_undock - INFO - finished run 326. Id_avg = 146.0, Id_max = 308.0, Iud_avg 151.7, Iud_max = 504.0, TR=28.5 MB/s, t = 50.5s\n",
      "2023-09-25 02:12:53 - hil_control.hw_rev4_dock_undock - INFO - finished run 327. Id_avg = 147.3, Id_max = 290.0, Iud_avg 147.4, Iud_max = 338.0, TR=26.9 MB/s, t = 53.3s\n",
      "2023-09-25 02:13:43 - hil_control.hw_rev4_dock_undock - INFO - finished run 328. Id_avg = 148.4, Id_max = 290.0, Iud_avg 146.3, Iud_max = 357.0, TR=29.1 MB/s, t = 49.9s\n",
      "2023-09-25 02:14:35 - hil_control.hw_rev4_dock_undock - INFO - finished run 329. Id_avg = 148.1, Id_max = 499.0, Iud_avg 144.9, Iud_max = 338.0, TR=26.9 MB/s, t = 52.3s\n",
      "2023-09-25 02:15:28 - hil_control.hw_rev4_dock_undock - INFO - finished run 330. Id_avg = 150.0, Id_max = 292.0, Iud_avg 147.3, Iud_max = 478.0, TR=26.5 MB/s, t = 53.5s\n",
      "2023-09-25 02:16:21 - hil_control.hw_rev4_dock_undock - INFO - finished run 331. Id_avg = 147.5, Id_max = 292.0, Iud_avg 147.5, Iud_max = 450.0, TR=27.9 MB/s, t = 52.1s\n",
      "2023-09-25 02:17:13 - hil_control.hw_rev4_dock_undock - INFO - finished run 332. Id_avg = 144.3, Id_max = 299.0, Iud_avg 145.5, Iud_max = 342.0, TR=26.9 MB/s, t = 52.5s\n"
     ]
    },
    {
     "name": "stderr",
     "output_type": "stream",
     "text": [
      "umount: /home/max/Desktop/mntdir: target is busy.\n"
     ]
    },
    {
     "name": "stdout",
     "output_type": "stream",
     "text": [
      "2023-09-25 02:18:06 - hil_control.hw_rev4_dock_undock - INFO - finished run 333. Id_avg = 147.9, Id_max = 398.0, Iud_avg 147.0, Iud_max = 382.0, TR=26.2 MB/s, t = 53.0s\n",
      "2023-09-25 02:19:00 - hil_control.hw_rev4_dock_undock - INFO - finished run 334. Id_avg = 150.9, Id_max = 293.0, Iud_avg 147.0, Iud_max = 313.0, TR=26.4 MB/s, t = 53.5s\n",
      "2023-09-25 02:19:52 - hil_control.hw_rev4_dock_undock - INFO - finished run 335. Id_avg = 148.3, Id_max = 292.0, Iud_avg 147.5, Iud_max = 391.0, TR=27.4 MB/s, t = 52.4s\n",
      "2023-09-25 02:20:48 - hil_control.hw_rev4_dock_undock - INFO - finished run 336. Id_avg = 146.4, Id_max = 303.0, Iud_avg 145.8, Iud_max = 312.0, TR=25.1 MB/s, t = 56.3s\n",
      "2023-09-25 02:21:41 - hil_control.hw_rev4_dock_undock - INFO - finished run 337. Id_avg = 146.7, Id_max = 294.0, Iud_avg 146.8, Iud_max = 306.0, TR=27.5 MB/s, t = 52.4s\n",
      "2023-09-25 02:22:34 - hil_control.hw_rev4_dock_undock - INFO - finished run 338. Id_avg = 145.4, Id_max = 288.0, Iud_avg 145.7, Iud_max = 377.0, TR=26.4 MB/s, t = 53.5s\n",
      "2023-09-25 02:23:31 - hil_control.hw_rev4_dock_undock - INFO - finished run 339. Id_avg = 148.2, Id_max = 293.0, Iud_avg 146.1, Iud_max = 324.0, TR=28.6 MB/s, t = 56.7s\n",
      "2023-09-25 02:24:23 - hil_control.hw_rev4_dock_undock - INFO - finished run 340. Id_avg = 149.2, Id_max = 298.0, Iud_avg 148.0, Iud_max = 434.0, TR=27.4 MB/s, t = 52.4s\n",
      "2023-09-25 02:25:17 - hil_control.hw_rev4_dock_undock - INFO - finished run 341. Id_avg = 150.3, Id_max = 440.0, Iud_avg 148.9, Iud_max = 446.0, TR=26.6 MB/s, t = 53.9s\n",
      "2023-09-25 02:26:10 - hil_control.hw_rev4_dock_undock - INFO - finished run 342. Id_avg = 148.8, Id_max = 324.0, Iud_avg 148.0, Iud_max = 402.0, TR=27.0 MB/s, t = 52.4s\n",
      "2023-09-25 02:27:00 - hil_control.hw_rev4_dock_undock - INFO - finished run 343. Id_avg = 145.7, Id_max = 288.0, Iud_avg 143.8, Iud_max = 338.0, TR=27.8 MB/s, t = 50.8s\n",
      "2023-09-25 02:27:54 - hil_control.hw_rev4_dock_undock - INFO - finished run 344. Id_avg = 149.5, Id_max = 396.0, Iud_avg 147.3, Iud_max = 382.0, TR=26.3 MB/s, t = 53.9s\n",
      "2023-09-25 02:28:47 - hil_control.hw_rev4_dock_undock - INFO - finished run 345. Id_avg = 145.6, Id_max = 306.0, Iud_avg 147.5, Iud_max = 372.0, TR=27.8 MB/s, t = 52.4s\n",
      "2023-09-25 02:29:37 - hil_control.hw_rev4_dock_undock - INFO - finished run 346. Id_avg = 147.0, Id_max = 298.0, Iud_avg 148.5, Iud_max = 612.0, TR=28.5 MB/s, t = 50.2s\n",
      "2023-09-25 02:30:29 - hil_control.hw_rev4_dock_undock - INFO - finished run 347. Id_avg = 147.1, Id_max = 303.0, Iud_avg 145.6, Iud_max = 441.0, TR=27.6 MB/s, t = 51.7s\n",
      "2023-09-25 02:31:19 - hil_control.hw_rev4_dock_undock - INFO - finished run 348. Id_avg = 147.8, Id_max = 294.0, Iud_avg 147.1, Iud_max = 372.0, TR=29.1 MB/s, t = 50.1s\n",
      "2023-09-25 02:32:09 - hil_control.hw_rev4_dock_undock - INFO - finished run 349. Id_avg = 146.3, Id_max = 293.0, Iud_avg 147.1, Iud_max = 318.0, TR=28.2 MB/s, t = 50.6s\n",
      "2023-09-25 02:33:01 - hil_control.hw_rev4_dock_undock - INFO - finished run 350. Id_avg = 148.0, Id_max = 308.0, Iud_avg 147.8, Iud_max = 466.0, TR=27.4 MB/s, t = 51.7s\n",
      "2023-09-25 02:33:54 - hil_control.hw_rev4_dock_undock - INFO - finished run 351. Id_avg = 148.5, Id_max = 302.0, Iud_avg 144.8, Iud_max = 425.0, TR=26.6 MB/s, t = 53.2s\n",
      "2023-09-25 02:34:48 - hil_control.hw_rev4_dock_undock - INFO - finished run 352. Id_avg = 144.2, Id_max = 308.0, Iud_avg 148.2, Iud_max = 495.0, TR=26.7 MB/s, t = 53.3s\n",
      "2023-09-25 02:35:41 - hil_control.hw_rev4_dock_undock - INFO - finished run 353. Id_avg = 146.8, Id_max = 306.0, Iud_avg 147.8, Iud_max = 465.0, TR=26.5 MB/s, t = 53.4s\n",
      "2023-09-25 02:36:34 - hil_control.hw_rev4_dock_undock - INFO - finished run 354. Id_avg = 147.2, Id_max = 307.0, Iud_avg 146.9, Iud_max = 448.0, TR=26.9 MB/s, t = 53.3s\n",
      "2023-09-25 02:37:28 - hil_control.hw_rev4_dock_undock - INFO - finished run 355. Id_avg = 147.1, Id_max = 304.0, Iud_avg 146.6, Iud_max = 338.0, TR=26.6 MB/s, t = 53.5s\n",
      "2023-09-25 02:38:21 - hil_control.hw_rev4_dock_undock - INFO - finished run 356. Id_avg = 146.0, Id_max = 290.0, Iud_avg 145.9, Iud_max = 327.0, TR=26.4 MB/s, t = 53.3s\n",
      "2023-09-25 02:39:14 - hil_control.hw_rev4_dock_undock - INFO - finished run 357. Id_avg = 144.5, Id_max = 300.0, Iud_avg 146.6, Iud_max = 342.0, TR=26.4 MB/s, t = 53.3s\n",
      "2023-09-25 02:40:08 - hil_control.hw_rev4_dock_undock - INFO - finished run 358. Id_avg = 147.7, Id_max = 298.0, Iud_avg 143.9, Iud_max = 330.0, TR=26.0 MB/s, t = 54.0s\n",
      "2023-09-25 02:41:02 - hil_control.hw_rev4_dock_undock - INFO - finished run 359. Id_avg = 146.1, Id_max = 304.0, Iud_avg 146.5, Iud_max = 508.0, TR=26.1 MB/s, t = 53.8s\n",
      "2023-09-25 02:41:56 - hil_control.hw_rev4_dock_undock - INFO - finished run 360. Id_avg = 149.3, Id_max = 492.0, Iud_avg 145.1, Iud_max = 289.0, TR=25.7 MB/s, t = 54.2s\n",
      "2023-09-25 02:42:50 - hil_control.hw_rev4_dock_undock - INFO - finished run 361. Id_avg = 147.6, Id_max = 308.0, Iud_avg 143.6, Iud_max = 296.0, TR=26.2 MB/s, t = 53.3s\n",
      "2023-09-25 02:43:43 - hil_control.hw_rev4_dock_undock - INFO - finished run 362. Id_avg = 145.4, Id_max = 288.0, Iud_avg 147.0, Iud_max = 340.0, TR=25.9 MB/s, t = 53.6s\n",
      "2023-09-25 02:44:39 - hil_control.hw_rev4_dock_undock - INFO - finished run 363. Id_avg = 146.3, Id_max = 462.0, Iud_avg 147.8, Iud_max = 329.0, TR=25.4 MB/s, t = 55.4s\n",
      "2023-09-25 02:45:31 - hil_control.hw_rev4_dock_undock - INFO - finished run 364. Id_avg = 144.5, Id_max = 288.0, Iud_avg 147.2, Iud_max = 453.0, TR=26.9 MB/s, t = 52.0s\n"
     ]
    },
    {
     "name": "stderr",
     "output_type": "stream",
     "text": [
      "umount: /home/max/Desktop/mntdir: target is busy.\n"
     ]
    },
    {
     "name": "stdout",
     "output_type": "stream",
     "text": [
      "2023-09-25 02:46:22 - hil_control.hw_rev4_dock_undock - INFO - finished run 365. Id_avg = 145.6, Id_max = 289.0, Iud_avg 149.6, Iud_max = 371.0, TR=27.3 MB/s, t = 51.4s\n",
      "2023-09-25 02:47:21 - hil_control.hw_rev4_dock_undock - INFO - finished run 366. Id_avg = 149.0, Id_max = 524.0, Iud_avg 146.8, Iud_max = 425.0, TR=23.3 MB/s, t = 59.3s\n",
      "2023-09-25 02:48:17 - hil_control.hw_rev4_dock_undock - INFO - finished run 367. Id_avg = 145.6, Id_max = 307.0, Iud_avg 148.0, Iud_max = 504.0, TR=25.6 MB/s, t = 55.2s\n",
      "2023-09-25 02:49:12 - hil_control.hw_rev4_dock_undock - INFO - finished run 368. Id_avg = 146.8, Id_max = 306.0, Iud_avg 145.6, Iud_max = 370.0, TR=25.6 MB/s, t = 55.6s\n",
      "2023-09-25 02:50:06 - hil_control.hw_rev4_dock_undock - INFO - finished run 369. Id_avg = 147.5, Id_max = 308.0, Iud_avg 145.9, Iud_max = 307.0, TR=26.3 MB/s, t = 54.0s\n",
      "2023-09-25 02:51:00 - hil_control.hw_rev4_dock_undock - INFO - finished run 370. Id_avg = 145.4, Id_max = 306.0, Iud_avg 145.9, Iud_max = 320.0, TR=25.8 MB/s, t = 54.3s\n",
      "2023-09-25 02:51:56 - hil_control.hw_rev4_dock_undock - INFO - finished run 371. Id_avg = 151.0, Id_max = 365.0, Iud_avg 144.1, Iud_max = 310.0, TR=25.2 MB/s, t = 55.7s\n",
      "2023-09-25 02:52:49 - hil_control.hw_rev4_dock_undock - INFO - finished run 372. Id_avg = 147.4, Id_max = 289.0, Iud_avg 146.4, Iud_max = 320.0, TR=26.8 MB/s, t = 52.8s\n",
      "2023-09-25 02:53:43 - hil_control.hw_rev4_dock_undock - INFO - finished run 373. Id_avg = 148.2, Id_max = 289.0, Iud_avg 147.7, Iud_max = 382.0, TR=26.4 MB/s, t = 54.2s\n",
      "2023-09-25 02:54:36 - hil_control.hw_rev4_dock_undock - INFO - finished run 374. Id_avg = 147.9, Id_max = 300.0, Iud_avg 148.4, Iud_max = 468.0, TR=26.4 MB/s, t = 53.3s\n",
      "2023-09-25 02:55:30 - hil_control.hw_rev4_dock_undock - INFO - finished run 375. Id_avg = 146.4, Id_max = 285.0, Iud_avg 144.9, Iud_max = 291.0, TR=26.4 MB/s, t = 53.2s\n",
      "2023-09-25 02:56:24 - hil_control.hw_rev4_dock_undock - INFO - finished run 376. Id_avg = 149.2, Id_max = 302.0, Iud_avg 148.6, Iud_max = 451.0, TR=26.1 MB/s, t = 54.1s\n",
      "2023-09-25 02:57:20 - hil_control.hw_rev4_dock_undock - INFO - finished run 377. Id_avg = 146.8, Id_max = 292.0, Iud_avg 147.0, Iud_max = 451.0, TR=24.7 MB/s, t = 56.4s\n",
      "2023-09-25 02:58:13 - hil_control.hw_rev4_dock_undock - INFO - finished run 378. Id_avg = 147.2, Id_max = 307.0, Iud_avg 146.1, Iud_max = 391.0, TR=26.7 MB/s, t = 52.5s\n",
      "2023-09-25 02:59:07 - hil_control.hw_rev4_dock_undock - INFO - finished run 379. Id_avg = 146.6, Id_max = 392.0, Iud_avg 149.0, Iud_max = 474.0, TR=26.2 MB/s, t = 54.3s\n",
      "2023-09-25 03:00:01 - hil_control.hw_rev4_dock_undock - INFO - finished run 380. Id_avg = 149.2, Id_max = 567.0, Iud_avg 142.2, Iud_max = 306.0, TR=26.3 MB/s, t = 54.5s\n",
      "2023-09-25 03:00:55 - hil_control.hw_rev4_dock_undock - INFO - finished run 381. Id_avg = 146.6, Id_max = 293.0, Iud_avg 146.1, Iud_max = 320.0, TR=26.2 MB/s, t = 54.0s\n",
      "2023-09-25 03:01:50 - hil_control.hw_rev4_dock_undock - INFO - finished run 382. Id_avg = 147.1, Id_max = 289.0, Iud_avg 149.2, Iud_max = 449.0, TR=26.1 MB/s, t = 54.6s\n",
      "2023-09-25 03:02:45 - hil_control.hw_rev4_dock_undock - INFO - finished run 383. Id_avg = 147.2, Id_max = 300.0, Iud_avg 147.9, Iud_max = 466.0, TR=25.4 MB/s, t = 54.5s\n",
      "2023-09-25 03:03:39 - hil_control.hw_rev4_dock_undock - INFO - finished run 384. Id_avg = 146.4, Id_max = 304.0, Iud_avg 145.0, Iud_max = 440.0, TR=25.3 MB/s, t = 54.8s\n",
      "2023-09-25 03:04:40 - hil_control.hw_rev4_dock_undock - INFO - finished run 385. Id_avg = 145.8, Id_max = 300.0, Iud_avg 145.8, Iud_max = 376.0, TR=25.9 MB/s, t = 60.7s\n",
      "2023-09-25 03:05:36 - hil_control.hw_rev4_dock_undock - INFO - finished run 386. Id_avg = 149.2, Id_max = 349.0, Iud_avg 147.6, Iud_max = 406.0, TR=24.6 MB/s, t = 56.1s\n",
      "2023-09-25 03:06:31 - hil_control.hw_rev4_dock_undock - INFO - finished run 387. Id_avg = 147.0, Id_max = 414.0, Iud_avg 147.9, Iud_max = 458.0, TR=25.5 MB/s, t = 54.5s\n",
      "2023-09-25 03:07:25 - hil_control.hw_rev4_dock_undock - INFO - finished run 388. Id_avg = 146.1, Id_max = 290.0, Iud_avg 149.4, Iud_max = 376.0, TR=26.6 MB/s, t = 53.9s\n",
      "2023-09-25 03:08:19 - hil_control.hw_rev4_dock_undock - INFO - finished run 389. Id_avg = 147.0, Id_max = 293.0, Iud_avg 146.2, Iud_max = 305.0, TR=25.7 MB/s, t = 54.0s\n",
      "2023-09-25 03:09:14 - hil_control.hw_rev4_dock_undock - INFO - finished run 390. Id_avg = 146.2, Id_max = 348.0, Iud_avg 145.6, Iud_max = 420.0, TR=25.6 MB/s, t = 55.6s\n",
      "2023-09-25 03:10:08 - hil_control.hw_rev4_dock_undock - INFO - finished run 391. Id_avg = 146.6, Id_max = 289.0, Iud_avg 145.4, Iud_max = 368.0, TR=26.4 MB/s, t = 54.2s\n",
      "2023-09-25 03:11:04 - hil_control.hw_rev4_dock_undock - INFO - finished run 392. Id_avg = 148.2, Id_max = 305.0, Iud_avg 145.3, Iud_max = 370.0, TR=25.5 MB/s, t = 55.6s\n",
      "2023-09-25 03:11:56 - hil_control.hw_rev4_dock_undock - INFO - finished run 393. Id_avg = 150.6, Id_max = 426.0, Iud_avg 145.5, Iud_max = 313.0, TR=27.6 MB/s, t = 52.4s\n",
      "2023-09-25 03:12:50 - hil_control.hw_rev4_dock_undock - INFO - finished run 394. Id_avg = 148.0, Id_max = 304.0, Iud_avg 145.8, Iud_max = 325.0, TR=26.1 MB/s, t = 54.1s\n",
      "2023-09-25 03:13:46 - hil_control.hw_rev4_dock_undock - INFO - finished run 395. Id_avg = 146.8, Id_max = 299.0, Iud_avg 146.9, Iud_max = 440.0, TR=25.3 MB/s, t = 55.8s\n",
      "2023-09-25 03:14:40 - hil_control.hw_rev4_dock_undock - INFO - finished run 396. Id_avg = 147.9, Id_max = 305.0, Iud_avg 145.3, Iud_max = 296.0, TR=26.2 MB/s, t = 54.1s\n",
      "2023-09-25 03:15:36 - hil_control.hw_rev4_dock_undock - INFO - finished run 397. Id_avg = 145.3, Id_max = 299.0, Iud_avg 147.7, Iud_max = 468.0, TR=25.1 MB/s, t = 55.5s\n",
      "2023-09-25 03:16:30 - hil_control.hw_rev4_dock_undock - INFO - finished run 398. Id_avg = 148.7, Id_max = 306.0, Iud_avg 145.5, Iud_max = 369.0, TR=25.6 MB/s, t = 54.7s\n",
      "2023-09-25 03:17:27 - hil_control.hw_rev4_dock_undock - INFO - finished run 399. Id_avg = 145.7, Id_max = 301.0, Iud_avg 145.9, Iud_max = 376.0, TR=24.9 MB/s, t = 56.3s\n",
      "2023-09-25 03:18:23 - hil_control.hw_rev4_dock_undock - INFO - finished run 400. Id_avg = 143.7, Id_max = 285.0, Iud_avg 143.8, Iud_max = 290.0, TR=24.5 MB/s, t = 56.0s\n",
      "2023-09-25 03:19:19 - hil_control.hw_rev4_dock_undock - INFO - finished run 401. Id_avg = 146.3, Id_max = 305.0, Iud_avg 146.5, Iud_max = 321.0, TR=24.4 MB/s, t = 56.4s\n",
      "2023-09-25 03:20:15 - hil_control.hw_rev4_dock_undock - INFO - finished run 402. Id_avg = 148.7, Id_max = 299.0, Iud_avg 147.6, Iud_max = 434.0, TR=24.5 MB/s, t = 56.0s\n",
      "2023-09-25 03:21:10 - hil_control.hw_rev4_dock_undock - INFO - finished run 403. Id_avg = 146.6, Id_max = 276.0, Iud_avg 144.4, Iud_max = 315.0, TR=25.1 MB/s, t = 55.3s\n",
      "2023-09-25 03:22:08 - hil_control.hw_rev4_dock_undock - INFO - finished run 404. Id_avg = 148.3, Id_max = 336.0, Iud_avg 147.9, Iud_max = 471.0, TR=23.8 MB/s, t = 57.4s\n",
      "2023-09-25 03:23:02 - hil_control.hw_rev4_dock_undock - INFO - finished run 405. Id_avg = 146.3, Id_max = 305.0, Iud_avg 147.3, Iud_max = 507.0, TR=26.3 MB/s, t = 54.3s\n",
      "2023-09-25 03:23:58 - hil_control.hw_rev4_dock_undock - INFO - finished run 406. Id_avg = 150.1, Id_max = 620.0, Iud_avg 146.8, Iud_max = 432.0, TR=25.0 MB/s, t = 55.6s\n",
      "2023-09-25 03:24:52 - hil_control.hw_rev4_dock_undock - INFO - finished run 407. Id_avg = 145.6, Id_max = 290.0, Iud_avg 146.9, Iud_max = 340.0, TR=25.4 MB/s, t = 54.6s\n",
      "2023-09-25 03:25:46 - hil_control.hw_rev4_dock_undock - INFO - finished run 408. Id_avg = 147.3, Id_max = 304.0, Iud_avg 148.8, Iud_max = 361.0, TR=25.9 MB/s, t = 54.1s\n"
     ]
    },
    {
     "name": "stderr",
     "output_type": "stream",
     "text": [
      "umount: /home/max/Desktop/mntdir: target is busy.\n"
     ]
    },
    {
     "name": "stdout",
     "output_type": "stream",
     "text": [
      "2023-09-25 03:26:40 - hil_control.hw_rev4_dock_undock - INFO - finished run 409. Id_avg = 147.5, Id_max = 287.0, Iud_avg 147.2, Iud_max = 392.0, TR=25.5 MB/s, t = 54.0s\n",
      "2023-09-25 03:27:34 - hil_control.hw_rev4_dock_undock - INFO - finished run 410. Id_avg = 146.1, Id_max = 291.0, Iud_avg 149.5, Iud_max = 506.0, TR=26.1 MB/s, t = 53.9s\n",
      "2023-09-25 03:28:27 - hil_control.hw_rev4_dock_undock - INFO - finished run 411. Id_avg = 146.1, Id_max = 295.0, Iud_avg 151.7, Iud_max = 481.0, TR=26.9 MB/s, t = 52.2s\n",
      "2023-09-25 03:29:22 - hil_control.hw_rev4_dock_undock - INFO - finished run 412. Id_avg = 146.5, Id_max = 304.0, Iud_avg 145.5, Iud_max = 373.0, TR=25.7 MB/s, t = 55.2s\n",
      "2023-09-25 03:30:17 - hil_control.hw_rev4_dock_undock - INFO - finished run 413. Id_avg = 144.6, Id_max = 282.0, Iud_avg 146.1, Iud_max = 451.0, TR=25.0 MB/s, t = 55.6s\n",
      "2023-09-25 03:31:10 - hil_control.hw_rev4_dock_undock - INFO - finished run 414. Id_avg = 147.6, Id_max = 305.0, Iud_avg 146.6, Iud_max = 470.0, TR=26.9 MB/s, t = 52.5s\n"
     ]
    },
    {
     "name": "stderr",
     "output_type": "stream",
     "text": [
      "umount: /home/max/Desktop/mntdir: target is busy.\n"
     ]
    },
    {
     "name": "stdout",
     "output_type": "stream",
     "text": [
      "2023-09-25 03:32:02 - hil_control.hw_rev4_dock_undock - INFO - finished run 415. Id_avg = 146.6, Id_max = 292.0, Iud_avg 147.4, Iud_max = 437.0, TR=26.7 MB/s, t = 52.0s\n",
      "2023-09-25 03:32:56 - hil_control.hw_rev4_dock_undock - INFO - finished run 416. Id_avg = 148.3, Id_max = 293.0, Iud_avg 143.2, Iud_max = 347.0, TR=25.9 MB/s, t = 53.9s\n",
      "2023-09-25 03:33:56 - hil_control.hw_rev4_dock_undock - INFO - finished run 417. Id_avg = 148.1, Id_max = 353.0, Iud_avg 145.2, Iud_max = 401.0, TR=23.0 MB/s, t = 60.2s\n",
      "2023-09-25 03:34:52 - hil_control.hw_rev4_dock_undock - INFO - finished run 418. Id_avg = 149.1, Id_max = 291.0, Iud_avg 146.6, Iud_max = 461.0, TR=24.6 MB/s, t = 56.2s\n",
      "2023-09-25 03:35:46 - hil_control.hw_rev4_dock_undock - INFO - finished run 419. Id_avg = 147.9, Id_max = 290.0, Iud_avg 148.6, Iud_max = 506.0, TR=25.5 MB/s, t = 54.0s\n",
      "2023-09-25 03:36:41 - hil_control.hw_rev4_dock_undock - INFO - finished run 420. Id_avg = 150.2, Id_max = 486.0, Iud_avg 147.0, Iud_max = 474.0, TR=25.8 MB/s, t = 54.3s\n",
      "2023-09-25 03:37:33 - hil_control.hw_rev4_dock_undock - INFO - finished run 421. Id_avg = 149.3, Id_max = 514.0, Iud_avg 150.0, Iud_max = 426.0, TR=26.7 MB/s, t = 52.6s\n",
      "2023-09-25 03:38:26 - hil_control.hw_rev4_dock_undock - INFO - finished run 422. Id_avg = 147.3, Id_max = 308.0, Iud_avg 145.6, Iud_max = 346.0, TR=26.4 MB/s, t = 53.1s\n",
      "2023-09-25 03:39:21 - hil_control.hw_rev4_dock_undock - INFO - finished run 423. Id_avg = 150.0, Id_max = 336.0, Iud_avg 150.1, Iud_max = 493.0, TR=25.5 MB/s, t = 54.4s\n",
      "2023-09-25 03:40:16 - hil_control.hw_rev4_dock_undock - INFO - finished run 424. Id_avg = 147.7, Id_max = 305.0, Iud_avg 144.9, Iud_max = 440.0, TR=25.5 MB/s, t = 55.6s\n",
      "2023-09-25 03:41:11 - hil_control.hw_rev4_dock_undock - INFO - finished run 425. Id_avg = 147.8, Id_max = 290.0, Iud_avg 147.7, Iud_max = 420.0, TR=25.2 MB/s, t = 55.0s\n",
      "2023-09-25 03:42:06 - hil_control.hw_rev4_dock_undock - INFO - finished run 426. Id_avg = 143.7, Id_max = 304.0, Iud_avg 145.0, Iud_max = 324.0, TR=25.5 MB/s, t = 54.4s\n",
      "2023-09-25 03:42:58 - hil_control.hw_rev4_dock_undock - INFO - finished run 427. Id_avg = 146.6, Id_max = 305.0, Iud_avg 145.8, Iud_max = 326.0, TR=26.9 MB/s, t = 52.2s\n"
     ]
    },
    {
     "name": "stderr",
     "output_type": "stream",
     "text": [
      "umount: /home/max/Desktop/mntdir: target is busy.\n"
     ]
    },
    {
     "name": "stdout",
     "output_type": "stream",
     "text": [
      "2023-09-25 03:43:51 - hil_control.hw_rev4_dock_undock - INFO - finished run 428. Id_avg = 147.6, Id_max = 300.0, Iud_avg 149.8, Iud_max = 381.0, TR=26.1 MB/s, t = 53.4s\n",
      "2023-09-25 03:44:44 - hil_control.hw_rev4_dock_undock - INFO - finished run 429. Id_avg = 147.5, Id_max = 467.0, Iud_avg 145.8, Iud_max = 379.0, TR=28.3 MB/s, t = 52.7s\n",
      "2023-09-25 03:45:27 - hil_control.hw_rev4_dock_undock - INFO - finished run 430. Id_avg = 150.0, Id_max = 474.0, Iud_avg 145.4, Iud_max = 304.0, TR=34.9 MB/s, t = 43.4s\n",
      "2023-09-25 03:46:14 - hil_control.hw_rev4_dock_undock - INFO - finished run 431. Id_avg = 146.6, Id_max = 299.0, Iud_avg 144.4, Iud_max = 310.0, TR=31.7 MB/s, t = 46.4s\n",
      "2023-09-25 03:46:59 - hil_control.hw_rev4_dock_undock - INFO - finished run 432. Id_avg = 145.5, Id_max = 295.0, Iud_avg 146.4, Iud_max = 279.0, TR=32.6 MB/s, t = 45.8s\n",
      "2023-09-25 03:47:39 - hil_control.hw_rev4_dock_undock - INFO - finished run 433. Id_avg = 145.5, Id_max = 291.0, Iud_avg 142.9, Iud_max = 296.0, TR=39.7 MB/s, t = 40.0s\n",
      "2023-09-25 03:48:27 - hil_control.hw_rev4_dock_undock - INFO - finished run 434. Id_avg = 145.3, Id_max = 300.0, Iud_avg 147.2, Iud_max = 311.0, TR=31.1 MB/s, t = 47.9s\n"
     ]
    },
    {
     "name": "stderr",
     "output_type": "stream",
     "text": [
      "umount: /home/max/Desktop/mntdir: target is busy.\n"
     ]
    },
    {
     "name": "stdout",
     "output_type": "stream",
     "text": [
      "2023-09-25 03:49:15 - hil_control.hw_rev4_dock_undock - INFO - finished run 435. Id_avg = 145.2, Id_max = 305.0, Iud_avg 147.4, Iud_max = 435.0, TR=30.3 MB/s, t = 47.9s\n",
      "2023-09-25 03:50:00 - hil_control.hw_rev4_dock_undock - INFO - finished run 436. Id_avg = 146.3, Id_max = 288.0, Iud_avg 149.7, Iud_max = 361.0, TR=33.8 MB/s, t = 44.7s\n",
      "2023-09-25 03:50:51 - hil_control.hw_rev4_dock_undock - INFO - finished run 437. Id_avg = 146.6, Id_max = 289.0, Iud_avg 144.9, Iud_max = 336.0, TR=28.4 MB/s, t = 51.3s\n",
      "2023-09-25 03:51:39 - hil_control.hw_rev4_dock_undock - INFO - finished run 438. Id_avg = 147.2, Id_max = 287.0, Iud_avg 147.4, Iud_max = 309.0, TR=31.2 MB/s, t = 48.0s\n"
     ]
    },
    {
     "name": "stderr",
     "output_type": "stream",
     "text": [
      "umount: /home/max/Desktop/mntdir: target is busy.\n"
     ]
    },
    {
     "name": "stdout",
     "output_type": "stream",
     "text": [
      "2023-09-25 03:52:26 - hil_control.hw_rev4_dock_undock - INFO - finished run 439. Id_avg = 146.8, Id_max = 299.0, Iud_avg 147.6, Iud_max = 339.0, TR=31.1 MB/s, t = 47.0s\n",
      "2023-09-25 03:53:18 - hil_control.hw_rev4_dock_undock - INFO - finished run 440. Id_avg = 148.1, Id_max = 501.0, Iud_avg 148.0, Iud_max = 378.0, TR=28.8 MB/s, t = 51.7s\n",
      "2023-09-25 03:54:10 - hil_control.hw_rev4_dock_undock - INFO - finished run 441. Id_avg = 147.4, Id_max = 301.0, Iud_avg 146.0, Iud_max = 283.0, TR=27.6 MB/s, t = 51.6s\n",
      "2023-09-25 03:54:58 - hil_control.hw_rev4_dock_undock - INFO - finished run 442. Id_avg = 143.1, Id_max = 291.0, Iud_avg 146.5, Iud_max = 384.0, TR=30.5 MB/s, t = 48.4s\n",
      "2023-09-25 03:55:47 - hil_control.hw_rev4_dock_undock - INFO - finished run 443. Id_avg = 145.5, Id_max = 287.0, Iud_avg 148.7, Iud_max = 454.0, TR=29.8 MB/s, t = 48.8s\n",
      "2023-09-25 03:56:35 - hil_control.hw_rev4_dock_undock - INFO - finished run 444. Id_avg = 148.4, Id_max = 292.0, Iud_avg 147.0, Iud_max = 306.0, TR=30.5 MB/s, t = 47.7s\n",
      "2023-09-25 03:57:23 - hil_control.hw_rev4_dock_undock - INFO - finished run 445. Id_avg = 144.2, Id_max = 307.0, Iud_avg 150.8, Iud_max = 507.0, TR=31.2 MB/s, t = 48.0s\n",
      "2023-09-25 03:58:10 - hil_control.hw_rev4_dock_undock - INFO - finished run 446. Id_avg = 143.9, Id_max = 300.0, Iud_avg 147.5, Iud_max = 460.0, TR=31.6 MB/s, t = 47.9s\n",
      "2023-09-25 03:58:59 - hil_control.hw_rev4_dock_undock - INFO - finished run 447. Id_avg = 145.7, Id_max = 307.0, Iud_avg 146.9, Iud_max = 426.0, TR=30.3 MB/s, t = 48.3s\n",
      "2023-09-25 03:59:47 - hil_control.hw_rev4_dock_undock - INFO - finished run 448. Id_avg = 146.4, Id_max = 306.0, Iud_avg 147.5, Iud_max = 477.0, TR=29.9 MB/s, t = 48.7s\n",
      "2023-09-25 04:00:37 - hil_control.hw_rev4_dock_undock - INFO - finished run 449. Id_avg = 146.4, Id_max = 499.0, Iud_avg 146.1, Iud_max = 419.0, TR=29.2 MB/s, t = 49.9s\n",
      "2023-09-25 04:01:23 - hil_control.hw_rev4_dock_undock - INFO - finished run 450. Id_avg = 144.7, Id_max = 305.0, Iud_avg 145.6, Iud_max = 408.0, TR=33.3 MB/s, t = 45.3s\n",
      "2023-09-25 04:02:09 - hil_control.hw_rev4_dock_undock - INFO - finished run 451. Id_avg = 147.2, Id_max = 298.0, Iud_avg 147.7, Iud_max = 460.0, TR=31.7 MB/s, t = 46.4s\n",
      "2023-09-25 04:02:58 - hil_control.hw_rev4_dock_undock - INFO - finished run 452. Id_avg = 144.8, Id_max = 293.0, Iud_avg 145.9, Iud_max = 388.0, TR=29.9 MB/s, t = 48.7s\n",
      "2023-09-25 04:03:48 - hil_control.hw_rev4_dock_undock - INFO - finished run 453. Id_avg = 145.8, Id_max = 292.0, Iud_avg 146.5, Iud_max = 338.0, TR=28.3 MB/s, t = 50.3s\n",
      "2023-09-25 04:04:40 - hil_control.hw_rev4_dock_undock - INFO - finished run 454. Id_avg = 146.0, Id_max = 304.0, Iud_avg 149.1, Iud_max = 504.0, TR=27.4 MB/s, t = 52.0s\n",
      "2023-09-25 04:05:30 - hil_control.hw_rev4_dock_undock - INFO - finished run 455. Id_avg = 146.9, Id_max = 305.0, Iud_avg 146.8, Iud_max = 292.0, TR=28.8 MB/s, t = 50.1s\n",
      "2023-09-25 04:06:20 - hil_control.hw_rev4_dock_undock - INFO - finished run 456. Id_avg = 146.6, Id_max = 397.0, Iud_avg 143.3, Iud_max = 318.0, TR=29.6 MB/s, t = 50.2s\n",
      "2023-09-25 04:07:12 - hil_control.hw_rev4_dock_undock - INFO - finished run 457. Id_avg = 145.1, Id_max = 298.0, Iud_avg 149.6, Iud_max = 527.0, TR=27.5 MB/s, t = 51.8s\n",
      "2023-09-25 04:08:02 - hil_control.hw_rev4_dock_undock - INFO - finished run 458. Id_avg = 148.1, Id_max = 317.0, Iud_avg 146.4, Iud_max = 391.0, TR=28.6 MB/s, t = 50.2s\n",
      "2023-09-25 04:08:54 - hil_control.hw_rev4_dock_undock - INFO - finished run 459. Id_avg = 143.2, Id_max = 298.0, Iud_avg 146.2, Iud_max = 436.0, TR=27.2 MB/s, t = 52.1s\n",
      "2023-09-25 04:09:45 - hil_control.hw_rev4_dock_undock - INFO - finished run 460. Id_avg = 145.1, Id_max = 300.0, Iud_avg 148.1, Iud_max = 507.0, TR=28.5 MB/s, t = 50.5s\n",
      "2023-09-25 04:10:37 - hil_control.hw_rev4_dock_undock - INFO - finished run 461. Id_avg = 147.5, Id_max = 293.0, Iud_avg 146.0, Iud_max = 400.0, TR=27.2 MB/s, t = 52.0s\n",
      "2023-09-25 04:11:28 - hil_control.hw_rev4_dock_undock - INFO - finished run 462. Id_avg = 146.2, Id_max = 296.0, Iud_avg 148.0, Iud_max = 403.0, TR=28.3 MB/s, t = 50.7s\n",
      "2023-09-25 04:12:20 - hil_control.hw_rev4_dock_undock - INFO - finished run 463. Id_avg = 152.0, Id_max = 1053.0, Iud_avg 145.3, Iud_max = 428.0, TR=26.9 MB/s, t = 52.2s\n",
      "2023-09-25 04:13:13 - hil_control.hw_rev4_dock_undock - INFO - finished run 464. Id_avg = 144.6, Id_max = 306.0, Iud_avg 148.7, Iud_max = 336.0, TR=27.1 MB/s, t = 53.4s\n",
      "2023-09-25 04:14:01 - hil_control.hw_rev4_dock_undock - INFO - finished run 465. Id_avg = 145.4, Id_max = 298.0, Iud_avg 146.7, Iud_max = 470.0, TR=30.4 MB/s, t = 47.9s\n",
      "2023-09-25 04:14:52 - hil_control.hw_rev4_dock_undock - INFO - finished run 466. Id_avg = 148.4, Id_max = 333.0, Iud_avg 147.8, Iud_max = 425.0, TR=27.9 MB/s, t = 51.3s\n",
      "2023-09-25 04:15:43 - hil_control.hw_rev4_dock_undock - INFO - finished run 467. Id_avg = 147.2, Id_max = 304.0, Iud_avg 143.5, Iud_max = 296.0, TR=28.1 MB/s, t = 50.4s\n",
      "2023-09-25 04:16:35 - hil_control.hw_rev4_dock_undock - INFO - finished run 468. Id_avg = 147.1, Id_max = 379.0, Iud_avg 145.4, Iud_max = 350.0, TR=27.6 MB/s, t = 52.1s\n",
      "2023-09-25 04:17:29 - hil_control.hw_rev4_dock_undock - INFO - finished run 469. Id_avg = 145.4, Id_max = 300.0, Iud_avg 142.2, Iud_max = 286.0, TR=26.6 MB/s, t = 53.9s\n",
      "2023-09-25 04:18:20 - hil_control.hw_rev4_dock_undock - INFO - finished run 470. Id_avg = 147.1, Id_max = 291.0, Iud_avg 145.7, Iud_max = 391.0, TR=28.3 MB/s, t = 50.6s\n",
      "2023-09-25 04:19:10 - hil_control.hw_rev4_dock_undock - INFO - finished run 471. Id_avg = 147.0, Id_max = 302.0, Iud_avg 149.8, Iud_max = 439.0, TR=28.6 MB/s, t = 50.1s\n",
      "2023-09-25 04:20:02 - hil_control.hw_rev4_dock_undock - INFO - finished run 472. Id_avg = 145.5, Id_max = 294.0, Iud_avg 142.0, Iud_max = 340.0, TR=27.0 MB/s, t = 52.1s\n",
      "2023-09-25 04:20:55 - hil_control.hw_rev4_dock_undock - INFO - finished run 473. Id_avg = 145.7, Id_max = 289.0, Iud_avg 148.5, Iud_max = 619.0, TR=26.2 MB/s, t = 53.6s\n",
      "2023-09-25 04:21:48 - hil_control.hw_rev4_dock_undock - INFO - finished run 474. Id_avg = 146.8, Id_max = 288.0, Iud_avg 142.1, Iud_max = 328.0, TR=27.7 MB/s, t = 52.4s\n",
      "2023-09-25 04:22:39 - hil_control.hw_rev4_dock_undock - INFO - finished run 475. Id_avg = 147.5, Id_max = 305.0, Iud_avg 146.8, Iud_max = 379.0, TR=27.7 MB/s, t = 51.5s\n",
      "2023-09-25 04:23:32 - hil_control.hw_rev4_dock_undock - INFO - finished run 476. Id_avg = 148.4, Id_max = 291.0, Iud_avg 146.7, Iud_max = 497.0, TR=27.4 MB/s, t = 52.4s\n",
      "2023-09-25 04:24:23 - hil_control.hw_rev4_dock_undock - INFO - finished run 477. Id_avg = 148.1, Id_max = 727.0, Iud_avg 146.1, Iud_max = 367.0, TR=27.9 MB/s, t = 51.1s\n",
      "2023-09-25 04:25:14 - hil_control.hw_rev4_dock_undock - INFO - finished run 478. Id_avg = 145.9, Id_max = 301.0, Iud_avg 145.5, Iud_max = 301.0, TR=28.1 MB/s, t = 51.3s\n",
      "2023-09-25 04:26:04 - hil_control.hw_rev4_dock_undock - INFO - finished run 479. Id_avg = 147.0, Id_max = 290.0, Iud_avg 145.8, Iud_max = 424.0, TR=29.4 MB/s, t = 50.1s\n",
      "2023-09-25 04:26:59 - hil_control.hw_rev4_dock_undock - INFO - finished run 480. Id_avg = 145.7, Id_max = 292.0, Iud_avg 144.9, Iud_max = 315.0, TR=25.9 MB/s, t = 54.4s\n",
      "2023-09-25 04:27:49 - hil_control.hw_rev4_dock_undock - INFO - finished run 481. Id_avg = 145.6, Id_max = 293.0, Iud_avg 148.0, Iud_max = 455.0, TR=28.5 MB/s, t = 50.5s\n",
      "2023-09-25 04:28:41 - hil_control.hw_rev4_dock_undock - INFO - finished run 482. Id_avg = 145.8, Id_max = 274.0, Iud_avg 143.6, Iud_max = 308.0, TR=27.5 MB/s, t = 52.3s\n",
      "2023-09-25 04:29:33 - hil_control.hw_rev4_dock_undock - INFO - finished run 483. Id_avg = 146.4, Id_max = 299.0, Iud_avg 144.6, Iud_max = 382.0, TR=28.2 MB/s, t = 51.7s\n",
      "2023-09-25 04:30:24 - hil_control.hw_rev4_dock_undock - INFO - finished run 484. Id_avg = 148.0, Id_max = 305.0, Iud_avg 143.7, Iud_max = 342.0, TR=28.4 MB/s, t = 50.5s\n",
      "2023-09-25 04:31:14 - hil_control.hw_rev4_dock_undock - INFO - finished run 485. Id_avg = 150.9, Id_max = 427.0, Iud_avg 146.6, Iud_max = 502.0, TR=28.9 MB/s, t = 50.1s\n",
      "2023-09-25 04:32:05 - hil_control.hw_rev4_dock_undock - INFO - finished run 486. Id_avg = 146.3, Id_max = 307.0, Iud_avg 145.2, Iud_max = 324.0, TR=27.6 MB/s, t = 51.6s\n",
      "2023-09-25 04:32:56 - hil_control.hw_rev4_dock_undock - INFO - finished run 487. Id_avg = 147.9, Id_max = 290.0, Iud_avg 144.2, Iud_max = 368.0, TR=28.4 MB/s, t = 50.7s\n",
      "2023-09-25 04:33:48 - hil_control.hw_rev4_dock_undock - INFO - finished run 488. Id_avg = 147.2, Id_max = 307.0, Iud_avg 148.5, Iud_max = 369.0, TR=27.9 MB/s, t = 52.4s\n",
      "2023-09-25 04:34:40 - hil_control.hw_rev4_dock_undock - INFO - finished run 489. Id_avg = 145.2, Id_max = 307.0, Iud_avg 149.1, Iud_max = 375.0, TR=27.2 MB/s, t = 52.1s\n",
      "2023-09-25 04:35:31 - hil_control.hw_rev4_dock_undock - INFO - finished run 490. Id_avg = 146.1, Id_max = 300.0, Iud_avg 146.6, Iud_max = 371.0, TR=28.4 MB/s, t = 50.3s\n",
      "2023-09-25 04:36:21 - hil_control.hw_rev4_dock_undock - INFO - finished run 491. Id_avg = 146.4, Id_max = 288.0, Iud_avg 144.8, Iud_max = 311.0, TR=28.2 MB/s, t = 50.7s\n",
      "2023-09-25 04:37:15 - hil_control.hw_rev4_dock_undock - INFO - finished run 492. Id_avg = 147.7, Id_max = 291.0, Iud_avg 144.9, Iud_max = 385.0, TR=26.5 MB/s, t = 53.7s\n",
      "2023-09-25 04:38:06 - hil_control.hw_rev4_dock_undock - INFO - finished run 493. Id_avg = 147.4, Id_max = 306.0, Iud_avg 147.2, Iud_max = 466.0, TR=28.3 MB/s, t = 50.7s\n",
      "2023-09-25 04:39:03 - hil_control.hw_rev4_dock_undock - INFO - finished run 494. Id_avg = 146.2, Id_max = 293.0, Iud_avg 145.0, Iud_max = 402.0, TR=28.3 MB/s, t = 57.0s\n",
      "2023-09-25 04:39:55 - hil_control.hw_rev4_dock_undock - INFO - finished run 495. Id_avg = 145.7, Id_max = 296.0, Iud_avg 147.3, Iud_max = 448.0, TR=27.9 MB/s, t = 51.7s\n",
      "2023-09-25 04:40:45 - hil_control.hw_rev4_dock_undock - INFO - finished run 496. Id_avg = 146.2, Id_max = 304.0, Iud_avg 151.0, Iud_max = 473.0, TR=29.4 MB/s, t = 50.1s\n",
      "2023-09-25 04:41:37 - hil_control.hw_rev4_dock_undock - INFO - finished run 497. Id_avg = 146.0, Id_max = 300.0, Iud_avg 144.1, Iud_max = 384.0, TR=27.7 MB/s, t = 52.3s\n",
      "2023-09-25 04:42:31 - hil_control.hw_rev4_dock_undock - INFO - finished run 498. Id_avg = 145.5, Id_max = 299.0, Iud_avg 146.0, Iud_max = 301.0, TR=26.0 MB/s, t = 53.6s\n",
      "2023-09-25 04:43:21 - hil_control.hw_rev4_dock_undock - INFO - finished run 499. Id_avg = 145.8, Id_max = 306.0, Iud_avg 146.6, Iud_max = 310.0, TR=28.4 MB/s, t = 50.5s\n",
      "2023-09-25 04:44:15 - hil_control.hw_rev4_dock_undock - INFO - finished run 500. Id_avg = 147.1, Id_max = 300.0, Iud_avg 151.7, Iud_max = 331.0, TR=25.8 MB/s, t = 53.9s\n",
      "2023-09-25 04:45:06 - hil_control.hw_rev4_dock_undock - INFO - finished run 501. Id_avg = 148.2, Id_max = 301.0, Iud_avg 146.3, Iud_max = 463.0, TR=28.0 MB/s, t = 50.9s\n",
      "2023-09-25 04:45:58 - hil_control.hw_rev4_dock_undock - INFO - finished run 502. Id_avg = 146.8, Id_max = 300.0, Iud_avg 145.7, Iud_max = 498.0, TR=26.8 MB/s, t = 52.3s\n",
      "2023-09-25 04:46:52 - hil_control.hw_rev4_dock_undock - INFO - finished run 503. Id_avg = 144.6, Id_max = 292.0, Iud_avg 148.3, Iud_max = 376.0, TR=26.1 MB/s, t = 53.6s\n",
      "2023-09-25 04:47:44 - hil_control.hw_rev4_dock_undock - INFO - finished run 504. Id_avg = 143.9, Id_max = 293.0, Iud_avg 149.5, Iud_max = 463.0, TR=27.2 MB/s, t = 52.2s\n",
      "2023-09-25 04:48:38 - hil_control.hw_rev4_dock_undock - INFO - finished run 505. Id_avg = 148.2, Id_max = 307.0, Iud_avg 146.0, Iud_max = 504.0, TR=25.8 MB/s, t = 54.3s\n",
      "2023-09-25 04:49:32 - hil_control.hw_rev4_dock_undock - INFO - finished run 506. Id_avg = 147.2, Id_max = 306.0, Iud_avg 148.3, Iud_max = 311.0, TR=26.4 MB/s, t = 53.3s\n",
      "2023-09-25 04:50:25 - hil_control.hw_rev4_dock_undock - INFO - finished run 507. Id_avg = 145.1, Id_max = 303.0, Iud_avg 154.1, Iud_max = 506.0, TR=26.8 MB/s, t = 53.1s\n",
      "2023-09-25 04:51:18 - hil_control.hw_rev4_dock_undock - INFO - finished run 508. Id_avg = 147.0, Id_max = 291.0, Iud_avg 150.0, Iud_max = 501.0, TR=26.6 MB/s, t = 53.5s\n",
      "2023-09-25 04:52:12 - hil_control.hw_rev4_dock_undock - INFO - finished run 509. Id_avg = 146.7, Id_max = 299.0, Iud_avg 145.1, Iud_max = 350.0, TR=26.1 MB/s, t = 53.8s\n",
      "2023-09-25 04:53:05 - hil_control.hw_rev4_dock_undock - INFO - finished run 510. Id_avg = 151.1, Id_max = 500.0, Iud_avg 147.4, Iud_max = 450.0, TR=26.7 MB/s, t = 53.5s\n",
      "2023-09-25 04:53:59 - hil_control.hw_rev4_dock_undock - INFO - finished run 511. Id_avg = 146.2, Id_max = 290.0, Iud_avg 146.4, Iud_max = 301.0, TR=26.5 MB/s, t = 53.5s\n",
      "2023-09-25 04:54:53 - hil_control.hw_rev4_dock_undock - INFO - finished run 512. Id_avg = 145.9, Id_max = 319.0, Iud_avg 147.1, Iud_max = 297.0, TR=25.9 MB/s, t = 53.9s\n",
      "2023-09-25 04:55:46 - hil_control.hw_rev4_dock_undock - INFO - finished run 513. Id_avg = 146.3, Id_max = 304.0, Iud_avg 148.6, Iud_max = 306.0, TR=25.9 MB/s, t = 53.6s\n",
      "2023-09-25 04:56:42 - hil_control.hw_rev4_dock_undock - INFO - finished run 514. Id_avg = 146.4, Id_max = 290.0, Iud_avg 151.7, Iud_max = 428.0, TR=25.4 MB/s, t = 55.6s\n",
      "2023-09-25 04:57:34 - hil_control.hw_rev4_dock_undock - INFO - finished run 515. Id_avg = 147.3, Id_max = 294.0, Iud_avg 145.7, Iud_max = 467.0, TR=27.8 MB/s, t = 52.2s\n",
      "2023-09-25 04:58:27 - hil_control.hw_rev4_dock_undock - INFO - finished run 516. Id_avg = 144.6, Id_max = 298.0, Iud_avg 147.7, Iud_max = 493.0, TR=27.2 MB/s, t = 52.4s\n",
      "2023-09-25 04:59:20 - hil_control.hw_rev4_dock_undock - INFO - finished run 517. Id_avg = 145.8, Id_max = 297.0, Iud_avg 142.3, Iud_max = 306.0, TR=26.8 MB/s, t = 53.8s\n",
      "2023-09-25 05:00:13 - hil_control.hw_rev4_dock_undock - INFO - finished run 518. Id_avg = 144.5, Id_max = 299.0, Iud_avg 145.5, Iud_max = 506.0, TR=26.9 MB/s, t = 52.5s\n",
      "2023-09-25 05:01:06 - hil_control.hw_rev4_dock_undock - INFO - finished run 519. Id_avg = 147.2, Id_max = 299.0, Iud_avg 147.4, Iud_max = 317.0, TR=27.4 MB/s, t = 52.5s\n",
      "2023-09-25 05:01:59 - hil_control.hw_rev4_dock_undock - INFO - finished run 520. Id_avg = 152.6, Id_max = 365.0, Iud_avg 149.2, Iud_max = 450.0, TR=26.0 MB/s, t = 53.9s\n",
      "2023-09-25 05:02:54 - hil_control.hw_rev4_dock_undock - INFO - finished run 521. Id_avg = 145.2, Id_max = 307.0, Iud_avg 144.4, Iud_max = 334.0, TR=26.3 MB/s, t = 54.2s\n",
      "2023-09-25 05:03:48 - hil_control.hw_rev4_dock_undock - INFO - finished run 522. Id_avg = 147.5, Id_max = 293.0, Iud_avg 151.5, Iud_max = 489.0, TR=25.7 MB/s, t = 54.2s\n",
      "2023-09-25 05:04:42 - hil_control.hw_rev4_dock_undock - INFO - finished run 523. Id_avg = 149.4, Id_max = 288.0, Iud_avg 146.7, Iud_max = 317.0, TR=25.5 MB/s, t = 54.2s\n",
      "2023-09-25 05:05:38 - hil_control.hw_rev4_dock_undock - INFO - finished run 524. Id_avg = 145.2, Id_max = 286.0, Iud_avg 143.8, Iud_max = 296.0, TR=24.9 MB/s, t = 55.7s\n",
      "2023-09-25 05:06:30 - hil_control.hw_rev4_dock_undock - INFO - finished run 525. Id_avg = 146.1, Id_max = 289.0, Iud_avg 147.2, Iud_max = 387.0, TR=26.7 MB/s, t = 52.6s\n",
      "2023-09-25 05:07:23 - hil_control.hw_rev4_dock_undock - INFO - finished run 526. Id_avg = 145.6, Id_max = 290.0, Iud_avg 145.8, Iud_max = 301.0, TR=26.7 MB/s, t = 52.7s\n",
      "2023-09-25 05:08:19 - hil_control.hw_rev4_dock_undock - INFO - finished run 527. Id_avg = 147.6, Id_max = 306.0, Iud_avg 146.4, Iud_max = 372.0, TR=24.5 MB/s, t = 56.0s\n",
      "2023-09-25 05:09:13 - hil_control.hw_rev4_dock_undock - INFO - finished run 528. Id_avg = 149.3, Id_max = 453.0, Iud_avg 143.9, Iud_max = 370.0, TR=26.2 MB/s, t = 53.9s\n",
      "2023-09-25 05:10:10 - hil_control.hw_rev4_dock_undock - INFO - finished run 529. Id_avg = 142.6, Id_max = 289.0, Iud_avg 145.2, Iud_max = 337.0, TR=24.3 MB/s, t = 56.8s\n",
      "2023-09-25 05:11:04 - hil_control.hw_rev4_dock_undock - INFO - finished run 530. Id_avg = 145.0, Id_max = 300.0, Iud_avg 143.5, Iud_max = 346.0, TR=25.9 MB/s, t = 54.6s\n",
      "2023-09-25 05:11:59 - hil_control.hw_rev4_dock_undock - INFO - finished run 531. Id_avg = 144.9, Id_max = 298.0, Iud_avg 144.4, Iud_max = 375.0, TR=26.2 MB/s, t = 54.8s\n",
      "2023-09-25 05:12:53 - hil_control.hw_rev4_dock_undock - INFO - finished run 532. Id_avg = 145.4, Id_max = 295.0, Iud_avg 149.9, Iud_max = 851.0, TR=25.9 MB/s, t = 54.2s\n",
      "2023-09-25 05:13:48 - hil_control.hw_rev4_dock_undock - INFO - finished run 533. Id_avg = 145.8, Id_max = 292.0, Iud_avg 145.9, Iud_max = 448.0, TR=25.6 MB/s, t = 54.5s\n",
      "2023-09-25 05:14:40 - hil_control.hw_rev4_dock_undock - INFO - finished run 534. Id_avg = 147.0, Id_max = 293.0, Iud_avg 147.9, Iud_max = 303.0, TR=27.0 MB/s, t = 52.7s\n",
      "2023-09-25 05:15:35 - hil_control.hw_rev4_dock_undock - INFO - finished run 535. Id_avg = 147.5, Id_max = 299.0, Iud_avg 149.2, Iud_max = 449.0, TR=26.2 MB/s, t = 54.3s\n",
      "2023-09-25 05:16:28 - hil_control.hw_rev4_dock_undock - INFO - finished run 536. Id_avg = 144.6, Id_max = 301.0, Iud_avg 149.0, Iud_max = 355.0, TR=26.4 MB/s, t = 53.3s\n",
      "2023-09-25 05:17:23 - hil_control.hw_rev4_dock_undock - INFO - finished run 537. Id_avg = 146.2, Id_max = 292.0, Iud_avg 146.7, Iud_max = 288.0, TR=26.2 MB/s, t = 54.7s\n",
      "2023-09-25 05:18:16 - hil_control.hw_rev4_dock_undock - INFO - finished run 538. Id_avg = 144.6, Id_max = 298.0, Iud_avg 148.2, Iud_max = 467.0, TR=26.2 MB/s, t = 53.8s\n",
      "2023-09-25 05:19:11 - hil_control.hw_rev4_dock_undock - INFO - finished run 539. Id_avg = 146.6, Id_max = 293.0, Iud_avg 146.0, Iud_max = 347.0, TR=26.0 MB/s, t = 54.5s\n",
      "2023-09-25 05:20:06 - hil_control.hw_rev4_dock_undock - INFO - finished run 540. Id_avg = 147.2, Id_max = 294.0, Iud_avg 149.2, Iud_max = 453.0, TR=26.1 MB/s, t = 54.7s\n",
      "2023-09-25 05:21:00 - hil_control.hw_rev4_dock_undock - INFO - finished run 541. Id_avg = 146.1, Id_max = 298.0, Iud_avg 145.4, Iud_max = 423.0, TR=26.0 MB/s, t = 54.1s\n",
      "2023-09-25 05:21:54 - hil_control.hw_rev4_dock_undock - INFO - finished run 542. Id_avg = 149.3, Id_max = 460.0, Iud_avg 147.0, Iud_max = 289.0, TR=25.6 MB/s, t = 54.4s\n",
      "2023-09-25 05:22:47 - hil_control.hw_rev4_dock_undock - INFO - finished run 543. Id_avg = 150.4, Id_max = 307.0, Iud_avg 146.8, Iud_max = 375.0, TR=26.6 MB/s, t = 52.8s\n",
      "2023-09-25 05:23:40 - hil_control.hw_rev4_dock_undock - INFO - finished run 544. Id_avg = 145.8, Id_max = 301.0, Iud_avg 144.8, Iud_max = 316.0, TR=26.7 MB/s, t = 52.8s\n",
      "2023-09-25 05:24:34 - hil_control.hw_rev4_dock_undock - INFO - finished run 545. Id_avg = 147.1, Id_max = 288.0, Iud_avg 147.0, Iud_max = 309.0, TR=26.5 MB/s, t = 54.2s\n",
      "2023-09-25 05:25:26 - hil_control.hw_rev4_dock_undock - INFO - finished run 546. Id_avg = 148.8, Id_max = 293.0, Iud_avg 143.4, Iud_max = 310.0, TR=26.8 MB/s, t = 52.4s\n",
      "2023-09-25 05:26:19 - hil_control.hw_rev4_dock_undock - INFO - finished run 547. Id_avg = 147.0, Id_max = 290.0, Iud_avg 145.6, Iud_max = 321.0, TR=26.7 MB/s, t = 52.6s\n",
      "2023-09-25 05:27:12 - hil_control.hw_rev4_dock_undock - INFO - finished run 548. Id_avg = 145.9, Id_max = 295.0, Iud_avg 144.7, Iud_max = 386.0, TR=26.6 MB/s, t = 52.8s\n",
      "2023-09-25 05:28:07 - hil_control.hw_rev4_dock_undock - INFO - finished run 549. Id_avg = 146.3, Id_max = 289.0, Iud_avg 145.1, Iud_max = 293.0, TR=25.4 MB/s, t = 55.3s\n",
      "2023-09-25 05:28:59 - hil_control.hw_rev4_dock_undock - INFO - finished run 550. Id_avg = 146.5, Id_max = 314.0, Iud_avg 151.3, Iud_max = 494.0, TR=27.3 MB/s, t = 52.4s\n",
      "2023-09-25 05:29:53 - hil_control.hw_rev4_dock_undock - INFO - finished run 551. Id_avg = 149.2, Id_max = 326.0, Iud_avg 144.3, Iud_max = 369.0, TR=26.5 MB/s, t = 53.2s\n",
      "2023-09-25 05:30:48 - hil_control.hw_rev4_dock_undock - INFO - finished run 552. Id_avg = 147.5, Id_max = 301.0, Iud_avg 143.4, Iud_max = 309.0, TR=25.1 MB/s, t = 55.7s\n",
      "2023-09-25 05:31:41 - hil_control.hw_rev4_dock_undock - INFO - finished run 553. Id_avg = 144.8, Id_max = 293.0, Iud_avg 144.5, Iud_max = 462.0, TR=26.4 MB/s, t = 53.0s\n",
      "2023-09-25 05:32:36 - hil_control.hw_rev4_dock_undock - INFO - finished run 554. Id_avg = 147.5, Id_max = 496.0, Iud_avg 144.7, Iud_max = 402.0, TR=26.0 MB/s, t = 54.2s\n",
      "2023-09-25 05:33:30 - hil_control.hw_rev4_dock_undock - INFO - finished run 555. Id_avg = 143.8, Id_max = 290.0, Iud_avg 141.8, Iud_max = 338.0, TR=26.0 MB/s, t = 54.3s\n",
      "2023-09-25 05:34:23 - hil_control.hw_rev4_dock_undock - INFO - finished run 556. Id_avg = 146.4, Id_max = 291.0, Iud_avg 146.1, Iud_max = 438.0, TR=26.3 MB/s, t = 53.2s\n",
      "2023-09-25 05:35:18 - hil_control.hw_rev4_dock_undock - INFO - finished run 557. Id_avg = 146.9, Id_max = 290.0, Iud_avg 145.8, Iud_max = 338.0, TR=26.2 MB/s, t = 54.7s\n",
      "2023-09-25 05:36:11 - hil_control.hw_rev4_dock_undock - INFO - finished run 558. Id_avg = 147.2, Id_max = 301.0, Iud_avg 150.3, Iud_max = 506.0, TR=26.5 MB/s, t = 53.8s\n",
      "2023-09-25 05:37:04 - hil_control.hw_rev4_dock_undock - INFO - finished run 559. Id_avg = 147.4, Id_max = 290.0, Iud_avg 142.9, Iud_max = 323.0, TR=26.9 MB/s, t = 52.2s\n",
      "2023-09-25 05:37:58 - hil_control.hw_rev4_dock_undock - INFO - finished run 560. Id_avg = 148.0, Id_max = 597.0, Iud_avg 146.4, Iud_max = 345.0, TR=26.1 MB/s, t = 54.5s\n",
      "2023-09-25 05:38:52 - hil_control.hw_rev4_dock_undock - INFO - finished run 561. Id_avg = 146.6, Id_max = 320.0, Iud_avg 146.8, Iud_max = 477.0, TR=25.8 MB/s, t = 54.2s\n",
      "2023-09-25 05:39:47 - hil_control.hw_rev4_dock_undock - INFO - finished run 562. Id_avg = 145.5, Id_max = 289.0, Iud_avg 147.2, Iud_max = 507.0, TR=26.0 MB/s, t = 54.7s\n",
      "2023-09-25 05:40:42 - hil_control.hw_rev4_dock_undock - INFO - finished run 563. Id_avg = 146.2, Id_max = 302.0, Iud_avg 144.8, Iud_max = 334.0, TR=26.1 MB/s, t = 54.7s\n",
      "2023-09-25 05:41:37 - hil_control.hw_rev4_dock_undock - INFO - finished run 564. Id_avg = 151.0, Id_max = 698.0, Iud_avg 147.2, Iud_max = 432.0, TR=25.2 MB/s, t = 54.8s\n",
      "2023-09-25 05:42:31 - hil_control.hw_rev4_dock_undock - INFO - finished run 565. Id_avg = 145.9, Id_max = 289.0, Iud_avg 149.7, Iud_max = 455.0, TR=25.5 MB/s, t = 54.5s\n",
      "2023-09-25 05:43:25 - hil_control.hw_rev4_dock_undock - INFO - finished run 566. Id_avg = 147.2, Id_max = 300.0, Iud_avg 148.8, Iud_max = 478.0, TR=25.5 MB/s, t = 54.4s\n",
      "2023-09-25 05:44:21 - hil_control.hw_rev4_dock_undock - INFO - finished run 567. Id_avg = 150.5, Id_max = 590.0, Iud_avg 148.3, Iud_max = 379.0, TR=25.2 MB/s, t = 55.1s\n",
      "2023-09-25 05:45:15 - hil_control.hw_rev4_dock_undock - INFO - finished run 568. Id_avg = 146.3, Id_max = 303.0, Iud_avg 143.9, Iud_max = 347.0, TR=25.4 MB/s, t = 54.2s\n",
      "2023-09-25 05:46:09 - hil_control.hw_rev4_dock_undock - INFO - finished run 569. Id_avg = 148.3, Id_max = 454.0, Iud_avg 152.7, Iud_max = 492.0, TR=25.4 MB/s, t = 54.5s\n",
      "2023-09-25 05:47:04 - hil_control.hw_rev4_dock_undock - INFO - finished run 570. Id_avg = 145.2, Id_max = 294.0, Iud_avg 143.2, Iud_max = 292.0, TR=25.3 MB/s, t = 54.5s\n",
      "2023-09-25 05:48:00 - hil_control.hw_rev4_dock_undock - INFO - finished run 571. Id_avg = 145.8, Id_max = 294.0, Iud_avg 148.1, Iud_max = 507.0, TR=24.5 MB/s, t = 56.3s\n",
      "2023-09-25 05:48:55 - hil_control.hw_rev4_dock_undock - INFO - finished run 572. Id_avg = 147.0, Id_max = 288.0, Iud_avg 146.4, Iud_max = 378.0, TR=25.3 MB/s, t = 55.1s\n",
      "2023-09-25 05:49:51 - hil_control.hw_rev4_dock_undock - INFO - finished run 573. Id_avg = 145.5, Id_max = 296.0, Iud_avg 147.1, Iud_max = 448.0, TR=24.8 MB/s, t = 55.4s\n"
     ]
    },
    {
     "name": "stderr",
     "output_type": "stream",
     "text": [
      "umount: /home/max/Desktop/mntdir: target is busy.\n"
     ]
    },
    {
     "name": "stdout",
     "output_type": "stream",
     "text": [
      "2023-09-25 05:50:48 - hil_control.hw_rev4_dock_undock - INFO - finished run 574. Id_avg = 146.8, Id_max = 321.0, Iud_avg 146.9, Iud_max = 443.0, TR=23.9 MB/s, t = 57.0s\n",
      "2023-09-25 05:51:46 - hil_control.hw_rev4_dock_undock - INFO - finished run 575. Id_avg = 144.9, Id_max = 298.0, Iud_avg 146.7, Iud_max = 336.0, TR=23.8 MB/s, t = 58.6s\n",
      "2023-09-25 05:52:44 - hil_control.hw_rev4_dock_undock - INFO - finished run 576. Id_avg = 149.2, Id_max = 391.0, Iud_avg 148.6, Iud_max = 457.0, TR=24.1 MB/s, t = 57.8s\n",
      "2023-09-25 05:53:41 - hil_control.hw_rev4_dock_undock - INFO - finished run 577. Id_avg = 145.6, Id_max = 301.0, Iud_avg 146.8, Iud_max = 388.0, TR=24.6 MB/s, t = 56.5s\n",
      "2023-09-25 05:54:39 - hil_control.hw_rev4_dock_undock - INFO - finished run 578. Id_avg = 152.9, Id_max = 986.0, Iud_avg 145.5, Iud_max = 397.0, TR=23.9 MB/s, t = 58.1s\n",
      "2023-09-25 05:55:35 - hil_control.hw_rev4_dock_undock - INFO - finished run 579. Id_avg = 145.2, Id_max = 288.0, Iud_avg 148.2, Iud_max = 428.0, TR=24.8 MB/s, t = 56.6s\n",
      "2023-09-25 05:56:33 - hil_control.hw_rev4_dock_undock - INFO - finished run 580. Id_avg = 146.1, Id_max = 292.0, Iud_avg 143.7, Iud_max = 372.0, TR=24.0 MB/s, t = 58.0s\n",
      "2023-09-25 05:57:34 - hil_control.hw_rev4_dock_undock - INFO - finished run 581. Id_avg = 147.2, Id_max = 289.0, Iud_avg 146.5, Iud_max = 505.0, TR=25.4 MB/s, t = 61.0s\n",
      "2023-09-25 05:58:31 - hil_control.hw_rev4_dock_undock - INFO - finished run 582. Id_avg = 145.5, Id_max = 300.0, Iud_avg 148.1, Iud_max = 460.0, TR=23.8 MB/s, t = 57.2s\n",
      "2023-09-25 05:59:29 - hil_control.hw_rev4_dock_undock - INFO - finished run 583. Id_avg = 145.9, Id_max = 298.0, Iud_avg 146.9, Iud_max = 479.0, TR=24.2 MB/s, t = 57.4s\n",
      "2023-09-25 06:00:26 - hil_control.hw_rev4_dock_undock - INFO - finished run 584. Id_avg = 143.6, Id_max = 287.0, Iud_avg 145.7, Iud_max = 331.0, TR=24.7 MB/s, t = 57.0s\n",
      "2023-09-25 06:01:21 - hil_control.hw_rev4_dock_undock - INFO - finished run 585. Id_avg = 148.0, Id_max = 306.0, Iud_avg 144.7, Iud_max = 304.0, TR=25.2 MB/s, t = 55.3s\n",
      "2023-09-25 06:02:17 - hil_control.hw_rev4_dock_undock - INFO - finished run 586. Id_avg = 147.8, Id_max = 315.0, Iud_avg 145.1, Iud_max = 370.0, TR=24.8 MB/s, t = 56.2s\n",
      "2023-09-25 06:03:14 - hil_control.hw_rev4_dock_undock - INFO - finished run 587. Id_avg = 145.4, Id_max = 299.0, Iud_avg 146.0, Iud_max = 331.0, TR=24.0 MB/s, t = 56.8s\n",
      "2023-09-25 06:04:09 - hil_control.hw_rev4_dock_undock - INFO - finished run 588. Id_avg = 145.1, Id_max = 296.0, Iud_avg 148.4, Iud_max = 562.0, TR=25.1 MB/s, t = 54.8s\n",
      "2023-09-25 06:05:05 - hil_control.hw_rev4_dock_undock - INFO - finished run 589. Id_avg = 146.0, Id_max = 305.0, Iud_avg 147.3, Iud_max = 378.0, TR=24.4 MB/s, t = 56.1s\n",
      "2023-09-25 06:06:03 - hil_control.hw_rev4_dock_undock - INFO - finished run 590. Id_avg = 145.5, Id_max = 296.0, Iud_avg 147.3, Iud_max = 410.0, TR=23.6 MB/s, t = 57.5s\n",
      "2023-09-25 06:06:59 - hil_control.hw_rev4_dock_undock - INFO - finished run 591. Id_avg = 149.6, Id_max = 453.0, Iud_avg 147.0, Iud_max = 435.0, TR=24.8 MB/s, t = 56.6s\n",
      "2023-09-25 06:07:55 - hil_control.hw_rev4_dock_undock - INFO - finished run 592. Id_avg = 145.8, Id_max = 299.0, Iud_avg 146.4, Iud_max = 436.0, TR=24.9 MB/s, t = 55.4s\n",
      "2023-09-25 06:08:52 - hil_control.hw_rev4_dock_undock - INFO - finished run 593. Id_avg = 146.9, Id_max = 301.0, Iud_avg 145.7, Iud_max = 436.0, TR=23.5 MB/s, t = 57.6s\n",
      "2023-09-25 06:09:49 - hil_control.hw_rev4_dock_undock - INFO - finished run 594. Id_avg = 147.7, Id_max = 312.0, Iud_avg 146.7, Iud_max = 306.0, TR=24.1 MB/s, t = 56.9s\n",
      "2023-09-25 06:10:46 - hil_control.hw_rev4_dock_undock - INFO - finished run 595. Id_avg = 146.7, Id_max = 304.0, Iud_avg 149.1, Iud_max = 505.0, TR=24.2 MB/s, t = 56.5s\n",
      "2023-09-25 06:11:44 - hil_control.hw_rev4_dock_undock - INFO - finished run 596. Id_avg = 144.3, Id_max = 288.0, Iud_avg 146.4, Iud_max = 356.0, TR=23.3 MB/s, t = 58.2s\n",
      "2023-09-25 06:12:43 - hil_control.hw_rev4_dock_undock - INFO - finished run 597. Id_avg = 147.3, Id_max = 294.0, Iud_avg 150.7, Iud_max = 495.0, TR=23.1 MB/s, t = 58.9s\n",
      "2023-09-25 06:13:41 - hil_control.hw_rev4_dock_undock - INFO - finished run 598. Id_avg = 150.3, Id_max = 464.0, Iud_avg 145.4, Iud_max = 432.0, TR=23.3 MB/s, t = 58.4s\n",
      "2023-09-25 06:14:40 - hil_control.hw_rev4_dock_undock - INFO - finished run 599. Id_avg = 145.7, Id_max = 299.0, Iud_avg 147.8, Iud_max = 481.0, TR=23.0 MB/s, t = 58.9s\n",
      "2023-09-25 06:15:37 - hil_control.hw_rev4_dock_undock - INFO - finished run 600. Id_avg = 148.7, Id_max = 433.0, Iud_avg 147.4, Iud_max = 424.0, TR=24.1 MB/s, t = 57.0s\n",
      "2023-09-25 06:16:36 - hil_control.hw_rev4_dock_undock - INFO - finished run 601. Id_avg = 148.9, Id_max = 306.0, Iud_avg 146.6, Iud_max = 322.0, TR=23.1 MB/s, t = 58.6s\n",
      "2023-09-25 06:17:36 - hil_control.hw_rev4_dock_undock - INFO - finished run 602. Id_avg = 146.6, Id_max = 301.0, Iud_avg 144.7, Iud_max = 297.0, TR=22.4 MB/s, t = 60.8s\n",
      "2023-09-25 06:18:36 - hil_control.hw_rev4_dock_undock - INFO - finished run 603. Id_avg = 147.3, Id_max = 304.0, Iud_avg 148.9, Iud_max = 449.0, TR=23.0 MB/s, t = 59.8s\n",
      "2023-09-25 06:19:42 - hil_control.hw_rev4_dock_undock - INFO - finished run 604. Id_avg = 145.1, Id_max = 298.0, Iud_avg 143.8, Iud_max = 334.0, TR=22.8 MB/s, t = 66.1s\n",
      "2023-09-25 06:20:42 - hil_control.hw_rev4_dock_undock - INFO - finished run 605. Id_avg = 146.2, Id_max = 294.0, Iud_avg 145.8, Iud_max = 477.0, TR=23.2 MB/s, t = 59.6s\n",
      "2023-09-25 06:21:43 - hil_control.hw_rev4_dock_undock - INFO - finished run 606. Id_avg = 146.2, Id_max = 289.0, Iud_avg 147.4, Iud_max = 379.0, TR=22.2 MB/s, t = 60.8s\n",
      "2023-09-25 06:22:41 - hil_control.hw_rev4_dock_undock - INFO - finished run 607. Id_avg = 148.3, Id_max = 289.0, Iud_avg 145.8, Iud_max = 407.0, TR=24.0 MB/s, t = 58.0s\n",
      "2023-09-25 06:23:37 - hil_control.hw_rev4_dock_undock - INFO - finished run 608. Id_avg = 143.6, Id_max = 288.0, Iud_avg 145.7, Iud_max = 288.0, TR=24.4 MB/s, t = 56.0s\n",
      "2023-09-25 06:24:33 - hil_control.hw_rev4_dock_undock - INFO - finished run 609. Id_avg = 146.7, Id_max = 290.0, Iud_avg 145.3, Iud_max = 424.0, TR=24.6 MB/s, t = 56.9s\n",
      "2023-09-25 06:25:29 - hil_control.hw_rev4_dock_undock - INFO - finished run 610. Id_avg = 146.8, Id_max = 292.0, Iud_avg 146.0, Iud_max = 310.0, TR=25.1 MB/s, t = 55.2s\n",
      "2023-09-25 06:26:27 - hil_control.hw_rev4_dock_undock - INFO - finished run 611. Id_avg = 146.8, Id_max = 317.0, Iud_avg 144.6, Iud_max = 375.0, TR=23.9 MB/s, t = 58.3s\n",
      "2023-09-25 06:27:25 - hil_control.hw_rev4_dock_undock - INFO - finished run 612. Id_avg = 146.7, Id_max = 303.0, Iud_avg 145.8, Iud_max = 317.0, TR=23.5 MB/s, t = 57.9s\n",
      "2023-09-25 06:28:21 - hil_control.hw_rev4_dock_undock - INFO - finished run 613. Id_avg = 145.0, Id_max = 288.0, Iud_avg 146.5, Iud_max = 300.0, TR=24.2 MB/s, t = 56.6s\n",
      "2023-09-25 06:29:19 - hil_control.hw_rev4_dock_undock - INFO - finished run 614. Id_avg = 144.4, Id_max = 289.0, Iud_avg 146.7, Iud_max = 327.0, TR=23.6 MB/s, t = 58.0s\n",
      "2023-09-25 06:30:16 - hil_control.hw_rev4_dock_undock - INFO - finished run 615. Id_avg = 151.6, Id_max = 658.0, Iud_avg 145.0, Iud_max = 331.0, TR=24.2 MB/s, t = 56.5s\n",
      "2023-09-25 06:31:13 - hil_control.hw_rev4_dock_undock - INFO - finished run 616. Id_avg = 146.3, Id_max = 290.0, Iud_avg 147.5, Iud_max = 392.0, TR=24.1 MB/s, t = 56.9s\n",
      "2023-09-25 06:32:11 - hil_control.hw_rev4_dock_undock - INFO - finished run 617. Id_avg = 146.4, Id_max = 299.0, Iud_avg 148.0, Iud_max = 470.0, TR=23.7 MB/s, t = 57.7s\n",
      "2023-09-25 06:33:07 - hil_control.hw_rev4_dock_undock - INFO - finished run 618. Id_avg = 148.0, Id_max = 366.0, Iud_avg 146.7, Iud_max = 436.0, TR=24.1 MB/s, t = 56.8s\n"
     ]
    },
    {
     "name": "stderr",
     "output_type": "stream",
     "text": [
      "umount: /home/max/Desktop/mntdir: target is busy.\n"
     ]
    },
    {
     "name": "stdout",
     "output_type": "stream",
     "text": [
      "2023-09-25 06:34:04 - hil_control.hw_rev4_dock_undock - INFO - finished run 619. Id_avg = 147.0, Id_max = 298.0, Iud_avg 144.7, Iud_max = 332.0, TR=24.0 MB/s, t = 56.4s\n",
      "2023-09-25 06:35:04 - hil_control.hw_rev4_dock_undock - INFO - finished run 620. Id_avg = 144.9, Id_max = 300.0, Iud_avg 148.5, Iud_max = 382.0, TR=23.1 MB/s, t = 59.8s\n",
      "2023-09-25 06:36:03 - hil_control.hw_rev4_dock_undock - INFO - finished run 621. Id_avg = 146.1, Id_max = 293.0, Iud_avg 145.9, Iud_max = 485.0, TR=23.0 MB/s, t = 59.8s\n",
      "2023-09-25 06:37:03 - hil_control.hw_rev4_dock_undock - INFO - finished run 622. Id_avg = 148.2, Id_max = 293.0, Iud_avg 146.4, Iud_max = 504.0, TR=22.8 MB/s, t = 59.9s\n",
      "2023-09-25 06:38:03 - hil_control.hw_rev4_dock_undock - INFO - finished run 623. Id_avg = 149.5, Id_max = 329.0, Iud_avg 144.1, Iud_max = 316.0, TR=22.5 MB/s, t = 59.8s\n",
      "2023-09-25 06:39:01 - hil_control.hw_rev4_dock_undock - INFO - finished run 624. Id_avg = 147.4, Id_max = 303.0, Iud_avg 146.4, Iud_max = 391.0, TR=23.3 MB/s, t = 58.1s\n",
      "2023-09-25 06:39:57 - hil_control.hw_rev4_dock_undock - INFO - finished run 625. Id_avg = 146.9, Id_max = 291.0, Iud_avg 146.9, Iud_max = 336.0, TR=24.6 MB/s, t = 55.8s\n",
      "2023-09-25 06:40:52 - hil_control.hw_rev4_dock_undock - INFO - finished run 626. Id_avg = 143.7, Id_max = 299.0, Iud_avg 147.6, Iud_max = 506.0, TR=25.7 MB/s, t = 55.1s\n",
      "2023-09-25 06:41:47 - hil_control.hw_rev4_dock_undock - INFO - finished run 627. Id_avg = 149.4, Id_max = 289.0, Iud_avg 144.4, Iud_max = 318.0, TR=25.5 MB/s, t = 55.0s\n",
      "2023-09-25 06:42:44 - hil_control.hw_rev4_dock_undock - INFO - finished run 628. Id_avg = 145.4, Id_max = 292.0, Iud_avg 146.2, Iud_max = 318.0, TR=24.7 MB/s, t = 56.8s\n",
      "2023-09-25 06:43:41 - hil_control.hw_rev4_dock_undock - INFO - finished run 629. Id_avg = 145.7, Id_max = 290.0, Iud_avg 147.6, Iud_max = 312.0, TR=23.7 MB/s, t = 57.6s\n"
     ]
    },
    {
     "name": "stderr",
     "output_type": "stream",
     "text": [
      "umount: /home/max/Desktop/mntdir: target is busy.\n"
     ]
    },
    {
     "name": "stdout",
     "output_type": "stream",
     "text": [
      "2023-09-25 06:44:44 - hil_control.hw_rev4_dock_undock - INFO - finished run 630. Id_avg = 144.5, Id_max = 291.0, Iud_avg 148.1, Iud_max = 432.0, TR=21.1 MB/s, t = 62.4s\n"
     ]
    },
    {
     "name": "stderr",
     "output_type": "stream",
     "text": [
      "umount: /home/max/Desktop/mntdir: target is busy.\n"
     ]
    },
    {
     "name": "stdout",
     "output_type": "stream",
     "text": [
      "2023-09-25 06:45:45 - hil_control.hw_rev4_dock_undock - INFO - finished run 631. Id_avg = 146.2, Id_max = 289.0, Iud_avg 147.7, Iud_max = 457.0, TR=21.7 MB/s, t = 61.3s\n"
     ]
    },
    {
     "name": "stderr",
     "output_type": "stream",
     "text": [
      "umount: /home/max/Desktop/mntdir: target is busy.\n"
     ]
    },
    {
     "name": "stdout",
     "output_type": "stream",
     "text": [
      "2023-09-25 06:46:46 - hil_control.hw_rev4_dock_undock - INFO - finished run 632. Id_avg = 146.7, Id_max = 282.0, Iud_avg 147.9, Iud_max = 385.0, TR=21.9 MB/s, t = 61.0s\n"
     ]
    },
    {
     "name": "stderr",
     "output_type": "stream",
     "text": [
      "umount: /home/max/Desktop/mntdir: target is busy.\n"
     ]
    },
    {
     "name": "stdout",
     "output_type": "stream",
     "text": [
      "2023-09-25 06:47:50 - hil_control.hw_rev4_dock_undock - INFO - finished run 633. Id_avg = 143.2, Id_max = 292.0, Iud_avg 147.1, Iud_max = 363.0, TR=20.6 MB/s, t = 63.6s\n"
     ]
    },
    {
     "name": "stderr",
     "output_type": "stream",
     "text": [
      "umount: /home/max/Desktop/mntdir: target is busy.\n"
     ]
    },
    {
     "name": "stdout",
     "output_type": "stream",
     "text": [
      "2023-09-25 06:48:53 - hil_control.hw_rev4_dock_undock - INFO - finished run 634. Id_avg = 151.8, Id_max = 518.0, Iud_avg 143.8, Iud_max = 316.0, TR=21.5 MB/s, t = 62.8s\n"
     ]
    },
    {
     "name": "stderr",
     "output_type": "stream",
     "text": [
      "umount: /home/max/Desktop/mntdir: target is busy.\n"
     ]
    },
    {
     "name": "stdout",
     "output_type": "stream",
     "text": [
      "2023-09-25 06:49:53 - hil_control.hw_rev4_dock_undock - INFO - finished run 635. Id_avg = 145.9, Id_max = 301.0, Iud_avg 148.0, Iud_max = 382.0, TR=22.4 MB/s, t = 60.9s\n",
      "2023-09-25 06:50:55 - hil_control.hw_rev4_dock_undock - INFO - finished run 636. Id_avg = 150.0, Id_max = 634.0, Iud_avg 144.7, Iud_max = 308.0, TR=22.0 MB/s, t = 61.6s\n"
     ]
    },
    {
     "name": "stderr",
     "output_type": "stream",
     "text": [
      "umount: /home/max/Desktop/mntdir: target is busy.\n"
     ]
    },
    {
     "name": "stdout",
     "output_type": "stream",
     "text": [
      "2023-09-25 06:51:55 - hil_control.hw_rev4_dock_undock - INFO - finished run 637. Id_avg = 146.1, Id_max = 291.0, Iud_avg 145.7, Iud_max = 428.0, TR=22.3 MB/s, t = 59.8s\n"
     ]
    },
    {
     "name": "stderr",
     "output_type": "stream",
     "text": [
      "umount: /home/max/Desktop/mntdir: target is busy.\n"
     ]
    },
    {
     "name": "stdout",
     "output_type": "stream",
     "text": [
      "2023-09-25 06:52:57 - hil_control.hw_rev4_dock_undock - INFO - finished run 638. Id_avg = 145.7, Id_max = 301.0, Iud_avg 147.2, Iud_max = 345.0, TR=21.9 MB/s, t = 62.0s\n"
     ]
    },
    {
     "name": "stderr",
     "output_type": "stream",
     "text": [
      "umount: /home/max/Desktop/mntdir: target is busy.\n"
     ]
    },
    {
     "name": "stdout",
     "output_type": "stream",
     "text": [
      "2023-09-25 06:53:59 - hil_control.hw_rev4_dock_undock - INFO - finished run 639. Id_avg = 146.5, Id_max = 291.0, Iud_avg 145.8, Iud_max = 320.0, TR=21.4 MB/s, t = 62.1s\n",
      "2023-09-25 06:55:00 - hil_control.hw_rev4_dock_undock - INFO - finished run 640. Id_avg = 145.6, Id_max = 300.0, Iud_avg 147.6, Iud_max = 481.0, TR=22.4 MB/s, t = 61.3s\n",
      "2023-09-25 06:56:02 - hil_control.hw_rev4_dock_undock - INFO - finished run 641. Id_avg = 145.4, Id_max = 299.0, Iud_avg 147.7, Iud_max = 488.0, TR=21.7 MB/s, t = 61.4s\n"
     ]
    },
    {
     "name": "stderr",
     "output_type": "stream",
     "text": [
      "umount: /home/max/Desktop/mntdir: target is busy.\n"
     ]
    },
    {
     "name": "stdout",
     "output_type": "stream",
     "text": [
      "2023-09-25 06:57:06 - hil_control.hw_rev4_dock_undock - INFO - finished run 642. Id_avg = 148.6, Id_max = 518.0, Iud_avg 146.1, Iud_max = 304.0, TR=20.4 MB/s, t = 64.0s\n",
      "2023-09-25 06:58:07 - hil_control.hw_rev4_dock_undock - INFO - finished run 643. Id_avg = 148.6, Id_max = 303.0, Iud_avg 146.0, Iud_max = 478.0, TR=22.7 MB/s, t = 61.2s\n"
     ]
    },
    {
     "name": "stderr",
     "output_type": "stream",
     "text": [
      "umount: /home/max/Desktop/mntdir: target is busy.\n"
     ]
    },
    {
     "name": "stdout",
     "output_type": "stream",
     "text": [
      "2023-09-25 06:59:08 - hil_control.hw_rev4_dock_undock - INFO - finished run 644. Id_avg = 145.1, Id_max = 299.0, Iud_avg 146.9, Iud_max = 495.0, TR=21.5 MB/s, t = 61.6s\n",
      "2023-09-25 07:00:13 - hil_control.hw_rev4_dock_undock - INFO - finished run 645. Id_avg = 153.0, Id_max = 535.0, Iud_avg 146.4, Iud_max = 308.0, TR=20.9 MB/s, t = 64.6s\n"
     ]
    },
    {
     "name": "stderr",
     "output_type": "stream",
     "text": [
      "umount: /home/max/Desktop/mntdir: target is busy.\n"
     ]
    },
    {
     "name": "stdout",
     "output_type": "stream",
     "text": [
      "2023-09-25 07:01:13 - hil_control.hw_rev4_dock_undock - INFO - finished run 646. Id_avg = 147.5, Id_max = 293.0, Iud_avg 145.8, Iud_max = 433.0, TR=22.4 MB/s, t = 59.6s\n"
     ]
    },
    {
     "name": "stderr",
     "output_type": "stream",
     "text": [
      "umount: /home/max/Desktop/mntdir: target is busy.\n"
     ]
    },
    {
     "name": "stdout",
     "output_type": "stream",
     "text": [
      "2023-09-25 07:02:15 - hil_control.hw_rev4_dock_undock - INFO - finished run 647. Id_avg = 146.0, Id_max = 298.0, Iud_avg 147.9, Iud_max = 411.0, TR=21.8 MB/s, t = 62.2s\n"
     ]
    }
   ],
   "source": [
    "test.run(iterations=1000)"
   ]
  },
  {
   "cell_type": "code",
   "execution_count": 6,
   "id": "03e2a087-c976-4734-ba28-b311cdcf08fb",
   "metadata": {},
   "outputs": [],
   "source": [
    "df = test.df\n",
    "results = test.results"
   ]
  },
  {
   "cell_type": "code",
   "execution_count": 7,
   "id": "85fa731c-5803-418a-9e52-962bc37b1950",
   "metadata": {},
   "outputs": [],
   "source": [
    "def plot_iteration(results: list, iteration: int):\n",
    "    fig, (ax0, ax1) = plt.subplots(2)\n",
    "    ax0.plot(results[iteration][\"dock_currents\"])\n",
    "    ax0.set_title(f\"docking current. Result: {results[iteration]['dockingstate_after_docking']}\")\n",
    "    ax1.plot(results[iteration][\"undock_currents\"])\n",
    "    ax1.set_title(f\"undocking current. Result: {results[iteration]['dockingstate_after_undocking']}\")\n",
    "    plt.suptitle(f\"data for iteration {iteration}\")\n",
    "    plt.tight_layout()"
   ]
  },
  {
   "cell_type": "code",
   "execution_count": 8,
   "id": "14f0241b-7b9e-4ce9-b8b4-c4457a3bdff7",
   "metadata": {},
   "outputs": [],
   "source": [
    "def mean(l):\n",
    "    return sum(l)/len(l)\n",
    "\n",
    "def plot_stats(results: list):\n",
    "    fig, (ax0, ax1) = plt.subplots(2)    \n",
    "    ax0.plot([r[\"datatransfer_rate_mb_per_s\"] for r in results], label=\"Datatransfer-Rate\")\n",
    "    ax0.set_title(\"Datatransfer Rate\")\n",
    "    ax0.set_xlabel(\"Iteration\")\n",
    "    ax0.set_ylabel(\"MB/s\")\n",
    "    #ax0.set_ylim(0,15)\n",
    "    average_docking_currents = [mean(result[\"dock_currents\"]) for result in results]\n",
    "    average_undocking_currents = [mean(result[\"undock_currents\"]) for result in results]\n",
    "    ax1.plot(average_docking_currents, label=\"docking\")\n",
    "    ax1.plot(average_undocking_currents, label=\"undocking\")\n",
    "    ax1.set_ylim(0,170)\n",
    "    ax1.legend()\n",
    "    ax1.set_title(\"Average Current Draw\")\n",
    "    ax1.set_xlabel(\"Iteration\")\n",
    "    ax1.set_ylabel(\"digits\")\n",
    "    plt.tight_layout()"
   ]
  },
  {
   "cell_type": "code",
   "execution_count": 9,
   "id": "5a01fc06-191e-4645-941f-66e368812df0",
   "metadata": {},
   "outputs": [
    {
     "data": {
      "image/png": "[encoded data removed]",
      "text/plain": [
       "<Figure size 432x288 with 2 Axes>"
      ]
     },
     "metadata": {
      "needs_background": "light"
     },
     "output_type": "display_data"
    }
   ],
   "source": [
    "plot_stats(results)"
   ]
  },
  {
   "cell_type": "code",
   "execution_count": 8,
   "id": "a598d3e3-8f4c-4533-b305-3acbe1d2c520",
   "metadata": {},
   "outputs": [
    {
     "data": {
      "image/png": "[encoded data removed]",
      "text/plain": [
       "<Figure size 432x288 with 2 Axes>"
      ]
     },
     "metadata": {
      "needs_background": "light"
     },
     "output_type": "display_data"
    }
   ],
   "source": [
    "plot_iteration(results, 0)"
   ]
  },
  {
   "cell_type": "code",
   "execution_count": 10,
   "id": "fd460892-99b9-4533-aece-103461c9f764",
   "metadata": {},
   "outputs": [],
   "source": [
    "with open(f'results_900runs_tranferratesMurks_{datetime.now().isoformat()}.pkl', 'wb') as file:\n",
    "    # A new file will be created\n",
    "    pickle.dump(results, file)"
   ]
  },
  {
   "cell_type": "code",
   "execution_count": 4,
   "id": "1238900d-ee97-493a-995e-08f8de2b1d07",
   "metadata": {},
   "outputs": [
    {
     "data": {
      "text/plain": [
       "'2023-09-21 21-04'"
      ]
     },
     "execution_count": 4,
     "metadata": {},
     "output_type": "execute_result"
    }
   ],
   "source": [
    "from datetime import datetime\n",
    "     "
   ]
  },
  {
   "cell_type": "code",
   "execution_count": 10,
   "id": "96b5f9f0-8a9e-4d48-90f6-2bd884bb2b55",
   "metadata": {},
   "outputs": [
    {
     "name": "stdout",
     "output_type": "stream",
     "text": [
      "calling pcu with get currentlog\n"
     ]
    },
    {
     "data": {
      "text/plain": [
       "[297,\n",
       " 232,\n",
       " 190,\n",
       " 149,\n",
       " 153,\n",
       " 144,\n",
       " 153,\n",
       " 143,\n",
       " 161,\n",
       " 146,\n",
       " 148,\n",
       " 124,\n",
       " 155,\n",
       " 159,\n",
       " 168,\n",
       " 162,\n",
       " 176,\n",
       " 183,\n",
       " 175,\n",
       " 144,\n",
       " 153,\n",
       " 133,\n",
       " 154,\n",
       " 146,\n",
       " 141,\n",
       " 147,\n",
       " 129,\n",
       " 135,\n",
       " 146,\n",
       " 154,\n",
       " 141,\n",
       " 148,\n",
       " 138,\n",
       " 141,\n",
       " 139,\n",
       " 135,\n",
       " 144,\n",
       " 135,\n",
       " 144,\n",
       " 154,\n",
       " 148,\n",
       " 141,\n",
       " 138,\n",
       " 143,\n",
       " 134,\n",
       " 159,\n",
       " 152,\n",
       " 144,\n",
       " 132,\n",
       " 133,\n",
       " 138,\n",
       " 142,\n",
       " 133,\n",
       " 154,\n",
       " 126,\n",
       " 128,\n",
       " 148,\n",
       " 142,\n",
       " 144,\n",
       " 129,\n",
       " 146,\n",
       " 143,\n",
       " 149,\n",
       " 138,\n",
       " 140,\n",
       " 140,\n",
       " 133,\n",
       " 143,\n",
       " 133,\n",
       " 147,\n",
       " 160,\n",
       " 152,\n",
       " 139,\n",
       " 136,\n",
       " 136,\n",
       " 130,\n",
       " 158,\n",
       " 146,\n",
       " 141,\n",
       " 139,\n",
       " 136,\n",
       " 155,\n",
       " 116,\n",
       " 147,\n",
       " 139,\n",
       " 125,\n",
       " 116,\n",
       " 133,\n",
       " 135,\n",
       " 143,\n",
       " 137,\n",
       " 134,\n",
       " 141,\n",
       " 138,\n",
       " 138,\n",
       " 156,\n",
       " 138,\n",
       " 145,\n",
       " 136,\n",
       " 148,\n",
       " 140,\n",
       " 151,\n",
       " 160,\n",
       " 136,\n",
       " 139,\n",
       " 157,\n",
       " 163,\n",
       " 140,\n",
       " 136,\n",
       " 154,\n",
       " 157,\n",
       " 136,\n",
       " 138,\n",
       " 158,\n",
       " 162,\n",
       " 143,\n",
       " 134,\n",
       " 153,\n",
       " 154,\n",
       " 139,\n",
       " 138,\n",
       " 164,\n",
       " 159,\n",
       " 145,\n",
       " 133,\n",
       " 155,\n",
       " 144,\n",
       " 141,\n",
       " 140,\n",
       " 166,\n",
       " 151,\n",
       " 157,\n",
       " 164,\n",
       " 142,\n",
       " 147,\n",
       " 0]"
      ]
     },
     "execution_count": 10,
     "metadata": {},
     "output_type": "execute_result"
    }
   ],
   "source": [
    "hil.pcu.get_currentlog()"
   ]
  },
  {
   "cell_type": "code",
   "execution_count": null,
   "id": "5b5e400f-8af5-49bb-9119-bc1964c51486",
   "metadata": {},
   "outputs": [],
   "source": []
  }
 ],
 "metadata": {
  "kernelspec": {
   "display_name": "Python 3 (ipykernel)",
   "language": "python",
   "name": "python3"
  },
  "language_info": {
   "codemirror_mode": {
    "name": "ipython",
    "version": 3
   },
   "file_extension": ".py",
   "mimetype": "text/x-python",
   "name": "python",
   "nbconvert_exporter": "python",
   "pygments_lexer": "ipython3",
   "version": "3.10.4"
  }
 },
 "nbformat": 4,
 "nbformat_minor": 5
}
