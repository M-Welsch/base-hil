{
 "cells": [
  {
   "cell_type": "code",
   "execution_count": 38,
   "id": "3801c447-1359-4b6b-bc03-fd7424ce180d",
   "metadata": {},
   "outputs": [
    {
     "name": "stdout",
     "output_type": "stream",
     "text": [
      "[(44.0000000000000, 66.6666666666667, 80.0000000000000, 15.7706093189964, 0.870712401055409, 0.760368663594470, 0.741573033707865)]\n"
     ]
    }
   ],
   "source": [
    "from sympy import symbols, Eq, solve\n",
    "\n",
    "r1 = symbols('r1')\n",
    "r2 = symbols('r2')\n",
    "r3 = symbols('r3')\n",
    "r4 = symbols('r4')\n",
    "\n",
    "c1_vol = 3.3\n",
    "c2_vol = 0.3\n",
    "c3_vol = 1.32\n",
    "c4_vol = 1.98\n",
    "c5_vol = 2.64\n",
    "\n",
    "c1 = Eq(r1, 10e4)\n",
    "c2 = Eq(3.3/c2_vol, (1/(1/r2 + 1/r3 + 1/r4)) )\n",
    "c3 = Eq(c3_vol, 1/(1/r3 + 1/r4) * ((3.3-c3_vol)/r1 + (5-c3_vol)/r2 ) )\n",
    "c4 = Eq(c4_vol, 1/(1/r2 + 1/r4) * ((3.3-c4_vol)/r1 + (12-c4_vol)/r3 ))\n",
    "c5 = Eq(c5_vol, r4 * ( (3.3-c5_vol)/r1 + (5-c5_vol)/r2 + (12-c5_vol)/r3 ))\n",
    "\n",
    "c2_vol_fault_none = symbols('c2_vol_fault_none')\n",
    "c2_fault_none = Eq(c2_vol_fault_none/3.3, (r4/(r1+r4)) )\n",
    "\n",
    "c2_vol_fault_no5v = symbols('c2_vol_fault_no5v')\n",
    "c2_fault_no5v = Eq(c2_vol_fault_no5v/3.3, (1/ (1/r4 + 1/r3) ) / ((1/ (1/r4 + 1/r3) ) + r1) )\n",
    "\n",
    "c2_vol_fault_no12v = symbols('c2_vol_fault_no12v')\n",
    "c2_fault_no12v = Eq(c2_vol_fault_no12v/3.3, (1/ (1/r4 + 1/r2) ) / ((1/ (1/r4 + 1/r2) ) + r1) )\n",
    "\n",
    "syms = [\n",
    "    r1,\n",
    "    r2,\n",
    "    r3,\n",
    "    r4,\n",
    "    c2_vol_fault_none,\n",
    "    c2_vol_fault_no5v,\n",
    "    c2_vol_fault_no12v\n",
    "]\n",
    "\n",
    "equations = [\n",
    "    c2,\n",
    "    c3,\n",
    "    c4,\n",
    "    c5,\n",
    "    c2_fault_none,\n",
    "    c2_fault_no5v,\n",
    "    c2_fault_no12v\n",
    "]\n",
    "\n",
    "results = solve(equations, syms)[0]\n",
    "print(results)"
   ]
  },
  {
   "cell_type": "code",
   "execution_count": null,
   "id": "9f38c319-8d93-4d74-bf92-be2a12677a4c",
   "metadata": {},
   "outputs": [],
   "source": []
  },
  {
   "cell_type": "code",
   "execution_count": 46,
   "id": "c55b6894-dc7b-4cd2-ab1f-21f44fa2c394",
   "metadata": {},
   "outputs": [
    {
     "data": {
      "text/plain": [
       "<matplotlib.legend.Legend at 0x7fec6ef908e0>"
      ]
     },
     "execution_count": 46,
     "metadata": {},
     "output_type": "execute_result"
    },
    {
     "data": {
      "image/png": "[encoded data removed]",
      "text/plain": [
       "<Figure size 432x288 with 1 Axes>"
      ]
     },
     "metadata": {
      "needs_background": "light"
     },
     "output_type": "display_data"
    }
   ],
   "source": [
    "import matplotlib.pyplot as plt\n",
    "\n",
    "fig, ax = plt.subplots(1)\n",
    "\n",
    "voltages = {\n",
    "    \"c1_vol\": c1_vol,\n",
    "    \"c2_vol\": c2_vol,\n",
    "    \"c2_vol_fault_none\": results[4],\n",
    "    \"c2_vol_fault_no5v\": results[5],\n",
    "    \"c2_vol_fault_no12v\": results[6],\n",
    "    \"c3_vol\": c3_vol,\n",
    "    \"c4_vol\": c4_vol,\n",
    "    \"c5_vol\": c5_vol,\n",
    "}\n",
    "\n",
    "for key, val in voltages.items():\n",
    "    ax.plot([0,1], [val, val], label=key)\n",
    "ax.legend()"
   ]
  }
 ],
 "metadata": {
  "kernelspec": {
   "display_name": "Python 3 (ipykernel)",
   "language": "python",
   "name": "python3"
  },
  "language_info": {
   "codemirror_mode": {
    "name": "ipython",
    "version": 3
   },
   "file_extension": ".py",
   "mimetype": "text/x-python",
   "name": "python",
   "nbconvert_exporter": "python",
   "pygments_lexer": "ipython3",
   "version": "3.10.4"
  }
 },
 "nbformat": 4,
 "nbformat_minor": 5
}
